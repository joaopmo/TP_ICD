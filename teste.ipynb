{
  "nbformat": 4,
  "nbformat_minor": 0,
  "metadata": {
    "kernelspec": {
      "display_name": "Python 3",
      "language": "python",
      "name": "python3"
    },
    "language_info": {
      "codemirror_mode": {
        "name": "ipython",
        "version": 3
      },
      "file_extension": ".py",
      "mimetype": "text/x-python",
      "name": "python",
      "nbconvert_exporter": "python",
      "pygments_lexer": "ipython3",
      "version": "3.9.1"
    },
    "colab": {
      "name": "teste.ipynb",
      "provenance": []
    }
  },
  "cells": [
    {
      "cell_type": "code",
      "metadata": {
        "id": "fQVyEYsTcSPO"
      },
      "source": [
        "import pandas as pd\n",
        "import matplotlib.pyplot as plt\n",
        "import numpy as np\n",
        "import scipy.stats as stats"
      ],
      "execution_count": 1,
      "outputs": []
    },
    {
      "cell_type": "code",
      "metadata": {
        "id": "O3dw3ro7cSPW"
      },
      "source": [
        "plt.style.use('seaborn-colorblind')\n",
        "plt.ion()"
      ],
      "execution_count": 2,
      "outputs": []
    },
    {
      "cell_type": "markdown",
      "metadata": {
        "id": "W52ibD6hcSPX"
      },
      "source": [
        "Dataset: https://www.kaggle.com/stefanoleone992/imdb-extensive-dataset?select=IMDb+title_principals.csv"
      ]
    },
    {
      "cell_type": "code",
      "metadata": {
        "colab": {
          "base_uri": "https://localhost:8080/"
        },
        "id": "GSEzFRFzcSPY",
        "outputId": "84a6093b-7a54-4c8a-cd07-314624a9f90c"
      },
      "source": [
        "!ls datasets"
      ],
      "execution_count": 3,
      "outputs": [
        {
          "output_type": "stream",
          "text": [
            "ls: cannot access 'datasets': No such file or directory\n"
          ],
          "name": "stdout"
        }
      ]
    },
    {
      "cell_type": "code",
      "metadata": {
        "colab": {
          "base_uri": "https://localhost:8080/",
          "height": 686
        },
        "id": "iSJb__HjcSPZ",
        "outputId": "5f361c17-23e1-4e0a-b690-c0c5cb7e78b3"
      },
      "source": [
        "movies = pd.read_csv('https://media.githubusercontent.com/media/joaopmo/TP_ICD/main/datasets/IMDb_movies.csv')\n",
        "movies.head()"
      ],
      "execution_count": 4,
      "outputs": [
        {
          "output_type": "stream",
          "text": [
            "/usr/local/lib/python3.6/dist-packages/IPython/core/interactiveshell.py:2718: DtypeWarning: Columns (3) have mixed types.Specify dtype option on import or set low_memory=False.\n",
            "  interactivity=interactivity, compiler=compiler, result=result)\n"
          ],
          "name": "stderr"
        },
        {
          "output_type": "execute_result",
          "data": {
            "text/html": [
              "<div>\n",
              "<style scoped>\n",
              "    .dataframe tbody tr th:only-of-type {\n",
              "        vertical-align: middle;\n",
              "    }\n",
              "\n",
              "    .dataframe tbody tr th {\n",
              "        vertical-align: top;\n",
              "    }\n",
              "\n",
              "    .dataframe thead th {\n",
              "        text-align: right;\n",
              "    }\n",
              "</style>\n",
              "<table border=\"1\" class=\"dataframe\">\n",
              "  <thead>\n",
              "    <tr style=\"text-align: right;\">\n",
              "      <th></th>\n",
              "      <th>imdb_title_id</th>\n",
              "      <th>title</th>\n",
              "      <th>original_title</th>\n",
              "      <th>year</th>\n",
              "      <th>date_published</th>\n",
              "      <th>genre</th>\n",
              "      <th>duration</th>\n",
              "      <th>country</th>\n",
              "      <th>language</th>\n",
              "      <th>director</th>\n",
              "      <th>writer</th>\n",
              "      <th>production_company</th>\n",
              "      <th>actors</th>\n",
              "      <th>description</th>\n",
              "      <th>avg_vote</th>\n",
              "      <th>votes</th>\n",
              "      <th>budget</th>\n",
              "      <th>usa_gross_income</th>\n",
              "      <th>worlwide_gross_income</th>\n",
              "      <th>metascore</th>\n",
              "      <th>reviews_from_users</th>\n",
              "      <th>reviews_from_critics</th>\n",
              "    </tr>\n",
              "  </thead>\n",
              "  <tbody>\n",
              "    <tr>\n",
              "      <th>0</th>\n",
              "      <td>tt0000009</td>\n",
              "      <td>Miss Jerry</td>\n",
              "      <td>Miss Jerry</td>\n",
              "      <td>1894</td>\n",
              "      <td>1894-10-09</td>\n",
              "      <td>Romance</td>\n",
              "      <td>45</td>\n",
              "      <td>USA</td>\n",
              "      <td>None</td>\n",
              "      <td>Alexander Black</td>\n",
              "      <td>Alexander Black</td>\n",
              "      <td>Alexander Black Photoplays</td>\n",
              "      <td>Blanche Bayliss, William Courtenay, Chauncey D...</td>\n",
              "      <td>The adventures of a female reporter in the 1890s.</td>\n",
              "      <td>5.9</td>\n",
              "      <td>154</td>\n",
              "      <td>NaN</td>\n",
              "      <td>NaN</td>\n",
              "      <td>NaN</td>\n",
              "      <td>NaN</td>\n",
              "      <td>1.0</td>\n",
              "      <td>2.0</td>\n",
              "    </tr>\n",
              "    <tr>\n",
              "      <th>1</th>\n",
              "      <td>tt0000574</td>\n",
              "      <td>The Story of the Kelly Gang</td>\n",
              "      <td>The Story of the Kelly Gang</td>\n",
              "      <td>1906</td>\n",
              "      <td>1906-12-26</td>\n",
              "      <td>Biography, Crime, Drama</td>\n",
              "      <td>70</td>\n",
              "      <td>Australia</td>\n",
              "      <td>None</td>\n",
              "      <td>Charles Tait</td>\n",
              "      <td>Charles Tait</td>\n",
              "      <td>J. and N. Tait</td>\n",
              "      <td>Elizabeth Tait, John Tait, Norman Campbell, Be...</td>\n",
              "      <td>True story of notorious Australian outlaw Ned ...</td>\n",
              "      <td>6.1</td>\n",
              "      <td>589</td>\n",
              "      <td>$ 2250</td>\n",
              "      <td>NaN</td>\n",
              "      <td>NaN</td>\n",
              "      <td>NaN</td>\n",
              "      <td>7.0</td>\n",
              "      <td>7.0</td>\n",
              "    </tr>\n",
              "    <tr>\n",
              "      <th>2</th>\n",
              "      <td>tt0001892</td>\n",
              "      <td>Den sorte drøm</td>\n",
              "      <td>Den sorte drøm</td>\n",
              "      <td>1911</td>\n",
              "      <td>1911-08-19</td>\n",
              "      <td>Drama</td>\n",
              "      <td>53</td>\n",
              "      <td>Germany, Denmark</td>\n",
              "      <td>NaN</td>\n",
              "      <td>Urban Gad</td>\n",
              "      <td>Urban Gad, Gebhard Schätzler-Perasini</td>\n",
              "      <td>Fotorama</td>\n",
              "      <td>Asta Nielsen, Valdemar Psilander, Gunnar Helse...</td>\n",
              "      <td>Two men of high rank are both wooing the beaut...</td>\n",
              "      <td>5.8</td>\n",
              "      <td>188</td>\n",
              "      <td>NaN</td>\n",
              "      <td>NaN</td>\n",
              "      <td>NaN</td>\n",
              "      <td>NaN</td>\n",
              "      <td>5.0</td>\n",
              "      <td>2.0</td>\n",
              "    </tr>\n",
              "    <tr>\n",
              "      <th>3</th>\n",
              "      <td>tt0002101</td>\n",
              "      <td>Cleopatra</td>\n",
              "      <td>Cleopatra</td>\n",
              "      <td>1912</td>\n",
              "      <td>1912-11-13</td>\n",
              "      <td>Drama, History</td>\n",
              "      <td>100</td>\n",
              "      <td>USA</td>\n",
              "      <td>English</td>\n",
              "      <td>Charles L. Gaskill</td>\n",
              "      <td>Victorien Sardou</td>\n",
              "      <td>Helen Gardner Picture Players</td>\n",
              "      <td>Helen Gardner, Pearl Sindelar, Miss Fielding, ...</td>\n",
              "      <td>The fabled queen of Egypt's affair with Roman ...</td>\n",
              "      <td>5.2</td>\n",
              "      <td>446</td>\n",
              "      <td>$ 45000</td>\n",
              "      <td>NaN</td>\n",
              "      <td>NaN</td>\n",
              "      <td>NaN</td>\n",
              "      <td>25.0</td>\n",
              "      <td>3.0</td>\n",
              "    </tr>\n",
              "    <tr>\n",
              "      <th>4</th>\n",
              "      <td>tt0002130</td>\n",
              "      <td>L'Inferno</td>\n",
              "      <td>L'Inferno</td>\n",
              "      <td>1911</td>\n",
              "      <td>1911-03-06</td>\n",
              "      <td>Adventure, Drama, Fantasy</td>\n",
              "      <td>68</td>\n",
              "      <td>Italy</td>\n",
              "      <td>Italian</td>\n",
              "      <td>Francesco Bertolini, Adolfo Padovan</td>\n",
              "      <td>Dante Alighieri</td>\n",
              "      <td>Milano Film</td>\n",
              "      <td>Salvatore Papa, Arturo Pirovano, Giuseppe de L...</td>\n",
              "      <td>Loosely adapted from Dante's Divine Comedy and...</td>\n",
              "      <td>7.0</td>\n",
              "      <td>2237</td>\n",
              "      <td>NaN</td>\n",
              "      <td>NaN</td>\n",
              "      <td>NaN</td>\n",
              "      <td>NaN</td>\n",
              "      <td>31.0</td>\n",
              "      <td>14.0</td>\n",
              "    </tr>\n",
              "  </tbody>\n",
              "</table>\n",
              "</div>"
            ],
            "text/plain": [
              "  imdb_title_id  ... reviews_from_critics\n",
              "0     tt0000009  ...                  2.0\n",
              "1     tt0000574  ...                  7.0\n",
              "2     tt0001892  ...                  2.0\n",
              "3     tt0002101  ...                  3.0\n",
              "4     tt0002130  ...                 14.0\n",
              "\n",
              "[5 rows x 22 columns]"
            ]
          },
          "metadata": {
            "tags": []
          },
          "execution_count": 4
        }
      ]
    },
    {
      "cell_type": "code",
      "metadata": {
        "colab": {
          "base_uri": "https://localhost:8080/",
          "height": 651
        },
        "id": "5XYjMOPkcSPa",
        "outputId": "642bfc1e-79b7-49d6-c629-55e86385fb1c"
      },
      "source": [
        "names = pd.read_csv('https://media.githubusercontent.com/media/joaopmo/TP_ICD/main/datasets/IMDb_names.csv')\n",
        "names.head()"
      ],
      "execution_count": 5,
      "outputs": [
        {
          "output_type": "execute_result",
          "data": {
            "text/html": [
              "<div>\n",
              "<style scoped>\n",
              "    .dataframe tbody tr th:only-of-type {\n",
              "        vertical-align: middle;\n",
              "    }\n",
              "\n",
              "    .dataframe tbody tr th {\n",
              "        vertical-align: top;\n",
              "    }\n",
              "\n",
              "    .dataframe thead th {\n",
              "        text-align: right;\n",
              "    }\n",
              "</style>\n",
              "<table border=\"1\" class=\"dataframe\">\n",
              "  <thead>\n",
              "    <tr style=\"text-align: right;\">\n",
              "      <th></th>\n",
              "      <th>imdb_name_id</th>\n",
              "      <th>name</th>\n",
              "      <th>birth_name</th>\n",
              "      <th>height</th>\n",
              "      <th>bio</th>\n",
              "      <th>birth_details</th>\n",
              "      <th>date_of_birth</th>\n",
              "      <th>place_of_birth</th>\n",
              "      <th>death_details</th>\n",
              "      <th>date_of_death</th>\n",
              "      <th>place_of_death</th>\n",
              "      <th>reason_of_death</th>\n",
              "      <th>spouses_string</th>\n",
              "      <th>spouses</th>\n",
              "      <th>divorces</th>\n",
              "      <th>spouses_with_children</th>\n",
              "      <th>children</th>\n",
              "    </tr>\n",
              "  </thead>\n",
              "  <tbody>\n",
              "    <tr>\n",
              "      <th>0</th>\n",
              "      <td>nm0000001</td>\n",
              "      <td>Fred Astaire</td>\n",
              "      <td>Frederic Austerlitz Jr.</td>\n",
              "      <td>177.0</td>\n",
              "      <td>Fred Astaire was born in Omaha, Nebraska, to J...</td>\n",
              "      <td>May 10, 1899 in Omaha, Nebraska, USA</td>\n",
              "      <td>1899-05-10</td>\n",
              "      <td>Omaha, Nebraska, USA</td>\n",
              "      <td>June 22, 1987 in Los Angeles, California, USA ...</td>\n",
              "      <td>1987-06-22</td>\n",
              "      <td>Los Angeles, California, USA</td>\n",
              "      <td>pneumonia</td>\n",
              "      <td>Robyn Smith  (27 June 1980 - 22 June 1987) (hi...</td>\n",
              "      <td>2</td>\n",
              "      <td>0</td>\n",
              "      <td>1</td>\n",
              "      <td>2</td>\n",
              "    </tr>\n",
              "    <tr>\n",
              "      <th>1</th>\n",
              "      <td>nm0000002</td>\n",
              "      <td>Lauren Bacall</td>\n",
              "      <td>Betty Joan Perske</td>\n",
              "      <td>174.0</td>\n",
              "      <td>Lauren Bacall was born Betty Joan Perske on Se...</td>\n",
              "      <td>September 16, 1924 in The Bronx, New York City...</td>\n",
              "      <td>1924-09-16</td>\n",
              "      <td>The Bronx, New York City, New York, USA</td>\n",
              "      <td>August 12, 2014 in New York City, New York, US...</td>\n",
              "      <td>2014-08-12</td>\n",
              "      <td>New York City, New York, USA</td>\n",
              "      <td>stroke</td>\n",
              "      <td>Jason Robards  (4 July 1961 - 10 September 196...</td>\n",
              "      <td>2</td>\n",
              "      <td>1</td>\n",
              "      <td>2</td>\n",
              "      <td>3</td>\n",
              "    </tr>\n",
              "    <tr>\n",
              "      <th>2</th>\n",
              "      <td>nm0000003</td>\n",
              "      <td>Brigitte Bardot</td>\n",
              "      <td>Brigitte Bardot</td>\n",
              "      <td>166.0</td>\n",
              "      <td>Brigitte Bardot was born on September 28, 1934...</td>\n",
              "      <td>September 28, 1934 in Paris, France</td>\n",
              "      <td>1934-09-28</td>\n",
              "      <td>Paris, France</td>\n",
              "      <td>NaN</td>\n",
              "      <td>NaN</td>\n",
              "      <td>NaN</td>\n",
              "      <td>NaN</td>\n",
              "      <td>Bernard d'Ormale  (16 August 1992 - present)\\n...</td>\n",
              "      <td>4</td>\n",
              "      <td>3</td>\n",
              "      <td>1</td>\n",
              "      <td>1</td>\n",
              "    </tr>\n",
              "    <tr>\n",
              "      <th>3</th>\n",
              "      <td>nm0000004</td>\n",
              "      <td>John Belushi</td>\n",
              "      <td>John Adam Belushi</td>\n",
              "      <td>170.0</td>\n",
              "      <td>John Belushi was born in Chicago, Illinois, US...</td>\n",
              "      <td>January 24, 1949 in Chicago, Illinois, USA</td>\n",
              "      <td>1949-01-24</td>\n",
              "      <td>Chicago, Illinois, USA</td>\n",
              "      <td>March 5, 1982 in Hollywood, Los Angeles, Calif...</td>\n",
              "      <td>1982-03-05</td>\n",
              "      <td>Hollywood, Los Angeles, California, USA</td>\n",
              "      <td>acute cocaine and heroin intoxication</td>\n",
              "      <td>Judith Belushi-Pisano  (31 December 1976 - 5 M...</td>\n",
              "      <td>1</td>\n",
              "      <td>0</td>\n",
              "      <td>0</td>\n",
              "      <td>0</td>\n",
              "    </tr>\n",
              "    <tr>\n",
              "      <th>4</th>\n",
              "      <td>nm0000005</td>\n",
              "      <td>Ingmar Bergman</td>\n",
              "      <td>Ernst Ingmar Bergman</td>\n",
              "      <td>179.0</td>\n",
              "      <td>Ernst Ingmar Bergman was born July 14, 1918, t...</td>\n",
              "      <td>July 14, 1918 in Uppsala, Uppsala län, Sweden</td>\n",
              "      <td>1918-07-14</td>\n",
              "      <td>Uppsala, Uppsala län, Sweden</td>\n",
              "      <td>July 30, 2007 in Fårö, Gotlands län, Sweden  (...</td>\n",
              "      <td>2007-07-30</td>\n",
              "      <td>Fårö, Gotlands län, Sweden</td>\n",
              "      <td>natural causes</td>\n",
              "      <td>Ingrid Bergman  (11 November 1971 - 20 May 199...</td>\n",
              "      <td>5</td>\n",
              "      <td>4</td>\n",
              "      <td>5</td>\n",
              "      <td>8</td>\n",
              "    </tr>\n",
              "  </tbody>\n",
              "</table>\n",
              "</div>"
            ],
            "text/plain": [
              "  imdb_name_id             name  ... spouses_with_children  children\n",
              "0    nm0000001     Fred Astaire  ...                     1         2\n",
              "1    nm0000002    Lauren Bacall  ...                     2         3\n",
              "2    nm0000003  Brigitte Bardot  ...                     1         1\n",
              "3    nm0000004     John Belushi  ...                     0         0\n",
              "4    nm0000005   Ingmar Bergman  ...                     5         8\n",
              "\n",
              "[5 rows x 17 columns]"
            ]
          },
          "metadata": {
            "tags": []
          },
          "execution_count": 5
        }
      ]
    },
    {
      "cell_type": "code",
      "metadata": {
        "colab": {
          "base_uri": "https://localhost:8080/",
          "height": 217
        },
        "id": "nmqr4qCQcSPa",
        "outputId": "5e1c84de-31b8-482a-f207-4eb2f502e279"
      },
      "source": [
        "ratings = pd.read_csv('https://media.githubusercontent.com/media/joaopmo/TP_ICD/main/datasets/IMDb_ratings.csv')\n",
        "ratings.head()"
      ],
      "execution_count": 6,
      "outputs": [
        {
          "output_type": "execute_result",
          "data": {
            "text/html": [
              "<div>\n",
              "<style scoped>\n",
              "    .dataframe tbody tr th:only-of-type {\n",
              "        vertical-align: middle;\n",
              "    }\n",
              "\n",
              "    .dataframe tbody tr th {\n",
              "        vertical-align: top;\n",
              "    }\n",
              "\n",
              "    .dataframe thead th {\n",
              "        text-align: right;\n",
              "    }\n",
              "</style>\n",
              "<table border=\"1\" class=\"dataframe\">\n",
              "  <thead>\n",
              "    <tr style=\"text-align: right;\">\n",
              "      <th></th>\n",
              "      <th>imdb_title_id</th>\n",
              "      <th>weighted_average_vote</th>\n",
              "      <th>total_votes</th>\n",
              "      <th>mean_vote</th>\n",
              "      <th>median_vote</th>\n",
              "      <th>votes_10</th>\n",
              "      <th>votes_9</th>\n",
              "      <th>votes_8</th>\n",
              "      <th>votes_7</th>\n",
              "      <th>votes_6</th>\n",
              "      <th>votes_5</th>\n",
              "      <th>votes_4</th>\n",
              "      <th>votes_3</th>\n",
              "      <th>votes_2</th>\n",
              "      <th>votes_1</th>\n",
              "      <th>allgenders_0age_avg_vote</th>\n",
              "      <th>allgenders_0age_votes</th>\n",
              "      <th>allgenders_18age_avg_vote</th>\n",
              "      <th>allgenders_18age_votes</th>\n",
              "      <th>allgenders_30age_avg_vote</th>\n",
              "      <th>allgenders_30age_votes</th>\n",
              "      <th>allgenders_45age_avg_vote</th>\n",
              "      <th>allgenders_45age_votes</th>\n",
              "      <th>males_allages_avg_vote</th>\n",
              "      <th>males_allages_votes</th>\n",
              "      <th>males_0age_avg_vote</th>\n",
              "      <th>males_0age_votes</th>\n",
              "      <th>males_18age_avg_vote</th>\n",
              "      <th>males_18age_votes</th>\n",
              "      <th>males_30age_avg_vote</th>\n",
              "      <th>males_30age_votes</th>\n",
              "      <th>males_45age_avg_vote</th>\n",
              "      <th>males_45age_votes</th>\n",
              "      <th>females_allages_avg_vote</th>\n",
              "      <th>females_allages_votes</th>\n",
              "      <th>females_0age_avg_vote</th>\n",
              "      <th>females_0age_votes</th>\n",
              "      <th>females_18age_avg_vote</th>\n",
              "      <th>females_18age_votes</th>\n",
              "      <th>females_30age_avg_vote</th>\n",
              "      <th>females_30age_votes</th>\n",
              "      <th>females_45age_avg_vote</th>\n",
              "      <th>females_45age_votes</th>\n",
              "      <th>top1000_voters_rating</th>\n",
              "      <th>top1000_voters_votes</th>\n",
              "      <th>us_voters_rating</th>\n",
              "      <th>us_voters_votes</th>\n",
              "      <th>non_us_voters_rating</th>\n",
              "      <th>non_us_voters_votes</th>\n",
              "    </tr>\n",
              "  </thead>\n",
              "  <tbody>\n",
              "    <tr>\n",
              "      <th>0</th>\n",
              "      <td>tt0000009</td>\n",
              "      <td>5.9</td>\n",
              "      <td>154</td>\n",
              "      <td>5.9</td>\n",
              "      <td>6.0</td>\n",
              "      <td>12</td>\n",
              "      <td>4</td>\n",
              "      <td>10</td>\n",
              "      <td>43</td>\n",
              "      <td>28</td>\n",
              "      <td>28</td>\n",
              "      <td>9</td>\n",
              "      <td>1</td>\n",
              "      <td>5</td>\n",
              "      <td>14</td>\n",
              "      <td>7.2</td>\n",
              "      <td>4.0</td>\n",
              "      <td>6.0</td>\n",
              "      <td>38.0</td>\n",
              "      <td>5.7</td>\n",
              "      <td>50.0</td>\n",
              "      <td>6.6</td>\n",
              "      <td>35.0</td>\n",
              "      <td>6.2</td>\n",
              "      <td>97.0</td>\n",
              "      <td>7.0</td>\n",
              "      <td>1.0</td>\n",
              "      <td>5.9</td>\n",
              "      <td>24.0</td>\n",
              "      <td>5.6</td>\n",
              "      <td>36.0</td>\n",
              "      <td>6.7</td>\n",
              "      <td>31.0</td>\n",
              "      <td>6.0</td>\n",
              "      <td>35.0</td>\n",
              "      <td>7.3</td>\n",
              "      <td>3.0</td>\n",
              "      <td>5.9</td>\n",
              "      <td>14.0</td>\n",
              "      <td>5.7</td>\n",
              "      <td>13.0</td>\n",
              "      <td>4.5</td>\n",
              "      <td>4.0</td>\n",
              "      <td>5.7</td>\n",
              "      <td>34.0</td>\n",
              "      <td>6.4</td>\n",
              "      <td>51.0</td>\n",
              "      <td>6.0</td>\n",
              "      <td>70.0</td>\n",
              "    </tr>\n",
              "    <tr>\n",
              "      <th>1</th>\n",
              "      <td>tt0000574</td>\n",
              "      <td>6.1</td>\n",
              "      <td>589</td>\n",
              "      <td>6.3</td>\n",
              "      <td>6.0</td>\n",
              "      <td>57</td>\n",
              "      <td>18</td>\n",
              "      <td>58</td>\n",
              "      <td>137</td>\n",
              "      <td>139</td>\n",
              "      <td>103</td>\n",
              "      <td>28</td>\n",
              "      <td>20</td>\n",
              "      <td>13</td>\n",
              "      <td>16</td>\n",
              "      <td>6.0</td>\n",
              "      <td>1.0</td>\n",
              "      <td>6.1</td>\n",
              "      <td>114.0</td>\n",
              "      <td>6.0</td>\n",
              "      <td>239.0</td>\n",
              "      <td>6.3</td>\n",
              "      <td>115.0</td>\n",
              "      <td>6.1</td>\n",
              "      <td>425.0</td>\n",
              "      <td>6.0</td>\n",
              "      <td>1.0</td>\n",
              "      <td>6.2</td>\n",
              "      <td>102.0</td>\n",
              "      <td>6.0</td>\n",
              "      <td>210.0</td>\n",
              "      <td>6.2</td>\n",
              "      <td>100.0</td>\n",
              "      <td>6.2</td>\n",
              "      <td>50.0</td>\n",
              "      <td>NaN</td>\n",
              "      <td>NaN</td>\n",
              "      <td>5.9</td>\n",
              "      <td>12.0</td>\n",
              "      <td>6.2</td>\n",
              "      <td>23.0</td>\n",
              "      <td>6.6</td>\n",
              "      <td>14.0</td>\n",
              "      <td>6.4</td>\n",
              "      <td>66.0</td>\n",
              "      <td>6.0</td>\n",
              "      <td>96.0</td>\n",
              "      <td>6.2</td>\n",
              "      <td>331.0</td>\n",
              "    </tr>\n",
              "    <tr>\n",
              "      <th>2</th>\n",
              "      <td>tt0001892</td>\n",
              "      <td>5.8</td>\n",
              "      <td>188</td>\n",
              "      <td>6.0</td>\n",
              "      <td>6.0</td>\n",
              "      <td>6</td>\n",
              "      <td>6</td>\n",
              "      <td>17</td>\n",
              "      <td>44</td>\n",
              "      <td>52</td>\n",
              "      <td>32</td>\n",
              "      <td>16</td>\n",
              "      <td>5</td>\n",
              "      <td>6</td>\n",
              "      <td>4</td>\n",
              "      <td>NaN</td>\n",
              "      <td>NaN</td>\n",
              "      <td>5.5</td>\n",
              "      <td>25.0</td>\n",
              "      <td>5.8</td>\n",
              "      <td>72.0</td>\n",
              "      <td>6.2</td>\n",
              "      <td>62.0</td>\n",
              "      <td>5.9</td>\n",
              "      <td>146.0</td>\n",
              "      <td>NaN</td>\n",
              "      <td>NaN</td>\n",
              "      <td>5.5</td>\n",
              "      <td>21.0</td>\n",
              "      <td>5.9</td>\n",
              "      <td>67.0</td>\n",
              "      <td>6.2</td>\n",
              "      <td>55.0</td>\n",
              "      <td>5.7</td>\n",
              "      <td>15.0</td>\n",
              "      <td>NaN</td>\n",
              "      <td>NaN</td>\n",
              "      <td>5.8</td>\n",
              "      <td>4.0</td>\n",
              "      <td>5.8</td>\n",
              "      <td>4.0</td>\n",
              "      <td>6.8</td>\n",
              "      <td>7.0</td>\n",
              "      <td>5.4</td>\n",
              "      <td>32.0</td>\n",
              "      <td>6.2</td>\n",
              "      <td>31.0</td>\n",
              "      <td>5.9</td>\n",
              "      <td>123.0</td>\n",
              "    </tr>\n",
              "    <tr>\n",
              "      <th>3</th>\n",
              "      <td>tt0002101</td>\n",
              "      <td>5.2</td>\n",
              "      <td>446</td>\n",
              "      <td>5.3</td>\n",
              "      <td>5.0</td>\n",
              "      <td>15</td>\n",
              "      <td>8</td>\n",
              "      <td>16</td>\n",
              "      <td>62</td>\n",
              "      <td>98</td>\n",
              "      <td>117</td>\n",
              "      <td>63</td>\n",
              "      <td>26</td>\n",
              "      <td>25</td>\n",
              "      <td>16</td>\n",
              "      <td>NaN</td>\n",
              "      <td>NaN</td>\n",
              "      <td>5.3</td>\n",
              "      <td>23.0</td>\n",
              "      <td>5.0</td>\n",
              "      <td>111.0</td>\n",
              "      <td>5.3</td>\n",
              "      <td>193.0</td>\n",
              "      <td>5.1</td>\n",
              "      <td>299.0</td>\n",
              "      <td>NaN</td>\n",
              "      <td>NaN</td>\n",
              "      <td>5.2</td>\n",
              "      <td>20.0</td>\n",
              "      <td>4.9</td>\n",
              "      <td>96.0</td>\n",
              "      <td>5.2</td>\n",
              "      <td>171.0</td>\n",
              "      <td>5.9</td>\n",
              "      <td>39.0</td>\n",
              "      <td>NaN</td>\n",
              "      <td>NaN</td>\n",
              "      <td>5.7</td>\n",
              "      <td>3.0</td>\n",
              "      <td>5.5</td>\n",
              "      <td>14.0</td>\n",
              "      <td>6.1</td>\n",
              "      <td>21.0</td>\n",
              "      <td>4.9</td>\n",
              "      <td>57.0</td>\n",
              "      <td>5.5</td>\n",
              "      <td>207.0</td>\n",
              "      <td>4.7</td>\n",
              "      <td>105.0</td>\n",
              "    </tr>\n",
              "    <tr>\n",
              "      <th>4</th>\n",
              "      <td>tt0002130</td>\n",
              "      <td>7.0</td>\n",
              "      <td>2237</td>\n",
              "      <td>6.9</td>\n",
              "      <td>7.0</td>\n",
              "      <td>210</td>\n",
              "      <td>225</td>\n",
              "      <td>436</td>\n",
              "      <td>641</td>\n",
              "      <td>344</td>\n",
              "      <td>169</td>\n",
              "      <td>66</td>\n",
              "      <td>39</td>\n",
              "      <td>20</td>\n",
              "      <td>87</td>\n",
              "      <td>7.5</td>\n",
              "      <td>4.0</td>\n",
              "      <td>7.0</td>\n",
              "      <td>402.0</td>\n",
              "      <td>7.0</td>\n",
              "      <td>895.0</td>\n",
              "      <td>7.1</td>\n",
              "      <td>482.0</td>\n",
              "      <td>7.0</td>\n",
              "      <td>1607.0</td>\n",
              "      <td>8.0</td>\n",
              "      <td>2.0</td>\n",
              "      <td>7.0</td>\n",
              "      <td>346.0</td>\n",
              "      <td>7.0</td>\n",
              "      <td>804.0</td>\n",
              "      <td>7.0</td>\n",
              "      <td>396.0</td>\n",
              "      <td>7.2</td>\n",
              "      <td>215.0</td>\n",
              "      <td>7.0</td>\n",
              "      <td>2.0</td>\n",
              "      <td>7.0</td>\n",
              "      <td>52.0</td>\n",
              "      <td>7.3</td>\n",
              "      <td>82.0</td>\n",
              "      <td>7.4</td>\n",
              "      <td>77.0</td>\n",
              "      <td>6.9</td>\n",
              "      <td>139.0</td>\n",
              "      <td>7.0</td>\n",
              "      <td>488.0</td>\n",
              "      <td>7.0</td>\n",
              "      <td>1166.0</td>\n",
              "    </tr>\n",
              "  </tbody>\n",
              "</table>\n",
              "</div>"
            ],
            "text/plain": [
              "  imdb_title_id  ...  non_us_voters_votes\n",
              "0     tt0000009  ...                 70.0\n",
              "1     tt0000574  ...                331.0\n",
              "2     tt0001892  ...                123.0\n",
              "3     tt0002101  ...                105.0\n",
              "4     tt0002130  ...               1166.0\n",
              "\n",
              "[5 rows x 49 columns]"
            ]
          },
          "metadata": {
            "tags": []
          },
          "execution_count": 6
        }
      ]
    },
    {
      "cell_type": "code",
      "metadata": {
        "colab": {
          "base_uri": "https://localhost:8080/",
          "height": 197
        },
        "id": "T_RZEPzPcSPb",
        "outputId": "73b62d3c-fd0d-4af6-8f10-8914e8ba3f16"
      },
      "source": [
        "title_principals = pd.read_csv('https://media.githubusercontent.com/media/joaopmo/TP_ICD/main/datasets/IMDb_title_principals.csv')\n",
        "title_principals.head()"
      ],
      "execution_count": 7,
      "outputs": [
        {
          "output_type": "execute_result",
          "data": {
            "text/html": [
              "<div>\n",
              "<style scoped>\n",
              "    .dataframe tbody tr th:only-of-type {\n",
              "        vertical-align: middle;\n",
              "    }\n",
              "\n",
              "    .dataframe tbody tr th {\n",
              "        vertical-align: top;\n",
              "    }\n",
              "\n",
              "    .dataframe thead th {\n",
              "        text-align: right;\n",
              "    }\n",
              "</style>\n",
              "<table border=\"1\" class=\"dataframe\">\n",
              "  <thead>\n",
              "    <tr style=\"text-align: right;\">\n",
              "      <th></th>\n",
              "      <th>imdb_title_id</th>\n",
              "      <th>ordering</th>\n",
              "      <th>imdb_name_id</th>\n",
              "      <th>category</th>\n",
              "      <th>job</th>\n",
              "      <th>characters</th>\n",
              "    </tr>\n",
              "  </thead>\n",
              "  <tbody>\n",
              "    <tr>\n",
              "      <th>0</th>\n",
              "      <td>tt0000009</td>\n",
              "      <td>1</td>\n",
              "      <td>nm0063086</td>\n",
              "      <td>actress</td>\n",
              "      <td>NaN</td>\n",
              "      <td>[\"Miss Geraldine Holbrook (Miss Jerry)\"]</td>\n",
              "    </tr>\n",
              "    <tr>\n",
              "      <th>1</th>\n",
              "      <td>tt0000009</td>\n",
              "      <td>2</td>\n",
              "      <td>nm0183823</td>\n",
              "      <td>actor</td>\n",
              "      <td>NaN</td>\n",
              "      <td>[\"Mr. Hamilton\"]</td>\n",
              "    </tr>\n",
              "    <tr>\n",
              "      <th>2</th>\n",
              "      <td>tt0000009</td>\n",
              "      <td>3</td>\n",
              "      <td>nm1309758</td>\n",
              "      <td>actor</td>\n",
              "      <td>NaN</td>\n",
              "      <td>[\"Chauncey Depew - the Director of the New Yor...</td>\n",
              "    </tr>\n",
              "    <tr>\n",
              "      <th>3</th>\n",
              "      <td>tt0000009</td>\n",
              "      <td>4</td>\n",
              "      <td>nm0085156</td>\n",
              "      <td>director</td>\n",
              "      <td>NaN</td>\n",
              "      <td>NaN</td>\n",
              "    </tr>\n",
              "    <tr>\n",
              "      <th>4</th>\n",
              "      <td>tt0000574</td>\n",
              "      <td>1</td>\n",
              "      <td>nm0846887</td>\n",
              "      <td>actress</td>\n",
              "      <td>NaN</td>\n",
              "      <td>[\"Kate Kelly\"]</td>\n",
              "    </tr>\n",
              "  </tbody>\n",
              "</table>\n",
              "</div>"
            ],
            "text/plain": [
              "  imdb_title_id  ...                                         characters\n",
              "0     tt0000009  ...           [\"Miss Geraldine Holbrook (Miss Jerry)\"]\n",
              "1     tt0000009  ...                                   [\"Mr. Hamilton\"]\n",
              "2     tt0000009  ...  [\"Chauncey Depew - the Director of the New Yor...\n",
              "3     tt0000009  ...                                                NaN\n",
              "4     tt0000574  ...                                     [\"Kate Kelly\"]\n",
              "\n",
              "[5 rows x 6 columns]"
            ]
          },
          "metadata": {
            "tags": []
          },
          "execution_count": 7
        }
      ]
    },
    {
      "cell_type": "markdown",
      "metadata": {
        "id": "g5tYsgsHcSPb"
      },
      "source": [
        "Primeiro vamos definir o significado que queremos dar para os dados no dataset. As quatro tabelas possuem uma série de métricas sobre filmes, avaliações e perfil de usuários do site IMDb. A parte mais interessante do dataset é justamente a que envolve os usuários, iremos então tratar estes dados como uma amostra sobre a população de pessoas que assistem filmes. Não é fácil identificar a qualidade dessa amostra, pode ser por exemplo, que os usuários desse tipo de plataforma sejam em sua maioria entusiastas, não representando bem a população em geral. \n",
        "\n",
        "Vamos iniciar testando algumas hipotéses:\n",
        "\n",
        "<div style=\"color:red\">\n",
        "Jovens (até 18 anos) tendem a dar notas mais altas que outras faixas etárias\n",
        "</div>"
      ]
    },
    {
      "cell_type": "code",
      "metadata": {
        "colab": {
          "base_uri": "https://localhost:8080/"
        },
        "id": "GPwmi8nZcSPc",
        "outputId": "76cc4b39-ea59-4307-c696-073cc037a426"
      },
      "source": [
        "ratings.columns"
      ],
      "execution_count": 8,
      "outputs": [
        {
          "output_type": "execute_result",
          "data": {
            "text/plain": [
              "Index(['imdb_title_id', 'weighted_average_vote', 'total_votes', 'mean_vote',\n",
              "       'median_vote', 'votes_10', 'votes_9', 'votes_8', 'votes_7', 'votes_6',\n",
              "       'votes_5', 'votes_4', 'votes_3', 'votes_2', 'votes_1',\n",
              "       'allgenders_0age_avg_vote', 'allgenders_0age_votes',\n",
              "       'allgenders_18age_avg_vote', 'allgenders_18age_votes',\n",
              "       'allgenders_30age_avg_vote', 'allgenders_30age_votes',\n",
              "       'allgenders_45age_avg_vote', 'allgenders_45age_votes',\n",
              "       'males_allages_avg_vote', 'males_allages_votes', 'males_0age_avg_vote',\n",
              "       'males_0age_votes', 'males_18age_avg_vote', 'males_18age_votes',\n",
              "       'males_30age_avg_vote', 'males_30age_votes', 'males_45age_avg_vote',\n",
              "       'males_45age_votes', 'females_allages_avg_vote',\n",
              "       'females_allages_votes', 'females_0age_avg_vote', 'females_0age_votes',\n",
              "       'females_18age_avg_vote', 'females_18age_votes',\n",
              "       'females_30age_avg_vote', 'females_30age_votes',\n",
              "       'females_45age_avg_vote', 'females_45age_votes',\n",
              "       'top1000_voters_rating', 'top1000_voters_votes', 'us_voters_rating',\n",
              "       'us_voters_votes', 'non_us_voters_rating', 'non_us_voters_votes'],\n",
              "      dtype='object')"
            ]
          },
          "metadata": {
            "tags": []
          },
          "execution_count": 8
        }
      ]
    },
    {
      "cell_type": "code",
      "metadata": {
        "colab": {
          "base_uri": "https://localhost:8080/",
          "height": 406
        },
        "id": "s1zq_8m1cSPc",
        "outputId": "198c38c3-d3c0-474b-c692-db044c059184"
      },
      "source": [
        "faixas = ratings[['allgenders_0age_avg_vote', 'allgenders_18age_avg_vote', 'allgenders_30age_avg_vote', 'allgenders_45age_avg_vote']].dropna()\n",
        "faixas = faixas.reset_index(drop=True)\n",
        "faixas"
      ],
      "execution_count": 9,
      "outputs": [
        {
          "output_type": "execute_result",
          "data": {
            "text/html": [
              "<div>\n",
              "<style scoped>\n",
              "    .dataframe tbody tr th:only-of-type {\n",
              "        vertical-align: middle;\n",
              "    }\n",
              "\n",
              "    .dataframe tbody tr th {\n",
              "        vertical-align: top;\n",
              "    }\n",
              "\n",
              "    .dataframe thead th {\n",
              "        text-align: right;\n",
              "    }\n",
              "</style>\n",
              "<table border=\"1\" class=\"dataframe\">\n",
              "  <thead>\n",
              "    <tr style=\"text-align: right;\">\n",
              "      <th></th>\n",
              "      <th>allgenders_0age_avg_vote</th>\n",
              "      <th>allgenders_18age_avg_vote</th>\n",
              "      <th>allgenders_30age_avg_vote</th>\n",
              "      <th>allgenders_45age_avg_vote</th>\n",
              "    </tr>\n",
              "  </thead>\n",
              "  <tbody>\n",
              "    <tr>\n",
              "      <th>0</th>\n",
              "      <td>7.2</td>\n",
              "      <td>6.0</td>\n",
              "      <td>5.7</td>\n",
              "      <td>6.6</td>\n",
              "    </tr>\n",
              "    <tr>\n",
              "      <th>1</th>\n",
              "      <td>6.0</td>\n",
              "      <td>6.1</td>\n",
              "      <td>6.0</td>\n",
              "      <td>6.3</td>\n",
              "    </tr>\n",
              "    <tr>\n",
              "      <th>2</th>\n",
              "      <td>7.5</td>\n",
              "      <td>7.0</td>\n",
              "      <td>7.0</td>\n",
              "      <td>7.1</td>\n",
              "    </tr>\n",
              "    <tr>\n",
              "      <th>3</th>\n",
              "      <td>3.0</td>\n",
              "      <td>6.4</td>\n",
              "      <td>6.7</td>\n",
              "      <td>7.0</td>\n",
              "    </tr>\n",
              "    <tr>\n",
              "      <th>4</th>\n",
              "      <td>6.0</td>\n",
              "      <td>5.9</td>\n",
              "      <td>6.2</td>\n",
              "      <td>6.3</td>\n",
              "    </tr>\n",
              "    <tr>\n",
              "      <th>...</th>\n",
              "      <td>...</td>\n",
              "      <td>...</td>\n",
              "      <td>...</td>\n",
              "      <td>...</td>\n",
              "    </tr>\n",
              "    <tr>\n",
              "      <th>33331</th>\n",
              "      <td>4.0</td>\n",
              "      <td>5.7</td>\n",
              "      <td>5.6</td>\n",
              "      <td>5.3</td>\n",
              "    </tr>\n",
              "    <tr>\n",
              "      <th>33332</th>\n",
              "      <td>5.1</td>\n",
              "      <td>5.2</td>\n",
              "      <td>5.1</td>\n",
              "      <td>4.9</td>\n",
              "    </tr>\n",
              "    <tr>\n",
              "      <th>33333</th>\n",
              "      <td>9.3</td>\n",
              "      <td>8.6</td>\n",
              "      <td>8.1</td>\n",
              "      <td>6.8</td>\n",
              "    </tr>\n",
              "    <tr>\n",
              "      <th>33334</th>\n",
              "      <td>6.0</td>\n",
              "      <td>4.0</td>\n",
              "      <td>3.9</td>\n",
              "      <td>4.4</td>\n",
              "    </tr>\n",
              "    <tr>\n",
              "      <th>33335</th>\n",
              "      <td>6.0</td>\n",
              "      <td>5.8</td>\n",
              "      <td>5.3</td>\n",
              "      <td>5.2</td>\n",
              "    </tr>\n",
              "  </tbody>\n",
              "</table>\n",
              "<p>33336 rows × 4 columns</p>\n",
              "</div>"
            ],
            "text/plain": [
              "       allgenders_0age_avg_vote  ...  allgenders_45age_avg_vote\n",
              "0                           7.2  ...                        6.6\n",
              "1                           6.0  ...                        6.3\n",
              "2                           7.5  ...                        7.1\n",
              "3                           3.0  ...                        7.0\n",
              "4                           6.0  ...                        6.3\n",
              "...                         ...  ...                        ...\n",
              "33331                       4.0  ...                        5.3\n",
              "33332                       5.1  ...                        4.9\n",
              "33333                       9.3  ...                        6.8\n",
              "33334                       6.0  ...                        4.4\n",
              "33335                       6.0  ...                        5.2\n",
              "\n",
              "[33336 rows x 4 columns]"
            ]
          },
          "metadata": {
            "tags": []
          },
          "execution_count": 9
        }
      ]
    },
    {
      "cell_type": "code",
      "metadata": {
        "colab": {
          "base_uri": "https://localhost:8080/",
          "height": 287
        },
        "id": "Gb7lqa9AcSPd",
        "outputId": "822e9401-4472-4322-d25c-dccb0a01c9c3"
      },
      "source": [
        "jovens = faixas['allgenders_0age_avg_vote'].to_frame(name=\"vals\")\n",
        "jovens.describe()"
      ],
      "execution_count": 10,
      "outputs": [
        {
          "output_type": "execute_result",
          "data": {
            "text/html": [
              "<div>\n",
              "<style scoped>\n",
              "    .dataframe tbody tr th:only-of-type {\n",
              "        vertical-align: middle;\n",
              "    }\n",
              "\n",
              "    .dataframe tbody tr th {\n",
              "        vertical-align: top;\n",
              "    }\n",
              "\n",
              "    .dataframe thead th {\n",
              "        text-align: right;\n",
              "    }\n",
              "</style>\n",
              "<table border=\"1\" class=\"dataframe\">\n",
              "  <thead>\n",
              "    <tr style=\"text-align: right;\">\n",
              "      <th></th>\n",
              "      <th>vals</th>\n",
              "    </tr>\n",
              "  </thead>\n",
              "  <tbody>\n",
              "    <tr>\n",
              "      <th>count</th>\n",
              "      <td>33336.000000</td>\n",
              "    </tr>\n",
              "    <tr>\n",
              "      <th>mean</th>\n",
              "      <td>6.195134</td>\n",
              "    </tr>\n",
              "    <tr>\n",
              "      <th>std</th>\n",
              "      <td>1.848898</td>\n",
              "    </tr>\n",
              "    <tr>\n",
              "      <th>min</th>\n",
              "      <td>1.000000</td>\n",
              "    </tr>\n",
              "    <tr>\n",
              "      <th>25%</th>\n",
              "      <td>5.000000</td>\n",
              "    </tr>\n",
              "    <tr>\n",
              "      <th>50%</th>\n",
              "      <td>6.000000</td>\n",
              "    </tr>\n",
              "    <tr>\n",
              "      <th>75%</th>\n",
              "      <td>7.200000</td>\n",
              "    </tr>\n",
              "    <tr>\n",
              "      <th>max</th>\n",
              "      <td>10.000000</td>\n",
              "    </tr>\n",
              "  </tbody>\n",
              "</table>\n",
              "</div>"
            ],
            "text/plain": [
              "               vals\n",
              "count  33336.000000\n",
              "mean       6.195134\n",
              "std        1.848898\n",
              "min        1.000000\n",
              "25%        5.000000\n",
              "50%        6.000000\n",
              "75%        7.200000\n",
              "max       10.000000"
            ]
          },
          "metadata": {
            "tags": []
          },
          "execution_count": 10
        }
      ]
    },
    {
      "cell_type": "code",
      "metadata": {
        "colab": {
          "base_uri": "https://localhost:8080/",
          "height": 287
        },
        "id": "bH1eP9AgcSPd",
        "outputId": "84cc2fcf-e6b9-4fd6-e34f-4329c3998549"
      },
      "source": [
        "geral = faixas[['allgenders_18age_avg_vote', 'allgenders_30age_avg_vote', 'allgenders_45age_avg_vote']].sum(axis=1).to_frame(name=\"vals\")\n",
        "geral /= 3\n",
        "geral.describe()"
      ],
      "execution_count": 11,
      "outputs": [
        {
          "output_type": "execute_result",
          "data": {
            "text/html": [
              "<div>\n",
              "<style scoped>\n",
              "    .dataframe tbody tr th:only-of-type {\n",
              "        vertical-align: middle;\n",
              "    }\n",
              "\n",
              "    .dataframe tbody tr th {\n",
              "        vertical-align: top;\n",
              "    }\n",
              "\n",
              "    .dataframe thead th {\n",
              "        text-align: right;\n",
              "    }\n",
              "</style>\n",
              "<table border=\"1\" class=\"dataframe\">\n",
              "  <thead>\n",
              "    <tr style=\"text-align: right;\">\n",
              "      <th></th>\n",
              "      <th>vals</th>\n",
              "    </tr>\n",
              "  </thead>\n",
              "  <tbody>\n",
              "    <tr>\n",
              "      <th>count</th>\n",
              "      <td>33336.000000</td>\n",
              "    </tr>\n",
              "    <tr>\n",
              "      <th>mean</th>\n",
              "      <td>6.075230</td>\n",
              "    </tr>\n",
              "    <tr>\n",
              "      <th>std</th>\n",
              "      <td>1.164201</td>\n",
              "    </tr>\n",
              "    <tr>\n",
              "      <th>min</th>\n",
              "      <td>1.033333</td>\n",
              "    </tr>\n",
              "    <tr>\n",
              "      <th>25%</th>\n",
              "      <td>5.466667</td>\n",
              "    </tr>\n",
              "    <tr>\n",
              "      <th>50%</th>\n",
              "      <td>6.233333</td>\n",
              "    </tr>\n",
              "    <tr>\n",
              "      <th>75%</th>\n",
              "      <td>6.866667</td>\n",
              "    </tr>\n",
              "    <tr>\n",
              "      <th>max</th>\n",
              "      <td>9.766667</td>\n",
              "    </tr>\n",
              "  </tbody>\n",
              "</table>\n",
              "</div>"
            ],
            "text/plain": [
              "               vals\n",
              "count  33336.000000\n",
              "mean       6.075230\n",
              "std        1.164201\n",
              "min        1.033333\n",
              "25%        5.466667\n",
              "50%        6.233333\n",
              "75%        6.866667\n",
              "max        9.766667"
            ]
          },
          "metadata": {
            "tags": []
          },
          "execution_count": 11
        }
      ]
    },
    {
      "cell_type": "code",
      "metadata": {
        "colab": {
          "base_uri": "https://localhost:8080/",
          "height": 297
        },
        "id": "hN0ZTrtRcSPe",
        "outputId": "bef9bec6-60d8-4c7e-bbb6-c6d54cfd4741"
      },
      "source": [
        "plt.hist(jovens['vals'], alpha=0.3, edgecolor='k', label='Jovens')\n",
        "plt.hist(geral['vals'], alpha=0.3, edgecolor='k', label='Geral')\n",
        "plt.xlabel('Avaliação Média')\n",
        "plt.ylabel('# de votos')\n",
        "plt.legend()"
      ],
      "execution_count": 12,
      "outputs": [
        {
          "output_type": "execute_result",
          "data": {
            "text/plain": [
              "<matplotlib.legend.Legend at 0x7f2d5cd81128>"
            ]
          },
          "metadata": {
            "tags": []
          },
          "execution_count": 12
        },
        {
          "output_type": "display_data",
          "data": {
            "image/png": "[encoded data removed]",
            "text/plain": [
              "<Figure size 432x288 with 1 Axes>"
            ]
          },
          "metadata": {
            "tags": [],
            "needs_background": "light"
          }
        }
      ]
    },
    {
      "cell_type": "markdown",
      "metadata": {
        "id": "R2HsNJZ5cSPe"
      },
      "source": [
        "### Bootstrap"
      ]
    },
    {
      "cell_type": "code",
      "metadata": {
        "id": "30iTQg7GcSPe"
      },
      "source": [
        "def bootstrap_mean(df, column, n=5000, size=None):\n",
        "    if size is None:\n",
        "        size = len(df)\n",
        "    values = np.zeros(n)\n",
        "    for i in range(n):\n",
        "        sample = df[column].sample(size, replace=True)\n",
        "        values[i] = sample.mean()\n",
        "    return values"
      ],
      "execution_count": 13,
      "outputs": []
    },
    {
      "cell_type": "code",
      "metadata": {
        "id": "UcbZZuwBcSPf"
      },
      "source": [
        "def bootstrap_diff(df1, df2, column, n=5000, size=None):\n",
        "    if size is None:\n",
        "        size = len(df1)\n",
        "    values = np.zeros(n)\n",
        "    for i in range(n):\n",
        "        sample1 = df1[column].sample(size, replace=True)\n",
        "        sample2 = df2[column].sample(size, replace=True)\n",
        "        values[i] = sample1.mean() - sample2.mean()\n",
        "    return values"
      ],
      "execution_count": 14,
      "outputs": []
    },
    {
      "cell_type": "code",
      "metadata": {
        "id": "Fs8TPk8jcSPf"
      },
      "source": [
        "def ic_bootstrap(df, column, n=5000, size=None):\n",
        "    values = bootstrap_mean(df, column, n, size)\n",
        "    return (np.percentile(values, 2.5), np.percentile(values, 97.5))"
      ],
      "execution_count": 15,
      "outputs": []
    },
    {
      "cell_type": "markdown",
      "metadata": {
        "id": "dICAS6UQcSPf"
      },
      "source": [
        "### Checando intervalos de confiança com Bootstrap"
      ]
    },
    {
      "cell_type": "code",
      "metadata": {
        "colab": {
          "base_uri": "https://localhost:8080/"
        },
        "id": "NsHb6DiVcSPg",
        "outputId": "dd8a70fc-9da8-4f87-f651-b1c343ca60fa"
      },
      "source": [
        "ic_bootstrap(jovens, 'vals')"
      ],
      "execution_count": 16,
      "outputs": [
        {
          "output_type": "execute_result",
          "data": {
            "text/plain": [
              "(6.1751460133189315, 6.215173311135088)"
            ]
          },
          "metadata": {
            "tags": []
          },
          "execution_count": 16
        }
      ]
    },
    {
      "cell_type": "code",
      "metadata": {
        "colab": {
          "base_uri": "https://localhost:8080/"
        },
        "id": "RYJLOEZTcSPg",
        "outputId": "983a37a4-a26b-4935-c7fd-a79a44ac5276"
      },
      "source": [
        "ic_bootstrap(geral, 'vals')"
      ],
      "execution_count": 17,
      "outputs": [
        {
          "output_type": "execute_result",
          "data": {
            "text/plain": [
              "(6.0629149418046655, 6.08761519078473)"
            ]
          },
          "metadata": {
            "tags": []
          },
          "execution_count": 17
        }
      ]
    },
    {
      "cell_type": "code",
      "metadata": {
        "id": "6N6BHP0wcSPg"
      },
      "source": [
        "diff = bootstrap_diff(jovens, geral, 'vals')"
      ],
      "execution_count": 18,
      "outputs": []
    },
    {
      "cell_type": "code",
      "metadata": {
        "colab": {
          "base_uri": "https://localhost:8080/",
          "height": 0
        },
        "id": "LONnTZ6lcSPh",
        "outputId": "54694abd-9e97-4088-9af0-0316d7dc0b54"
      },
      "source": [
        "plt.hist(diff, edgecolor='k')\n",
        "plt.xlabel('Média Joves - Média Geral')\n",
        "plt.ylabel('Freq')"
      ],
      "execution_count": 19,
      "outputs": [
        {
          "output_type": "execute_result",
          "data": {
            "text/plain": [
              "Text(0, 0.5, 'Freq')"
            ]
          },
          "metadata": {
            "tags": []
          },
          "execution_count": 19
        },
        {
          "output_type": "display_data",
          "data": {
            "image/png": "[encoded data removed]",
            "text/plain": [
              "<Figure size 432x288 with 1 Axes>"
            ]
          },
          "metadata": {
            "tags": [],
            "needs_background": "light"
          }
        }
      ]
    },
    {
      "cell_type": "markdown",
      "metadata": {
        "id": "_LOVQtSBcSPh"
      },
      "source": [
        "Podemos ver que o intervalo das médias não se cruzam e que o plot da diferença dos intervalos não contém o valor zero no eixo x, o que confirma nossa hipótese. Agora testaremos uma nova hipótese:\n",
        "<div style=\"color:red\">\n",
        "Filmes produzidos nos EUA tendem a ter melhores avaliações \n",
        "</div>"
      ]
    },
    {
      "cell_type": "code",
      "metadata": {
        "colab": {
          "base_uri": "https://localhost:8080/"
        },
        "id": "TGoIXbamcSPh",
        "outputId": "071fcdd7-7b7f-4c72-a191-f70c1e38d1db"
      },
      "source": [
        "print(ratings.columns)\n",
        "print()\n",
        "print(movies.columns)"
      ],
      "execution_count": 20,
      "outputs": [
        {
          "output_type": "stream",
          "text": [
            "Index(['imdb_title_id', 'weighted_average_vote', 'total_votes', 'mean_vote',\n",
            "       'median_vote', 'votes_10', 'votes_9', 'votes_8', 'votes_7', 'votes_6',\n",
            "       'votes_5', 'votes_4', 'votes_3', 'votes_2', 'votes_1',\n",
            "       'allgenders_0age_avg_vote', 'allgenders_0age_votes',\n",
            "       'allgenders_18age_avg_vote', 'allgenders_18age_votes',\n",
            "       'allgenders_30age_avg_vote', 'allgenders_30age_votes',\n",
            "       'allgenders_45age_avg_vote', 'allgenders_45age_votes',\n",
            "       'males_allages_avg_vote', 'males_allages_votes', 'males_0age_avg_vote',\n",
            "       'males_0age_votes', 'males_18age_avg_vote', 'males_18age_votes',\n",
            "       'males_30age_avg_vote', 'males_30age_votes', 'males_45age_avg_vote',\n",
            "       'males_45age_votes', 'females_allages_avg_vote',\n",
            "       'females_allages_votes', 'females_0age_avg_vote', 'females_0age_votes',\n",
            "       'females_18age_avg_vote', 'females_18age_votes',\n",
            "       'females_30age_avg_vote', 'females_30age_votes',\n",
            "       'females_45age_avg_vote', 'females_45age_votes',\n",
            "       'top1000_voters_rating', 'top1000_voters_votes', 'us_voters_rating',\n",
            "       'us_voters_votes', 'non_us_voters_rating', 'non_us_voters_votes'],\n",
            "      dtype='object')\n",
            "\n",
            "Index(['imdb_title_id', 'title', 'original_title', 'year', 'date_published',\n",
            "       'genre', 'duration', 'country', 'language', 'director', 'writer',\n",
            "       'production_company', 'actors', 'description', 'avg_vote', 'votes',\n",
            "       'budget', 'usa_gross_income', 'worlwide_gross_income', 'metascore',\n",
            "       'reviews_from_users', 'reviews_from_critics'],\n",
            "      dtype='object')\n"
          ],
          "name": "stdout"
        }
      ]
    },
    {
      "cell_type": "code",
      "metadata": {
        "colab": {
          "base_uri": "https://localhost:8080/",
          "height": 0
        },
        "id": "NNL46yW-cSPi",
        "outputId": "3b3c5fa9-0b34-42b4-80cf-cb19015c1ef2"
      },
      "source": [
        "vc = pd.merge(ratings[['imdb_title_id', 'mean_vote']], movies[['imdb_title_id', 'country']], on='imdb_title_id')\n",
        "vc"
      ],
      "execution_count": 21,
      "outputs": [
        {
          "output_type": "execute_result",
          "data": {
            "text/html": [
              "<div>\n",
              "<style scoped>\n",
              "    .dataframe tbody tr th:only-of-type {\n",
              "        vertical-align: middle;\n",
              "    }\n",
              "\n",
              "    .dataframe tbody tr th {\n",
              "        vertical-align: top;\n",
              "    }\n",
              "\n",
              "    .dataframe thead th {\n",
              "        text-align: right;\n",
              "    }\n",
              "</style>\n",
              "<table border=\"1\" class=\"dataframe\">\n",
              "  <thead>\n",
              "    <tr style=\"text-align: right;\">\n",
              "      <th></th>\n",
              "      <th>imdb_title_id</th>\n",
              "      <th>mean_vote</th>\n",
              "      <th>country</th>\n",
              "    </tr>\n",
              "  </thead>\n",
              "  <tbody>\n",
              "    <tr>\n",
              "      <th>0</th>\n",
              "      <td>tt0000009</td>\n",
              "      <td>5.9</td>\n",
              "      <td>USA</td>\n",
              "    </tr>\n",
              "    <tr>\n",
              "      <th>1</th>\n",
              "      <td>tt0000574</td>\n",
              "      <td>6.3</td>\n",
              "      <td>Australia</td>\n",
              "    </tr>\n",
              "    <tr>\n",
              "      <th>2</th>\n",
              "      <td>tt0001892</td>\n",
              "      <td>6.0</td>\n",
              "      <td>Germany, Denmark</td>\n",
              "    </tr>\n",
              "    <tr>\n",
              "      <th>3</th>\n",
              "      <td>tt0002101</td>\n",
              "      <td>5.3</td>\n",
              "      <td>USA</td>\n",
              "    </tr>\n",
              "    <tr>\n",
              "      <th>4</th>\n",
              "      <td>tt0002130</td>\n",
              "      <td>6.9</td>\n",
              "      <td>Italy</td>\n",
              "    </tr>\n",
              "    <tr>\n",
              "      <th>...</th>\n",
              "      <td>...</td>\n",
              "      <td>...</td>\n",
              "      <td>...</td>\n",
              "    </tr>\n",
              "    <tr>\n",
              "      <th>85850</th>\n",
              "      <td>tt9908390</td>\n",
              "      <td>5.5</td>\n",
              "      <td>France, Belgium</td>\n",
              "    </tr>\n",
              "    <tr>\n",
              "      <th>85851</th>\n",
              "      <td>tt9911196</td>\n",
              "      <td>7.9</td>\n",
              "      <td>Netherlands</td>\n",
              "    </tr>\n",
              "    <tr>\n",
              "      <th>85852</th>\n",
              "      <td>tt9911774</td>\n",
              "      <td>7.8</td>\n",
              "      <td>India</td>\n",
              "    </tr>\n",
              "    <tr>\n",
              "      <th>85853</th>\n",
              "      <td>tt9914286</td>\n",
              "      <td>9.4</td>\n",
              "      <td>Turkey</td>\n",
              "    </tr>\n",
              "    <tr>\n",
              "      <th>85854</th>\n",
              "      <td>tt9914942</td>\n",
              "      <td>6.8</td>\n",
              "      <td>Spain</td>\n",
              "    </tr>\n",
              "  </tbody>\n",
              "</table>\n",
              "<p>85855 rows × 3 columns</p>\n",
              "</div>"
            ],
            "text/plain": [
              "      imdb_title_id  mean_vote           country\n",
              "0         tt0000009        5.9               USA\n",
              "1         tt0000574        6.3         Australia\n",
              "2         tt0001892        6.0  Germany, Denmark\n",
              "3         tt0002101        5.3               USA\n",
              "4         tt0002130        6.9             Italy\n",
              "...             ...        ...               ...\n",
              "85850     tt9908390        5.5   France, Belgium\n",
              "85851     tt9911196        7.9       Netherlands\n",
              "85852     tt9911774        7.8             India\n",
              "85853     tt9914286        9.4            Turkey\n",
              "85854     tt9914942        6.8             Spain\n",
              "\n",
              "[85855 rows x 3 columns]"
            ]
          },
          "metadata": {
            "tags": []
          },
          "execution_count": 21
        }
      ]
    },
    {
      "cell_type": "code",
      "metadata": {
        "colab": {
          "base_uri": "https://localhost:8080/",
          "height": 0
        },
        "id": "aEkBaxWgcSPi",
        "outputId": "de072035-d0a7-4e67-b774-39e9caecff64"
      },
      "source": [
        "us = vc[vc['country'] == 'USA']\n",
        "us.describe()"
      ],
      "execution_count": 22,
      "outputs": [
        {
          "output_type": "execute_result",
          "data": {
            "text/html": [
              "<div>\n",
              "<style scoped>\n",
              "    .dataframe tbody tr th:only-of-type {\n",
              "        vertical-align: middle;\n",
              "    }\n",
              "\n",
              "    .dataframe tbody tr th {\n",
              "        vertical-align: top;\n",
              "    }\n",
              "\n",
              "    .dataframe thead th {\n",
              "        text-align: right;\n",
              "    }\n",
              "</style>\n",
              "<table border=\"1\" class=\"dataframe\">\n",
              "  <thead>\n",
              "    <tr style=\"text-align: right;\">\n",
              "      <th></th>\n",
              "      <th>mean_vote</th>\n",
              "    </tr>\n",
              "  </thead>\n",
              "  <tbody>\n",
              "    <tr>\n",
              "      <th>count</th>\n",
              "      <td>28511.000000</td>\n",
              "    </tr>\n",
              "    <tr>\n",
              "      <th>mean</th>\n",
              "      <td>5.951036</td>\n",
              "    </tr>\n",
              "    <tr>\n",
              "      <th>std</th>\n",
              "      <td>1.189045</td>\n",
              "    </tr>\n",
              "    <tr>\n",
              "      <th>min</th>\n",
              "      <td>1.400000</td>\n",
              "    </tr>\n",
              "    <tr>\n",
              "      <th>25%</th>\n",
              "      <td>5.200000</td>\n",
              "    </tr>\n",
              "    <tr>\n",
              "      <th>50%</th>\n",
              "      <td>6.100000</td>\n",
              "    </tr>\n",
              "    <tr>\n",
              "      <th>75%</th>\n",
              "      <td>6.800000</td>\n",
              "    </tr>\n",
              "    <tr>\n",
              "      <th>max</th>\n",
              "      <td>9.700000</td>\n",
              "    </tr>\n",
              "  </tbody>\n",
              "</table>\n",
              "</div>"
            ],
            "text/plain": [
              "          mean_vote\n",
              "count  28511.000000\n",
              "mean       5.951036\n",
              "std        1.189045\n",
              "min        1.400000\n",
              "25%        5.200000\n",
              "50%        6.100000\n",
              "75%        6.800000\n",
              "max        9.700000"
            ]
          },
          "metadata": {
            "tags": []
          },
          "execution_count": 22
        }
      ]
    },
    {
      "cell_type": "code",
      "metadata": {
        "colab": {
          "base_uri": "https://localhost:8080/",
          "height": 0
        },
        "id": "JmNAQHkrcSPi",
        "outputId": "6262e502-b2cb-49cc-e5b5-cdc75e98c25c"
      },
      "source": [
        "no_us = vc[vc['country'] != 'USA']\n",
        "no_us.describe()"
      ],
      "execution_count": 23,
      "outputs": [
        {
          "output_type": "execute_result",
          "data": {
            "text/html": [
              "<div>\n",
              "<style scoped>\n",
              "    .dataframe tbody tr th:only-of-type {\n",
              "        vertical-align: middle;\n",
              "    }\n",
              "\n",
              "    .dataframe tbody tr th {\n",
              "        vertical-align: top;\n",
              "    }\n",
              "\n",
              "    .dataframe thead th {\n",
              "        text-align: right;\n",
              "    }\n",
              "</style>\n",
              "<table border=\"1\" class=\"dataframe\">\n",
              "  <thead>\n",
              "    <tr style=\"text-align: right;\">\n",
              "      <th></th>\n",
              "      <th>mean_vote</th>\n",
              "    </tr>\n",
              "  </thead>\n",
              "  <tbody>\n",
              "    <tr>\n",
              "      <th>count</th>\n",
              "      <td>57344.000000</td>\n",
              "    </tr>\n",
              "    <tr>\n",
              "      <th>mean</th>\n",
              "      <td>6.363222</td>\n",
              "    </tr>\n",
              "    <tr>\n",
              "      <th>std</th>\n",
              "      <td>1.113067</td>\n",
              "    </tr>\n",
              "    <tr>\n",
              "      <th>min</th>\n",
              "      <td>1.000000</td>\n",
              "    </tr>\n",
              "    <tr>\n",
              "      <th>25%</th>\n",
              "      <td>5.700000</td>\n",
              "    </tr>\n",
              "    <tr>\n",
              "      <th>50%</th>\n",
              "      <td>6.500000</td>\n",
              "    </tr>\n",
              "    <tr>\n",
              "      <th>75%</th>\n",
              "      <td>7.100000</td>\n",
              "    </tr>\n",
              "    <tr>\n",
              "      <th>max</th>\n",
              "      <td>9.800000</td>\n",
              "    </tr>\n",
              "  </tbody>\n",
              "</table>\n",
              "</div>"
            ],
            "text/plain": [
              "          mean_vote\n",
              "count  57344.000000\n",
              "mean       6.363222\n",
              "std        1.113067\n",
              "min        1.000000\n",
              "25%        5.700000\n",
              "50%        6.500000\n",
              "75%        7.100000\n",
              "max        9.800000"
            ]
          },
          "metadata": {
            "tags": []
          },
          "execution_count": 23
        }
      ]
    },
    {
      "cell_type": "code",
      "metadata": {
        "colab": {
          "base_uri": "https://localhost:8080/",
          "height": 0
        },
        "id": "EGfrPACNcSPj",
        "outputId": "d7166384-3fcc-44e6-e1d9-97bbe22e573f"
      },
      "source": [
        "plt.hist(us['mean_vote'], alpha=0.3, edgecolor='k', label='USA')\n",
        "plt.hist(no_us['mean_vote'], alpha=0.3, edgecolor='k', label='No USA')\n",
        "plt.xlabel('Avaliação Média')\n",
        "plt.ylabel('# de votos')\n",
        "plt.legend()"
      ],
      "execution_count": 24,
      "outputs": [
        {
          "output_type": "execute_result",
          "data": {
            "text/plain": [
              "<matplotlib.legend.Legend at 0x7f2d5c7c5828>"
            ]
          },
          "metadata": {
            "tags": []
          },
          "execution_count": 24
        },
        {
          "output_type": "display_data",
          "data": {
            "image/png": "[encoded data removed]",
            "text/plain": [
              "<Figure size 432x288 with 1 Axes>"
            ]
          },
          "metadata": {
            "tags": [],
            "needs_background": "light"
          }
        }
      ]
    },
    {
      "cell_type": "markdown",
      "metadata": {
        "id": "npyGBHmlcSPj"
      },
      "source": [
        "### Checando intervalos de confiança com Bootstrap"
      ]
    },
    {
      "cell_type": "code",
      "metadata": {
        "colab": {
          "base_uri": "https://localhost:8080/"
        },
        "id": "xTVqqxo1cSPj",
        "outputId": "db04e4d6-5bcb-4b35-e68a-04d857567a2f"
      },
      "source": [
        "ic_bootstrap(us, 'mean_vote')"
      ],
      "execution_count": 25,
      "outputs": [
        {
          "output_type": "execute_result",
          "data": {
            "text/plain": [
              "(5.937272894672211, 5.965214478622207)"
            ]
          },
          "metadata": {
            "tags": []
          },
          "execution_count": 25
        }
      ]
    },
    {
      "cell_type": "code",
      "metadata": {
        "colab": {
          "base_uri": "https://localhost:8080/"
        },
        "id": "AVxq4QhfcSPk",
        "outputId": "48862b2f-d3c6-4e06-8030-4bac12ffd28b"
      },
      "source": [
        "ic_bootstrap(no_us, 'mean_vote')"
      ],
      "execution_count": 26,
      "outputs": [
        {
          "output_type": "execute_result",
          "data": {
            "text/plain": [
              "(6.354200744628937, 6.372428065708773)"
            ]
          },
          "metadata": {
            "tags": []
          },
          "execution_count": 26
        }
      ]
    },
    {
      "cell_type": "code",
      "metadata": {
        "id": "uG7Oe6wLcSPk"
      },
      "source": [
        "samples_us = bootstrap_mean(us, 'mean_vote')\n",
        "samples_no_us = bootstrap_mean(no_us, 'mean_vote')\n",
        "to_plot = pd.DataFrame()\n",
        "to_plot['USA'] = samples_us\n",
        "to_plot['No USA'] = samples_no_us"
      ],
      "execution_count": 27,
      "outputs": []
    },
    {
      "cell_type": "code",
      "metadata": {
        "colab": {
          "base_uri": "https://localhost:8080/",
          "height": 0
        },
        "id": "IIUheYEfcSPk",
        "outputId": "93a52009-9936-411a-f4c3-7e03ed68ade7"
      },
      "source": [
        "to_plot.boxplot(grid=False, sym='', whis=[5, 95], showmeans=True)\n",
        "plt.ylim(5.9, 6.4)\n",
        "plt.ylabel('Média')"
      ],
      "execution_count": 28,
      "outputs": [
        {
          "output_type": "execute_result",
          "data": {
            "text/plain": [
              "Text(0, 0.5, 'Média')"
            ]
          },
          "metadata": {
            "tags": []
          },
          "execution_count": 28
        },
        {
          "output_type": "display_data",
          "data": {
            "image/png": "[encoded data removed]",
            "text/plain": [
              "<Figure size 432x288 with 1 Axes>"
            ]
          },
          "metadata": {
            "tags": [],
            "needs_background": "light"
          }
        }
      ]
    },
    {
      "cell_type": "markdown",
      "metadata": {
        "id": "Far8awaUcSPl"
      },
      "source": [
        "O intervalo das médias não se cruzam, porém, a nota média dos filmes dos EUA é menor que a de produções de outros países, logo, rejeitamos nossa hipótese. Outra hipótese:\n",
        "\n",
        "<div style=\"color:red\">\n",
        "Filmes que têm 'Action' como um dos gêneros são mais populares\n",
        "</div>"
      ]
    },
    {
      "cell_type": "code",
      "metadata": {
        "colab": {
          "base_uri": "https://localhost:8080/"
        },
        "id": "nkhZeVw0cSPl",
        "outputId": "3915e5fd-da6d-4f10-cce0-0c1c2a078c09"
      },
      "source": [
        "movies.columns"
      ],
      "execution_count": 29,
      "outputs": [
        {
          "output_type": "execute_result",
          "data": {
            "text/plain": [
              "Index(['imdb_title_id', 'title', 'original_title', 'year', 'date_published',\n",
              "       'genre', 'duration', 'country', 'language', 'director', 'writer',\n",
              "       'production_company', 'actors', 'description', 'avg_vote', 'votes',\n",
              "       'budget', 'usa_gross_income', 'worlwide_gross_income', 'metascore',\n",
              "       'reviews_from_users', 'reviews_from_critics'],\n",
              "      dtype='object')"
            ]
          },
          "metadata": {
            "tags": []
          },
          "execution_count": 29
        }
      ]
    },
    {
      "cell_type": "code",
      "metadata": {
        "colab": {
          "base_uri": "https://localhost:8080/",
          "height": 0
        },
        "id": "mVpXqhMAcSPl",
        "outputId": "b13e0e8a-dfde-4036-c87a-c11c29bc329e"
      },
      "source": [
        "gv = movies[['genre', 'votes']].dropna()\n",
        "gv            "
      ],
      "execution_count": 30,
      "outputs": [
        {
          "output_type": "execute_result",
          "data": {
            "text/html": [
              "<div>\n",
              "<style scoped>\n",
              "    .dataframe tbody tr th:only-of-type {\n",
              "        vertical-align: middle;\n",
              "    }\n",
              "\n",
              "    .dataframe tbody tr th {\n",
              "        vertical-align: top;\n",
              "    }\n",
              "\n",
              "    .dataframe thead th {\n",
              "        text-align: right;\n",
              "    }\n",
              "</style>\n",
              "<table border=\"1\" class=\"dataframe\">\n",
              "  <thead>\n",
              "    <tr style=\"text-align: right;\">\n",
              "      <th></th>\n",
              "      <th>genre</th>\n",
              "      <th>votes</th>\n",
              "    </tr>\n",
              "  </thead>\n",
              "  <tbody>\n",
              "    <tr>\n",
              "      <th>0</th>\n",
              "      <td>Romance</td>\n",
              "      <td>154</td>\n",
              "    </tr>\n",
              "    <tr>\n",
              "      <th>1</th>\n",
              "      <td>Biography, Crime, Drama</td>\n",
              "      <td>589</td>\n",
              "    </tr>\n",
              "    <tr>\n",
              "      <th>2</th>\n",
              "      <td>Drama</td>\n",
              "      <td>188</td>\n",
              "    </tr>\n",
              "    <tr>\n",
              "      <th>3</th>\n",
              "      <td>Drama, History</td>\n",
              "      <td>446</td>\n",
              "    </tr>\n",
              "    <tr>\n",
              "      <th>4</th>\n",
              "      <td>Adventure, Drama, Fantasy</td>\n",
              "      <td>2237</td>\n",
              "    </tr>\n",
              "    <tr>\n",
              "      <th>...</th>\n",
              "      <td>...</td>\n",
              "      <td>...</td>\n",
              "    </tr>\n",
              "    <tr>\n",
              "      <th>85850</th>\n",
              "      <td>Comedy</td>\n",
              "      <td>398</td>\n",
              "    </tr>\n",
              "    <tr>\n",
              "      <th>85851</th>\n",
              "      <td>Comedy, Drama</td>\n",
              "      <td>724</td>\n",
              "    </tr>\n",
              "    <tr>\n",
              "      <th>85852</th>\n",
              "      <td>Drama</td>\n",
              "      <td>265</td>\n",
              "    </tr>\n",
              "    <tr>\n",
              "      <th>85853</th>\n",
              "      <td>Drama, Family</td>\n",
              "      <td>194</td>\n",
              "    </tr>\n",
              "    <tr>\n",
              "      <th>85854</th>\n",
              "      <td>Drama</td>\n",
              "      <td>102</td>\n",
              "    </tr>\n",
              "  </tbody>\n",
              "</table>\n",
              "<p>85855 rows × 2 columns</p>\n",
              "</div>"
            ],
            "text/plain": [
              "                           genre  votes\n",
              "0                        Romance    154\n",
              "1        Biography, Crime, Drama    589\n",
              "2                          Drama    188\n",
              "3                 Drama, History    446\n",
              "4      Adventure, Drama, Fantasy   2237\n",
              "...                          ...    ...\n",
              "85850                     Comedy    398\n",
              "85851              Comedy, Drama    724\n",
              "85852                      Drama    265\n",
              "85853              Drama, Family    194\n",
              "85854                      Drama    102\n",
              "\n",
              "[85855 rows x 2 columns]"
            ]
          },
          "metadata": {
            "tags": []
          },
          "execution_count": 30
        }
      ]
    },
    {
      "cell_type": "code",
      "metadata": {
        "colab": {
          "base_uri": "https://localhost:8080/",
          "height": 0
        },
        "id": "2KIjg7LacSPm",
        "outputId": "52120deb-820a-456b-81ce-693d00c4ea31"
      },
      "source": [
        "action = gv[gv['genre'].str.contains(\"Action\")]\n",
        "action.describe().apply(lambda s: s.apply('{0:.5f}'.format))"
      ],
      "execution_count": 31,
      "outputs": [
        {
          "output_type": "execute_result",
          "data": {
            "text/html": [
              "<div>\n",
              "<style scoped>\n",
              "    .dataframe tbody tr th:only-of-type {\n",
              "        vertical-align: middle;\n",
              "    }\n",
              "\n",
              "    .dataframe tbody tr th {\n",
              "        vertical-align: top;\n",
              "    }\n",
              "\n",
              "    .dataframe thead th {\n",
              "        text-align: right;\n",
              "    }\n",
              "</style>\n",
              "<table border=\"1\" class=\"dataframe\">\n",
              "  <thead>\n",
              "    <tr style=\"text-align: right;\">\n",
              "      <th></th>\n",
              "      <th>votes</th>\n",
              "    </tr>\n",
              "  </thead>\n",
              "  <tbody>\n",
              "    <tr>\n",
              "      <th>count</th>\n",
              "      <td>12948.00000</td>\n",
              "    </tr>\n",
              "    <tr>\n",
              "      <th>mean</th>\n",
              "      <td>20712.99985</td>\n",
              "    </tr>\n",
              "    <tr>\n",
              "      <th>std</th>\n",
              "      <td>87583.58916</td>\n",
              "    </tr>\n",
              "    <tr>\n",
              "      <th>min</th>\n",
              "      <td>100.00000</td>\n",
              "    </tr>\n",
              "    <tr>\n",
              "      <th>25%</th>\n",
              "      <td>251.00000</td>\n",
              "    </tr>\n",
              "    <tr>\n",
              "      <th>50%</th>\n",
              "      <td>734.00000</td>\n",
              "    </tr>\n",
              "    <tr>\n",
              "      <th>75%</th>\n",
              "      <td>3632.75000</td>\n",
              "    </tr>\n",
              "    <tr>\n",
              "      <th>max</th>\n",
              "      <td>2241615.00000</td>\n",
              "    </tr>\n",
              "  </tbody>\n",
              "</table>\n",
              "</div>"
            ],
            "text/plain": [
              "               votes\n",
              "count    12948.00000\n",
              "mean     20712.99985\n",
              "std      87583.58916\n",
              "min        100.00000\n",
              "25%        251.00000\n",
              "50%        734.00000\n",
              "75%       3632.75000\n",
              "max    2241615.00000"
            ]
          },
          "metadata": {
            "tags": []
          },
          "execution_count": 31
        }
      ]
    },
    {
      "cell_type": "code",
      "metadata": {
        "colab": {
          "base_uri": "https://localhost:8080/",
          "height": 0
        },
        "id": "f1b8ITsQcSPm",
        "outputId": "5f0a7b45-e02e-409e-bb5f-4ba35126f386"
      },
      "source": [
        "no_action = gv[~gv['genre'].str.contains(\"Action\")]\n",
        "no_action.describe().apply(lambda s: s.apply('{0:.5f}'.format))"
      ],
      "execution_count": 32,
      "outputs": [
        {
          "output_type": "execute_result",
          "data": {
            "text/html": [
              "<div>\n",
              "<style scoped>\n",
              "    .dataframe tbody tr th:only-of-type {\n",
              "        vertical-align: middle;\n",
              "    }\n",
              "\n",
              "    .dataframe tbody tr th {\n",
              "        vertical-align: top;\n",
              "    }\n",
              "\n",
              "    .dataframe thead th {\n",
              "        text-align: right;\n",
              "    }\n",
              "</style>\n",
              "<table border=\"1\" class=\"dataframe\">\n",
              "  <thead>\n",
              "    <tr style=\"text-align: right;\">\n",
              "      <th></th>\n",
              "      <th>votes</th>\n",
              "    </tr>\n",
              "  </thead>\n",
              "  <tbody>\n",
              "    <tr>\n",
              "      <th>count</th>\n",
              "      <td>72907.00000</td>\n",
              "    </tr>\n",
              "    <tr>\n",
              "      <th>mean</th>\n",
              "      <td>7500.94817</td>\n",
              "    </tr>\n",
              "    <tr>\n",
              "      <th>std</th>\n",
              "      <td>44625.09056</td>\n",
              "    </tr>\n",
              "    <tr>\n",
              "      <th>min</th>\n",
              "      <td>99.00000</td>\n",
              "    </tr>\n",
              "    <tr>\n",
              "      <th>25%</th>\n",
              "      <td>199.00000</td>\n",
              "    </tr>\n",
              "    <tr>\n",
              "      <th>50%</th>\n",
              "      <td>455.00000</td>\n",
              "    </tr>\n",
              "    <tr>\n",
              "      <th>75%</th>\n",
              "      <td>1578.50000</td>\n",
              "    </tr>\n",
              "    <tr>\n",
              "      <th>max</th>\n",
              "      <td>2278845.00000</td>\n",
              "    </tr>\n",
              "  </tbody>\n",
              "</table>\n",
              "</div>"
            ],
            "text/plain": [
              "               votes\n",
              "count    72907.00000\n",
              "mean      7500.94817\n",
              "std      44625.09056\n",
              "min         99.00000\n",
              "25%        199.00000\n",
              "50%        455.00000\n",
              "75%       1578.50000\n",
              "max    2278845.00000"
            ]
          },
          "metadata": {
            "tags": []
          },
          "execution_count": 32
        }
      ]
    },
    {
      "cell_type": "code",
      "metadata": {
        "colab": {
          "base_uri": "https://localhost:8080/",
          "height": 0
        },
        "id": "jp-dXILBcSPm",
        "outputId": "9a11e480-1c4e-4a5f-ac2a-1447062134c9"
      },
      "source": [
        "plt.hist(us['mean_vote'], alpha=0.3, edgecolor='k', label='USA')\n",
        "plt.hist(no_us['mean_vote'], alpha=0.3, edgecolor='k', label='No USA')\n",
        "plt.xlabel('Avaliação Média')\n",
        "plt.ylabel('# de votos')\n",
        "plt.legend()"
      ],
      "execution_count": 33,
      "outputs": [
        {
          "output_type": "execute_result",
          "data": {
            "text/plain": [
              "<matplotlib.legend.Legend at 0x7f2d5c65b8d0>"
            ]
          },
          "metadata": {
            "tags": []
          },
          "execution_count": 33
        },
        {
          "output_type": "display_data",
          "data": {
            "image/png": "[encoded data removed]",
            "text/plain": [
              "<Figure size 432x288 with 1 Axes>"
            ]
          },
          "metadata": {
            "tags": [],
            "needs_background": "light"
          }
        }
      ]
    },
    {
      "cell_type": "code",
      "metadata": {
        "colab": {
          "base_uri": "https://localhost:8080/",
          "height": 0
        },
        "id": "0G2cDPqWcSPn",
        "outputId": "3197df24-a9be-4e27-c37a-0a8822350e63"
      },
      "source": [
        "bins = np.logspace(np.log10(action['votes'].min()), np.log10(action['votes'].max()))\n",
        "plt.hist(action['votes'], bins=bins, alpha=0.3, edgecolor='k', label='Action')\n",
        "bins = np.logspace(np.log10(no_action['votes'].min()), np.log10(no_action['votes'].max()))\n",
        "plt.hist(no_action['votes'], bins=bins, alpha=0.3, edgecolor='k', label='No Action')\n",
        "ax = plt.gca()\n",
        "ax.set_yscale('log')\n",
        "ax.set_xscale('log')\n",
        "plt.xlabel('Popularidade dos filme')\n",
        "plt.ylabel('# de votos')\n",
        "plt.legend()"
      ],
      "execution_count": 34,
      "outputs": [
        {
          "output_type": "execute_result",
          "data": {
            "text/plain": [
              "<matplotlib.legend.Legend at 0x7f2d5cdaaf60>"
            ]
          },
          "metadata": {
            "tags": []
          },
          "execution_count": 34
        },
        {
          "output_type": "display_data",
          "data": {
            "image/png": "[encoded data removed]",
            "text/plain": [
              "<Figure size 432x288 with 1 Axes>"
            ]
          },
          "metadata": {
            "tags": [],
            "needs_background": "light"
          }
        }
      ]
    },
    {
      "cell_type": "markdown",
      "metadata": {
        "id": "-c5VwtvlcSPn"
      },
      "source": [
        "### Checando intervalos de confiança com Bootstrap"
      ]
    },
    {
      "cell_type": "code",
      "metadata": {
        "colab": {
          "base_uri": "https://localhost:8080/"
        },
        "id": "l-f_rnnIcSPn",
        "outputId": "604b4c11-64c7-4cf1-cbd1-199caeb5e333"
      },
      "source": [
        "ic_bootstrap(action, 'votes')"
      ],
      "execution_count": 35,
      "outputs": [
        {
          "output_type": "execute_result",
          "data": {
            "text/plain": [
              "(19206.33421184739, 22229.52269269385)"
            ]
          },
          "metadata": {
            "tags": []
          },
          "execution_count": 35
        }
      ]
    },
    {
      "cell_type": "code",
      "metadata": {
        "colab": {
          "base_uri": "https://localhost:8080/"
        },
        "id": "z7A_c7E3cSPo",
        "outputId": "29212c1c-f319-4653-ecf4-b3cded882040"
      },
      "source": [
        "ic_bootstrap(no_action, 'votes')"
      ],
      "execution_count": 36,
      "outputs": [
        {
          "output_type": "execute_result",
          "data": {
            "text/plain": [
              "(7174.536456033029, 7824.734102692471)"
            ]
          },
          "metadata": {
            "tags": []
          },
          "execution_count": 36
        }
      ]
    },
    {
      "cell_type": "code",
      "metadata": {
        "id": "P-CYqdxTcSPo"
      },
      "source": [
        "diff = bootstrap_diff(action, no_action, 'votes')"
      ],
      "execution_count": 37,
      "outputs": []
    },
    {
      "cell_type": "code",
      "metadata": {
        "colab": {
          "base_uri": "https://localhost:8080/",
          "height": 0
        },
        "id": "WBEl21IWcSPo",
        "outputId": "a2518a06-66ec-4055-8bcc-686e0e3886af"
      },
      "source": [
        "plt.hist(diff, edgecolor='k')\n",
        "plt.xlabel('Média Action - Média Geral')\n",
        "plt.ylabel('Freq')"
      ],
      "execution_count": 38,
      "outputs": [
        {
          "output_type": "execute_result",
          "data": {
            "text/plain": [
              "Text(0, 0.5, 'Freq')"
            ]
          },
          "metadata": {
            "tags": []
          },
          "execution_count": 38
        },
        {
          "output_type": "display_data",
          "data": {
            "image/png": "[encoded data removed]",
            "text/plain": [
              "<Figure size 432x288 with 1 Axes>"
            ]
          },
          "metadata": {
            "tags": [],
            "needs_background": "light"
          }
        }
      ]
    },
    {
      "cell_type": "markdown",
      "metadata": {
        "id": "LBk9xepMcSPp"
      },
      "source": [
        "O intervalo das médias não se cruzam, filmes de ação recebem em média milhares de votos a mais do que produções sem esse gênero, confirmamos a hipótese."
      ]
    },
    {
      "cell_type": "code",
      "metadata": {
        "id": "EoowSAdwcSPp"
      },
      "source": [
        ""
      ],
      "execution_count": 38,
      "outputs": []
    },
    {
      "cell_type": "markdown",
      "metadata": {
        "id": "tArqE1HDe4Em"
      },
      "source": [
        "### Checando intervalos de confiança com Bootstrap"
      ]
    },
    {
      "cell_type": "markdown",
      "metadata": {
        "id": "UDmf-tWeuomK"
      },
      "source": [
        "Podemos analisar desse dataset o que de fato uma nota diz sobre um filme, analisando quão rara é tal nota quando tiramos a média de notas da população. Por exemplo, a partir disso, podemos formular a seguinte hipótese: uma nota média 8 diz pouco sobre a qualidade de um filme, já que ela é bem comum na base de dados. Tentaremos a partir daqui buscar evidências em dados que confirmem ou descartem essa ideia.\r\n",
        "\r\n",
        "Uma maneira de testar essa hipótese é construir um intervalo de confiança utilizando a técnica de bootstrap, estratégia que será utilizada aqui."
      ]
    },
    {
      "cell_type": "markdown",
      "metadata": {
        "id": "RvUoOqIcJbo9"
      },
      "source": [
        "Aplicando o bootstrap na coluna com os dados desejados:"
      ]
    },
    {
      "cell_type": "code",
      "metadata": {
        "colab": {
          "base_uri": "https://localhost:8080/"
        },
        "id": "GFtdBXazBP6h",
        "outputId": "505f13a4-19dd-4732-a7f6-18f07f183887"
      },
      "source": [
        "result = bootstrap_mean(ratings,'mean_vote', 10000, 1000)\r\n",
        "result"
      ],
      "execution_count": 40,
      "outputs": [
        {
          "output_type": "execute_result",
          "data": {
            "text/plain": [
              "array([6.2646, 6.1947, 6.2131, ..., 6.1597, 6.2388, 6.2474])"
            ]
          },
          "metadata": {
            "tags": []
          },
          "execution_count": 40
        }
      ]
    },
    {
      "cell_type": "markdown",
      "metadata": {
        "id": "1_RTfzc5Jlkm"
      },
      "source": [
        "Plotando o resultado - Note como o resultado obtido se aproxima de uma distribuição normal:"
      ]
    },
    {
      "cell_type": "code",
      "metadata": {
        "colab": {
          "base_uri": "https://localhost:8080/",
          "height": 496
        },
        "id": "vHChfYuTBpq1",
        "outputId": "3398d412-c138-46b0-95d6-8fa7d128424e"
      },
      "source": [
        "plt.figure(figsize=(13,8))\r\n",
        "plt.hist(result, bins=40, edgecolor='k', density=True)\r\n",
        "res = stats.norm(loc=result.mean(), scale=result.std())\r\n",
        "res_np = np.linspace(res.ppf(0.001), res.ppf(0.999),10000)\r\n",
        "plt.plot(res_np, res.pdf(res_np))\r\n",
        "plt.xlabel('Média de avaliação')\r\n",
        "plt.ylabel('P[Média]')\r\n",
        "plt.show()"
      ],
      "execution_count": 41,
      "outputs": [
        {
          "output_type": "display_data",
          "data": {
            "image/png": "[encoded data removed]",
            "text/plain": [
              "<Figure size 936x576 with 1 Axes>"
            ]
          },
          "metadata": {
            "tags": [],
            "needs_background": "light"
          }
        }
      ]
    },
    {
      "cell_type": "markdown",
      "metadata": {
        "id": "MfQJF8z8Wbq3"
      },
      "source": [
        "A maior concentração de valores se encontra entre 6.15 e 6.30, como mostrado abaixo:"
      ]
    },
    {
      "cell_type": "code",
      "metadata": {
        "colab": {
          "base_uri": "https://localhost:8080/",
          "height": 496
        },
        "id": "BxvBpVrbLNg6",
        "outputId": "48a42caa-cab0-4ae8-fee1-342077a9a3bb"
      },
      "source": [
        "plt.figure(figsize=(13,8))\r\n",
        "plt.plot(res_np, res.pdf(res_np))\r\n",
        "filler = np.linspace(np.percentile(result, 2.5),np.percentile(result, 97.5))\r\n",
        "plt.fill_between(filler, res.pdf(filler), color='r', alpha=0.5)\r\n",
        "plt.xlabel('Média de avaliação')\r\n",
        "plt.ylabel('P(Média)')\r\n",
        "plt.show()"
      ],
      "execution_count": 42,
      "outputs": [
        {
          "output_type": "display_data",
          "data": {
            "image/png": "[encoded data removed]",
            "text/plain": [
              "<Figure size 936x576 with 1 Axes>"
            ]
          },
          "metadata": {
            "tags": [],
            "needs_background": "light"
          }
        }
      ]
    },
    {
      "cell_type": "markdown",
      "metadata": {
        "id": "bRvMUME4YRVW"
      },
      "source": [
        "Como o valor apresentado na hipótese, 8, encontra-se fora dessa área, temos que ele é um valor de rara ocorrência e portanto, a hipótese é rejeitada, uma vez que um filme não apresenta média igual a ele frequentemente."
      ]
    }
  ]
}