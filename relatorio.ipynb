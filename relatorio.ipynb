{
 "cells": [
  {
   "cell_type": "markdown",
   "metadata": {
    "id": "9a7oXLsnmiPy"
   },
   "source": [
    "# <div id=\"sumario\"><a href=\"#sumario\"><h1>1. Sumário</h1></a></div>"
   ]
  },
  {
   "cell_type": "markdown",
   "metadata": {
    "id": "f9nnnCfumiP8"
   },
   "source": [
    "1. <spam> <a href=\"#sumario\">Sumário</a></spam>\n",
    "2. <spam> <a href=\"#imports\">Imports</a></spam>\n",
    "3. <spam> <a href=\"#introducao\">Introdução</a></spam>\n",
    "4. <spam> <a href=\"#dataset\">Dataset</a></spam>\n",
    "5. <spam> <a href=\"#caracterizacao\">Caracterização</a></spam>\n",
    "    1. <spam> <a href=\"#testes\">Testes de Hipótese</a></spam>\n",
    "        1. <spam> <a href=\"#teste1\">Teste 1</a></spam>\n",
    "        2. <spam> <a href=\"#teste2\">Teste 2</a></spam>\n",
    "        3. <spam> <a href=\"#teste3\">Teste 3</a></spam>\n",
    "        4. <spam> <a href=\"#teste4\">Teste 4</a></spam>\n",
    "        5. <spam> <a href=\"#teste5\">Teste 5</a></spam>\n",
    "6. <spam> <a href=\"#regressoes\">Regressões</a></spam>\n",
    "    1. <spam> <a href=\"#regressao1\">Regressão 1</a></spam>\n",
    "    2. <spam> <a href=\"#regressao2\">Regressão 2</a></spam>\n",
    "7. <spam> <a href=\"#metodologia\">Metodologia</a></spam>\n",
    "8. <spam> <a href=\"#conclusao\">Conclusão</a></spam>\n",
    "9. <spam> <a href=\"#links\">Links</a></spam>"
   ]
  },
  {
   "cell_type": "markdown",
   "metadata": {
    "id": "nV7ti8HimiP9"
   },
   "source": [
    "# <div id=\"imports\"><a href=\"#sumario\"><h1>2. Imports</h1></a></div>"
   ]
  },
  {
   "cell_type": "code",
   "execution_count": 1,
   "metadata": {
    "executionInfo": {
     "elapsed": 2249,
     "status": "ok",
     "timestamp": 1616429579055,
     "user": {
      "displayName": "Lucas Augusto",
      "photoUrl": "https://lh3.googleusercontent.com/a-/AOh14GhKyK-ERGs5QO0SG3PBzrISYGaLYQokTYyFURVSwA=s64",
      "userId": "14088004947059534312"
     },
     "user_tz": 180
    },
    "id": "UGnzFQaCmiP-"
   },
   "outputs": [],
   "source": [
    "# -*- coding: utf8\n",
    "\n",
    "from IPython.display import HTML\n",
    "from scipy import stats as stats\n",
    "import numpy as np\n",
    "import matplotlib.pyplot as plt\n",
    "import pandas as pd\n",
    "\n",
    "plt.rcParams['figure.figsize']  = (18, 10)\n",
    "plt.rcParams['axes.labelsize']  = 20\n",
    "plt.rcParams['axes.titlesize']  = 20\n",
    "plt.rcParams['legend.fontsize'] = 20\n",
    "plt.rcParams['xtick.labelsize'] = 20\n",
    "plt.rcParams['ytick.labelsize'] = 20\n",
    "plt.rcParams['lines.linewidth'] = 4"
   ]
  },
  {
   "cell_type": "code",
   "execution_count": 2,
   "metadata": {
    "executionInfo": {
     "elapsed": 3496,
     "status": "ok",
     "timestamp": 1616429580310,
     "user": {
      "displayName": "Lucas Augusto",
      "photoUrl": "https://lh3.googleusercontent.com/a-/AOh14GhKyK-ERGs5QO0SG3PBzrISYGaLYQokTYyFURVSwA=s64",
      "userId": "14088004947059534312"
     },
     "user_tz": 180
    },
    "id": "nYRKSP_fmiP-"
   },
   "outputs": [],
   "source": [
    "plt.ion()\n",
    "\n",
    "plt.style.use('seaborn-colorblind')\n",
    "plt.rcParams['figure.figsize']  = (12, 8)"
   ]
  },
  {
   "cell_type": "code",
   "execution_count": 3,
   "metadata": {
    "executionInfo": {
     "elapsed": 3494,
     "status": "ok",
     "timestamp": 1616429580311,
     "user": {
      "displayName": "Lucas Augusto",
      "photoUrl": "https://lh3.googleusercontent.com/a-/AOh14GhKyK-ERGs5QO0SG3PBzrISYGaLYQokTYyFURVSwA=s64",
      "userId": "14088004947059534312"
     },
     "user_tz": 180
    },
    "id": "QUbyFQP2miP_"
   },
   "outputs": [],
   "source": [
    "def despine(ax=None):\n",
    "    if ax is None:\n",
    "        ax = plt.gca()\n",
    "    # Hide the right and top spines\n",
    "    ax.spines['right'].set_visible(False)\n",
    "    ax.spines['top'].set_visible(False)\n",
    "\n",
    "    # Only show ticks on the left and bottom spines\n",
    "    ax.yaxis.set_ticks_position('left')\n",
    "    ax.xaxis.set_ticks_position('bottom')"
   ]
  },
  {
   "cell_type": "markdown",
   "metadata": {
    "id": "oFhSgMXKmiP_"
   },
   "source": [
    "# <div id=\"introducao\"><a href=\"#sumario\"><h1>3. Introdução</h1></a></div>"
   ]
  },
  {
   "cell_type": "markdown",
   "metadata": {
    "id": "OaovJxkRmiQA"
   },
   "source": [
    "Ao longo do texto faremos uma análise de dados retirados do website IMDb<a href=\"#imdb\">$^1$</a>, contendo majoritariamente informações sobre filmes e usuários da plataforma. Atualmente o IMDb é um serviço com uma série de utilidades, mas para o nosso propósito basta conhecer uma de suas principais finalidades: ele mantém um banco de dados constantemente atualizado com informações disponíveis sobre filmes, além disso, permite que usuários da plataforma interajam com essas informações. \n",
    "Dentre os dados disponíveis podemos encontrar o título, duração, gênero, orçamento, etc. de várias produções, informações sobre o elenco destes filmes também estão presentes. Usuários podem fazer análises, votar, avaliar e adicionar filmes em uma lista pessoal dentro da plataforma, essas informações, assim como dados de aspecto demográfico disponibilizados pelos usuários, também podem ser visualizados no IMDb.\n",
    "Em dezembro de 2020, o IMDb possuía 560,232 filmes no catálogo<a href=\"#stats\">$^2$</a>. O dataset utilizado possui todos os filmes que haviam mais de cem votos até 01/01/2020, os dados estão separados em quatro arquivos da seguinte maneira:\n",
    "\n",
    "* IMDb_movies.csv inclui 85,855 filmes\n",
    "* IMDb_ratings.csv inclui avaliações dos usuários para os filmes no dataset\n",
    "* IMDb_names.csv inclui informações sobre o elenco dos filmes no dataset\n",
    "* IMDb_title_principals.csv inclui 835,513 papéis desempenhados dentro dos filmes no dataset \n",
    "\n",
    "Mais informações sobre o dataset podem ser encontradas em sua página no Kaggle<a href=\"#kaggle\">$^3$</a>.\n",
    "\n",
    "---\n",
    "\n",
    "Antes de iniciarmos qualquer análise tentaremos definir o significado dos nossos dados. Temos uma amostra de aproximadamente 85,000 títulos retirados da população de filmes do IMDb, que é por sua vez uma amostra da população de todos os filmes lançados. Temos também uma amostra dos usuários da plataforma, que são também uma amostra da população de todas as pessoas que assistem filmes. Vale notar que seja qual for a população que queremos estudar a nossa amostra não possui aleatoriedade na escolha dos dados, os usuários de um serviço de catálogo e recomendação de conteúdo como o IMDb podem, por exemplo, representar um grupo de fãs do cinema, não representando bem as pessoas que assistem filmes em geral. Além disso, como descrito anteriormente, a amostra inclui filmes com mais de 100 votos dentro da plataforma, ou seja, o grupo de filmes mais populares entre os usuários do site. Dito isto, iremos tratar os dados como uma amostra do catálogo e usuários do IMDb.\n",
    "\n",
    "As partes mais relevantes do conjunto de dados para a análise que faremos em seguida são as que relacionam os filmes com os usuários, em especial a nota média será uma métrica importante para tentar responder a questão: **As características do público e do próprio filme influenciam sua avaliação e popularidade?** \n",
    "\n",
    "---\n",
    "\n",
    "1. <span id=\"imdb\">https://www.imdb.com/</span>\n",
    "2. <span id=\"stats\">https://www.imdb.com/pressroom/stats/</span>\n",
    "3. <span id=\"kaggle\">https://www.kaggle.com/stefanoleone992/imdb-extensive-dataset?select=IMDb+ratings.csv</span>\n"
   ]
  },
  {
   "cell_type": "markdown",
   "metadata": {
    "id": "xLoxZOkMmiQA"
   },
   "source": [
    "# <div id=\"dataset\"><a href=\"#sumario\"><h1>4. Dataset</h1></a></div>"
   ]
  },
  {
   "cell_type": "code",
   "execution_count": 4,
   "metadata": {
    "colab": {
     "base_uri": "https://localhost:8080/",
     "height": 650
    },
    "executionInfo": {
     "elapsed": 5637,
     "status": "ok",
     "timestamp": 1616429582466,
     "user": {
      "displayName": "Lucas Augusto",
      "photoUrl": "https://lh3.googleusercontent.com/a-/AOh14GhKyK-ERGs5QO0SG3PBzrISYGaLYQokTYyFURVSwA=s64",
      "userId": "14088004947059534312"
     },
     "user_tz": 180
    },
    "id": "1ITVK4a8miQB",
    "outputId": "a9551e77-cc8c-45ff-f493-eca996e85175"
   },
   "outputs": [
    {
     "name": "stderr",
     "output_type": "stream",
     "text": [
      "/usr/local/lib/python3.7/dist-packages/IPython/core/interactiveshell.py:2718: DtypeWarning: Columns (3) have mixed types.Specify dtype option on import or set low_memory=False.\n",
      "  interactivity=interactivity, compiler=compiler, result=result)\n"
     ]
    },
    {
     "data": {
      "text/html": [
       "<div>\n",
       "<style scoped>\n",
       "    .dataframe tbody tr th:only-of-type {\n",
       "        vertical-align: middle;\n",
       "    }\n",
       "\n",
       "    .dataframe tbody tr th {\n",
       "        vertical-align: top;\n",
       "    }\n",
       "\n",
       "    .dataframe thead th {\n",
       "        text-align: right;\n",
       "    }\n",
       "</style>\n",
       "<table border=\"1\" class=\"dataframe\">\n",
       "  <thead>\n",
       "    <tr style=\"text-align: right;\">\n",
       "      <th></th>\n",
       "      <th>imdb_title_id</th>\n",
       "      <th>title</th>\n",
       "      <th>original_title</th>\n",
       "      <th>year</th>\n",
       "      <th>date_published</th>\n",
       "      <th>genre</th>\n",
       "      <th>duration</th>\n",
       "      <th>country</th>\n",
       "      <th>language</th>\n",
       "      <th>director</th>\n",
       "      <th>writer</th>\n",
       "      <th>production_company</th>\n",
       "      <th>actors</th>\n",
       "      <th>description</th>\n",
       "      <th>avg_vote</th>\n",
       "      <th>votes</th>\n",
       "      <th>budget</th>\n",
       "      <th>usa_gross_income</th>\n",
       "      <th>worlwide_gross_income</th>\n",
       "      <th>metascore</th>\n",
       "      <th>reviews_from_users</th>\n",
       "      <th>reviews_from_critics</th>\n",
       "    </tr>\n",
       "  </thead>\n",
       "  <tbody>\n",
       "    <tr>\n",
       "      <th>0</th>\n",
       "      <td>tt0000009</td>\n",
       "      <td>Miss Jerry</td>\n",
       "      <td>Miss Jerry</td>\n",
       "      <td>1894</td>\n",
       "      <td>1894-10-09</td>\n",
       "      <td>Romance</td>\n",
       "      <td>45</td>\n",
       "      <td>USA</td>\n",
       "      <td>None</td>\n",
       "      <td>Alexander Black</td>\n",
       "      <td>Alexander Black</td>\n",
       "      <td>Alexander Black Photoplays</td>\n",
       "      <td>Blanche Bayliss, William Courtenay, Chauncey D...</td>\n",
       "      <td>The adventures of a female reporter in the 1890s.</td>\n",
       "      <td>5.9</td>\n",
       "      <td>154</td>\n",
       "      <td>NaN</td>\n",
       "      <td>NaN</td>\n",
       "      <td>NaN</td>\n",
       "      <td>NaN</td>\n",
       "      <td>1.0</td>\n",
       "      <td>2.0</td>\n",
       "    </tr>\n",
       "    <tr>\n",
       "      <th>1</th>\n",
       "      <td>tt0000574</td>\n",
       "      <td>The Story of the Kelly Gang</td>\n",
       "      <td>The Story of the Kelly Gang</td>\n",
       "      <td>1906</td>\n",
       "      <td>1906-12-26</td>\n",
       "      <td>Biography, Crime, Drama</td>\n",
       "      <td>70</td>\n",
       "      <td>Australia</td>\n",
       "      <td>None</td>\n",
       "      <td>Charles Tait</td>\n",
       "      <td>Charles Tait</td>\n",
       "      <td>J. and N. Tait</td>\n",
       "      <td>Elizabeth Tait, John Tait, Norman Campbell, Be...</td>\n",
       "      <td>True story of notorious Australian outlaw Ned ...</td>\n",
       "      <td>6.1</td>\n",
       "      <td>589</td>\n",
       "      <td>$ 2250</td>\n",
       "      <td>NaN</td>\n",
       "      <td>NaN</td>\n",
       "      <td>NaN</td>\n",
       "      <td>7.0</td>\n",
       "      <td>7.0</td>\n",
       "    </tr>\n",
       "    <tr>\n",
       "      <th>2</th>\n",
       "      <td>tt0001892</td>\n",
       "      <td>Den sorte drøm</td>\n",
       "      <td>Den sorte drøm</td>\n",
       "      <td>1911</td>\n",
       "      <td>1911-08-19</td>\n",
       "      <td>Drama</td>\n",
       "      <td>53</td>\n",
       "      <td>Germany, Denmark</td>\n",
       "      <td>NaN</td>\n",
       "      <td>Urban Gad</td>\n",
       "      <td>Urban Gad, Gebhard Schätzler-Perasini</td>\n",
       "      <td>Fotorama</td>\n",
       "      <td>Asta Nielsen, Valdemar Psilander, Gunnar Helse...</td>\n",
       "      <td>Two men of high rank are both wooing the beaut...</td>\n",
       "      <td>5.8</td>\n",
       "      <td>188</td>\n",
       "      <td>NaN</td>\n",
       "      <td>NaN</td>\n",
       "      <td>NaN</td>\n",
       "      <td>NaN</td>\n",
       "      <td>5.0</td>\n",
       "      <td>2.0</td>\n",
       "    </tr>\n",
       "    <tr>\n",
       "      <th>3</th>\n",
       "      <td>tt0002101</td>\n",
       "      <td>Cleopatra</td>\n",
       "      <td>Cleopatra</td>\n",
       "      <td>1912</td>\n",
       "      <td>1912-11-13</td>\n",
       "      <td>Drama, History</td>\n",
       "      <td>100</td>\n",
       "      <td>USA</td>\n",
       "      <td>English</td>\n",
       "      <td>Charles L. Gaskill</td>\n",
       "      <td>Victorien Sardou</td>\n",
       "      <td>Helen Gardner Picture Players</td>\n",
       "      <td>Helen Gardner, Pearl Sindelar, Miss Fielding, ...</td>\n",
       "      <td>The fabled queen of Egypt's affair with Roman ...</td>\n",
       "      <td>5.2</td>\n",
       "      <td>446</td>\n",
       "      <td>$ 45000</td>\n",
       "      <td>NaN</td>\n",
       "      <td>NaN</td>\n",
       "      <td>NaN</td>\n",
       "      <td>25.0</td>\n",
       "      <td>3.0</td>\n",
       "    </tr>\n",
       "    <tr>\n",
       "      <th>4</th>\n",
       "      <td>tt0002130</td>\n",
       "      <td>L'Inferno</td>\n",
       "      <td>L'Inferno</td>\n",
       "      <td>1911</td>\n",
       "      <td>1911-03-06</td>\n",
       "      <td>Adventure, Drama, Fantasy</td>\n",
       "      <td>68</td>\n",
       "      <td>Italy</td>\n",
       "      <td>Italian</td>\n",
       "      <td>Francesco Bertolini, Adolfo Padovan</td>\n",
       "      <td>Dante Alighieri</td>\n",
       "      <td>Milano Film</td>\n",
       "      <td>Salvatore Papa, Arturo Pirovano, Giuseppe de L...</td>\n",
       "      <td>Loosely adapted from Dante's Divine Comedy and...</td>\n",
       "      <td>7.0</td>\n",
       "      <td>2237</td>\n",
       "      <td>NaN</td>\n",
       "      <td>NaN</td>\n",
       "      <td>NaN</td>\n",
       "      <td>NaN</td>\n",
       "      <td>31.0</td>\n",
       "      <td>14.0</td>\n",
       "    </tr>\n",
       "  </tbody>\n",
       "</table>\n",
       "</div>"
      ],
      "text/plain": [
       "  imdb_title_id  ... reviews_from_critics\n",
       "0     tt0000009  ...                  2.0\n",
       "1     tt0000574  ...                  7.0\n",
       "2     tt0001892  ...                  2.0\n",
       "3     tt0002101  ...                  3.0\n",
       "4     tt0002130  ...                 14.0\n",
       "\n",
       "[5 rows x 22 columns]"
      ]
     },
     "execution_count": 4,
     "metadata": {
      "tags": []
     },
     "output_type": "execute_result"
    }
   ],
   "source": [
    "# movies = pd.read_csv('datasets/IMDb_movies.csv')\n",
    "movies = pd.read_csv('https://media.githubusercontent.com/media/joaopmo/TP_ICD/main/datasets/IMDb_movies.csv')\n",
    "movies.head()"
   ]
  },
  {
   "cell_type": "code",
   "execution_count": 5,
   "metadata": {
    "colab": {
     "base_uri": "https://localhost:8080/",
     "height": 633
    },
    "executionInfo": {
     "elapsed": 11547,
     "status": "ok",
     "timestamp": 1616429588394,
     "user": {
      "displayName": "Lucas Augusto",
      "photoUrl": "https://lh3.googleusercontent.com/a-/AOh14GhKyK-ERGs5QO0SG3PBzrISYGaLYQokTYyFURVSwA=s64",
      "userId": "14088004947059534312"
     },
     "user_tz": 180
    },
    "id": "EzbcVypTmiQC",
    "outputId": "36607a1a-a3e7-4240-ffc3-43b46f7458a0"
   },
   "outputs": [
    {
     "data": {
      "text/html": [
       "<div>\n",
       "<style scoped>\n",
       "    .dataframe tbody tr th:only-of-type {\n",
       "        vertical-align: middle;\n",
       "    }\n",
       "\n",
       "    .dataframe tbody tr th {\n",
       "        vertical-align: top;\n",
       "    }\n",
       "\n",
       "    .dataframe thead th {\n",
       "        text-align: right;\n",
       "    }\n",
       "</style>\n",
       "<table border=\"1\" class=\"dataframe\">\n",
       "  <thead>\n",
       "    <tr style=\"text-align: right;\">\n",
       "      <th></th>\n",
       "      <th>imdb_name_id</th>\n",
       "      <th>name</th>\n",
       "      <th>birth_name</th>\n",
       "      <th>height</th>\n",
       "      <th>bio</th>\n",
       "      <th>birth_details</th>\n",
       "      <th>date_of_birth</th>\n",
       "      <th>place_of_birth</th>\n",
       "      <th>death_details</th>\n",
       "      <th>date_of_death</th>\n",
       "      <th>place_of_death</th>\n",
       "      <th>reason_of_death</th>\n",
       "      <th>spouses_string</th>\n",
       "      <th>spouses</th>\n",
       "      <th>divorces</th>\n",
       "      <th>spouses_with_children</th>\n",
       "      <th>children</th>\n",
       "    </tr>\n",
       "  </thead>\n",
       "  <tbody>\n",
       "    <tr>\n",
       "      <th>0</th>\n",
       "      <td>nm0000001</td>\n",
       "      <td>Fred Astaire</td>\n",
       "      <td>Frederic Austerlitz Jr.</td>\n",
       "      <td>177.0</td>\n",
       "      <td>Fred Astaire was born in Omaha, Nebraska, to J...</td>\n",
       "      <td>May 10, 1899 in Omaha, Nebraska, USA</td>\n",
       "      <td>1899-05-10</td>\n",
       "      <td>Omaha, Nebraska, USA</td>\n",
       "      <td>June 22, 1987 in Los Angeles, California, USA ...</td>\n",
       "      <td>1987-06-22</td>\n",
       "      <td>Los Angeles, California, USA</td>\n",
       "      <td>pneumonia</td>\n",
       "      <td>Robyn Smith  (27 June 1980 - 22 June 1987) (hi...</td>\n",
       "      <td>2</td>\n",
       "      <td>0</td>\n",
       "      <td>1</td>\n",
       "      <td>2</td>\n",
       "    </tr>\n",
       "    <tr>\n",
       "      <th>1</th>\n",
       "      <td>nm0000002</td>\n",
       "      <td>Lauren Bacall</td>\n",
       "      <td>Betty Joan Perske</td>\n",
       "      <td>174.0</td>\n",
       "      <td>Lauren Bacall was born Betty Joan Perske on Se...</td>\n",
       "      <td>September 16, 1924 in The Bronx, New York City...</td>\n",
       "      <td>1924-09-16</td>\n",
       "      <td>The Bronx, New York City, New York, USA</td>\n",
       "      <td>August 12, 2014 in New York City, New York, US...</td>\n",
       "      <td>2014-08-12</td>\n",
       "      <td>New York City, New York, USA</td>\n",
       "      <td>stroke</td>\n",
       "      <td>Jason Robards  (4 July 1961 - 10 September 196...</td>\n",
       "      <td>2</td>\n",
       "      <td>1</td>\n",
       "      <td>2</td>\n",
       "      <td>3</td>\n",
       "    </tr>\n",
       "    <tr>\n",
       "      <th>2</th>\n",
       "      <td>nm0000003</td>\n",
       "      <td>Brigitte Bardot</td>\n",
       "      <td>Brigitte Bardot</td>\n",
       "      <td>166.0</td>\n",
       "      <td>Brigitte Bardot was born on September 28, 1934...</td>\n",
       "      <td>September 28, 1934 in Paris, France</td>\n",
       "      <td>1934-09-28</td>\n",
       "      <td>Paris, France</td>\n",
       "      <td>NaN</td>\n",
       "      <td>NaN</td>\n",
       "      <td>NaN</td>\n",
       "      <td>NaN</td>\n",
       "      <td>Bernard d'Ormale  (16 August 1992 - present)\\n...</td>\n",
       "      <td>4</td>\n",
       "      <td>3</td>\n",
       "      <td>1</td>\n",
       "      <td>1</td>\n",
       "    </tr>\n",
       "    <tr>\n",
       "      <th>3</th>\n",
       "      <td>nm0000004</td>\n",
       "      <td>John Belushi</td>\n",
       "      <td>John Adam Belushi</td>\n",
       "      <td>170.0</td>\n",
       "      <td>John Belushi was born in Chicago, Illinois, US...</td>\n",
       "      <td>January 24, 1949 in Chicago, Illinois, USA</td>\n",
       "      <td>1949-01-24</td>\n",
       "      <td>Chicago, Illinois, USA</td>\n",
       "      <td>March 5, 1982 in Hollywood, Los Angeles, Calif...</td>\n",
       "      <td>1982-03-05</td>\n",
       "      <td>Hollywood, Los Angeles, California, USA</td>\n",
       "      <td>acute cocaine and heroin intoxication</td>\n",
       "      <td>Judith Belushi-Pisano  (31 December 1976 - 5 M...</td>\n",
       "      <td>1</td>\n",
       "      <td>0</td>\n",
       "      <td>0</td>\n",
       "      <td>0</td>\n",
       "    </tr>\n",
       "    <tr>\n",
       "      <th>4</th>\n",
       "      <td>nm0000005</td>\n",
       "      <td>Ingmar Bergman</td>\n",
       "      <td>Ernst Ingmar Bergman</td>\n",
       "      <td>179.0</td>\n",
       "      <td>Ernst Ingmar Bergman was born July 14, 1918, t...</td>\n",
       "      <td>July 14, 1918 in Uppsala, Uppsala län, Sweden</td>\n",
       "      <td>1918-07-14</td>\n",
       "      <td>Uppsala, Uppsala län, Sweden</td>\n",
       "      <td>July 30, 2007 in Fårö, Gotlands län, Sweden  (...</td>\n",
       "      <td>2007-07-30</td>\n",
       "      <td>Fårö, Gotlands län, Sweden</td>\n",
       "      <td>natural causes</td>\n",
       "      <td>Ingrid Bergman  (11 November 1971 - 20 May 199...</td>\n",
       "      <td>5</td>\n",
       "      <td>4</td>\n",
       "      <td>5</td>\n",
       "      <td>8</td>\n",
       "    </tr>\n",
       "  </tbody>\n",
       "</table>\n",
       "</div>"
      ],
      "text/plain": [
       "  imdb_name_id             name  ... spouses_with_children  children\n",
       "0    nm0000001     Fred Astaire  ...                     1         2\n",
       "1    nm0000002    Lauren Bacall  ...                     2         3\n",
       "2    nm0000003  Brigitte Bardot  ...                     1         1\n",
       "3    nm0000004     John Belushi  ...                     0         0\n",
       "4    nm0000005   Ingmar Bergman  ...                     5         8\n",
       "\n",
       "[5 rows x 17 columns]"
      ]
     },
     "execution_count": 5,
     "metadata": {
      "tags": []
     },
     "output_type": "execute_result"
    }
   ],
   "source": [
    "# names = pd.read_csv('datasets/IMDb_names.csv')\n",
    "names = pd.read_csv('https://media.githubusercontent.com/media/joaopmo/TP_ICD/main/datasets/IMDb_names.csv')\n",
    "names.head()"
   ]
  },
  {
   "cell_type": "code",
   "execution_count": 6,
   "metadata": {
    "colab": {
     "base_uri": "https://localhost:8080/",
     "height": 211
    },
    "executionInfo": {
     "elapsed": 12458,
     "status": "ok",
     "timestamp": 1616429589321,
     "user": {
      "displayName": "Lucas Augusto",
      "photoUrl": "https://lh3.googleusercontent.com/a-/AOh14GhKyK-ERGs5QO0SG3PBzrISYGaLYQokTYyFURVSwA=s64",
      "userId": "14088004947059534312"
     },
     "user_tz": 180
    },
    "id": "eThKF3AwmiQD",
    "outputId": "df4b9b18-00f4-4716-baf1-670a9cbcf66e"
   },
   "outputs": [
    {
     "data": {
      "text/html": [
       "<div>\n",
       "<style scoped>\n",
       "    .dataframe tbody tr th:only-of-type {\n",
       "        vertical-align: middle;\n",
       "    }\n",
       "\n",
       "    .dataframe tbody tr th {\n",
       "        vertical-align: top;\n",
       "    }\n",
       "\n",
       "    .dataframe thead th {\n",
       "        text-align: right;\n",
       "    }\n",
       "</style>\n",
       "<table border=\"1\" class=\"dataframe\">\n",
       "  <thead>\n",
       "    <tr style=\"text-align: right;\">\n",
       "      <th></th>\n",
       "      <th>imdb_title_id</th>\n",
       "      <th>weighted_average_vote</th>\n",
       "      <th>total_votes</th>\n",
       "      <th>mean_vote</th>\n",
       "      <th>median_vote</th>\n",
       "      <th>votes_10</th>\n",
       "      <th>votes_9</th>\n",
       "      <th>votes_8</th>\n",
       "      <th>votes_7</th>\n",
       "      <th>votes_6</th>\n",
       "      <th>votes_5</th>\n",
       "      <th>votes_4</th>\n",
       "      <th>votes_3</th>\n",
       "      <th>votes_2</th>\n",
       "      <th>votes_1</th>\n",
       "      <th>allgenders_0age_avg_vote</th>\n",
       "      <th>allgenders_0age_votes</th>\n",
       "      <th>allgenders_18age_avg_vote</th>\n",
       "      <th>allgenders_18age_votes</th>\n",
       "      <th>allgenders_30age_avg_vote</th>\n",
       "      <th>allgenders_30age_votes</th>\n",
       "      <th>allgenders_45age_avg_vote</th>\n",
       "      <th>allgenders_45age_votes</th>\n",
       "      <th>males_allages_avg_vote</th>\n",
       "      <th>males_allages_votes</th>\n",
       "      <th>males_0age_avg_vote</th>\n",
       "      <th>males_0age_votes</th>\n",
       "      <th>males_18age_avg_vote</th>\n",
       "      <th>males_18age_votes</th>\n",
       "      <th>males_30age_avg_vote</th>\n",
       "      <th>males_30age_votes</th>\n",
       "      <th>males_45age_avg_vote</th>\n",
       "      <th>males_45age_votes</th>\n",
       "      <th>females_allages_avg_vote</th>\n",
       "      <th>females_allages_votes</th>\n",
       "      <th>females_0age_avg_vote</th>\n",
       "      <th>females_0age_votes</th>\n",
       "      <th>females_18age_avg_vote</th>\n",
       "      <th>females_18age_votes</th>\n",
       "      <th>females_30age_avg_vote</th>\n",
       "      <th>females_30age_votes</th>\n",
       "      <th>females_45age_avg_vote</th>\n",
       "      <th>females_45age_votes</th>\n",
       "      <th>top1000_voters_rating</th>\n",
       "      <th>top1000_voters_votes</th>\n",
       "      <th>us_voters_rating</th>\n",
       "      <th>us_voters_votes</th>\n",
       "      <th>non_us_voters_rating</th>\n",
       "      <th>non_us_voters_votes</th>\n",
       "    </tr>\n",
       "  </thead>\n",
       "  <tbody>\n",
       "    <tr>\n",
       "      <th>0</th>\n",
       "      <td>tt0000009</td>\n",
       "      <td>5.9</td>\n",
       "      <td>154</td>\n",
       "      <td>5.9</td>\n",
       "      <td>6.0</td>\n",
       "      <td>12</td>\n",
       "      <td>4</td>\n",
       "      <td>10</td>\n",
       "      <td>43</td>\n",
       "      <td>28</td>\n",
       "      <td>28</td>\n",
       "      <td>9</td>\n",
       "      <td>1</td>\n",
       "      <td>5</td>\n",
       "      <td>14</td>\n",
       "      <td>7.2</td>\n",
       "      <td>4.0</td>\n",
       "      <td>6.0</td>\n",
       "      <td>38.0</td>\n",
       "      <td>5.7</td>\n",
       "      <td>50.0</td>\n",
       "      <td>6.6</td>\n",
       "      <td>35.0</td>\n",
       "      <td>6.2</td>\n",
       "      <td>97.0</td>\n",
       "      <td>7.0</td>\n",
       "      <td>1.0</td>\n",
       "      <td>5.9</td>\n",
       "      <td>24.0</td>\n",
       "      <td>5.6</td>\n",
       "      <td>36.0</td>\n",
       "      <td>6.7</td>\n",
       "      <td>31.0</td>\n",
       "      <td>6.0</td>\n",
       "      <td>35.0</td>\n",
       "      <td>7.3</td>\n",
       "      <td>3.0</td>\n",
       "      <td>5.9</td>\n",
       "      <td>14.0</td>\n",
       "      <td>5.7</td>\n",
       "      <td>13.0</td>\n",
       "      <td>4.5</td>\n",
       "      <td>4.0</td>\n",
       "      <td>5.7</td>\n",
       "      <td>34.0</td>\n",
       "      <td>6.4</td>\n",
       "      <td>51.0</td>\n",
       "      <td>6.0</td>\n",
       "      <td>70.0</td>\n",
       "    </tr>\n",
       "    <tr>\n",
       "      <th>1</th>\n",
       "      <td>tt0000574</td>\n",
       "      <td>6.1</td>\n",
       "      <td>589</td>\n",
       "      <td>6.3</td>\n",
       "      <td>6.0</td>\n",
       "      <td>57</td>\n",
       "      <td>18</td>\n",
       "      <td>58</td>\n",
       "      <td>137</td>\n",
       "      <td>139</td>\n",
       "      <td>103</td>\n",
       "      <td>28</td>\n",
       "      <td>20</td>\n",
       "      <td>13</td>\n",
       "      <td>16</td>\n",
       "      <td>6.0</td>\n",
       "      <td>1.0</td>\n",
       "      <td>6.1</td>\n",
       "      <td>114.0</td>\n",
       "      <td>6.0</td>\n",
       "      <td>239.0</td>\n",
       "      <td>6.3</td>\n",
       "      <td>115.0</td>\n",
       "      <td>6.1</td>\n",
       "      <td>425.0</td>\n",
       "      <td>6.0</td>\n",
       "      <td>1.0</td>\n",
       "      <td>6.2</td>\n",
       "      <td>102.0</td>\n",
       "      <td>6.0</td>\n",
       "      <td>210.0</td>\n",
       "      <td>6.2</td>\n",
       "      <td>100.0</td>\n",
       "      <td>6.2</td>\n",
       "      <td>50.0</td>\n",
       "      <td>NaN</td>\n",
       "      <td>NaN</td>\n",
       "      <td>5.9</td>\n",
       "      <td>12.0</td>\n",
       "      <td>6.2</td>\n",
       "      <td>23.0</td>\n",
       "      <td>6.6</td>\n",
       "      <td>14.0</td>\n",
       "      <td>6.4</td>\n",
       "      <td>66.0</td>\n",
       "      <td>6.0</td>\n",
       "      <td>96.0</td>\n",
       "      <td>6.2</td>\n",
       "      <td>331.0</td>\n",
       "    </tr>\n",
       "    <tr>\n",
       "      <th>2</th>\n",
       "      <td>tt0001892</td>\n",
       "      <td>5.8</td>\n",
       "      <td>188</td>\n",
       "      <td>6.0</td>\n",
       "      <td>6.0</td>\n",
       "      <td>6</td>\n",
       "      <td>6</td>\n",
       "      <td>17</td>\n",
       "      <td>44</td>\n",
       "      <td>52</td>\n",
       "      <td>32</td>\n",
       "      <td>16</td>\n",
       "      <td>5</td>\n",
       "      <td>6</td>\n",
       "      <td>4</td>\n",
       "      <td>NaN</td>\n",
       "      <td>NaN</td>\n",
       "      <td>5.5</td>\n",
       "      <td>25.0</td>\n",
       "      <td>5.8</td>\n",
       "      <td>72.0</td>\n",
       "      <td>6.2</td>\n",
       "      <td>62.0</td>\n",
       "      <td>5.9</td>\n",
       "      <td>146.0</td>\n",
       "      <td>NaN</td>\n",
       "      <td>NaN</td>\n",
       "      <td>5.5</td>\n",
       "      <td>21.0</td>\n",
       "      <td>5.9</td>\n",
       "      <td>67.0</td>\n",
       "      <td>6.2</td>\n",
       "      <td>55.0</td>\n",
       "      <td>5.7</td>\n",
       "      <td>15.0</td>\n",
       "      <td>NaN</td>\n",
       "      <td>NaN</td>\n",
       "      <td>5.8</td>\n",
       "      <td>4.0</td>\n",
       "      <td>5.8</td>\n",
       "      <td>4.0</td>\n",
       "      <td>6.8</td>\n",
       "      <td>7.0</td>\n",
       "      <td>5.4</td>\n",
       "      <td>32.0</td>\n",
       "      <td>6.2</td>\n",
       "      <td>31.0</td>\n",
       "      <td>5.9</td>\n",
       "      <td>123.0</td>\n",
       "    </tr>\n",
       "    <tr>\n",
       "      <th>3</th>\n",
       "      <td>tt0002101</td>\n",
       "      <td>5.2</td>\n",
       "      <td>446</td>\n",
       "      <td>5.3</td>\n",
       "      <td>5.0</td>\n",
       "      <td>15</td>\n",
       "      <td>8</td>\n",
       "      <td>16</td>\n",
       "      <td>62</td>\n",
       "      <td>98</td>\n",
       "      <td>117</td>\n",
       "      <td>63</td>\n",
       "      <td>26</td>\n",
       "      <td>25</td>\n",
       "      <td>16</td>\n",
       "      <td>NaN</td>\n",
       "      <td>NaN</td>\n",
       "      <td>5.3</td>\n",
       "      <td>23.0</td>\n",
       "      <td>5.0</td>\n",
       "      <td>111.0</td>\n",
       "      <td>5.3</td>\n",
       "      <td>193.0</td>\n",
       "      <td>5.1</td>\n",
       "      <td>299.0</td>\n",
       "      <td>NaN</td>\n",
       "      <td>NaN</td>\n",
       "      <td>5.2</td>\n",
       "      <td>20.0</td>\n",
       "      <td>4.9</td>\n",
       "      <td>96.0</td>\n",
       "      <td>5.2</td>\n",
       "      <td>171.0</td>\n",
       "      <td>5.9</td>\n",
       "      <td>39.0</td>\n",
       "      <td>NaN</td>\n",
       "      <td>NaN</td>\n",
       "      <td>5.7</td>\n",
       "      <td>3.0</td>\n",
       "      <td>5.5</td>\n",
       "      <td>14.0</td>\n",
       "      <td>6.1</td>\n",
       "      <td>21.0</td>\n",
       "      <td>4.9</td>\n",
       "      <td>57.0</td>\n",
       "      <td>5.5</td>\n",
       "      <td>207.0</td>\n",
       "      <td>4.7</td>\n",
       "      <td>105.0</td>\n",
       "    </tr>\n",
       "    <tr>\n",
       "      <th>4</th>\n",
       "      <td>tt0002130</td>\n",
       "      <td>7.0</td>\n",
       "      <td>2237</td>\n",
       "      <td>6.9</td>\n",
       "      <td>7.0</td>\n",
       "      <td>210</td>\n",
       "      <td>225</td>\n",
       "      <td>436</td>\n",
       "      <td>641</td>\n",
       "      <td>344</td>\n",
       "      <td>169</td>\n",
       "      <td>66</td>\n",
       "      <td>39</td>\n",
       "      <td>20</td>\n",
       "      <td>87</td>\n",
       "      <td>7.5</td>\n",
       "      <td>4.0</td>\n",
       "      <td>7.0</td>\n",
       "      <td>402.0</td>\n",
       "      <td>7.0</td>\n",
       "      <td>895.0</td>\n",
       "      <td>7.1</td>\n",
       "      <td>482.0</td>\n",
       "      <td>7.0</td>\n",
       "      <td>1607.0</td>\n",
       "      <td>8.0</td>\n",
       "      <td>2.0</td>\n",
       "      <td>7.0</td>\n",
       "      <td>346.0</td>\n",
       "      <td>7.0</td>\n",
       "      <td>804.0</td>\n",
       "      <td>7.0</td>\n",
       "      <td>396.0</td>\n",
       "      <td>7.2</td>\n",
       "      <td>215.0</td>\n",
       "      <td>7.0</td>\n",
       "      <td>2.0</td>\n",
       "      <td>7.0</td>\n",
       "      <td>52.0</td>\n",
       "      <td>7.3</td>\n",
       "      <td>82.0</td>\n",
       "      <td>7.4</td>\n",
       "      <td>77.0</td>\n",
       "      <td>6.9</td>\n",
       "      <td>139.0</td>\n",
       "      <td>7.0</td>\n",
       "      <td>488.0</td>\n",
       "      <td>7.0</td>\n",
       "      <td>1166.0</td>\n",
       "    </tr>\n",
       "  </tbody>\n",
       "</table>\n",
       "</div>"
      ],
      "text/plain": [
       "  imdb_title_id  ...  non_us_voters_votes\n",
       "0     tt0000009  ...                 70.0\n",
       "1     tt0000574  ...                331.0\n",
       "2     tt0001892  ...                123.0\n",
       "3     tt0002101  ...                105.0\n",
       "4     tt0002130  ...               1166.0\n",
       "\n",
       "[5 rows x 49 columns]"
      ]
     },
     "execution_count": 6,
     "metadata": {
      "tags": []
     },
     "output_type": "execute_result"
    }
   ],
   "source": [
    "# ratings = pd.read_csv('datasets/IMDb_ratings.csv')\n",
    "ratings = pd.read_csv('https://media.githubusercontent.com/media/joaopmo/TP_ICD/main/datasets/IMDb_ratings.csv')\n",
    "ratings.head()"
   ]
  },
  {
   "cell_type": "code",
   "execution_count": 7,
   "metadata": {
    "colab": {
     "base_uri": "https://localhost:8080/",
     "height": 191
    },
    "executionInfo": {
     "elapsed": 14976,
     "status": "ok",
     "timestamp": 1616429591853,
     "user": {
      "displayName": "Lucas Augusto",
      "photoUrl": "https://lh3.googleusercontent.com/a-/AOh14GhKyK-ERGs5QO0SG3PBzrISYGaLYQokTYyFURVSwA=s64",
      "userId": "14088004947059534312"
     },
     "user_tz": 180
    },
    "id": "RuSoPNyKmiQE",
    "outputId": "dc047279-13c2-410c-9f33-1e30a2ae06a6"
   },
   "outputs": [
    {
     "data": {
      "text/html": [
       "<div>\n",
       "<style scoped>\n",
       "    .dataframe tbody tr th:only-of-type {\n",
       "        vertical-align: middle;\n",
       "    }\n",
       "\n",
       "    .dataframe tbody tr th {\n",
       "        vertical-align: top;\n",
       "    }\n",
       "\n",
       "    .dataframe thead th {\n",
       "        text-align: right;\n",
       "    }\n",
       "</style>\n",
       "<table border=\"1\" class=\"dataframe\">\n",
       "  <thead>\n",
       "    <tr style=\"text-align: right;\">\n",
       "      <th></th>\n",
       "      <th>imdb_title_id</th>\n",
       "      <th>ordering</th>\n",
       "      <th>imdb_name_id</th>\n",
       "      <th>category</th>\n",
       "      <th>job</th>\n",
       "      <th>characters</th>\n",
       "    </tr>\n",
       "  </thead>\n",
       "  <tbody>\n",
       "    <tr>\n",
       "      <th>0</th>\n",
       "      <td>tt0000009</td>\n",
       "      <td>1</td>\n",
       "      <td>nm0063086</td>\n",
       "      <td>actress</td>\n",
       "      <td>NaN</td>\n",
       "      <td>[\"Miss Geraldine Holbrook (Miss Jerry)\"]</td>\n",
       "    </tr>\n",
       "    <tr>\n",
       "      <th>1</th>\n",
       "      <td>tt0000009</td>\n",
       "      <td>2</td>\n",
       "      <td>nm0183823</td>\n",
       "      <td>actor</td>\n",
       "      <td>NaN</td>\n",
       "      <td>[\"Mr. Hamilton\"]</td>\n",
       "    </tr>\n",
       "    <tr>\n",
       "      <th>2</th>\n",
       "      <td>tt0000009</td>\n",
       "      <td>3</td>\n",
       "      <td>nm1309758</td>\n",
       "      <td>actor</td>\n",
       "      <td>NaN</td>\n",
       "      <td>[\"Chauncey Depew - the Director of the New Yor...</td>\n",
       "    </tr>\n",
       "    <tr>\n",
       "      <th>3</th>\n",
       "      <td>tt0000009</td>\n",
       "      <td>4</td>\n",
       "      <td>nm0085156</td>\n",
       "      <td>director</td>\n",
       "      <td>NaN</td>\n",
       "      <td>NaN</td>\n",
       "    </tr>\n",
       "    <tr>\n",
       "      <th>4</th>\n",
       "      <td>tt0000574</td>\n",
       "      <td>1</td>\n",
       "      <td>nm0846887</td>\n",
       "      <td>actress</td>\n",
       "      <td>NaN</td>\n",
       "      <td>[\"Kate Kelly\"]</td>\n",
       "    </tr>\n",
       "  </tbody>\n",
       "</table>\n",
       "</div>"
      ],
      "text/plain": [
       "  imdb_title_id  ...                                         characters\n",
       "0     tt0000009  ...           [\"Miss Geraldine Holbrook (Miss Jerry)\"]\n",
       "1     tt0000009  ...                                   [\"Mr. Hamilton\"]\n",
       "2     tt0000009  ...  [\"Chauncey Depew - the Director of the New Yor...\n",
       "3     tt0000009  ...                                                NaN\n",
       "4     tt0000574  ...                                     [\"Kate Kelly\"]\n",
       "\n",
       "[5 rows x 6 columns]"
      ]
     },
     "execution_count": 7,
     "metadata": {
      "tags": []
     },
     "output_type": "execute_result"
    }
   ],
   "source": [
    "# title_principals = pd.read_csv('datasets/IMDb_title_principals.csv')\n",
    "title_principals = pd.read_csv('https://media.githubusercontent.com/media/joaopmo/TP_ICD/main/datasets/IMDb_title_principals.csv')\n",
    "title_principals.head()"
   ]
  },
  {
   "cell_type": "markdown",
   "metadata": {
    "id": "CYF1P3CmmiQE"
   },
   "source": [
    "# <div id=\"caracterizacao\"><a href=\"#sumario\"><h1>5. Caracterização</h1></a></div> "
   ]
  },
  {
   "cell_type": "markdown",
   "metadata": {
    "id": "edu801b-miQG"
   },
   "source": [
    "Iremos iniciar nosso estudo com testes para algumas hipóteses que devem ajudar a responder nossa pergunta. Para isso iremos explorar alguns dados de interesse e construir intervalos de confiança através de métodos adequados."
   ]
  },
  {
   "cell_type": "markdown",
   "metadata": {
    "id": "2WEu8AWFmiQG"
   },
   "source": [
    "## Funções"
   ]
  },
  {
   "cell_type": "code",
   "execution_count": 8,
   "metadata": {
    "executionInfo": {
     "elapsed": 14977,
     "status": "ok",
     "timestamp": 1616429591857,
     "user": {
      "displayName": "Lucas Augusto",
      "photoUrl": "https://lh3.googleusercontent.com/a-/AOh14GhKyK-ERGs5QO0SG3PBzrISYGaLYQokTYyFURVSwA=s64",
      "userId": "14088004947059534312"
     },
     "user_tz": 180
    },
    "id": "UR4svkXgmiQH"
   },
   "outputs": [],
   "source": [
    "def bootstrap_mean(df, column, n=5000, size=None):\n",
    "    if size is None:\n",
    "        size = len(df)\n",
    "    values = np.zeros(n)\n",
    "    for i in range(n):\n",
    "        sample = df[column].sample(size, replace=True)\n",
    "        values[i] = sample.mean()\n",
    "    return values"
   ]
  },
  {
   "cell_type": "code",
   "execution_count": 9,
   "metadata": {
    "executionInfo": {
     "elapsed": 14977,
     "status": "ok",
     "timestamp": 1616429591859,
     "user": {
      "displayName": "Lucas Augusto",
      "photoUrl": "https://lh3.googleusercontent.com/a-/AOh14GhKyK-ERGs5QO0SG3PBzrISYGaLYQokTYyFURVSwA=s64",
      "userId": "14088004947059534312"
     },
     "user_tz": 180
    },
    "id": "_vm7sOjfmiQH"
   },
   "outputs": [],
   "source": [
    "def bootstrap_diff(df1, df2, column, n=5000, size=None):\n",
    "    if size is None:\n",
    "        size = len(df1)\n",
    "    values = np.zeros(n)\n",
    "    for i in range(n):\n",
    "        sample1 = df1[column].sample(size, replace=True)\n",
    "        sample2 = df2[column].sample(size, replace=True)\n",
    "        values[i] = sample1.mean() - sample2.mean()\n",
    "    return values"
   ]
  },
  {
   "cell_type": "code",
   "execution_count": 10,
   "metadata": {
    "executionInfo": {
     "elapsed": 14977,
     "status": "ok",
     "timestamp": 1616429591861,
     "user": {
      "displayName": "Lucas Augusto",
      "photoUrl": "https://lh3.googleusercontent.com/a-/AOh14GhKyK-ERGs5QO0SG3PBzrISYGaLYQokTYyFURVSwA=s64",
      "userId": "14088004947059534312"
     },
     "user_tz": 180
    },
    "id": "jqqTRzOSmiQI"
   },
   "outputs": [],
   "source": [
    "def ic_bootstrap(df, column, n=5000, size=None):\n",
    "    values = bootstrap_mean(df, column, n, size)\n",
    "    return (np.percentile(values, 2.5), np.percentile(values, 97.5))"
   ]
  },
  {
   "cell_type": "markdown",
   "metadata": {
    "id": "llf0aw1omiQI"
   },
   "source": [
    "## <div id=\"testes\"><a href=\"#sumario\"><h2>A. Testes de Hipótese</h2></a></div> "
   ]
  },
  {
   "cell_type": "markdown",
   "metadata": {
    "id": "Ixs8IGdDmiQJ"
   },
   "source": [
    "### <div id=\"teste1\"><a href=\"#sumario\"><h3>a. Teste 1</h3></a></div> "
   ]
  },
  {
   "cell_type": "markdown",
   "metadata": {
    "id": "8kuQqhh8miQJ"
   },
   "source": [
    "#### Checando intervalos de confiança com Bootstrap"
   ]
  },
  {
   "cell_type": "markdown",
   "metadata": {
    "id": "CEjdBn6-miQK"
   },
   "source": [
    "Podemos analisar desse dataset o que de fato uma nota diz sobre um filme, analisando quão rara é tal nota quando tiramos a média de notas da população. Por exemplo, a partir disso, podemos formular a seguinte hipótese: uma nota média 8 diz pouco sobre a qualidade de um filme, já que ela é bem comum na base de dados. Tentaremos a partir daqui buscar evidências em dados que confirmem ou descartem essa ideia.\n",
    "\n",
    "Uma maneira de testar essa hipótese é construir um intervalo de confiança utilizando a técnica de bootstrap, estratégia que será utilizada aqui."
   ]
  },
  {
   "cell_type": "code",
   "execution_count": 11,
   "metadata": {
    "colab": {
     "base_uri": "https://localhost:8080/"
    },
    "executionInfo": {
     "elapsed": 17153,
     "status": "ok",
     "timestamp": 1616429594050,
     "user": {
      "displayName": "Lucas Augusto",
      "photoUrl": "https://lh3.googleusercontent.com/a-/AOh14GhKyK-ERGs5QO0SG3PBzrISYGaLYQokTYyFURVSwA=s64",
      "userId": "14088004947059534312"
     },
     "user_tz": 180
    },
    "id": "lXqd13U5miQL",
    "outputId": "b5e1034a-b5d6-4f46-f992-cd3a0ea2cf4c"
   },
   "outputs": [
    {
     "data": {
      "text/plain": [
       "array([6.2294, 6.1974, 6.1919, ..., 6.253 , 6.2118, 6.2282])"
      ]
     },
     "execution_count": 11,
     "metadata": {
      "tags": []
     },
     "output_type": "execute_result"
    }
   ],
   "source": [
    "result = bootstrap_mean(ratings,'mean_vote', 10000, 1000)\n",
    "result"
   ]
  },
  {
   "cell_type": "markdown",
   "metadata": {
    "id": "EvPqfe6FmiQM"
   },
   "source": [
    "Plotando o resultado - Note como o resultado obtido se aproxima de uma distribuição normal:"
   ]
  },
  {
   "cell_type": "code",
   "execution_count": 12,
   "metadata": {
    "colab": {
     "base_uri": "https://localhost:8080/",
     "height": 516
    },
    "executionInfo": {
     "elapsed": 18181,
     "status": "ok",
     "timestamp": 1616429595087,
     "user": {
      "displayName": "Lucas Augusto",
      "photoUrl": "https://lh3.googleusercontent.com/a-/AOh14GhKyK-ERGs5QO0SG3PBzrISYGaLYQokTYyFURVSwA=s64",
      "userId": "14088004947059534312"
     },
     "user_tz": 180
    },
    "id": "cSqiAxAImiQM",
    "outputId": "4bc2e4fb-967e-4e02-bb24-15839357350f"
   },
   "outputs": [
    {
     "data": {
      "image/png": "[encoded data removed]",
      "text/plain": [
       "<Figure size 936x576 with 1 Axes>"
      ]
     },
     "metadata": {
      "needs_background": "light",
      "tags": []
     },
     "output_type": "display_data"
    }
   ],
   "source": [
    "plt.figure(figsize=(13,8))\n",
    "plt.hist(result, bins=40, edgecolor='k', density=True)\n",
    "res = stats.norm(loc=result.mean(), scale=result.std())\n",
    "res_np = np.linspace(res.ppf(0.001), res.ppf(0.999),10000)\n",
    "plt.plot(res_np, res.pdf(res_np))\n",
    "plt.xlabel('Média de avaliação')\n",
    "plt.ylabel('P[Média]')\n",
    "plt.show()"
   ]
  },
  {
   "cell_type": "markdown",
   "metadata": {
    "id": "WEkX2ZLamiQN"
   },
   "source": [
    "A maior concentração de valores se encontra entre 6.15 e 6.30, como mostrado abaixo:"
   ]
  },
  {
   "cell_type": "code",
   "execution_count": 13,
   "metadata": {
    "colab": {
     "base_uri": "https://localhost:8080/",
     "height": 516
    },
    "executionInfo": {
     "elapsed": 18173,
     "status": "ok",
     "timestamp": 1616429595089,
     "user": {
      "displayName": "Lucas Augusto",
      "photoUrl": "https://lh3.googleusercontent.com/a-/AOh14GhKyK-ERGs5QO0SG3PBzrISYGaLYQokTYyFURVSwA=s64",
      "userId": "14088004947059534312"
     },
     "user_tz": 180
    },
    "id": "rwgbrvuSmiQN",
    "outputId": "715cc6ed-61bb-4312-a23c-f5ba2d8363fa"
   },
   "outputs": [
    {
     "data": {
      "image/png": "[encoded data removed]",
      "text/plain": [
       "<Figure size 936x576 with 1 Axes>"
      ]
     },
     "metadata": {
      "needs_background": "light",
      "tags": []
     },
     "output_type": "display_data"
    }
   ],
   "source": [
    "plt.figure(figsize=(13,8))\n",
    "plt.plot(res_np, res.pdf(res_np))\n",
    "filler = np.linspace(np.percentile(result, 2.5),np.percentile(result, 97.5))\n",
    "plt.fill_between(filler, res.pdf(filler), color='r', alpha=0.5)\n",
    "plt.xlabel('Média de avaliação')\n",
    "plt.ylabel('P(Média)')\n",
    "plt.show()"
   ]
  },
  {
   "cell_type": "markdown",
   "metadata": {
    "id": "KeLHF3YZmiQO"
   },
   "source": [
    "Como o valor apresentado na hipótese, 8, encontra-se fora dessa área, temos que ele é um valor de rara ocorrência e portanto, a hipótese é rejeitada, uma vez que um filme não apresenta média igual a ele frequentemente."
   ]
  },
  {
   "cell_type": "markdown",
   "metadata": {
    "id": "4lZVQB6umiQP"
   },
   "source": [
    "### <div id=\"teste2\"><a href=\"#sumario\"><h3>b. Teste 2</h3></a></div> "
   ]
  },
  {
   "cell_type": "markdown",
   "metadata": {
    "id": "P4zLn9JAmiQP"
   },
   "source": [
    "Jovens (até 18 anos) tendem a dar notas mais altas que outras faixas etárias"
   ]
  },
  {
   "cell_type": "markdown",
   "metadata": {
    "id": "_2NpPCnLmiQP"
   },
   "source": [
    "#### Análise Exploratória"
   ]
  },
  {
   "cell_type": "markdown",
   "metadata": {
    "id": "WR2p0-fpAJnS"
   },
   "source": [
    "* Visualizando os atributos presentes:"
   ]
  },
  {
   "cell_type": "code",
   "execution_count": 14,
   "metadata": {
    "colab": {
     "base_uri": "https://localhost:8080/"
    },
    "executionInfo": {
     "elapsed": 18164,
     "status": "ok",
     "timestamp": 1616429595090,
     "user": {
      "displayName": "Lucas Augusto",
      "photoUrl": "https://lh3.googleusercontent.com/a-/AOh14GhKyK-ERGs5QO0SG3PBzrISYGaLYQokTYyFURVSwA=s64",
      "userId": "14088004947059534312"
     },
     "user_tz": 180
    },
    "id": "k6siOL7BmiQQ",
    "outputId": "8075b28b-a906-47e5-8940-4ea5b9353d79"
   },
   "outputs": [
    {
     "data": {
      "text/plain": [
       "Index(['imdb_title_id', 'weighted_average_vote', 'total_votes', 'mean_vote',\n",
       "       'median_vote', 'votes_10', 'votes_9', 'votes_8', 'votes_7', 'votes_6',\n",
       "       'votes_5', 'votes_4', 'votes_3', 'votes_2', 'votes_1',\n",
       "       'allgenders_0age_avg_vote', 'allgenders_0age_votes',\n",
       "       'allgenders_18age_avg_vote', 'allgenders_18age_votes',\n",
       "       'allgenders_30age_avg_vote', 'allgenders_30age_votes',\n",
       "       'allgenders_45age_avg_vote', 'allgenders_45age_votes',\n",
       "       'males_allages_avg_vote', 'males_allages_votes', 'males_0age_avg_vote',\n",
       "       'males_0age_votes', 'males_18age_avg_vote', 'males_18age_votes',\n",
       "       'males_30age_avg_vote', 'males_30age_votes', 'males_45age_avg_vote',\n",
       "       'males_45age_votes', 'females_allages_avg_vote',\n",
       "       'females_allages_votes', 'females_0age_avg_vote', 'females_0age_votes',\n",
       "       'females_18age_avg_vote', 'females_18age_votes',\n",
       "       'females_30age_avg_vote', 'females_30age_votes',\n",
       "       'females_45age_avg_vote', 'females_45age_votes',\n",
       "       'top1000_voters_rating', 'top1000_voters_votes', 'us_voters_rating',\n",
       "       'us_voters_votes', 'non_us_voters_rating', 'non_us_voters_votes'],\n",
       "      dtype='object')"
      ]
     },
     "execution_count": 14,
     "metadata": {
      "tags": []
     },
     "output_type": "execute_result"
    }
   ],
   "source": [
    "ratings.columns"
   ]
  },
  {
   "cell_type": "markdown",
   "metadata": {
    "id": "nDGIxgoKAYFT"
   },
   "source": [
    "* Tratando os dados que serão utilizados:\n"
   ]
  },
  {
   "cell_type": "code",
   "execution_count": 15,
   "metadata": {
    "colab": {
     "base_uri": "https://localhost:8080/",
     "height": 391
    },
    "executionInfo": {
     "elapsed": 18155,
     "status": "ok",
     "timestamp": 1616429595091,
     "user": {
      "displayName": "Lucas Augusto",
      "photoUrl": "https://lh3.googleusercontent.com/a-/AOh14GhKyK-ERGs5QO0SG3PBzrISYGaLYQokTYyFURVSwA=s64",
      "userId": "14088004947059534312"
     },
     "user_tz": 180
    },
    "id": "FulC93_emiQR",
    "outputId": "b6aca6a0-21ff-4b56-d3ed-81dbfdca546c"
   },
   "outputs": [
    {
     "data": {
      "text/html": [
       "<div>\n",
       "<style scoped>\n",
       "    .dataframe tbody tr th:only-of-type {\n",
       "        vertical-align: middle;\n",
       "    }\n",
       "\n",
       "    .dataframe tbody tr th {\n",
       "        vertical-align: top;\n",
       "    }\n",
       "\n",
       "    .dataframe thead th {\n",
       "        text-align: right;\n",
       "    }\n",
       "</style>\n",
       "<table border=\"1\" class=\"dataframe\">\n",
       "  <thead>\n",
       "    <tr style=\"text-align: right;\">\n",
       "      <th></th>\n",
       "      <th>allgenders_0age_avg_vote</th>\n",
       "      <th>allgenders_18age_avg_vote</th>\n",
       "      <th>allgenders_30age_avg_vote</th>\n",
       "      <th>allgenders_45age_avg_vote</th>\n",
       "    </tr>\n",
       "  </thead>\n",
       "  <tbody>\n",
       "    <tr>\n",
       "      <th>0</th>\n",
       "      <td>7.2</td>\n",
       "      <td>6.0</td>\n",
       "      <td>5.7</td>\n",
       "      <td>6.6</td>\n",
       "    </tr>\n",
       "    <tr>\n",
       "      <th>1</th>\n",
       "      <td>6.0</td>\n",
       "      <td>6.1</td>\n",
       "      <td>6.0</td>\n",
       "      <td>6.3</td>\n",
       "    </tr>\n",
       "    <tr>\n",
       "      <th>2</th>\n",
       "      <td>7.5</td>\n",
       "      <td>7.0</td>\n",
       "      <td>7.0</td>\n",
       "      <td>7.1</td>\n",
       "    </tr>\n",
       "    <tr>\n",
       "      <th>3</th>\n",
       "      <td>3.0</td>\n",
       "      <td>6.4</td>\n",
       "      <td>6.7</td>\n",
       "      <td>7.0</td>\n",
       "    </tr>\n",
       "    <tr>\n",
       "      <th>4</th>\n",
       "      <td>6.0</td>\n",
       "      <td>5.9</td>\n",
       "      <td>6.2</td>\n",
       "      <td>6.3</td>\n",
       "    </tr>\n",
       "    <tr>\n",
       "      <th>...</th>\n",
       "      <td>...</td>\n",
       "      <td>...</td>\n",
       "      <td>...</td>\n",
       "      <td>...</td>\n",
       "    </tr>\n",
       "    <tr>\n",
       "      <th>33331</th>\n",
       "      <td>4.0</td>\n",
       "      <td>5.7</td>\n",
       "      <td>5.6</td>\n",
       "      <td>5.3</td>\n",
       "    </tr>\n",
       "    <tr>\n",
       "      <th>33332</th>\n",
       "      <td>5.1</td>\n",
       "      <td>5.2</td>\n",
       "      <td>5.1</td>\n",
       "      <td>4.9</td>\n",
       "    </tr>\n",
       "    <tr>\n",
       "      <th>33333</th>\n",
       "      <td>9.3</td>\n",
       "      <td>8.6</td>\n",
       "      <td>8.1</td>\n",
       "      <td>6.8</td>\n",
       "    </tr>\n",
       "    <tr>\n",
       "      <th>33334</th>\n",
       "      <td>6.0</td>\n",
       "      <td>4.0</td>\n",
       "      <td>3.9</td>\n",
       "      <td>4.4</td>\n",
       "    </tr>\n",
       "    <tr>\n",
       "      <th>33335</th>\n",
       "      <td>6.0</td>\n",
       "      <td>5.8</td>\n",
       "      <td>5.3</td>\n",
       "      <td>5.2</td>\n",
       "    </tr>\n",
       "  </tbody>\n",
       "</table>\n",
       "<p>33336 rows × 4 columns</p>\n",
       "</div>"
      ],
      "text/plain": [
       "       allgenders_0age_avg_vote  ...  allgenders_45age_avg_vote\n",
       "0                           7.2  ...                        6.6\n",
       "1                           6.0  ...                        6.3\n",
       "2                           7.5  ...                        7.1\n",
       "3                           3.0  ...                        7.0\n",
       "4                           6.0  ...                        6.3\n",
       "...                         ...  ...                        ...\n",
       "33331                       4.0  ...                        5.3\n",
       "33332                       5.1  ...                        4.9\n",
       "33333                       9.3  ...                        6.8\n",
       "33334                       6.0  ...                        4.4\n",
       "33335                       6.0  ...                        5.2\n",
       "\n",
       "[33336 rows x 4 columns]"
      ]
     },
     "execution_count": 15,
     "metadata": {
      "tags": []
     },
     "output_type": "execute_result"
    }
   ],
   "source": [
    "faixas = ratings[['allgenders_0age_avg_vote', 'allgenders_18age_avg_vote', 'allgenders_30age_avg_vote', 'allgenders_45age_avg_vote']].dropna()\n",
    "faixas = faixas.reset_index(drop=True)\n",
    "faixas"
   ]
  },
  {
   "cell_type": "code",
   "execution_count": 16,
   "metadata": {
    "colab": {
     "base_uri": "https://localhost:8080/",
     "height": 277
    },
    "executionInfo": {
     "elapsed": 18143,
     "status": "ok",
     "timestamp": 1616429595092,
     "user": {
      "displayName": "Lucas Augusto",
      "photoUrl": "https://lh3.googleusercontent.com/a-/AOh14GhKyK-ERGs5QO0SG3PBzrISYGaLYQokTYyFURVSwA=s64",
      "userId": "14088004947059534312"
     },
     "user_tz": 180
    },
    "id": "WP0vlT94miQR",
    "outputId": "79a3ce87-de5c-4d83-9100-0b7f37bd3367"
   },
   "outputs": [
    {
     "data": {
      "text/html": [
       "<div>\n",
       "<style scoped>\n",
       "    .dataframe tbody tr th:only-of-type {\n",
       "        vertical-align: middle;\n",
       "    }\n",
       "\n",
       "    .dataframe tbody tr th {\n",
       "        vertical-align: top;\n",
       "    }\n",
       "\n",
       "    .dataframe thead th {\n",
       "        text-align: right;\n",
       "    }\n",
       "</style>\n",
       "<table border=\"1\" class=\"dataframe\">\n",
       "  <thead>\n",
       "    <tr style=\"text-align: right;\">\n",
       "      <th></th>\n",
       "      <th>vals</th>\n",
       "    </tr>\n",
       "  </thead>\n",
       "  <tbody>\n",
       "    <tr>\n",
       "      <th>count</th>\n",
       "      <td>33336.000000</td>\n",
       "    </tr>\n",
       "    <tr>\n",
       "      <th>mean</th>\n",
       "      <td>6.195134</td>\n",
       "    </tr>\n",
       "    <tr>\n",
       "      <th>std</th>\n",
       "      <td>1.848898</td>\n",
       "    </tr>\n",
       "    <tr>\n",
       "      <th>min</th>\n",
       "      <td>1.000000</td>\n",
       "    </tr>\n",
       "    <tr>\n",
       "      <th>25%</th>\n",
       "      <td>5.000000</td>\n",
       "    </tr>\n",
       "    <tr>\n",
       "      <th>50%</th>\n",
       "      <td>6.000000</td>\n",
       "    </tr>\n",
       "    <tr>\n",
       "      <th>75%</th>\n",
       "      <td>7.200000</td>\n",
       "    </tr>\n",
       "    <tr>\n",
       "      <th>max</th>\n",
       "      <td>10.000000</td>\n",
       "    </tr>\n",
       "  </tbody>\n",
       "</table>\n",
       "</div>"
      ],
      "text/plain": [
       "               vals\n",
       "count  33336.000000\n",
       "mean       6.195134\n",
       "std        1.848898\n",
       "min        1.000000\n",
       "25%        5.000000\n",
       "50%        6.000000\n",
       "75%        7.200000\n",
       "max       10.000000"
      ]
     },
     "execution_count": 16,
     "metadata": {
      "tags": []
     },
     "output_type": "execute_result"
    }
   ],
   "source": [
    "jovens = faixas['allgenders_0age_avg_vote'].to_frame(name=\"vals\")\n",
    "jovens.describe()"
   ]
  },
  {
   "cell_type": "code",
   "execution_count": 17,
   "metadata": {
    "colab": {
     "base_uri": "https://localhost:8080/",
     "height": 277
    },
    "executionInfo": {
     "elapsed": 18133,
     "status": "ok",
     "timestamp": 1616429595093,
     "user": {
      "displayName": "Lucas Augusto",
      "photoUrl": "https://lh3.googleusercontent.com/a-/AOh14GhKyK-ERGs5QO0SG3PBzrISYGaLYQokTYyFURVSwA=s64",
      "userId": "14088004947059534312"
     },
     "user_tz": 180
    },
    "id": "FGbEduu-miQS",
    "outputId": "4c555d4f-3168-4085-b7bb-fbd3277d39e6"
   },
   "outputs": [
    {
     "data": {
      "text/html": [
       "<div>\n",
       "<style scoped>\n",
       "    .dataframe tbody tr th:only-of-type {\n",
       "        vertical-align: middle;\n",
       "    }\n",
       "\n",
       "    .dataframe tbody tr th {\n",
       "        vertical-align: top;\n",
       "    }\n",
       "\n",
       "    .dataframe thead th {\n",
       "        text-align: right;\n",
       "    }\n",
       "</style>\n",
       "<table border=\"1\" class=\"dataframe\">\n",
       "  <thead>\n",
       "    <tr style=\"text-align: right;\">\n",
       "      <th></th>\n",
       "      <th>vals</th>\n",
       "    </tr>\n",
       "  </thead>\n",
       "  <tbody>\n",
       "    <tr>\n",
       "      <th>count</th>\n",
       "      <td>33336.000000</td>\n",
       "    </tr>\n",
       "    <tr>\n",
       "      <th>mean</th>\n",
       "      <td>6.075230</td>\n",
       "    </tr>\n",
       "    <tr>\n",
       "      <th>std</th>\n",
       "      <td>1.164201</td>\n",
       "    </tr>\n",
       "    <tr>\n",
       "      <th>min</th>\n",
       "      <td>1.033333</td>\n",
       "    </tr>\n",
       "    <tr>\n",
       "      <th>25%</th>\n",
       "      <td>5.466667</td>\n",
       "    </tr>\n",
       "    <tr>\n",
       "      <th>50%</th>\n",
       "      <td>6.233333</td>\n",
       "    </tr>\n",
       "    <tr>\n",
       "      <th>75%</th>\n",
       "      <td>6.866667</td>\n",
       "    </tr>\n",
       "    <tr>\n",
       "      <th>max</th>\n",
       "      <td>9.766667</td>\n",
       "    </tr>\n",
       "  </tbody>\n",
       "</table>\n",
       "</div>"
      ],
      "text/plain": [
       "               vals\n",
       "count  33336.000000\n",
       "mean       6.075230\n",
       "std        1.164201\n",
       "min        1.033333\n",
       "25%        5.466667\n",
       "50%        6.233333\n",
       "75%        6.866667\n",
       "max        9.766667"
      ]
     },
     "execution_count": 17,
     "metadata": {
      "tags": []
     },
     "output_type": "execute_result"
    }
   ],
   "source": [
    "geral = faixas[['allgenders_18age_avg_vote', 'allgenders_30age_avg_vote', 'allgenders_45age_avg_vote']].sum(axis=1).to_frame(name=\"vals\")\n",
    "geral /= 3\n",
    "geral.describe()"
   ]
  },
  {
   "cell_type": "markdown",
   "metadata": {
    "id": "vIreZ1G-Apse"
   },
   "source": [
    "* Plotando os dados das diferentes classes geradas:"
   ]
  },
  {
   "cell_type": "code",
   "execution_count": 18,
   "metadata": {
    "colab": {
     "base_uri": "https://localhost:8080/",
     "height": 532
    },
    "executionInfo": {
     "elapsed": 18387,
     "status": "ok",
     "timestamp": 1616429595362,
     "user": {
      "displayName": "Lucas Augusto",
      "photoUrl": "https://lh3.googleusercontent.com/a-/AOh14GhKyK-ERGs5QO0SG3PBzrISYGaLYQokTYyFURVSwA=s64",
      "userId": "14088004947059534312"
     },
     "user_tz": 180
    },
    "id": "Fh4jJPvgmiQS",
    "outputId": "6363be4c-0e48-4486-886a-5905c955180e"
   },
   "outputs": [
    {
     "data": {
      "text/plain": [
       "<matplotlib.legend.Legend at 0x7f24589951d0>"
      ]
     },
     "execution_count": 18,
     "metadata": {
      "tags": []
     },
     "output_type": "execute_result"
    },
    {
     "data": {
      "image/png": "[encoded data removed]",
      "text/plain": [
       "<Figure size 864x576 with 1 Axes>"
      ]
     },
     "metadata": {
      "needs_background": "light",
      "tags": []
     },
     "output_type": "display_data"
    }
   ],
   "source": [
    "plt.hist(jovens['vals'], alpha=0.3, edgecolor='k', label='Jovens')\n",
    "plt.hist(geral['vals'], alpha=0.3, edgecolor='k', label='Geral')\n",
    "plt.xlabel('Avaliação Média')\n",
    "plt.ylabel('# de votos')\n",
    "plt.legend()"
   ]
  },
  {
   "cell_type": "markdown",
   "metadata": {
    "id": "IS2MHe91miQS"
   },
   "source": [
    "#### Checando intervalos de confiança com Bootstrap"
   ]
  },
  {
   "cell_type": "markdown",
   "metadata": {
    "id": "oIK5pY5hAzFw"
   },
   "source": [
    "* Distribuição dos dados da primeira classe:"
   ]
  },
  {
   "cell_type": "code",
   "execution_count": 19,
   "metadata": {
    "colab": {
     "base_uri": "https://localhost:8080/"
    },
    "executionInfo": {
     "elapsed": 25655,
     "status": "ok",
     "timestamp": 1616429602641,
     "user": {
      "displayName": "Lucas Augusto",
      "photoUrl": "https://lh3.googleusercontent.com/a-/AOh14GhKyK-ERGs5QO0SG3PBzrISYGaLYQokTYyFURVSwA=s64",
      "userId": "14088004947059534312"
     },
     "user_tz": 180
    },
    "id": "WXEBViHjmiQT",
    "outputId": "531a0207-ed20-495f-ba06-c17619dc0e07"
   },
   "outputs": [
    {
     "data": {
      "text/plain": [
       "(6.175935325174002, 6.214863885889118)"
      ]
     },
     "execution_count": 19,
     "metadata": {
      "tags": []
     },
     "output_type": "execute_result"
    }
   ],
   "source": [
    "ic_bootstrap(jovens, 'vals')"
   ]
  },
  {
   "cell_type": "markdown",
   "metadata": {
    "id": "ciO0OwwQA9Vx"
   },
   "source": [
    "* Distribuição dos dados da segunda classe:"
   ]
  },
  {
   "cell_type": "code",
   "execution_count": 20,
   "metadata": {
    "colab": {
     "base_uri": "https://localhost:8080/"
    },
    "executionInfo": {
     "elapsed": 33571,
     "status": "ok",
     "timestamp": 1616429610566,
     "user": {
      "displayName": "Lucas Augusto",
      "photoUrl": "https://lh3.googleusercontent.com/a-/AOh14GhKyK-ERGs5QO0SG3PBzrISYGaLYQokTYyFURVSwA=s64",
      "userId": "14088004947059534312"
     },
     "user_tz": 180
    },
    "id": "kzciTi24miQT",
    "outputId": "641df6cf-4365-4198-c7d5-d609b6bd6523"
   },
   "outputs": [
    {
     "data": {
      "text/plain": [
       "(6.062762903967619, 6.087810250179964)"
      ]
     },
     "execution_count": 20,
     "metadata": {
      "tags": []
     },
     "output_type": "execute_result"
    }
   ],
   "source": [
    "ic_bootstrap(geral, 'vals')"
   ]
  },
  {
   "cell_type": "markdown",
   "metadata": {
    "id": "tzfuXCiyBBYJ"
   },
   "source": [
    "* Obtendo os dados da diferença entre as médias de avaliação para cada uma das diferentes classes a partir de um bootstrap:"
   ]
  },
  {
   "cell_type": "code",
   "execution_count": 21,
   "metadata": {
    "executionInfo": {
     "elapsed": 49709,
     "status": "ok",
     "timestamp": 1616429626707,
     "user": {
      "displayName": "Lucas Augusto",
      "photoUrl": "https://lh3.googleusercontent.com/a-/AOh14GhKyK-ERGs5QO0SG3PBzrISYGaLYQokTYyFURVSwA=s64",
      "userId": "14088004947059534312"
     },
     "user_tz": 180
    },
    "id": "OYwSRZlxmiQT"
   },
   "outputs": [],
   "source": [
    "diff = bootstrap_diff(jovens, geral, 'vals')"
   ]
  },
  {
   "cell_type": "markdown",
   "metadata": {
    "id": "By2CX9O-Bf6d"
   },
   "source": [
    "* Plot dos valores recebidos para a referida diferença:"
   ]
  },
  {
   "cell_type": "code",
   "execution_count": 22,
   "metadata": {
    "colab": {
     "base_uri": "https://localhost:8080/",
     "height": 532
    },
    "executionInfo": {
     "elapsed": 49700,
     "status": "ok",
     "timestamp": 1616429626709,
     "user": {
      "displayName": "Lucas Augusto",
      "photoUrl": "https://lh3.googleusercontent.com/a-/AOh14GhKyK-ERGs5QO0SG3PBzrISYGaLYQokTYyFURVSwA=s64",
      "userId": "14088004947059534312"
     },
     "user_tz": 180
    },
    "id": "xmQL4bEPmiQU",
    "outputId": "811dd380-df2a-430b-9b6a-e89010ac77f7"
   },
   "outputs": [
    {
     "data": {
      "text/plain": [
       "Text(0, 0.5, 'Freq')"
      ]
     },
     "execution_count": 22,
     "metadata": {
      "tags": []
     },
     "output_type": "execute_result"
    },
    {
     "data": {
      "image/png": "[encoded data removed]",
      "text/plain": [
       "<Figure size 864x576 with 1 Axes>"
      ]
     },
     "metadata": {
      "needs_background": "light",
      "tags": []
     },
     "output_type": "display_data"
    }
   ],
   "source": [
    "plt.hist(diff, edgecolor='k')\n",
    "plt.xlabel('Média Joves - Média Geral')\n",
    "plt.ylabel('Freq')"
   ]
  },
  {
   "cell_type": "markdown",
   "metadata": {
    "id": "Vzx3aAgCmiQU"
   },
   "source": [
    "Podemos ver que o intervalo das médias não se cruzam e que o intervalo que contém 95% dos resultados obtidos para a diferença não possui o valor zero, o que confirma nossa hipótese. Agora testaremos uma nova hipótese:\n"
   ]
  },
  {
   "cell_type": "markdown",
   "metadata": {
    "id": "q108rm-amiQU"
   },
   "source": [
    "### <div id=\"teste3\"><a href=\"#sumario\"><h3>c. Teste 3</h3></a></div> "
   ]
  },
  {
   "cell_type": "markdown",
   "metadata": {
    "id": "f1BEovZHmiQU"
   },
   "source": [
    "Filmes produzidos nos EUA tendem a ter melhores avaliações."
   ]
  },
  {
   "cell_type": "markdown",
   "metadata": {
    "id": "30stoOSsmiQV"
   },
   "source": [
    "#### Análise Exploratória"
   ]
  },
  {
   "cell_type": "markdown",
   "metadata": {
    "id": "fap3Bdh6CPT-"
   },
   "source": [
    "* Visualizando os atributos presentes nas tabelas que serão utilizadas:"
   ]
  },
  {
   "cell_type": "code",
   "execution_count": 23,
   "metadata": {
    "colab": {
     "base_uri": "https://localhost:8080/"
    },
    "executionInfo": {
     "elapsed": 50433,
     "status": "ok",
     "timestamp": 1616429627452,
     "user": {
      "displayName": "Lucas Augusto",
      "photoUrl": "https://lh3.googleusercontent.com/a-/AOh14GhKyK-ERGs5QO0SG3PBzrISYGaLYQokTYyFURVSwA=s64",
      "userId": "14088004947059534312"
     },
     "user_tz": 180
    },
    "id": "aWtqhr1bmiQV",
    "outputId": "75b56dc7-6235-41b1-ac09-950b6cdc163e"
   },
   "outputs": [
    {
     "name": "stdout",
     "output_type": "stream",
     "text": [
      "Index(['imdb_title_id', 'weighted_average_vote', 'total_votes', 'mean_vote',\n",
      "       'median_vote', 'votes_10', 'votes_9', 'votes_8', 'votes_7', 'votes_6',\n",
      "       'votes_5', 'votes_4', 'votes_3', 'votes_2', 'votes_1',\n",
      "       'allgenders_0age_avg_vote', 'allgenders_0age_votes',\n",
      "       'allgenders_18age_avg_vote', 'allgenders_18age_votes',\n",
      "       'allgenders_30age_avg_vote', 'allgenders_30age_votes',\n",
      "       'allgenders_45age_avg_vote', 'allgenders_45age_votes',\n",
      "       'males_allages_avg_vote', 'males_allages_votes', 'males_0age_avg_vote',\n",
      "       'males_0age_votes', 'males_18age_avg_vote', 'males_18age_votes',\n",
      "       'males_30age_avg_vote', 'males_30age_votes', 'males_45age_avg_vote',\n",
      "       'males_45age_votes', 'females_allages_avg_vote',\n",
      "       'females_allages_votes', 'females_0age_avg_vote', 'females_0age_votes',\n",
      "       'females_18age_avg_vote', 'females_18age_votes',\n",
      "       'females_30age_avg_vote', 'females_30age_votes',\n",
      "       'females_45age_avg_vote', 'females_45age_votes',\n",
      "       'top1000_voters_rating', 'top1000_voters_votes', 'us_voters_rating',\n",
      "       'us_voters_votes', 'non_us_voters_rating', 'non_us_voters_votes'],\n",
      "      dtype='object')\n",
      "\n",
      "Index(['imdb_title_id', 'title', 'original_title', 'year', 'date_published',\n",
      "       'genre', 'duration', 'country', 'language', 'director', 'writer',\n",
      "       'production_company', 'actors', 'description', 'avg_vote', 'votes',\n",
      "       'budget', 'usa_gross_income', 'worlwide_gross_income', 'metascore',\n",
      "       'reviews_from_users', 'reviews_from_critics'],\n",
      "      dtype='object')\n"
     ]
    }
   ],
   "source": [
    "print(ratings.columns)\n",
    "print()\n",
    "print(movies.columns)"
   ]
  },
  {
   "cell_type": "markdown",
   "metadata": {
    "id": "OIS2iHsBCaEc"
   },
   "source": [
    "* Tratando os dados que serão utilizados:\n"
   ]
  },
  {
   "cell_type": "code",
   "execution_count": 24,
   "metadata": {
    "colab": {
     "base_uri": "https://localhost:8080/",
     "height": 391
    },
    "executionInfo": {
     "elapsed": 50424,
     "status": "ok",
     "timestamp": 1616429627454,
     "user": {
      "displayName": "Lucas Augusto",
      "photoUrl": "https://lh3.googleusercontent.com/a-/AOh14GhKyK-ERGs5QO0SG3PBzrISYGaLYQokTYyFURVSwA=s64",
      "userId": "14088004947059534312"
     },
     "user_tz": 180
    },
    "id": "9fiMCZ-tmiQV",
    "outputId": "d4d9e7c1-f28b-47d4-95e3-a0d5716508c4"
   },
   "outputs": [
    {
     "data": {
      "text/html": [
       "<div>\n",
       "<style scoped>\n",
       "    .dataframe tbody tr th:only-of-type {\n",
       "        vertical-align: middle;\n",
       "    }\n",
       "\n",
       "    .dataframe tbody tr th {\n",
       "        vertical-align: top;\n",
       "    }\n",
       "\n",
       "    .dataframe thead th {\n",
       "        text-align: right;\n",
       "    }\n",
       "</style>\n",
       "<table border=\"1\" class=\"dataframe\">\n",
       "  <thead>\n",
       "    <tr style=\"text-align: right;\">\n",
       "      <th></th>\n",
       "      <th>imdb_title_id</th>\n",
       "      <th>mean_vote</th>\n",
       "      <th>country</th>\n",
       "    </tr>\n",
       "  </thead>\n",
       "  <tbody>\n",
       "    <tr>\n",
       "      <th>0</th>\n",
       "      <td>tt0000009</td>\n",
       "      <td>5.9</td>\n",
       "      <td>USA</td>\n",
       "    </tr>\n",
       "    <tr>\n",
       "      <th>1</th>\n",
       "      <td>tt0000574</td>\n",
       "      <td>6.3</td>\n",
       "      <td>Australia</td>\n",
       "    </tr>\n",
       "    <tr>\n",
       "      <th>2</th>\n",
       "      <td>tt0001892</td>\n",
       "      <td>6.0</td>\n",
       "      <td>Germany, Denmark</td>\n",
       "    </tr>\n",
       "    <tr>\n",
       "      <th>3</th>\n",
       "      <td>tt0002101</td>\n",
       "      <td>5.3</td>\n",
       "      <td>USA</td>\n",
       "    </tr>\n",
       "    <tr>\n",
       "      <th>4</th>\n",
       "      <td>tt0002130</td>\n",
       "      <td>6.9</td>\n",
       "      <td>Italy</td>\n",
       "    </tr>\n",
       "    <tr>\n",
       "      <th>...</th>\n",
       "      <td>...</td>\n",
       "      <td>...</td>\n",
       "      <td>...</td>\n",
       "    </tr>\n",
       "    <tr>\n",
       "      <th>85850</th>\n",
       "      <td>tt9908390</td>\n",
       "      <td>5.5</td>\n",
       "      <td>France, Belgium</td>\n",
       "    </tr>\n",
       "    <tr>\n",
       "      <th>85851</th>\n",
       "      <td>tt9911196</td>\n",
       "      <td>7.9</td>\n",
       "      <td>Netherlands</td>\n",
       "    </tr>\n",
       "    <tr>\n",
       "      <th>85852</th>\n",
       "      <td>tt9911774</td>\n",
       "      <td>7.8</td>\n",
       "      <td>India</td>\n",
       "    </tr>\n",
       "    <tr>\n",
       "      <th>85853</th>\n",
       "      <td>tt9914286</td>\n",
       "      <td>9.4</td>\n",
       "      <td>Turkey</td>\n",
       "    </tr>\n",
       "    <tr>\n",
       "      <th>85854</th>\n",
       "      <td>tt9914942</td>\n",
       "      <td>6.8</td>\n",
       "      <td>Spain</td>\n",
       "    </tr>\n",
       "  </tbody>\n",
       "</table>\n",
       "<p>85855 rows × 3 columns</p>\n",
       "</div>"
      ],
      "text/plain": [
       "      imdb_title_id  mean_vote           country\n",
       "0         tt0000009        5.9               USA\n",
       "1         tt0000574        6.3         Australia\n",
       "2         tt0001892        6.0  Germany, Denmark\n",
       "3         tt0002101        5.3               USA\n",
       "4         tt0002130        6.9             Italy\n",
       "...             ...        ...               ...\n",
       "85850     tt9908390        5.5   France, Belgium\n",
       "85851     tt9911196        7.9       Netherlands\n",
       "85852     tt9911774        7.8             India\n",
       "85853     tt9914286        9.4            Turkey\n",
       "85854     tt9914942        6.8             Spain\n",
       "\n",
       "[85855 rows x 3 columns]"
      ]
     },
     "execution_count": 24,
     "metadata": {
      "tags": []
     },
     "output_type": "execute_result"
    }
   ],
   "source": [
    "vc = pd.merge(ratings[['imdb_title_id', 'mean_vote']], movies[['imdb_title_id', 'country']], on='imdb_title_id')\n",
    "vc"
   ]
  },
  {
   "cell_type": "code",
   "execution_count": 25,
   "metadata": {
    "colab": {
     "base_uri": "https://localhost:8080/",
     "height": 277
    },
    "executionInfo": {
     "elapsed": 50414,
     "status": "ok",
     "timestamp": 1616429627455,
     "user": {
      "displayName": "Lucas Augusto",
      "photoUrl": "https://lh3.googleusercontent.com/a-/AOh14GhKyK-ERGs5QO0SG3PBzrISYGaLYQokTYyFURVSwA=s64",
      "userId": "14088004947059534312"
     },
     "user_tz": 180
    },
    "id": "XYWuXWD_miQW",
    "outputId": "6d89cfc5-4c0d-4628-94dc-e5cf05f4d0a5"
   },
   "outputs": [
    {
     "data": {
      "text/html": [
       "<div>\n",
       "<style scoped>\n",
       "    .dataframe tbody tr th:only-of-type {\n",
       "        vertical-align: middle;\n",
       "    }\n",
       "\n",
       "    .dataframe tbody tr th {\n",
       "        vertical-align: top;\n",
       "    }\n",
       "\n",
       "    .dataframe thead th {\n",
       "        text-align: right;\n",
       "    }\n",
       "</style>\n",
       "<table border=\"1\" class=\"dataframe\">\n",
       "  <thead>\n",
       "    <tr style=\"text-align: right;\">\n",
       "      <th></th>\n",
       "      <th>mean_vote</th>\n",
       "    </tr>\n",
       "  </thead>\n",
       "  <tbody>\n",
       "    <tr>\n",
       "      <th>count</th>\n",
       "      <td>28511.000000</td>\n",
       "    </tr>\n",
       "    <tr>\n",
       "      <th>mean</th>\n",
       "      <td>5.951036</td>\n",
       "    </tr>\n",
       "    <tr>\n",
       "      <th>std</th>\n",
       "      <td>1.189045</td>\n",
       "    </tr>\n",
       "    <tr>\n",
       "      <th>min</th>\n",
       "      <td>1.400000</td>\n",
       "    </tr>\n",
       "    <tr>\n",
       "      <th>25%</th>\n",
       "      <td>5.200000</td>\n",
       "    </tr>\n",
       "    <tr>\n",
       "      <th>50%</th>\n",
       "      <td>6.100000</td>\n",
       "    </tr>\n",
       "    <tr>\n",
       "      <th>75%</th>\n",
       "      <td>6.800000</td>\n",
       "    </tr>\n",
       "    <tr>\n",
       "      <th>max</th>\n",
       "      <td>9.700000</td>\n",
       "    </tr>\n",
       "  </tbody>\n",
       "</table>\n",
       "</div>"
      ],
      "text/plain": [
       "          mean_vote\n",
       "count  28511.000000\n",
       "mean       5.951036\n",
       "std        1.189045\n",
       "min        1.400000\n",
       "25%        5.200000\n",
       "50%        6.100000\n",
       "75%        6.800000\n",
       "max        9.700000"
      ]
     },
     "execution_count": 25,
     "metadata": {
      "tags": []
     },
     "output_type": "execute_result"
    }
   ],
   "source": [
    "us = vc[vc['country'] == 'USA']\n",
    "us.describe()"
   ]
  },
  {
   "cell_type": "code",
   "execution_count": 26,
   "metadata": {
    "colab": {
     "base_uri": "https://localhost:8080/",
     "height": 277
    },
    "executionInfo": {
     "elapsed": 50410,
     "status": "ok",
     "timestamp": 1616429627462,
     "user": {
      "displayName": "Lucas Augusto",
      "photoUrl": "https://lh3.googleusercontent.com/a-/AOh14GhKyK-ERGs5QO0SG3PBzrISYGaLYQokTYyFURVSwA=s64",
      "userId": "14088004947059534312"
     },
     "user_tz": 180
    },
    "id": "IdmQi59FmiQW",
    "outputId": "7935380b-ae31-4572-d5e3-6773137a17e9"
   },
   "outputs": [
    {
     "data": {
      "text/html": [
       "<div>\n",
       "<style scoped>\n",
       "    .dataframe tbody tr th:only-of-type {\n",
       "        vertical-align: middle;\n",
       "    }\n",
       "\n",
       "    .dataframe tbody tr th {\n",
       "        vertical-align: top;\n",
       "    }\n",
       "\n",
       "    .dataframe thead th {\n",
       "        text-align: right;\n",
       "    }\n",
       "</style>\n",
       "<table border=\"1\" class=\"dataframe\">\n",
       "  <thead>\n",
       "    <tr style=\"text-align: right;\">\n",
       "      <th></th>\n",
       "      <th>mean_vote</th>\n",
       "    </tr>\n",
       "  </thead>\n",
       "  <tbody>\n",
       "    <tr>\n",
       "      <th>count</th>\n",
       "      <td>57344.000000</td>\n",
       "    </tr>\n",
       "    <tr>\n",
       "      <th>mean</th>\n",
       "      <td>6.363222</td>\n",
       "    </tr>\n",
       "    <tr>\n",
       "      <th>std</th>\n",
       "      <td>1.113067</td>\n",
       "    </tr>\n",
       "    <tr>\n",
       "      <th>min</th>\n",
       "      <td>1.000000</td>\n",
       "    </tr>\n",
       "    <tr>\n",
       "      <th>25%</th>\n",
       "      <td>5.700000</td>\n",
       "    </tr>\n",
       "    <tr>\n",
       "      <th>50%</th>\n",
       "      <td>6.500000</td>\n",
       "    </tr>\n",
       "    <tr>\n",
       "      <th>75%</th>\n",
       "      <td>7.100000</td>\n",
       "    </tr>\n",
       "    <tr>\n",
       "      <th>max</th>\n",
       "      <td>9.800000</td>\n",
       "    </tr>\n",
       "  </tbody>\n",
       "</table>\n",
       "</div>"
      ],
      "text/plain": [
       "          mean_vote\n",
       "count  57344.000000\n",
       "mean       6.363222\n",
       "std        1.113067\n",
       "min        1.000000\n",
       "25%        5.700000\n",
       "50%        6.500000\n",
       "75%        7.100000\n",
       "max        9.800000"
      ]
     },
     "execution_count": 26,
     "metadata": {
      "tags": []
     },
     "output_type": "execute_result"
    }
   ],
   "source": [
    "no_us = vc[vc['country'] != 'USA']\n",
    "no_us.describe()"
   ]
  },
  {
   "cell_type": "markdown",
   "metadata": {
    "id": "NTYs76jsCmTH"
   },
   "source": [
    "* Plotando os dados das diferentes classes geradas:"
   ]
  },
  {
   "cell_type": "code",
   "execution_count": 27,
   "metadata": {
    "colab": {
     "base_uri": "https://localhost:8080/",
     "height": 532
    },
    "executionInfo": {
     "elapsed": 50396,
     "status": "ok",
     "timestamp": 1616429627463,
     "user": {
      "displayName": "Lucas Augusto",
      "photoUrl": "https://lh3.googleusercontent.com/a-/AOh14GhKyK-ERGs5QO0SG3PBzrISYGaLYQokTYyFURVSwA=s64",
      "userId": "14088004947059534312"
     },
     "user_tz": 180
    },
    "id": "RyfFqM5emiQW",
    "outputId": "f4554abb-04d8-4099-d625-8d99e22ac4d2"
   },
   "outputs": [
    {
     "data": {
      "text/plain": [
       "<matplotlib.legend.Legend at 0x7f24588c9410>"
      ]
     },
     "execution_count": 27,
     "metadata": {
      "tags": []
     },
     "output_type": "execute_result"
    },
    {
     "data": {
      "image/png": "[encoded data removed]",
      "text/plain": [
       "<Figure size 864x576 with 1 Axes>"
      ]
     },
     "metadata": {
      "needs_background": "light",
      "tags": []
     },
     "output_type": "display_data"
    }
   ],
   "source": [
    "plt.hist(us['mean_vote'], alpha=0.3, edgecolor='k', label='USA')\n",
    "plt.hist(no_us['mean_vote'], alpha=0.3, edgecolor='k', label='No USA')\n",
    "plt.xlabel('Avaliação Média')\n",
    "plt.ylabel('# de votos')\n",
    "plt.legend()"
   ]
  },
  {
   "cell_type": "markdown",
   "metadata": {
    "id": "TY2OQdJhmiQX"
   },
   "source": [
    "#### Checando intervalos de confiança com Bootstrap"
   ]
  },
  {
   "cell_type": "markdown",
   "metadata": {
    "id": "wzWOYGRRCv6q"
   },
   "source": [
    "* Distribuição dos dados da primeira classe:"
   ]
  },
  {
   "cell_type": "code",
   "execution_count": 28,
   "metadata": {
    "colab": {
     "base_uri": "https://localhost:8080/"
    },
    "executionInfo": {
     "elapsed": 54244,
     "status": "ok",
     "timestamp": 1616429631324,
     "user": {
      "displayName": "Lucas Augusto",
      "photoUrl": "https://lh3.googleusercontent.com/a-/AOh14GhKyK-ERGs5QO0SG3PBzrISYGaLYQokTYyFURVSwA=s64",
      "userId": "14088004947059534312"
     },
     "user_tz": 180
    },
    "id": "l3X9aj2FmiQX",
    "outputId": "9e0a905c-8207-4845-8cfa-a4fa2f105d94"
   },
   "outputs": [
    {
     "data": {
      "text/plain": [
       "(5.937034565606234, 5.964818666479586)"
      ]
     },
     "execution_count": 28,
     "metadata": {
      "tags": []
     },
     "output_type": "execute_result"
    }
   ],
   "source": [
    "ic_bootstrap(us, 'mean_vote')"
   ]
  },
  {
   "cell_type": "markdown",
   "metadata": {
    "id": "AMJGgTA-Ctjw"
   },
   "source": [
    "* Distribuição dos dados da segunda classe:"
   ]
  },
  {
   "cell_type": "code",
   "execution_count": 29,
   "metadata": {
    "colab": {
     "base_uri": "https://localhost:8080/"
    },
    "executionInfo": {
     "elapsed": 62571,
     "status": "ok",
     "timestamp": 1616429639661,
     "user": {
      "displayName": "Lucas Augusto",
      "photoUrl": "https://lh3.googleusercontent.com/a-/AOh14GhKyK-ERGs5QO0SG3PBzrISYGaLYQokTYyFURVSwA=s64",
      "userId": "14088004947059534312"
     },
     "user_tz": 180
    },
    "id": "xsCcS2WzmiQX",
    "outputId": "e08b60eb-9dc2-4c6c-a9c3-ccee5d36b3ab"
   },
   "outputs": [
    {
     "data": {
      "text/plain": [
       "(6.354142892020093, 6.3722518920898175)"
      ]
     },
     "execution_count": 29,
     "metadata": {
      "tags": []
     },
     "output_type": "execute_result"
    }
   ],
   "source": [
    "ic_bootstrap(no_us, 'mean_vote')"
   ]
  },
  {
   "cell_type": "markdown",
   "metadata": {
    "id": "Nx0RXZUIDBep"
   },
   "source": [
    "* Plotando os resultados para melhor visualização:"
   ]
  },
  {
   "cell_type": "code",
   "execution_count": 30,
   "metadata": {
    "executionInfo": {
     "elapsed": 74431,
     "status": "ok",
     "timestamp": 1616429651523,
     "user": {
      "displayName": "Lucas Augusto",
      "photoUrl": "https://lh3.googleusercontent.com/a-/AOh14GhKyK-ERGs5QO0SG3PBzrISYGaLYQokTYyFURVSwA=s64",
      "userId": "14088004947059534312"
     },
     "user_tz": 180
    },
    "id": "RaJuw9TimiQY"
   },
   "outputs": [],
   "source": [
    "samples_us = bootstrap_mean(us, 'mean_vote')\n",
    "samples_no_us = bootstrap_mean(no_us, 'mean_vote')\n",
    "to_plot = pd.DataFrame()\n",
    "to_plot['USA'] = samples_us\n",
    "to_plot['No USA'] = samples_no_us"
   ]
  },
  {
   "cell_type": "code",
   "execution_count": 31,
   "metadata": {
    "colab": {
     "base_uri": "https://localhost:8080/",
     "height": 515
    },
    "executionInfo": {
     "elapsed": 74427,
     "status": "ok",
     "timestamp": 1616429651529,
     "user": {
      "displayName": "Lucas Augusto",
      "photoUrl": "https://lh3.googleusercontent.com/a-/AOh14GhKyK-ERGs5QO0SG3PBzrISYGaLYQokTYyFURVSwA=s64",
      "userId": "14088004947059534312"
     },
     "user_tz": 180
    },
    "id": "vuCddK3JmiQY",
    "outputId": "2a0650aa-dfb3-4a94-c058-49bcad4b89ff"
   },
   "outputs": [
    {
     "data": {
      "text/plain": [
       "Text(0, 0.5, 'Média')"
      ]
     },
     "execution_count": 31,
     "metadata": {
      "tags": []
     },
     "output_type": "execute_result"
    },
    {
     "data": {
      "image/png": "[encoded data removed]",
      "text/plain": [
       "<Figure size 864x576 with 1 Axes>"
      ]
     },
     "metadata": {
      "needs_background": "light",
      "tags": []
     },
     "output_type": "display_data"
    }
   ],
   "source": [
    "to_plot.boxplot(grid=False, sym='', whis=[5, 95], showmeans=True)\n",
    "plt.ylim(5.9, 6.4)\n",
    "plt.ylabel('Média')"
   ]
  },
  {
   "cell_type": "markdown",
   "metadata": {
    "id": "jn3CwUn_miQZ"
   },
   "source": [
    "O intervalo das médias não se cruzam, porém, a nota média dos filmes dos EUA é menor que a de produções de outros países, logo, rejeitamos nossa hipótese. Outra hipótese:"
   ]
  },
  {
   "cell_type": "markdown",
   "metadata": {
    "id": "FmkaWHfDmiQZ"
   },
   "source": [
    "### <div id=\"teste4\"><a href=\"#sumario\"><h3>d. Teste 4</h3></a></div> "
   ]
  },
  {
   "cell_type": "markdown",
   "metadata": {
    "id": "Qr_BMaOMmiQa"
   },
   "source": [
    "Filmes que possuem 'Action' como um dos gêneros são mais populares"
   ]
  },
  {
   "cell_type": "markdown",
   "metadata": {
    "id": "j23qyl9qmiQa"
   },
   "source": [
    "#### Análise Exploratória"
   ]
  },
  {
   "cell_type": "markdown",
   "metadata": {
    "id": "dRgJFui9DNjR"
   },
   "source": [
    "* Visualizando os atributos presentes na tabela a ser utilizada:"
   ]
  },
  {
   "cell_type": "code",
   "execution_count": 32,
   "metadata": {
    "colab": {
     "base_uri": "https://localhost:8080/"
    },
    "executionInfo": {
     "elapsed": 75449,
     "status": "ok",
     "timestamp": 1616429652561,
     "user": {
      "displayName": "Lucas Augusto",
      "photoUrl": "https://lh3.googleusercontent.com/a-/AOh14GhKyK-ERGs5QO0SG3PBzrISYGaLYQokTYyFURVSwA=s64",
      "userId": "14088004947059534312"
     },
     "user_tz": 180
    },
    "id": "xu8AoXVSmiQa",
    "outputId": "71fa41aa-4e6c-4ac2-e5eb-5417a5bc0966"
   },
   "outputs": [
    {
     "data": {
      "text/plain": [
       "Index(['imdb_title_id', 'title', 'original_title', 'year', 'date_published',\n",
       "       'genre', 'duration', 'country', 'language', 'director', 'writer',\n",
       "       'production_company', 'actors', 'description', 'avg_vote', 'votes',\n",
       "       'budget', 'usa_gross_income', 'worlwide_gross_income', 'metascore',\n",
       "       'reviews_from_users', 'reviews_from_critics'],\n",
       "      dtype='object')"
      ]
     },
     "execution_count": 32,
     "metadata": {
      "tags": []
     },
     "output_type": "execute_result"
    }
   ],
   "source": [
    "movies.columns"
   ]
  },
  {
   "cell_type": "markdown",
   "metadata": {
    "id": "3jO_hNYUDUQt"
   },
   "source": [
    "* Tratando os dados que serão utilizados:\n"
   ]
  },
  {
   "cell_type": "code",
   "execution_count": 33,
   "metadata": {
    "colab": {
     "base_uri": "https://localhost:8080/",
     "height": 391
    },
    "executionInfo": {
     "elapsed": 75441,
     "status": "ok",
     "timestamp": 1616429652563,
     "user": {
      "displayName": "Lucas Augusto",
      "photoUrl": "https://lh3.googleusercontent.com/a-/AOh14GhKyK-ERGs5QO0SG3PBzrISYGaLYQokTYyFURVSwA=s64",
      "userId": "14088004947059534312"
     },
     "user_tz": 180
    },
    "id": "P86l5uZkmiQb",
    "outputId": "04db4d28-7925-4176-b103-3702ac9d6d44"
   },
   "outputs": [
    {
     "data": {
      "text/html": [
       "<div>\n",
       "<style scoped>\n",
       "    .dataframe tbody tr th:only-of-type {\n",
       "        vertical-align: middle;\n",
       "    }\n",
       "\n",
       "    .dataframe tbody tr th {\n",
       "        vertical-align: top;\n",
       "    }\n",
       "\n",
       "    .dataframe thead th {\n",
       "        text-align: right;\n",
       "    }\n",
       "</style>\n",
       "<table border=\"1\" class=\"dataframe\">\n",
       "  <thead>\n",
       "    <tr style=\"text-align: right;\">\n",
       "      <th></th>\n",
       "      <th>genre</th>\n",
       "      <th>votes</th>\n",
       "    </tr>\n",
       "  </thead>\n",
       "  <tbody>\n",
       "    <tr>\n",
       "      <th>0</th>\n",
       "      <td>Romance</td>\n",
       "      <td>154</td>\n",
       "    </tr>\n",
       "    <tr>\n",
       "      <th>1</th>\n",
       "      <td>Biography, Crime, Drama</td>\n",
       "      <td>589</td>\n",
       "    </tr>\n",
       "    <tr>\n",
       "      <th>2</th>\n",
       "      <td>Drama</td>\n",
       "      <td>188</td>\n",
       "    </tr>\n",
       "    <tr>\n",
       "      <th>3</th>\n",
       "      <td>Drama, History</td>\n",
       "      <td>446</td>\n",
       "    </tr>\n",
       "    <tr>\n",
       "      <th>4</th>\n",
       "      <td>Adventure, Drama, Fantasy</td>\n",
       "      <td>2237</td>\n",
       "    </tr>\n",
       "    <tr>\n",
       "      <th>...</th>\n",
       "      <td>...</td>\n",
       "      <td>...</td>\n",
       "    </tr>\n",
       "    <tr>\n",
       "      <th>85850</th>\n",
       "      <td>Comedy</td>\n",
       "      <td>398</td>\n",
       "    </tr>\n",
       "    <tr>\n",
       "      <th>85851</th>\n",
       "      <td>Comedy, Drama</td>\n",
       "      <td>724</td>\n",
       "    </tr>\n",
       "    <tr>\n",
       "      <th>85852</th>\n",
       "      <td>Drama</td>\n",
       "      <td>265</td>\n",
       "    </tr>\n",
       "    <tr>\n",
       "      <th>85853</th>\n",
       "      <td>Drama, Family</td>\n",
       "      <td>194</td>\n",
       "    </tr>\n",
       "    <tr>\n",
       "      <th>85854</th>\n",
       "      <td>Drama</td>\n",
       "      <td>102</td>\n",
       "    </tr>\n",
       "  </tbody>\n",
       "</table>\n",
       "<p>85855 rows × 2 columns</p>\n",
       "</div>"
      ],
      "text/plain": [
       "                           genre  votes\n",
       "0                        Romance    154\n",
       "1        Biography, Crime, Drama    589\n",
       "2                          Drama    188\n",
       "3                 Drama, History    446\n",
       "4      Adventure, Drama, Fantasy   2237\n",
       "...                          ...    ...\n",
       "85850                     Comedy    398\n",
       "85851              Comedy, Drama    724\n",
       "85852                      Drama    265\n",
       "85853              Drama, Family    194\n",
       "85854                      Drama    102\n",
       "\n",
       "[85855 rows x 2 columns]"
      ]
     },
     "execution_count": 33,
     "metadata": {
      "tags": []
     },
     "output_type": "execute_result"
    }
   ],
   "source": [
    "gv = movies[['genre', 'votes']].dropna()\n",
    "gv            "
   ]
  },
  {
   "cell_type": "code",
   "execution_count": 34,
   "metadata": {
    "colab": {
     "base_uri": "https://localhost:8080/",
     "height": 277
    },
    "executionInfo": {
     "elapsed": 75436,
     "status": "ok",
     "timestamp": 1616429652569,
     "user": {
      "displayName": "Lucas Augusto",
      "photoUrl": "https://lh3.googleusercontent.com/a-/AOh14GhKyK-ERGs5QO0SG3PBzrISYGaLYQokTYyFURVSwA=s64",
      "userId": "14088004947059534312"
     },
     "user_tz": 180
    },
    "id": "KO9tgGrDmiQc",
    "outputId": "015e9914-9e8e-4b64-9c3e-89e577ba3262"
   },
   "outputs": [
    {
     "data": {
      "text/html": [
       "<div>\n",
       "<style scoped>\n",
       "    .dataframe tbody tr th:only-of-type {\n",
       "        vertical-align: middle;\n",
       "    }\n",
       "\n",
       "    .dataframe tbody tr th {\n",
       "        vertical-align: top;\n",
       "    }\n",
       "\n",
       "    .dataframe thead th {\n",
       "        text-align: right;\n",
       "    }\n",
       "</style>\n",
       "<table border=\"1\" class=\"dataframe\">\n",
       "  <thead>\n",
       "    <tr style=\"text-align: right;\">\n",
       "      <th></th>\n",
       "      <th>votes</th>\n",
       "    </tr>\n",
       "  </thead>\n",
       "  <tbody>\n",
       "    <tr>\n",
       "      <th>count</th>\n",
       "      <td>12948.00000</td>\n",
       "    </tr>\n",
       "    <tr>\n",
       "      <th>mean</th>\n",
       "      <td>20712.99985</td>\n",
       "    </tr>\n",
       "    <tr>\n",
       "      <th>std</th>\n",
       "      <td>87583.58916</td>\n",
       "    </tr>\n",
       "    <tr>\n",
       "      <th>min</th>\n",
       "      <td>100.00000</td>\n",
       "    </tr>\n",
       "    <tr>\n",
       "      <th>25%</th>\n",
       "      <td>251.00000</td>\n",
       "    </tr>\n",
       "    <tr>\n",
       "      <th>50%</th>\n",
       "      <td>734.00000</td>\n",
       "    </tr>\n",
       "    <tr>\n",
       "      <th>75%</th>\n",
       "      <td>3632.75000</td>\n",
       "    </tr>\n",
       "    <tr>\n",
       "      <th>max</th>\n",
       "      <td>2241615.00000</td>\n",
       "    </tr>\n",
       "  </tbody>\n",
       "</table>\n",
       "</div>"
      ],
      "text/plain": [
       "               votes\n",
       "count    12948.00000\n",
       "mean     20712.99985\n",
       "std      87583.58916\n",
       "min        100.00000\n",
       "25%        251.00000\n",
       "50%        734.00000\n",
       "75%       3632.75000\n",
       "max    2241615.00000"
      ]
     },
     "execution_count": 34,
     "metadata": {
      "tags": []
     },
     "output_type": "execute_result"
    }
   ],
   "source": [
    "action = gv[gv['genre'].str.contains(\"Action\")]\n",
    "action.describe().apply(lambda s: s.apply('{0:.5f}'.format))"
   ]
  },
  {
   "cell_type": "code",
   "execution_count": 35,
   "metadata": {
    "colab": {
     "base_uri": "https://localhost:8080/",
     "height": 277
    },
    "executionInfo": {
     "elapsed": 75424,
     "status": "ok",
     "timestamp": 1616429652571,
     "user": {
      "displayName": "Lucas Augusto",
      "photoUrl": "https://lh3.googleusercontent.com/a-/AOh14GhKyK-ERGs5QO0SG3PBzrISYGaLYQokTYyFURVSwA=s64",
      "userId": "14088004947059534312"
     },
     "user_tz": 180
    },
    "id": "mBzL3MtlmiQd",
    "outputId": "67f752c1-79b0-42fe-8008-601d75a575ac"
   },
   "outputs": [
    {
     "data": {
      "text/html": [
       "<div>\n",
       "<style scoped>\n",
       "    .dataframe tbody tr th:only-of-type {\n",
       "        vertical-align: middle;\n",
       "    }\n",
       "\n",
       "    .dataframe tbody tr th {\n",
       "        vertical-align: top;\n",
       "    }\n",
       "\n",
       "    .dataframe thead th {\n",
       "        text-align: right;\n",
       "    }\n",
       "</style>\n",
       "<table border=\"1\" class=\"dataframe\">\n",
       "  <thead>\n",
       "    <tr style=\"text-align: right;\">\n",
       "      <th></th>\n",
       "      <th>votes</th>\n",
       "    </tr>\n",
       "  </thead>\n",
       "  <tbody>\n",
       "    <tr>\n",
       "      <th>count</th>\n",
       "      <td>72907.00000</td>\n",
       "    </tr>\n",
       "    <tr>\n",
       "      <th>mean</th>\n",
       "      <td>7500.94817</td>\n",
       "    </tr>\n",
       "    <tr>\n",
       "      <th>std</th>\n",
       "      <td>44625.09056</td>\n",
       "    </tr>\n",
       "    <tr>\n",
       "      <th>min</th>\n",
       "      <td>99.00000</td>\n",
       "    </tr>\n",
       "    <tr>\n",
       "      <th>25%</th>\n",
       "      <td>199.00000</td>\n",
       "    </tr>\n",
       "    <tr>\n",
       "      <th>50%</th>\n",
       "      <td>455.00000</td>\n",
       "    </tr>\n",
       "    <tr>\n",
       "      <th>75%</th>\n",
       "      <td>1578.50000</td>\n",
       "    </tr>\n",
       "    <tr>\n",
       "      <th>max</th>\n",
       "      <td>2278845.00000</td>\n",
       "    </tr>\n",
       "  </tbody>\n",
       "</table>\n",
       "</div>"
      ],
      "text/plain": [
       "               votes\n",
       "count    72907.00000\n",
       "mean      7500.94817\n",
       "std      44625.09056\n",
       "min         99.00000\n",
       "25%        199.00000\n",
       "50%        455.00000\n",
       "75%       1578.50000\n",
       "max    2278845.00000"
      ]
     },
     "execution_count": 35,
     "metadata": {
      "tags": []
     },
     "output_type": "execute_result"
    }
   ],
   "source": [
    "no_action = gv[~gv['genre'].str.contains(\"Action\")]\n",
    "no_action.describe().apply(lambda s: s.apply('{0:.5f}'.format))"
   ]
  },
  {
   "cell_type": "markdown",
   "metadata": {
    "id": "Jyne1Ex1DYTL"
   },
   "source": [
    "* Plotando os dados das diferentes classes geradas:"
   ]
  },
  {
   "cell_type": "code",
   "execution_count": 36,
   "metadata": {
    "colab": {
     "base_uri": "https://localhost:8080/",
     "height": 532
    },
    "executionInfo": {
     "elapsed": 75413,
     "status": "ok",
     "timestamp": 1616429652572,
     "user": {
      "displayName": "Lucas Augusto",
      "photoUrl": "https://lh3.googleusercontent.com/a-/AOh14GhKyK-ERGs5QO0SG3PBzrISYGaLYQokTYyFURVSwA=s64",
      "userId": "14088004947059534312"
     },
     "user_tz": 180
    },
    "id": "VuGxBMNbmiQd",
    "outputId": "c33777d5-68ac-47a7-c30d-33598702f391"
   },
   "outputs": [
    {
     "data": {
      "text/plain": [
       "<matplotlib.legend.Legend at 0x7f245868abd0>"
      ]
     },
     "execution_count": 36,
     "metadata": {
      "tags": []
     },
     "output_type": "execute_result"
    },
    {
     "data": {
      "image/png": "[encoded data removed]",
      "text/plain": [
       "<Figure size 864x576 with 1 Axes>"
      ]
     },
     "metadata": {
      "needs_background": "light",
      "tags": []
     },
     "output_type": "display_data"
    }
   ],
   "source": [
    "plt.hist(us['mean_vote'], alpha=0.3, edgecolor='k', label='USA')\n",
    "plt.hist(no_us['mean_vote'], alpha=0.3, edgecolor='k', label='No USA')\n",
    "plt.xlabel('Avaliação Média')\n",
    "plt.ylabel('# de votos')\n",
    "plt.legend()"
   ]
  },
  {
   "cell_type": "code",
   "execution_count": 37,
   "metadata": {
    "colab": {
     "base_uri": "https://localhost:8080/",
     "height": 533
    },
    "executionInfo": {
     "elapsed": 76272,
     "status": "ok",
     "timestamp": 1616429653444,
     "user": {
      "displayName": "Lucas Augusto",
      "photoUrl": "https://lh3.googleusercontent.com/a-/AOh14GhKyK-ERGs5QO0SG3PBzrISYGaLYQokTYyFURVSwA=s64",
      "userId": "14088004947059534312"
     },
     "user_tz": 180
    },
    "id": "iZCvZkntmiQe",
    "outputId": "e8122d46-ffce-4686-c375-c98e9369d7b1"
   },
   "outputs": [
    {
     "data": {
      "text/plain": [
       "<matplotlib.legend.Legend at 0x7f245888f610>"
      ]
     },
     "execution_count": 37,
     "metadata": {
      "tags": []
     },
     "output_type": "execute_result"
    },
    {
     "data": {
      "image/png": "[encoded data removed]",
      "text/plain": [
       "<Figure size 864x576 with 1 Axes>"
      ]
     },
     "metadata": {
      "needs_background": "light",
      "tags": []
     },
     "output_type": "display_data"
    }
   ],
   "source": [
    "bins = np.logspace(np.log10(action['votes'].min()), np.log10(action['votes'].max()))\n",
    "plt.hist(action['votes'], bins=bins, alpha=0.3, edgecolor='k', label='Action')\n",
    "bins = np.logspace(np.log10(no_action['votes'].min()), np.log10(no_action['votes'].max()))\n",
    "plt.hist(no_action['votes'], bins=bins, alpha=0.3, edgecolor='k', label='No Action')\n",
    "ax = plt.gca()\n",
    "ax.set_yscale('log')\n",
    "ax.set_xscale('log')\n",
    "plt.xlabel('Popularidade dos filme')\n",
    "plt.ylabel('# de votos')\n",
    "plt.legend()"
   ]
  },
  {
   "cell_type": "markdown",
   "metadata": {
    "id": "Qkb28GQQmiQe"
   },
   "source": [
    "#### Checando intervalos de confiança com Bootstrap"
   ]
  },
  {
   "cell_type": "markdown",
   "metadata": {
    "id": "9oP1mdROCpTy"
   },
   "source": [
    "* Distribuição dos dados da primeira classe:"
   ]
  },
  {
   "cell_type": "code",
   "execution_count": 38,
   "metadata": {
    "colab": {
     "base_uri": "https://localhost:8080/"
    },
    "executionInfo": {
     "elapsed": 78679,
     "status": "ok",
     "timestamp": 1616429655864,
     "user": {
      "displayName": "Lucas Augusto",
      "photoUrl": "https://lh3.googleusercontent.com/a-/AOh14GhKyK-ERGs5QO0SG3PBzrISYGaLYQokTYyFURVSwA=s64",
      "userId": "14088004947059534312"
     },
     "user_tz": 180
    },
    "id": "Y_O95kPBmiQf",
    "outputId": "5686b348-0581-4c80-c3c9-8119d8024d4a"
   },
   "outputs": [
    {
     "data": {
      "text/plain": [
       "(19262.399482545567, 22236.429807692308)"
      ]
     },
     "execution_count": 38,
     "metadata": {
      "tags": []
     },
     "output_type": "execute_result"
    }
   ],
   "source": [
    "ic_bootstrap(action, 'votes')"
   ]
  },
  {
   "cell_type": "markdown",
   "metadata": {
    "id": "rRnQZDOQDe_f"
   },
   "source": [
    "* Distribuição dos dados da segunda classe:"
   ]
  },
  {
   "cell_type": "code",
   "execution_count": 39,
   "metadata": {
    "colab": {
     "base_uri": "https://localhost:8080/"
    },
    "executionInfo": {
     "elapsed": 96379,
     "status": "ok",
     "timestamp": 1616429673573,
     "user": {
      "displayName": "Lucas Augusto",
      "photoUrl": "https://lh3.googleusercontent.com/a-/AOh14GhKyK-ERGs5QO0SG3PBzrISYGaLYQokTYyFURVSwA=s64",
      "userId": "14088004947059534312"
     },
     "user_tz": 180
    },
    "id": "k7LoX3G_miQf",
    "outputId": "61f6eb2c-9317-4fde-bf5e-9627b701b24a"
   },
   "outputs": [
    {
     "data": {
      "text/plain": [
       "(7180.813331024456, 7817.966075959784)"
      ]
     },
     "execution_count": 39,
     "metadata": {
      "tags": []
     },
     "output_type": "execute_result"
    }
   ],
   "source": [
    "ic_bootstrap(no_action, 'votes')"
   ]
  },
  {
   "cell_type": "markdown",
   "metadata": {
    "id": "W1JcEACzDkFW"
   },
   "source": [
    "* Obtendo os dados da diferença entre as médias de avaliação para cada uma das diferentes classes a partir de um bootstrap:"
   ]
  },
  {
   "cell_type": "code",
   "execution_count": 40,
   "metadata": {
    "executionInfo": {
     "elapsed": 102568,
     "status": "ok",
     "timestamp": 1616429679764,
     "user": {
      "displayName": "Lucas Augusto",
      "photoUrl": "https://lh3.googleusercontent.com/a-/AOh14GhKyK-ERGs5QO0SG3PBzrISYGaLYQokTYyFURVSwA=s64",
      "userId": "14088004947059534312"
     },
     "user_tz": 180
    },
    "id": "FORo67-jmiQf"
   },
   "outputs": [],
   "source": [
    "diff = bootstrap_diff(action, no_action, 'votes')"
   ]
  },
  {
   "cell_type": "markdown",
   "metadata": {
    "id": "sAvO9CghDmS1"
   },
   "source": [
    "* Plot dos valores recebidos para a referida diferença:"
   ]
  },
  {
   "cell_type": "code",
   "execution_count": 41,
   "metadata": {
    "colab": {
     "base_uri": "https://localhost:8080/",
     "height": 531
    },
    "executionInfo": {
     "elapsed": 103544,
     "status": "ok",
     "timestamp": 1616429680750,
     "user": {
      "displayName": "Lucas Augusto",
      "photoUrl": "https://lh3.googleusercontent.com/a-/AOh14GhKyK-ERGs5QO0SG3PBzrISYGaLYQokTYyFURVSwA=s64",
      "userId": "14088004947059534312"
     },
     "user_tz": 180
    },
    "id": "KOCeSs9MmiQg",
    "outputId": "dc65a52f-af2f-424d-d9d9-f3d6538b18a4"
   },
   "outputs": [
    {
     "data": {
      "text/plain": [
       "Text(0, 0.5, 'Freq')"
      ]
     },
     "execution_count": 41,
     "metadata": {
      "tags": []
     },
     "output_type": "execute_result"
    },
    {
     "data": {
      "image/png": "[encoded data removed]",
      "text/plain": [
       "<Figure size 864x576 with 1 Axes>"
      ]
     },
     "metadata": {
      "needs_background": "light",
      "tags": []
     },
     "output_type": "display_data"
    }
   ],
   "source": [
    "plt.hist(diff, edgecolor='k')\n",
    "plt.xlabel('Média Action - Média Geral')\n",
    "plt.ylabel('Freq')"
   ]
  },
  {
   "cell_type": "markdown",
   "metadata": {
    "id": "DadvHWGCmiQg"
   },
   "source": [
    "O intervalo das médias não se cruzam, filmes de ação recebem em média milhares de votos a mais do que produções sem esse gênero, confirmamos a hipótese."
   ]
  },
  {
   "cell_type": "markdown",
   "metadata": {
    "id": "xfYjUo0XmiQg"
   },
   "source": [
    "### <div id=\"teste5\"><a href=\"#sumario\"><h3>e. Teste 5</h3></a></div> "
   ]
  },
  {
   "cell_type": "markdown",
   "metadata": {
    "id": "BINgFrtXmiQh"
   },
   "source": [
    "Filmes de duração maior que 100 minutos têm avaliação mais baixa"
   ]
  },
  {
   "cell_type": "markdown",
   "metadata": {
    "id": "YQPYw8SYmiQh"
   },
   "source": [
    "#### Análise Exploratória"
   ]
  },
  {
   "cell_type": "markdown",
   "metadata": {
    "id": "26nhJhP1Dq4d"
   },
   "source": [
    "* Visualizando os atributos presentes nas tabelas que serão utilizadas:"
   ]
  },
  {
   "cell_type": "code",
   "execution_count": 42,
   "metadata": {
    "colab": {
     "base_uri": "https://localhost:8080/"
    },
    "executionInfo": {
     "elapsed": 103535,
     "status": "ok",
     "timestamp": 1616429680751,
     "user": {
      "displayName": "Lucas Augusto",
      "photoUrl": "https://lh3.googleusercontent.com/a-/AOh14GhKyK-ERGs5QO0SG3PBzrISYGaLYQokTYyFURVSwA=s64",
      "userId": "14088004947059534312"
     },
     "user_tz": 180
    },
    "id": "JU5pMCUfmiQh",
    "outputId": "cf153145-5954-4629-88f1-5b46e38867d6"
   },
   "outputs": [
    {
     "name": "stdout",
     "output_type": "stream",
     "text": [
      "Index(['imdb_title_id', 'weighted_average_vote', 'total_votes', 'mean_vote',\n",
      "       'median_vote', 'votes_10', 'votes_9', 'votes_8', 'votes_7', 'votes_6',\n",
      "       'votes_5', 'votes_4', 'votes_3', 'votes_2', 'votes_1',\n",
      "       'allgenders_0age_avg_vote', 'allgenders_0age_votes',\n",
      "       'allgenders_18age_avg_vote', 'allgenders_18age_votes',\n",
      "       'allgenders_30age_avg_vote', 'allgenders_30age_votes',\n",
      "       'allgenders_45age_avg_vote', 'allgenders_45age_votes',\n",
      "       'males_allages_avg_vote', 'males_allages_votes', 'males_0age_avg_vote',\n",
      "       'males_0age_votes', 'males_18age_avg_vote', 'males_18age_votes',\n",
      "       'males_30age_avg_vote', 'males_30age_votes', 'males_45age_avg_vote',\n",
      "       'males_45age_votes', 'females_allages_avg_vote',\n",
      "       'females_allages_votes', 'females_0age_avg_vote', 'females_0age_votes',\n",
      "       'females_18age_avg_vote', 'females_18age_votes',\n",
      "       'females_30age_avg_vote', 'females_30age_votes',\n",
      "       'females_45age_avg_vote', 'females_45age_votes',\n",
      "       'top1000_voters_rating', 'top1000_voters_votes', 'us_voters_rating',\n",
      "       'us_voters_votes', 'non_us_voters_rating', 'non_us_voters_votes'],\n",
      "      dtype='object')\n",
      "Index(['imdb_title_id', 'title', 'original_title', 'year', 'date_published',\n",
      "       'genre', 'duration', 'country', 'language', 'director', 'writer',\n",
      "       'production_company', 'actors', 'description', 'avg_vote', 'votes',\n",
      "       'budget', 'usa_gross_income', 'worlwide_gross_income', 'metascore',\n",
      "       'reviews_from_users', 'reviews_from_critics'],\n",
      "      dtype='object')\n"
     ]
    }
   ],
   "source": [
    "print(ratings.columns)\n",
    "print(movies.columns)"
   ]
  },
  {
   "cell_type": "markdown",
   "metadata": {
    "id": "i77JZZYVDvJM"
   },
   "source": [
    "* Visualizando os atributos presentes nas tabelas que serão utilizadas:"
   ]
  },
  {
   "cell_type": "code",
   "execution_count": 43,
   "metadata": {
    "colab": {
     "base_uri": "https://localhost:8080/",
     "height": 391
    },
    "executionInfo": {
     "elapsed": 103521,
     "status": "ok",
     "timestamp": 1616429680752,
     "user": {
      "displayName": "Lucas Augusto",
      "photoUrl": "https://lh3.googleusercontent.com/a-/AOh14GhKyK-ERGs5QO0SG3PBzrISYGaLYQokTYyFURVSwA=s64",
      "userId": "14088004947059534312"
     },
     "user_tz": 180
    },
    "id": "2LLi235CmiQh",
    "outputId": "9aa05b5d-c44d-482d-d094-dd97001fd64d"
   },
   "outputs": [
    {
     "data": {
      "text/html": [
       "<div>\n",
       "<style scoped>\n",
       "    .dataframe tbody tr th:only-of-type {\n",
       "        vertical-align: middle;\n",
       "    }\n",
       "\n",
       "    .dataframe tbody tr th {\n",
       "        vertical-align: top;\n",
       "    }\n",
       "\n",
       "    .dataframe thead th {\n",
       "        text-align: right;\n",
       "    }\n",
       "</style>\n",
       "<table border=\"1\" class=\"dataframe\">\n",
       "  <thead>\n",
       "    <tr style=\"text-align: right;\">\n",
       "      <th></th>\n",
       "      <th>imdb_title_id</th>\n",
       "      <th>mean_vote</th>\n",
       "      <th>duration</th>\n",
       "    </tr>\n",
       "  </thead>\n",
       "  <tbody>\n",
       "    <tr>\n",
       "      <th>0</th>\n",
       "      <td>tt0000009</td>\n",
       "      <td>5.9</td>\n",
       "      <td>45</td>\n",
       "    </tr>\n",
       "    <tr>\n",
       "      <th>1</th>\n",
       "      <td>tt0000574</td>\n",
       "      <td>6.3</td>\n",
       "      <td>70</td>\n",
       "    </tr>\n",
       "    <tr>\n",
       "      <th>2</th>\n",
       "      <td>tt0001892</td>\n",
       "      <td>6.0</td>\n",
       "      <td>53</td>\n",
       "    </tr>\n",
       "    <tr>\n",
       "      <th>3</th>\n",
       "      <td>tt0002101</td>\n",
       "      <td>5.3</td>\n",
       "      <td>100</td>\n",
       "    </tr>\n",
       "    <tr>\n",
       "      <th>4</th>\n",
       "      <td>tt0002130</td>\n",
       "      <td>6.9</td>\n",
       "      <td>68</td>\n",
       "    </tr>\n",
       "    <tr>\n",
       "      <th>...</th>\n",
       "      <td>...</td>\n",
       "      <td>...</td>\n",
       "      <td>...</td>\n",
       "    </tr>\n",
       "    <tr>\n",
       "      <th>85850</th>\n",
       "      <td>tt9908390</td>\n",
       "      <td>5.5</td>\n",
       "      <td>95</td>\n",
       "    </tr>\n",
       "    <tr>\n",
       "      <th>85851</th>\n",
       "      <td>tt9911196</td>\n",
       "      <td>7.9</td>\n",
       "      <td>103</td>\n",
       "    </tr>\n",
       "    <tr>\n",
       "      <th>85852</th>\n",
       "      <td>tt9911774</td>\n",
       "      <td>7.8</td>\n",
       "      <td>130</td>\n",
       "    </tr>\n",
       "    <tr>\n",
       "      <th>85853</th>\n",
       "      <td>tt9914286</td>\n",
       "      <td>9.4</td>\n",
       "      <td>98</td>\n",
       "    </tr>\n",
       "    <tr>\n",
       "      <th>85854</th>\n",
       "      <td>tt9914942</td>\n",
       "      <td>6.8</td>\n",
       "      <td>74</td>\n",
       "    </tr>\n",
       "  </tbody>\n",
       "</table>\n",
       "<p>85855 rows × 3 columns</p>\n",
       "</div>"
      ],
      "text/plain": [
       "      imdb_title_id  mean_vote  duration\n",
       "0         tt0000009        5.9        45\n",
       "1         tt0000574        6.3        70\n",
       "2         tt0001892        6.0        53\n",
       "3         tt0002101        5.3       100\n",
       "4         tt0002130        6.9        68\n",
       "...             ...        ...       ...\n",
       "85850     tt9908390        5.5        95\n",
       "85851     tt9911196        7.9       103\n",
       "85852     tt9911774        7.8       130\n",
       "85853     tt9914286        9.4        98\n",
       "85854     tt9914942        6.8        74\n",
       "\n",
       "[85855 rows x 3 columns]"
      ]
     },
     "execution_count": 43,
     "metadata": {
      "tags": []
     },
     "output_type": "execute_result"
    }
   ],
   "source": [
    "vc = pd.merge(ratings[['imdb_title_id', 'mean_vote']], movies[['imdb_title_id', 'duration']], on='imdb_title_id')\n",
    "vc"
   ]
  },
  {
   "cell_type": "code",
   "execution_count": 44,
   "metadata": {
    "colab": {
     "base_uri": "https://localhost:8080/",
     "height": 391
    },
    "executionInfo": {
     "elapsed": 103512,
     "status": "ok",
     "timestamp": 1616429680759,
     "user": {
      "displayName": "Lucas Augusto",
      "photoUrl": "https://lh3.googleusercontent.com/a-/AOh14GhKyK-ERGs5QO0SG3PBzrISYGaLYQokTYyFURVSwA=s64",
      "userId": "14088004947059534312"
     },
     "user_tz": 180
    },
    "id": "9R5StiLdmiQi",
    "outputId": "61780f3a-27aa-478f-f20b-9e55b59b62b1"
   },
   "outputs": [
    {
     "data": {
      "text/html": [
       "<div>\n",
       "<style scoped>\n",
       "    .dataframe tbody tr th:only-of-type {\n",
       "        vertical-align: middle;\n",
       "    }\n",
       "\n",
       "    .dataframe tbody tr th {\n",
       "        vertical-align: top;\n",
       "    }\n",
       "\n",
       "    .dataframe thead th {\n",
       "        text-align: right;\n",
       "    }\n",
       "</style>\n",
       "<table border=\"1\" class=\"dataframe\">\n",
       "  <thead>\n",
       "    <tr style=\"text-align: right;\">\n",
       "      <th></th>\n",
       "      <th>imdb_title_id</th>\n",
       "      <th>mean_vote</th>\n",
       "      <th>duration</th>\n",
       "    </tr>\n",
       "  </thead>\n",
       "  <tbody>\n",
       "    <tr>\n",
       "      <th>0</th>\n",
       "      <td>tt0000009</td>\n",
       "      <td>5.9</td>\n",
       "      <td>45</td>\n",
       "    </tr>\n",
       "    <tr>\n",
       "      <th>1</th>\n",
       "      <td>tt0000574</td>\n",
       "      <td>6.3</td>\n",
       "      <td>70</td>\n",
       "    </tr>\n",
       "    <tr>\n",
       "      <th>2</th>\n",
       "      <td>tt0001892</td>\n",
       "      <td>6.0</td>\n",
       "      <td>53</td>\n",
       "    </tr>\n",
       "    <tr>\n",
       "      <th>4</th>\n",
       "      <td>tt0002130</td>\n",
       "      <td>6.9</td>\n",
       "      <td>68</td>\n",
       "    </tr>\n",
       "    <tr>\n",
       "      <th>5</th>\n",
       "      <td>tt0002199</td>\n",
       "      <td>5.8</td>\n",
       "      <td>60</td>\n",
       "    </tr>\n",
       "    <tr>\n",
       "      <th>...</th>\n",
       "      <td>...</td>\n",
       "      <td>...</td>\n",
       "      <td>...</td>\n",
       "    </tr>\n",
       "    <tr>\n",
       "      <th>85845</th>\n",
       "      <td>tt9904250</td>\n",
       "      <td>4.9</td>\n",
       "      <td>63</td>\n",
       "    </tr>\n",
       "    <tr>\n",
       "      <th>85846</th>\n",
       "      <td>tt9904802</td>\n",
       "      <td>6.4</td>\n",
       "      <td>92</td>\n",
       "    </tr>\n",
       "    <tr>\n",
       "      <th>85850</th>\n",
       "      <td>tt9908390</td>\n",
       "      <td>5.5</td>\n",
       "      <td>95</td>\n",
       "    </tr>\n",
       "    <tr>\n",
       "      <th>85853</th>\n",
       "      <td>tt9914286</td>\n",
       "      <td>9.4</td>\n",
       "      <td>98</td>\n",
       "    </tr>\n",
       "    <tr>\n",
       "      <th>85854</th>\n",
       "      <td>tt9914942</td>\n",
       "      <td>6.8</td>\n",
       "      <td>74</td>\n",
       "    </tr>\n",
       "  </tbody>\n",
       "</table>\n",
       "<p>50034 rows × 3 columns</p>\n",
       "</div>"
      ],
      "text/plain": [
       "      imdb_title_id  mean_vote  duration\n",
       "0         tt0000009        5.9        45\n",
       "1         tt0000574        6.3        70\n",
       "2         tt0001892        6.0        53\n",
       "4         tt0002130        6.9        68\n",
       "5         tt0002199        5.8        60\n",
       "...             ...        ...       ...\n",
       "85845     tt9904250        4.9        63\n",
       "85846     tt9904802        6.4        92\n",
       "85850     tt9908390        5.5        95\n",
       "85853     tt9914286        9.4        98\n",
       "85854     tt9914942        6.8        74\n",
       "\n",
       "[50034 rows x 3 columns]"
      ]
     },
     "execution_count": 44,
     "metadata": {
      "tags": []
     },
     "output_type": "execute_result"
    }
   ],
   "source": [
    "curtos = vc[vc['duration']<100]\n",
    "curtos"
   ]
  },
  {
   "cell_type": "code",
   "execution_count": 45,
   "metadata": {
    "colab": {
     "base_uri": "https://localhost:8080/",
     "height": 277
    },
    "executionInfo": {
     "elapsed": 103498,
     "status": "ok",
     "timestamp": 1616429680760,
     "user": {
      "displayName": "Lucas Augusto",
      "photoUrl": "https://lh3.googleusercontent.com/a-/AOh14GhKyK-ERGs5QO0SG3PBzrISYGaLYQokTYyFURVSwA=s64",
      "userId": "14088004947059534312"
     },
     "user_tz": 180
    },
    "id": "K0eiRCKsmiQi",
    "outputId": "e6004b40-13ca-4f17-f642-8fa554cc55a8"
   },
   "outputs": [
    {
     "data": {
      "text/html": [
       "<div>\n",
       "<style scoped>\n",
       "    .dataframe tbody tr th:only-of-type {\n",
       "        vertical-align: middle;\n",
       "    }\n",
       "\n",
       "    .dataframe tbody tr th {\n",
       "        vertical-align: top;\n",
       "    }\n",
       "\n",
       "    .dataframe thead th {\n",
       "        text-align: right;\n",
       "    }\n",
       "</style>\n",
       "<table border=\"1\" class=\"dataframe\">\n",
       "  <thead>\n",
       "    <tr style=\"text-align: right;\">\n",
       "      <th></th>\n",
       "      <th>mean_vote</th>\n",
       "      <th>duration</th>\n",
       "    </tr>\n",
       "  </thead>\n",
       "  <tbody>\n",
       "    <tr>\n",
       "      <th>count</th>\n",
       "      <td>50034.000000</td>\n",
       "      <td>50034.000000</td>\n",
       "    </tr>\n",
       "    <tr>\n",
       "      <th>mean</th>\n",
       "      <td>5.971196</td>\n",
       "      <td>87.177319</td>\n",
       "    </tr>\n",
       "    <tr>\n",
       "      <th>std</th>\n",
       "      <td>1.167831</td>\n",
       "      <td>9.302321</td>\n",
       "    </tr>\n",
       "    <tr>\n",
       "      <th>min</th>\n",
       "      <td>1.000000</td>\n",
       "      <td>41.000000</td>\n",
       "    </tr>\n",
       "    <tr>\n",
       "      <th>25%</th>\n",
       "      <td>5.300000</td>\n",
       "      <td>83.000000</td>\n",
       "    </tr>\n",
       "    <tr>\n",
       "      <th>50%</th>\n",
       "      <td>6.100000</td>\n",
       "      <td>90.000000</td>\n",
       "    </tr>\n",
       "    <tr>\n",
       "      <th>75%</th>\n",
       "      <td>6.800000</td>\n",
       "      <td>94.000000</td>\n",
       "    </tr>\n",
       "    <tr>\n",
       "      <th>max</th>\n",
       "      <td>9.800000</td>\n",
       "      <td>99.000000</td>\n",
       "    </tr>\n",
       "  </tbody>\n",
       "</table>\n",
       "</div>"
      ],
      "text/plain": [
       "          mean_vote      duration\n",
       "count  50034.000000  50034.000000\n",
       "mean       5.971196     87.177319\n",
       "std        1.167831      9.302321\n",
       "min        1.000000     41.000000\n",
       "25%        5.300000     83.000000\n",
       "50%        6.100000     90.000000\n",
       "75%        6.800000     94.000000\n",
       "max        9.800000     99.000000"
      ]
     },
     "execution_count": 45,
     "metadata": {
      "tags": []
     },
     "output_type": "execute_result"
    }
   ],
   "source": [
    "curtos.describe()"
   ]
  },
  {
   "cell_type": "code",
   "execution_count": 46,
   "metadata": {
    "colab": {
     "base_uri": "https://localhost:8080/",
     "height": 391
    },
    "executionInfo": {
     "elapsed": 103484,
     "status": "ok",
     "timestamp": 1616429680763,
     "user": {
      "displayName": "Lucas Augusto",
      "photoUrl": "https://lh3.googleusercontent.com/a-/AOh14GhKyK-ERGs5QO0SG3PBzrISYGaLYQokTYyFURVSwA=s64",
      "userId": "14088004947059534312"
     },
     "user_tz": 180
    },
    "id": "A0md_JKdmiQj",
    "outputId": "b8a25961-27b8-4552-ab81-26ae4c48f859"
   },
   "outputs": [
    {
     "data": {
      "text/html": [
       "<div>\n",
       "<style scoped>\n",
       "    .dataframe tbody tr th:only-of-type {\n",
       "        vertical-align: middle;\n",
       "    }\n",
       "\n",
       "    .dataframe tbody tr th {\n",
       "        vertical-align: top;\n",
       "    }\n",
       "\n",
       "    .dataframe thead th {\n",
       "        text-align: right;\n",
       "    }\n",
       "</style>\n",
       "<table border=\"1\" class=\"dataframe\">\n",
       "  <thead>\n",
       "    <tr style=\"text-align: right;\">\n",
       "      <th></th>\n",
       "      <th>imdb_title_id</th>\n",
       "      <th>mean_vote</th>\n",
       "      <th>duration</th>\n",
       "    </tr>\n",
       "  </thead>\n",
       "  <tbody>\n",
       "    <tr>\n",
       "      <th>3</th>\n",
       "      <td>tt0002101</td>\n",
       "      <td>5.3</td>\n",
       "      <td>100</td>\n",
       "    </tr>\n",
       "    <tr>\n",
       "      <th>7</th>\n",
       "      <td>tt0002445</td>\n",
       "      <td>6.2</td>\n",
       "      <td>120</td>\n",
       "    </tr>\n",
       "    <tr>\n",
       "      <th>8</th>\n",
       "      <td>tt0002452</td>\n",
       "      <td>7.1</td>\n",
       "      <td>120</td>\n",
       "    </tr>\n",
       "    <tr>\n",
       "      <th>10</th>\n",
       "      <td>tt0002646</td>\n",
       "      <td>6.6</td>\n",
       "      <td>121</td>\n",
       "    </tr>\n",
       "    <tr>\n",
       "      <th>24</th>\n",
       "      <td>tt0003740</td>\n",
       "      <td>6.5</td>\n",
       "      <td>148</td>\n",
       "    </tr>\n",
       "    <tr>\n",
       "      <th>...</th>\n",
       "      <td>...</td>\n",
       "      <td>...</td>\n",
       "      <td>...</td>\n",
       "    </tr>\n",
       "    <tr>\n",
       "      <th>85847</th>\n",
       "      <td>tt9905412</td>\n",
       "      <td>7.9</td>\n",
       "      <td>120</td>\n",
       "    </tr>\n",
       "    <tr>\n",
       "      <th>85848</th>\n",
       "      <td>tt9905462</td>\n",
       "      <td>8.5</td>\n",
       "      <td>111</td>\n",
       "    </tr>\n",
       "    <tr>\n",
       "      <th>85849</th>\n",
       "      <td>tt9906644</td>\n",
       "      <td>7.2</td>\n",
       "      <td>122</td>\n",
       "    </tr>\n",
       "    <tr>\n",
       "      <th>85851</th>\n",
       "      <td>tt9911196</td>\n",
       "      <td>7.9</td>\n",
       "      <td>103</td>\n",
       "    </tr>\n",
       "    <tr>\n",
       "      <th>85852</th>\n",
       "      <td>tt9911774</td>\n",
       "      <td>7.8</td>\n",
       "      <td>130</td>\n",
       "    </tr>\n",
       "  </tbody>\n",
       "</table>\n",
       "<p>35821 rows × 3 columns</p>\n",
       "</div>"
      ],
      "text/plain": [
       "      imdb_title_id  mean_vote  duration\n",
       "3         tt0002101        5.3       100\n",
       "7         tt0002445        6.2       120\n",
       "8         tt0002452        7.1       120\n",
       "10        tt0002646        6.6       121\n",
       "24        tt0003740        6.5       148\n",
       "...             ...        ...       ...\n",
       "85847     tt9905412        7.9       120\n",
       "85848     tt9905462        8.5       111\n",
       "85849     tt9906644        7.2       122\n",
       "85851     tt9911196        7.9       103\n",
       "85852     tt9911774        7.8       130\n",
       "\n",
       "[35821 rows x 3 columns]"
      ]
     },
     "execution_count": 46,
     "metadata": {
      "tags": []
     },
     "output_type": "execute_result"
    }
   ],
   "source": [
    "longos = vc[vc['duration']>=100]\n",
    "longos"
   ]
  },
  {
   "cell_type": "code",
   "execution_count": 47,
   "metadata": {
    "colab": {
     "base_uri": "https://localhost:8080/",
     "height": 277
    },
    "executionInfo": {
     "elapsed": 103471,
     "status": "ok",
     "timestamp": 1616429680764,
     "user": {
      "displayName": "Lucas Augusto",
      "photoUrl": "https://lh3.googleusercontent.com/a-/AOh14GhKyK-ERGs5QO0SG3PBzrISYGaLYQokTYyFURVSwA=s64",
      "userId": "14088004947059534312"
     },
     "user_tz": 180
    },
    "id": "VwmQQpDjmiQj",
    "outputId": "747fe25e-f4e7-496e-d2c6-26454b301415"
   },
   "outputs": [
    {
     "data": {
      "text/html": [
       "<div>\n",
       "<style scoped>\n",
       "    .dataframe tbody tr th:only-of-type {\n",
       "        vertical-align: middle;\n",
       "    }\n",
       "\n",
       "    .dataframe tbody tr th {\n",
       "        vertical-align: top;\n",
       "    }\n",
       "\n",
       "    .dataframe thead th {\n",
       "        text-align: right;\n",
       "    }\n",
       "</style>\n",
       "<table border=\"1\" class=\"dataframe\">\n",
       "  <thead>\n",
       "    <tr style=\"text-align: right;\">\n",
       "      <th></th>\n",
       "      <th>mean_vote</th>\n",
       "      <th>duration</th>\n",
       "    </tr>\n",
       "  </thead>\n",
       "  <tbody>\n",
       "    <tr>\n",
       "      <th>count</th>\n",
       "      <td>35821.000000</td>\n",
       "      <td>35821.000000</td>\n",
       "    </tr>\n",
       "    <tr>\n",
       "      <th>mean</th>\n",
       "      <td>6.582725</td>\n",
       "      <td>118.752715</td>\n",
       "    </tr>\n",
       "    <tr>\n",
       "      <th>std</th>\n",
       "      <td>1.037321</td>\n",
       "      <td>22.744022</td>\n",
       "    </tr>\n",
       "    <tr>\n",
       "      <th>min</th>\n",
       "      <td>1.000000</td>\n",
       "      <td>100.000000</td>\n",
       "    </tr>\n",
       "    <tr>\n",
       "      <th>25%</th>\n",
       "      <td>6.000000</td>\n",
       "      <td>104.000000</td>\n",
       "    </tr>\n",
       "    <tr>\n",
       "      <th>50%</th>\n",
       "      <td>6.700000</td>\n",
       "      <td>111.000000</td>\n",
       "    </tr>\n",
       "    <tr>\n",
       "      <th>75%</th>\n",
       "      <td>7.300000</td>\n",
       "      <td>126.000000</td>\n",
       "    </tr>\n",
       "    <tr>\n",
       "      <th>max</th>\n",
       "      <td>9.800000</td>\n",
       "      <td>808.000000</td>\n",
       "    </tr>\n",
       "  </tbody>\n",
       "</table>\n",
       "</div>"
      ],
      "text/plain": [
       "          mean_vote      duration\n",
       "count  35821.000000  35821.000000\n",
       "mean       6.582725    118.752715\n",
       "std        1.037321     22.744022\n",
       "min        1.000000    100.000000\n",
       "25%        6.000000    104.000000\n",
       "50%        6.700000    111.000000\n",
       "75%        7.300000    126.000000\n",
       "max        9.800000    808.000000"
      ]
     },
     "execution_count": 47,
     "metadata": {
      "tags": []
     },
     "output_type": "execute_result"
    }
   ],
   "source": [
    "longos.describe()"
   ]
  },
  {
   "cell_type": "markdown",
   "metadata": {
    "id": "ieQEzHk7D2bf"
   },
   "source": [
    "* Plotando os dados das diferentes classes geradas:"
   ]
  },
  {
   "cell_type": "code",
   "execution_count": 48,
   "metadata": {
    "colab": {
     "base_uri": "https://localhost:8080/",
     "height": 532
    },
    "executionInfo": {
     "elapsed": 103458,
     "status": "ok",
     "timestamp": 1616429680767,
     "user": {
      "displayName": "Lucas Augusto",
      "photoUrl": "https://lh3.googleusercontent.com/a-/AOh14GhKyK-ERGs5QO0SG3PBzrISYGaLYQokTYyFURVSwA=s64",
      "userId": "14088004947059534312"
     },
     "user_tz": 180
    },
    "id": "wA75wuramiQj",
    "outputId": "a056fbee-8bb3-4157-d7db-8689327665c3"
   },
   "outputs": [
    {
     "data": {
      "text/plain": [
       "<matplotlib.legend.Legend at 0x7f2458338f50>"
      ]
     },
     "execution_count": 48,
     "metadata": {
      "tags": []
     },
     "output_type": "execute_result"
    },
    {
     "data": {
      "image/png": "[encoded data removed]",
      "text/plain": [
       "<Figure size 864x576 with 1 Axes>"
      ]
     },
     "metadata": {
      "needs_background": "light",
      "tags": []
     },
     "output_type": "display_data"
    }
   ],
   "source": [
    "plt.hist(longos['mean_vote'], alpha=0.3, edgecolor='k', label='>100min')\n",
    "plt.hist(curtos['mean_vote'], alpha=0.3, edgecolor='k', label='<100min')\n",
    "plt.xlabel('Avaliação Média')\n",
    "plt.ylabel('# de avaliações')\n",
    "plt.legend()"
   ]
  },
  {
   "cell_type": "markdown",
   "metadata": {
    "id": "iyT95JKr89_t"
   },
   "source": [
    "#### Checando intervalos de confiança com Bootstrap"
   ]
  },
  {
   "cell_type": "markdown",
   "metadata": {
    "id": "C6m8MR9bD5jJ"
   },
   "source": [
    "* Distribuição dos dados da primeira classe:"
   ]
  },
  {
   "cell_type": "code",
   "execution_count": 49,
   "metadata": {
    "colab": {
     "base_uri": "https://localhost:8080/"
    },
    "executionInfo": {
     "elapsed": 111791,
     "status": "ok",
     "timestamp": 1616429689116,
     "user": {
      "displayName": "Lucas Augusto",
      "photoUrl": "https://lh3.googleusercontent.com/a-/AOh14GhKyK-ERGs5QO0SG3PBzrISYGaLYQokTYyFURVSwA=s64",
      "userId": "14088004947059534312"
     },
     "user_tz": 180
    },
    "id": "_HTVp7agmiQk",
    "outputId": "a53695de-835c-4cdf-9931-5b7fe3627960"
   },
   "outputs": [
    {
     "data": {
      "text/plain": [
       "(6.572266547555855, 6.5935067418552755)"
      ]
     },
     "execution_count": 49,
     "metadata": {
      "tags": []
     },
     "output_type": "execute_result"
    }
   ],
   "source": [
    "ic_bootstrap(longos, 'mean_vote')"
   ]
  },
  {
   "cell_type": "markdown",
   "metadata": {
    "id": "NZGfsYjCD7ZS"
   },
   "source": [
    "* Distribuição dos dados da segunda classe:"
   ]
  },
  {
   "cell_type": "code",
   "execution_count": 50,
   "metadata": {
    "colab": {
     "base_uri": "https://localhost:8080/"
    },
    "executionInfo": {
     "elapsed": 119281,
     "status": "ok",
     "timestamp": 1616429696621,
     "user": {
      "displayName": "Lucas Augusto",
      "photoUrl": "https://lh3.googleusercontent.com/a-/AOh14GhKyK-ERGs5QO0SG3PBzrISYGaLYQokTYyFURVSwA=s64",
      "userId": "14088004947059534312"
     },
     "user_tz": 180
    },
    "id": "upxl59HJmiQk",
    "outputId": "dfc6693a-fa5a-480f-dde4-1e437a0566ec"
   },
   "outputs": [
    {
     "data": {
      "text/plain": [
       "(5.961078166846541, 5.981353379701702)"
      ]
     },
     "execution_count": 50,
     "metadata": {
      "tags": []
     },
     "output_type": "execute_result"
    }
   ],
   "source": [
    "ic_bootstrap(curtos, 'mean_vote')"
   ]
  },
  {
   "cell_type": "markdown",
   "metadata": {
    "id": "blnaEhY7D-LQ"
   },
   "source": [
    "* Obtendo os dados da diferença entre as médias de avaliação para cada uma das diferentes classes a partir de um bootstrap:"
   ]
  },
  {
   "cell_type": "code",
   "execution_count": 51,
   "metadata": {
    "executionInfo": {
     "elapsed": 134962,
     "status": "ok",
     "timestamp": 1616429712305,
     "user": {
      "displayName": "Lucas Augusto",
      "photoUrl": "https://lh3.googleusercontent.com/a-/AOh14GhKyK-ERGs5QO0SG3PBzrISYGaLYQokTYyFURVSwA=s64",
      "userId": "14088004947059534312"
     },
     "user_tz": 180
    },
    "id": "Cxu1nwbumiQk"
   },
   "outputs": [],
   "source": [
    "diff = bootstrap_diff(longos, curtos, 'mean_vote')"
   ]
  },
  {
   "cell_type": "markdown",
   "metadata": {
    "id": "EjeuvS0xEA-g"
   },
   "source": [
    "* Plot dos valores recebidos para a referida diferença:"
   ]
  },
  {
   "cell_type": "code",
   "execution_count": 52,
   "metadata": {
    "colab": {
     "base_uri": "https://localhost:8080/",
     "height": 532
    },
    "executionInfo": {
     "elapsed": 135241,
     "status": "ok",
     "timestamp": 1616429712599,
     "user": {
      "displayName": "Lucas Augusto",
      "photoUrl": "https://lh3.googleusercontent.com/a-/AOh14GhKyK-ERGs5QO0SG3PBzrISYGaLYQokTYyFURVSwA=s64",
      "userId": "14088004947059534312"
     },
     "user_tz": 180
    },
    "id": "zcqT4XYemiQl",
    "outputId": "0bf65bef-6dda-4297-8600-415893161a64"
   },
   "outputs": [
    {
     "data": {
      "text/plain": [
       "Text(0, 0.5, 'Freq')"
      ]
     },
     "execution_count": 52,
     "metadata": {
      "tags": []
     },
     "output_type": "execute_result"
    },
    {
     "data": {
      "image/png": "[encoded data removed]",
      "text/plain": [
       "<Figure size 864x576 with 1 Axes>"
      ]
     },
     "metadata": {
      "needs_background": "light",
      "tags": []
     },
     "output_type": "display_data"
    }
   ],
   "source": [
    "plt.hist(diff, edgecolor='k')\n",
    "plt.xlabel('Média Filmes Longos - Média Filmes Curtos')\n",
    "plt.ylabel('Freq')"
   ]
  },
  {
   "cell_type": "markdown",
   "metadata": {
    "id": "--syl8gTEDW6"
   },
   "source": [
    "* Intervalo onde se concertra a maior parte dos valores da diferença:"
   ]
  },
  {
   "cell_type": "code",
   "execution_count": 53,
   "metadata": {
    "colab": {
     "base_uri": "https://localhost:8080/"
    },
    "executionInfo": {
     "elapsed": 135224,
     "status": "ok",
     "timestamp": 1616429712600,
     "user": {
      "displayName": "Lucas Augusto",
      "photoUrl": "https://lh3.googleusercontent.com/a-/AOh14GhKyK-ERGs5QO0SG3PBzrISYGaLYQokTYyFURVSwA=s64",
      "userId": "14088004947059534312"
     },
     "user_tz": 180
    },
    "id": "JQ0w3Z0nLOU7",
    "outputId": "1e310b00-15a2-4fa4-e18f-0f8c35253808"
   },
   "outputs": [
    {
     "data": {
      "text/plain": [
       "(0.5960493844392581, 0.6278604031154082)"
      ]
     },
     "execution_count": 53,
     "metadata": {
      "tags": []
     },
     "output_type": "execute_result"
    }
   ],
   "source": [
    "interval = (np.percentile(diff, 2.5), np.percentile(diff, 97.5))\n",
    "interval"
   ]
  },
  {
   "cell_type": "markdown",
   "metadata": {
    "id": "MOiE8YkGmiQl"
   },
   "source": [
    "Podemos ver que o intervalo que contém 95% dos resultados obtidos para a diferença da avaliação média entre filmes curtos e longos não possui o valor zero, o que sinaliza que tal diferença é significativa. Contudo, essa diferença é positiva, o que quer dizer que a média de votação pra filmes longos é, em geral, maior que a dos filmes curtos, e então nossa hipótese inicial é rejeitada."
   ]
  },
  {
   "cell_type": "markdown",
   "metadata": {
    "id": "_I-cBkmHmiQl"
   },
   "source": [
    "# <div id=\"regressoes\"><a href=\"#sumario\"><h1>6. Regressões</h1></a></div>"
   ]
  },
  {
   "cell_type": "markdown",
   "metadata": {
    "id": "Hi4oJPjqmiQl"
   },
   "source": [
    "## <div id=\"regressao1\"><a href=\"#sumario\"><h2>A. Regressão 1</h2></a></div>"
   ]
  },
  {
   "cell_type": "code",
   "execution_count": 54,
   "metadata": {
    "colab": {
     "base_uri": "https://localhost:8080/"
    },
    "executionInfo": {
     "elapsed": 135206,
     "status": "ok",
     "timestamp": 1616429712602,
     "user": {
      "displayName": "Lucas Augusto",
      "photoUrl": "https://lh3.googleusercontent.com/a-/AOh14GhKyK-ERGs5QO0SG3PBzrISYGaLYQokTYyFURVSwA=s64",
      "userId": "14088004947059534312"
     },
     "user_tz": 180
    },
    "id": "64i6yAaEmiQm",
    "outputId": "2ad4ca1c-41b1-4b18-8837-5fcd275ac797"
   },
   "outputs": [
    {
     "name": "stdout",
     "output_type": "stream",
     "text": [
      "Index(['imdb_title_id', 'weighted_average_vote', 'total_votes', 'mean_vote',\n",
      "       'median_vote', 'votes_10', 'votes_9', 'votes_8', 'votes_7', 'votes_6',\n",
      "       'votes_5', 'votes_4', 'votes_3', 'votes_2', 'votes_1',\n",
      "       'allgenders_0age_avg_vote', 'allgenders_0age_votes',\n",
      "       'allgenders_18age_avg_vote', 'allgenders_18age_votes',\n",
      "       'allgenders_30age_avg_vote', 'allgenders_30age_votes',\n",
      "       'allgenders_45age_avg_vote', 'allgenders_45age_votes',\n",
      "       'males_allages_avg_vote', 'males_allages_votes', 'males_0age_avg_vote',\n",
      "       'males_0age_votes', 'males_18age_avg_vote', 'males_18age_votes',\n",
      "       'males_30age_avg_vote', 'males_30age_votes', 'males_45age_avg_vote',\n",
      "       'males_45age_votes', 'females_allages_avg_vote',\n",
      "       'females_allages_votes', 'females_0age_avg_vote', 'females_0age_votes',\n",
      "       'females_18age_avg_vote', 'females_18age_votes',\n",
      "       'females_30age_avg_vote', 'females_30age_votes',\n",
      "       'females_45age_avg_vote', 'females_45age_votes',\n",
      "       'top1000_voters_rating', 'top1000_voters_votes', 'us_voters_rating',\n",
      "       'us_voters_votes', 'non_us_voters_rating', 'non_us_voters_votes'],\n",
      "      dtype='object')\n",
      "\n",
      "Index(['imdb_title_id', 'title', 'original_title', 'year', 'date_published',\n",
      "       'genre', 'duration', 'country', 'language', 'director', 'writer',\n",
      "       'production_company', 'actors', 'description', 'avg_vote', 'votes',\n",
      "       'budget', 'usa_gross_income', 'worlwide_gross_income', 'metascore',\n",
      "       'reviews_from_users', 'reviews_from_critics'],\n",
      "      dtype='object')\n"
     ]
    }
   ],
   "source": [
    "print(ratings.columns)\n",
    "print()\n",
    "print(movies.columns)"
   ]
  },
  {
   "cell_type": "markdown",
   "metadata": {
    "id": "4uJx7zT_miQm"
   },
   "source": [
    "Vamos utilizar os resultados dos ICs para ajudar a selecionar alguns parâmetros de interesse. Observamos anteriormente que a idade dos usuários, país e duração dos filmes parecem influenciar na nota do filme, então iremos testar a regressão com esses valores. Iremos também testar o gênero dos usuários, o ano, gêneros e popularidade (número de votos) dos filmes. Alguns atributos como diretor e atores geram dataframes muito grandes durante o one-hot encoding, não seria viável tratar esses parâmetros."
   ]
  },
  {
   "cell_type": "code",
   "execution_count": 55,
   "metadata": {
    "colab": {
     "base_uri": "https://localhost:8080/",
     "height": 325
    },
    "executionInfo": {
     "elapsed": 135442,
     "status": "ok",
     "timestamp": 1616429712854,
     "user": {
      "displayName": "Lucas Augusto",
      "photoUrl": "https://lh3.googleusercontent.com/a-/AOh14GhKyK-ERGs5QO0SG3PBzrISYGaLYQokTYyFURVSwA=s64",
      "userId": "14088004947059534312"
     },
     "user_tz": 180
    },
    "id": "zcUB7boVmiQm",
    "outputId": "540ff8fc-a2e8-4d74-c5d3-72ff022c0a57"
   },
   "outputs": [
    {
     "data": {
      "text/html": [
       "<div>\n",
       "<style scoped>\n",
       "    .dataframe tbody tr th:only-of-type {\n",
       "        vertical-align: middle;\n",
       "    }\n",
       "\n",
       "    .dataframe tbody tr th {\n",
       "        vertical-align: top;\n",
       "    }\n",
       "\n",
       "    .dataframe thead th {\n",
       "        text-align: right;\n",
       "    }\n",
       "</style>\n",
       "<table border=\"1\" class=\"dataframe\">\n",
       "  <thead>\n",
       "    <tr style=\"text-align: right;\">\n",
       "      <th></th>\n",
       "      <th>total_votes</th>\n",
       "      <th>mean_vote</th>\n",
       "      <th>allgenders_0age_votes</th>\n",
       "      <th>allgenders_18age_votes</th>\n",
       "      <th>allgenders_30age_votes</th>\n",
       "      <th>allgenders_45age_votes</th>\n",
       "      <th>males_allages_votes</th>\n",
       "      <th>females_allages_votes</th>\n",
       "      <th>duration</th>\n",
       "      <th>year</th>\n",
       "      <th>genre</th>\n",
       "      <th>country</th>\n",
       "    </tr>\n",
       "  </thead>\n",
       "  <tbody>\n",
       "    <tr>\n",
       "      <th>0</th>\n",
       "      <td>154</td>\n",
       "      <td>5.9</td>\n",
       "      <td>4.0</td>\n",
       "      <td>38.0</td>\n",
       "      <td>50.0</td>\n",
       "      <td>35.0</td>\n",
       "      <td>97.0</td>\n",
       "      <td>35.0</td>\n",
       "      <td>45</td>\n",
       "      <td>1894</td>\n",
       "      <td>Romance</td>\n",
       "      <td>USA</td>\n",
       "    </tr>\n",
       "    <tr>\n",
       "      <th>1</th>\n",
       "      <td>589</td>\n",
       "      <td>6.3</td>\n",
       "      <td>1.0</td>\n",
       "      <td>114.0</td>\n",
       "      <td>239.0</td>\n",
       "      <td>115.0</td>\n",
       "      <td>425.0</td>\n",
       "      <td>50.0</td>\n",
       "      <td>70</td>\n",
       "      <td>1906</td>\n",
       "      <td>Biography, Crime, Drama</td>\n",
       "      <td>Australia</td>\n",
       "    </tr>\n",
       "    <tr>\n",
       "      <th>4</th>\n",
       "      <td>2237</td>\n",
       "      <td>6.9</td>\n",
       "      <td>4.0</td>\n",
       "      <td>402.0</td>\n",
       "      <td>895.0</td>\n",
       "      <td>482.0</td>\n",
       "      <td>1607.0</td>\n",
       "      <td>215.0</td>\n",
       "      <td>68</td>\n",
       "      <td>1911</td>\n",
       "      <td>Adventure, Drama, Fantasy</td>\n",
       "      <td>Italy</td>\n",
       "    </tr>\n",
       "    <tr>\n",
       "      <th>6</th>\n",
       "      <td>753</td>\n",
       "      <td>6.8</td>\n",
       "      <td>1.0</td>\n",
       "      <td>59.0</td>\n",
       "      <td>287.0</td>\n",
       "      <td>276.0</td>\n",
       "      <td>530.0</td>\n",
       "      <td>93.0</td>\n",
       "      <td>85</td>\n",
       "      <td>1919</td>\n",
       "      <td>Biography, Drama, Romance</td>\n",
       "      <td>Germany</td>\n",
       "    </tr>\n",
       "    <tr>\n",
       "      <th>7</th>\n",
       "      <td>273</td>\n",
       "      <td>6.2</td>\n",
       "      <td>1.0</td>\n",
       "      <td>34.0</td>\n",
       "      <td>99.0</td>\n",
       "      <td>69.0</td>\n",
       "      <td>191.0</td>\n",
       "      <td>21.0</td>\n",
       "      <td>120</td>\n",
       "      <td>1913</td>\n",
       "      <td>Drama, History</td>\n",
       "      <td>Italy</td>\n",
       "    </tr>\n",
       "  </tbody>\n",
       "</table>\n",
       "</div>"
      ],
      "text/plain": [
       "   total_votes  mean_vote  ...                      genre    country\n",
       "0          154        5.9  ...                    Romance        USA\n",
       "1          589        6.3  ...    Biography, Crime, Drama  Australia\n",
       "4         2237        6.9  ...  Adventure, Drama, Fantasy      Italy\n",
       "6          753        6.8  ...  Biography, Drama, Romance    Germany\n",
       "7          273        6.2  ...             Drama, History      Italy\n",
       "\n",
       "[5 rows x 12 columns]"
      ]
     },
     "execution_count": 55,
     "metadata": {
      "tags": []
     },
     "output_type": "execute_result"
    }
   ],
   "source": [
    "df = pd.merge(ratings[['imdb_title_id', 'total_votes', 'mean_vote', 'allgenders_0age_votes', 'allgenders_18age_votes', 'allgenders_30age_votes', 'allgenders_45age_votes', 'males_allages_votes', 'females_allages_votes', ]],\n",
    "              movies[['imdb_title_id', 'duration', 'year', 'genre', 'country']], on='imdb_title_id').dropna()\n",
    "df = df.drop(['imdb_title_id'], axis=1)\n",
    "df.head()\n"
   ]
  },
  {
   "cell_type": "code",
   "execution_count": 56,
   "metadata": {
    "colab": {
     "base_uri": "https://localhost:8080/"
    },
    "executionInfo": {
     "elapsed": 135429,
     "status": "ok",
     "timestamp": 1616429712855,
     "user": {
      "displayName": "Lucas Augusto",
      "photoUrl": "https://lh3.googleusercontent.com/a-/AOh14GhKyK-ERGs5QO0SG3PBzrISYGaLYQokTYyFURVSwA=s64",
      "userId": "14088004947059534312"
     },
     "user_tz": 180
    },
    "id": "gDghlZgFmiQn",
    "outputId": "31b0446c-24ac-4100-c8fa-a605d3b2ae1f"
   },
   "outputs": [
    {
     "data": {
      "text/plain": [
       "(33319, 12)"
      ]
     },
     "execution_count": 56,
     "metadata": {
      "tags": []
     },
     "output_type": "execute_result"
    }
   ],
   "source": [
    "df.shape"
   ]
  },
  {
   "cell_type": "markdown",
   "metadata": {
    "id": "w6_mkamFmiQn"
   },
   "source": [
    "Agora faremos one-hot encoding nas colunas com dados categóricos"
   ]
  },
  {
   "cell_type": "code",
   "execution_count": 57,
   "metadata": {
    "executionInfo": {
     "elapsed": 135428,
     "status": "ok",
     "timestamp": 1616429712857,
     "user": {
      "displayName": "Lucas Augusto",
      "photoUrl": "https://lh3.googleusercontent.com/a-/AOh14GhKyK-ERGs5QO0SG3PBzrISYGaLYQokTYyFURVSwA=s64",
      "userId": "14088004947059534312"
     },
     "user_tz": 180
    },
    "id": "4_EjOyaxmiQo"
   },
   "outputs": [],
   "source": [
    "from sklearn.preprocessing import MultiLabelBinarizer"
   ]
  },
  {
   "cell_type": "code",
   "execution_count": 58,
   "metadata": {
    "colab": {
     "base_uri": "https://localhost:8080/",
     "height": 443
    },
    "executionInfo": {
     "elapsed": 136176,
     "status": "ok",
     "timestamp": 1616429713619,
     "user": {
      "displayName": "Lucas Augusto",
      "photoUrl": "https://lh3.googleusercontent.com/a-/AOh14GhKyK-ERGs5QO0SG3PBzrISYGaLYQokTYyFURVSwA=s64",
      "userId": "14088004947059534312"
     },
     "user_tz": 180
    },
    "id": "gvfgiRBEmiQo",
    "outputId": "2917b6bc-f8f1-4c58-f22a-7379493b883d"
   },
   "outputs": [
    {
     "data": {
      "text/html": [
       "<div>\n",
       "<style scoped>\n",
       "    .dataframe tbody tr th:only-of-type {\n",
       "        vertical-align: middle;\n",
       "    }\n",
       "\n",
       "    .dataframe tbody tr th {\n",
       "        vertical-align: top;\n",
       "    }\n",
       "\n",
       "    .dataframe thead th {\n",
       "        text-align: right;\n",
       "    }\n",
       "</style>\n",
       "<table border=\"1\" class=\"dataframe\">\n",
       "  <thead>\n",
       "    <tr style=\"text-align: right;\">\n",
       "      <th></th>\n",
       "      <th>total_votes</th>\n",
       "      <th>mean_vote</th>\n",
       "      <th>allgenders_0age_votes</th>\n",
       "      <th>allgenders_18age_votes</th>\n",
       "      <th>allgenders_30age_votes</th>\n",
       "      <th>allgenders_45age_votes</th>\n",
       "      <th>males_allages_votes</th>\n",
       "      <th>females_allages_votes</th>\n",
       "      <th>duration</th>\n",
       "      <th>1894</th>\n",
       "      <th>1906</th>\n",
       "      <th>1911</th>\n",
       "      <th>1913</th>\n",
       "      <th>1914</th>\n",
       "      <th>1915</th>\n",
       "      <th>1916</th>\n",
       "      <th>1917</th>\n",
       "      <th>1918</th>\n",
       "      <th>1919</th>\n",
       "      <th>1920</th>\n",
       "      <th>1921</th>\n",
       "      <th>1922</th>\n",
       "      <th>1923</th>\n",
       "      <th>1924</th>\n",
       "      <th>1925</th>\n",
       "      <th>1926</th>\n",
       "      <th>1927</th>\n",
       "      <th>1928</th>\n",
       "      <th>1929</th>\n",
       "      <th>1930</th>\n",
       "      <th>1931</th>\n",
       "      <th>1932</th>\n",
       "      <th>1933</th>\n",
       "      <th>1934</th>\n",
       "      <th>1935</th>\n",
       "      <th>1936</th>\n",
       "      <th>1937</th>\n",
       "      <th>1938</th>\n",
       "      <th>1939</th>\n",
       "      <th>1940</th>\n",
       "      <th>...</th>\n",
       "      <th>Paraguay</th>\n",
       "      <th>Peru</th>\n",
       "      <th>Philippines</th>\n",
       "      <th>Poland</th>\n",
       "      <th>Portugal</th>\n",
       "      <th>Puerto Rico</th>\n",
       "      <th>Qatar</th>\n",
       "      <th>Republic of North Macedonia</th>\n",
       "      <th>Romania</th>\n",
       "      <th>Russia</th>\n",
       "      <th>Saudi Arabia</th>\n",
       "      <th>Senegal</th>\n",
       "      <th>Serbia</th>\n",
       "      <th>Singapore</th>\n",
       "      <th>Slovakia</th>\n",
       "      <th>Slovenia</th>\n",
       "      <th>Somalia</th>\n",
       "      <th>South Africa</th>\n",
       "      <th>South Korea</th>\n",
       "      <th>Soviet Union</th>\n",
       "      <th>Spain</th>\n",
       "      <th>Sri Lanka</th>\n",
       "      <th>Sweden</th>\n",
       "      <th>Switzerland</th>\n",
       "      <th>Syria</th>\n",
       "      <th>Taiwan</th>\n",
       "      <th>Thailand</th>\n",
       "      <th>Tunisia</th>\n",
       "      <th>Turkey</th>\n",
       "      <th>UK</th>\n",
       "      <th>USA</th>\n",
       "      <th>Uganda</th>\n",
       "      <th>Ukraine</th>\n",
       "      <th>United Arab Emirates</th>\n",
       "      <th>Uruguay</th>\n",
       "      <th>Venezuela</th>\n",
       "      <th>Vietnam</th>\n",
       "      <th>West Germany</th>\n",
       "      <th>Yugoslavia</th>\n",
       "      <th>Zambia</th>\n",
       "    </tr>\n",
       "  </thead>\n",
       "  <tbody>\n",
       "    <tr>\n",
       "      <th>0</th>\n",
       "      <td>154</td>\n",
       "      <td>5.9</td>\n",
       "      <td>4.0</td>\n",
       "      <td>38.0</td>\n",
       "      <td>50.0</td>\n",
       "      <td>35.0</td>\n",
       "      <td>97.0</td>\n",
       "      <td>35.0</td>\n",
       "      <td>45</td>\n",
       "      <td>1</td>\n",
       "      <td>0</td>\n",
       "      <td>0</td>\n",
       "      <td>0</td>\n",
       "      <td>0</td>\n",
       "      <td>0</td>\n",
       "      <td>0</td>\n",
       "      <td>0</td>\n",
       "      <td>0</td>\n",
       "      <td>0</td>\n",
       "      <td>0</td>\n",
       "      <td>0</td>\n",
       "      <td>0</td>\n",
       "      <td>0</td>\n",
       "      <td>0</td>\n",
       "      <td>0</td>\n",
       "      <td>0</td>\n",
       "      <td>0</td>\n",
       "      <td>0</td>\n",
       "      <td>0</td>\n",
       "      <td>0</td>\n",
       "      <td>0</td>\n",
       "      <td>0</td>\n",
       "      <td>0</td>\n",
       "      <td>0</td>\n",
       "      <td>0</td>\n",
       "      <td>0</td>\n",
       "      <td>0</td>\n",
       "      <td>0</td>\n",
       "      <td>0</td>\n",
       "      <td>0</td>\n",
       "      <td>...</td>\n",
       "      <td>0</td>\n",
       "      <td>0</td>\n",
       "      <td>0</td>\n",
       "      <td>0</td>\n",
       "      <td>0</td>\n",
       "      <td>0</td>\n",
       "      <td>0</td>\n",
       "      <td>0</td>\n",
       "      <td>0</td>\n",
       "      <td>0</td>\n",
       "      <td>0</td>\n",
       "      <td>0</td>\n",
       "      <td>0</td>\n",
       "      <td>0</td>\n",
       "      <td>0</td>\n",
       "      <td>0</td>\n",
       "      <td>0</td>\n",
       "      <td>0</td>\n",
       "      <td>0</td>\n",
       "      <td>0</td>\n",
       "      <td>0</td>\n",
       "      <td>0</td>\n",
       "      <td>0</td>\n",
       "      <td>0</td>\n",
       "      <td>0</td>\n",
       "      <td>0</td>\n",
       "      <td>0</td>\n",
       "      <td>0</td>\n",
       "      <td>0</td>\n",
       "      <td>0</td>\n",
       "      <td>1</td>\n",
       "      <td>0</td>\n",
       "      <td>0</td>\n",
       "      <td>0</td>\n",
       "      <td>0</td>\n",
       "      <td>0</td>\n",
       "      <td>0</td>\n",
       "      <td>0</td>\n",
       "      <td>0</td>\n",
       "      <td>0</td>\n",
       "    </tr>\n",
       "    <tr>\n",
       "      <th>1</th>\n",
       "      <td>589</td>\n",
       "      <td>6.3</td>\n",
       "      <td>1.0</td>\n",
       "      <td>114.0</td>\n",
       "      <td>239.0</td>\n",
       "      <td>115.0</td>\n",
       "      <td>425.0</td>\n",
       "      <td>50.0</td>\n",
       "      <td>70</td>\n",
       "      <td>0</td>\n",
       "      <td>1</td>\n",
       "      <td>0</td>\n",
       "      <td>0</td>\n",
       "      <td>0</td>\n",
       "      <td>0</td>\n",
       "      <td>0</td>\n",
       "      <td>0</td>\n",
       "      <td>0</td>\n",
       "      <td>0</td>\n",
       "      <td>0</td>\n",
       "      <td>0</td>\n",
       "      <td>0</td>\n",
       "      <td>0</td>\n",
       "      <td>0</td>\n",
       "      <td>0</td>\n",
       "      <td>0</td>\n",
       "      <td>0</td>\n",
       "      <td>0</td>\n",
       "      <td>0</td>\n",
       "      <td>0</td>\n",
       "      <td>0</td>\n",
       "      <td>0</td>\n",
       "      <td>0</td>\n",
       "      <td>0</td>\n",
       "      <td>0</td>\n",
       "      <td>0</td>\n",
       "      <td>0</td>\n",
       "      <td>0</td>\n",
       "      <td>0</td>\n",
       "      <td>0</td>\n",
       "      <td>...</td>\n",
       "      <td>0</td>\n",
       "      <td>0</td>\n",
       "      <td>0</td>\n",
       "      <td>0</td>\n",
       "      <td>0</td>\n",
       "      <td>0</td>\n",
       "      <td>0</td>\n",
       "      <td>0</td>\n",
       "      <td>0</td>\n",
       "      <td>0</td>\n",
       "      <td>0</td>\n",
       "      <td>0</td>\n",
       "      <td>0</td>\n",
       "      <td>0</td>\n",
       "      <td>0</td>\n",
       "      <td>0</td>\n",
       "      <td>0</td>\n",
       "      <td>0</td>\n",
       "      <td>0</td>\n",
       "      <td>0</td>\n",
       "      <td>0</td>\n",
       "      <td>0</td>\n",
       "      <td>0</td>\n",
       "      <td>0</td>\n",
       "      <td>0</td>\n",
       "      <td>0</td>\n",
       "      <td>0</td>\n",
       "      <td>0</td>\n",
       "      <td>0</td>\n",
       "      <td>0</td>\n",
       "      <td>0</td>\n",
       "      <td>0</td>\n",
       "      <td>0</td>\n",
       "      <td>0</td>\n",
       "      <td>0</td>\n",
       "      <td>0</td>\n",
       "      <td>0</td>\n",
       "      <td>0</td>\n",
       "      <td>0</td>\n",
       "      <td>0</td>\n",
       "    </tr>\n",
       "    <tr>\n",
       "      <th>4</th>\n",
       "      <td>2237</td>\n",
       "      <td>6.9</td>\n",
       "      <td>4.0</td>\n",
       "      <td>402.0</td>\n",
       "      <td>895.0</td>\n",
       "      <td>482.0</td>\n",
       "      <td>1607.0</td>\n",
       "      <td>215.0</td>\n",
       "      <td>68</td>\n",
       "      <td>0</td>\n",
       "      <td>0</td>\n",
       "      <td>1</td>\n",
       "      <td>0</td>\n",
       "      <td>0</td>\n",
       "      <td>0</td>\n",
       "      <td>0</td>\n",
       "      <td>0</td>\n",
       "      <td>0</td>\n",
       "      <td>0</td>\n",
       "      <td>0</td>\n",
       "      <td>0</td>\n",
       "      <td>0</td>\n",
       "      <td>0</td>\n",
       "      <td>0</td>\n",
       "      <td>0</td>\n",
       "      <td>0</td>\n",
       "      <td>0</td>\n",
       "      <td>0</td>\n",
       "      <td>0</td>\n",
       "      <td>0</td>\n",
       "      <td>0</td>\n",
       "      <td>0</td>\n",
       "      <td>0</td>\n",
       "      <td>0</td>\n",
       "      <td>0</td>\n",
       "      <td>0</td>\n",
       "      <td>0</td>\n",
       "      <td>0</td>\n",
       "      <td>0</td>\n",
       "      <td>0</td>\n",
       "      <td>...</td>\n",
       "      <td>0</td>\n",
       "      <td>0</td>\n",
       "      <td>0</td>\n",
       "      <td>0</td>\n",
       "      <td>0</td>\n",
       "      <td>0</td>\n",
       "      <td>0</td>\n",
       "      <td>0</td>\n",
       "      <td>0</td>\n",
       "      <td>0</td>\n",
       "      <td>0</td>\n",
       "      <td>0</td>\n",
       "      <td>0</td>\n",
       "      <td>0</td>\n",
       "      <td>0</td>\n",
       "      <td>0</td>\n",
       "      <td>0</td>\n",
       "      <td>0</td>\n",
       "      <td>0</td>\n",
       "      <td>0</td>\n",
       "      <td>0</td>\n",
       "      <td>0</td>\n",
       "      <td>0</td>\n",
       "      <td>0</td>\n",
       "      <td>0</td>\n",
       "      <td>0</td>\n",
       "      <td>0</td>\n",
       "      <td>0</td>\n",
       "      <td>0</td>\n",
       "      <td>0</td>\n",
       "      <td>0</td>\n",
       "      <td>0</td>\n",
       "      <td>0</td>\n",
       "      <td>0</td>\n",
       "      <td>0</td>\n",
       "      <td>0</td>\n",
       "      <td>0</td>\n",
       "      <td>0</td>\n",
       "      <td>0</td>\n",
       "      <td>0</td>\n",
       "    </tr>\n",
       "    <tr>\n",
       "      <th>6</th>\n",
       "      <td>753</td>\n",
       "      <td>6.8</td>\n",
       "      <td>1.0</td>\n",
       "      <td>59.0</td>\n",
       "      <td>287.0</td>\n",
       "      <td>276.0</td>\n",
       "      <td>530.0</td>\n",
       "      <td>93.0</td>\n",
       "      <td>85</td>\n",
       "      <td>0</td>\n",
       "      <td>0</td>\n",
       "      <td>0</td>\n",
       "      <td>0</td>\n",
       "      <td>0</td>\n",
       "      <td>0</td>\n",
       "      <td>0</td>\n",
       "      <td>0</td>\n",
       "      <td>0</td>\n",
       "      <td>1</td>\n",
       "      <td>0</td>\n",
       "      <td>0</td>\n",
       "      <td>0</td>\n",
       "      <td>0</td>\n",
       "      <td>0</td>\n",
       "      <td>0</td>\n",
       "      <td>0</td>\n",
       "      <td>0</td>\n",
       "      <td>0</td>\n",
       "      <td>0</td>\n",
       "      <td>0</td>\n",
       "      <td>0</td>\n",
       "      <td>0</td>\n",
       "      <td>0</td>\n",
       "      <td>0</td>\n",
       "      <td>0</td>\n",
       "      <td>0</td>\n",
       "      <td>0</td>\n",
       "      <td>0</td>\n",
       "      <td>0</td>\n",
       "      <td>0</td>\n",
       "      <td>...</td>\n",
       "      <td>0</td>\n",
       "      <td>0</td>\n",
       "      <td>0</td>\n",
       "      <td>0</td>\n",
       "      <td>0</td>\n",
       "      <td>0</td>\n",
       "      <td>0</td>\n",
       "      <td>0</td>\n",
       "      <td>0</td>\n",
       "      <td>0</td>\n",
       "      <td>0</td>\n",
       "      <td>0</td>\n",
       "      <td>0</td>\n",
       "      <td>0</td>\n",
       "      <td>0</td>\n",
       "      <td>0</td>\n",
       "      <td>0</td>\n",
       "      <td>0</td>\n",
       "      <td>0</td>\n",
       "      <td>0</td>\n",
       "      <td>0</td>\n",
       "      <td>0</td>\n",
       "      <td>0</td>\n",
       "      <td>0</td>\n",
       "      <td>0</td>\n",
       "      <td>0</td>\n",
       "      <td>0</td>\n",
       "      <td>0</td>\n",
       "      <td>0</td>\n",
       "      <td>0</td>\n",
       "      <td>0</td>\n",
       "      <td>0</td>\n",
       "      <td>0</td>\n",
       "      <td>0</td>\n",
       "      <td>0</td>\n",
       "      <td>0</td>\n",
       "      <td>0</td>\n",
       "      <td>0</td>\n",
       "      <td>0</td>\n",
       "      <td>0</td>\n",
       "    </tr>\n",
       "    <tr>\n",
       "      <th>7</th>\n",
       "      <td>273</td>\n",
       "      <td>6.2</td>\n",
       "      <td>1.0</td>\n",
       "      <td>34.0</td>\n",
       "      <td>99.0</td>\n",
       "      <td>69.0</td>\n",
       "      <td>191.0</td>\n",
       "      <td>21.0</td>\n",
       "      <td>120</td>\n",
       "      <td>0</td>\n",
       "      <td>0</td>\n",
       "      <td>0</td>\n",
       "      <td>1</td>\n",
       "      <td>0</td>\n",
       "      <td>0</td>\n",
       "      <td>0</td>\n",
       "      <td>0</td>\n",
       "      <td>0</td>\n",
       "      <td>0</td>\n",
       "      <td>0</td>\n",
       "      <td>0</td>\n",
       "      <td>0</td>\n",
       "      <td>0</td>\n",
       "      <td>0</td>\n",
       "      <td>0</td>\n",
       "      <td>0</td>\n",
       "      <td>0</td>\n",
       "      <td>0</td>\n",
       "      <td>0</td>\n",
       "      <td>0</td>\n",
       "      <td>0</td>\n",
       "      <td>0</td>\n",
       "      <td>0</td>\n",
       "      <td>0</td>\n",
       "      <td>0</td>\n",
       "      <td>0</td>\n",
       "      <td>0</td>\n",
       "      <td>0</td>\n",
       "      <td>0</td>\n",
       "      <td>0</td>\n",
       "      <td>...</td>\n",
       "      <td>0</td>\n",
       "      <td>0</td>\n",
       "      <td>0</td>\n",
       "      <td>0</td>\n",
       "      <td>0</td>\n",
       "      <td>0</td>\n",
       "      <td>0</td>\n",
       "      <td>0</td>\n",
       "      <td>0</td>\n",
       "      <td>0</td>\n",
       "      <td>0</td>\n",
       "      <td>0</td>\n",
       "      <td>0</td>\n",
       "      <td>0</td>\n",
       "      <td>0</td>\n",
       "      <td>0</td>\n",
       "      <td>0</td>\n",
       "      <td>0</td>\n",
       "      <td>0</td>\n",
       "      <td>0</td>\n",
       "      <td>0</td>\n",
       "      <td>0</td>\n",
       "      <td>0</td>\n",
       "      <td>0</td>\n",
       "      <td>0</td>\n",
       "      <td>0</td>\n",
       "      <td>0</td>\n",
       "      <td>0</td>\n",
       "      <td>0</td>\n",
       "      <td>0</td>\n",
       "      <td>0</td>\n",
       "      <td>0</td>\n",
       "      <td>0</td>\n",
       "      <td>0</td>\n",
       "      <td>0</td>\n",
       "      <td>0</td>\n",
       "      <td>0</td>\n",
       "      <td>0</td>\n",
       "      <td>0</td>\n",
       "      <td>0</td>\n",
       "    </tr>\n",
       "    <tr>\n",
       "      <th>...</th>\n",
       "      <td>...</td>\n",
       "      <td>...</td>\n",
       "      <td>...</td>\n",
       "      <td>...</td>\n",
       "      <td>...</td>\n",
       "      <td>...</td>\n",
       "      <td>...</td>\n",
       "      <td>...</td>\n",
       "      <td>...</td>\n",
       "      <td>...</td>\n",
       "      <td>...</td>\n",
       "      <td>...</td>\n",
       "      <td>...</td>\n",
       "      <td>...</td>\n",
       "      <td>...</td>\n",
       "      <td>...</td>\n",
       "      <td>...</td>\n",
       "      <td>...</td>\n",
       "      <td>...</td>\n",
       "      <td>...</td>\n",
       "      <td>...</td>\n",
       "      <td>...</td>\n",
       "      <td>...</td>\n",
       "      <td>...</td>\n",
       "      <td>...</td>\n",
       "      <td>...</td>\n",
       "      <td>...</td>\n",
       "      <td>...</td>\n",
       "      <td>...</td>\n",
       "      <td>...</td>\n",
       "      <td>...</td>\n",
       "      <td>...</td>\n",
       "      <td>...</td>\n",
       "      <td>...</td>\n",
       "      <td>...</td>\n",
       "      <td>...</td>\n",
       "      <td>...</td>\n",
       "      <td>...</td>\n",
       "      <td>...</td>\n",
       "      <td>...</td>\n",
       "      <td>...</td>\n",
       "      <td>...</td>\n",
       "      <td>...</td>\n",
       "      <td>...</td>\n",
       "      <td>...</td>\n",
       "      <td>...</td>\n",
       "      <td>...</td>\n",
       "      <td>...</td>\n",
       "      <td>...</td>\n",
       "      <td>...</td>\n",
       "      <td>...</td>\n",
       "      <td>...</td>\n",
       "      <td>...</td>\n",
       "      <td>...</td>\n",
       "      <td>...</td>\n",
       "      <td>...</td>\n",
       "      <td>...</td>\n",
       "      <td>...</td>\n",
       "      <td>...</td>\n",
       "      <td>...</td>\n",
       "      <td>...</td>\n",
       "      <td>...</td>\n",
       "      <td>...</td>\n",
       "      <td>...</td>\n",
       "      <td>...</td>\n",
       "      <td>...</td>\n",
       "      <td>...</td>\n",
       "      <td>...</td>\n",
       "      <td>...</td>\n",
       "      <td>...</td>\n",
       "      <td>...</td>\n",
       "      <td>...</td>\n",
       "      <td>...</td>\n",
       "      <td>...</td>\n",
       "      <td>...</td>\n",
       "      <td>...</td>\n",
       "      <td>...</td>\n",
       "      <td>...</td>\n",
       "      <td>...</td>\n",
       "      <td>...</td>\n",
       "      <td>...</td>\n",
       "    </tr>\n",
       "    <tr>\n",
       "      <th>85838</th>\n",
       "      <td>442</td>\n",
       "      <td>7.0</td>\n",
       "      <td>1.0</td>\n",
       "      <td>33.0</td>\n",
       "      <td>132.0</td>\n",
       "      <td>107.0</td>\n",
       "      <td>229.0</td>\n",
       "      <td>71.0</td>\n",
       "      <td>108</td>\n",
       "      <td>0</td>\n",
       "      <td>0</td>\n",
       "      <td>0</td>\n",
       "      <td>0</td>\n",
       "      <td>0</td>\n",
       "      <td>0</td>\n",
       "      <td>0</td>\n",
       "      <td>0</td>\n",
       "      <td>0</td>\n",
       "      <td>0</td>\n",
       "      <td>0</td>\n",
       "      <td>0</td>\n",
       "      <td>0</td>\n",
       "      <td>0</td>\n",
       "      <td>0</td>\n",
       "      <td>0</td>\n",
       "      <td>0</td>\n",
       "      <td>0</td>\n",
       "      <td>0</td>\n",
       "      <td>0</td>\n",
       "      <td>0</td>\n",
       "      <td>0</td>\n",
       "      <td>0</td>\n",
       "      <td>0</td>\n",
       "      <td>0</td>\n",
       "      <td>0</td>\n",
       "      <td>0</td>\n",
       "      <td>0</td>\n",
       "      <td>0</td>\n",
       "      <td>0</td>\n",
       "      <td>0</td>\n",
       "      <td>...</td>\n",
       "      <td>0</td>\n",
       "      <td>0</td>\n",
       "      <td>0</td>\n",
       "      <td>0</td>\n",
       "      <td>0</td>\n",
       "      <td>0</td>\n",
       "      <td>0</td>\n",
       "      <td>0</td>\n",
       "      <td>0</td>\n",
       "      <td>0</td>\n",
       "      <td>0</td>\n",
       "      <td>0</td>\n",
       "      <td>0</td>\n",
       "      <td>0</td>\n",
       "      <td>0</td>\n",
       "      <td>0</td>\n",
       "      <td>0</td>\n",
       "      <td>0</td>\n",
       "      <td>0</td>\n",
       "      <td>0</td>\n",
       "      <td>0</td>\n",
       "      <td>0</td>\n",
       "      <td>0</td>\n",
       "      <td>0</td>\n",
       "      <td>0</td>\n",
       "      <td>0</td>\n",
       "      <td>0</td>\n",
       "      <td>0</td>\n",
       "      <td>0</td>\n",
       "      <td>0</td>\n",
       "      <td>1</td>\n",
       "      <td>0</td>\n",
       "      <td>0</td>\n",
       "      <td>0</td>\n",
       "      <td>0</td>\n",
       "      <td>0</td>\n",
       "      <td>0</td>\n",
       "      <td>0</td>\n",
       "      <td>0</td>\n",
       "      <td>0</td>\n",
       "    </tr>\n",
       "    <tr>\n",
       "      <th>85839</th>\n",
       "      <td>10627</td>\n",
       "      <td>5.1</td>\n",
       "      <td>13.0</td>\n",
       "      <td>1706.0</td>\n",
       "      <td>4026.0</td>\n",
       "      <td>1117.0</td>\n",
       "      <td>6270.0</td>\n",
       "      <td>1161.0</td>\n",
       "      <td>88</td>\n",
       "      <td>0</td>\n",
       "      <td>0</td>\n",
       "      <td>0</td>\n",
       "      <td>0</td>\n",
       "      <td>0</td>\n",
       "      <td>0</td>\n",
       "      <td>0</td>\n",
       "      <td>0</td>\n",
       "      <td>0</td>\n",
       "      <td>0</td>\n",
       "      <td>0</td>\n",
       "      <td>0</td>\n",
       "      <td>0</td>\n",
       "      <td>0</td>\n",
       "      <td>0</td>\n",
       "      <td>0</td>\n",
       "      <td>0</td>\n",
       "      <td>0</td>\n",
       "      <td>0</td>\n",
       "      <td>0</td>\n",
       "      <td>0</td>\n",
       "      <td>0</td>\n",
       "      <td>0</td>\n",
       "      <td>0</td>\n",
       "      <td>0</td>\n",
       "      <td>0</td>\n",
       "      <td>0</td>\n",
       "      <td>0</td>\n",
       "      <td>0</td>\n",
       "      <td>0</td>\n",
       "      <td>0</td>\n",
       "      <td>...</td>\n",
       "      <td>0</td>\n",
       "      <td>0</td>\n",
       "      <td>0</td>\n",
       "      <td>0</td>\n",
       "      <td>0</td>\n",
       "      <td>0</td>\n",
       "      <td>0</td>\n",
       "      <td>0</td>\n",
       "      <td>0</td>\n",
       "      <td>0</td>\n",
       "      <td>0</td>\n",
       "      <td>0</td>\n",
       "      <td>0</td>\n",
       "      <td>0</td>\n",
       "      <td>0</td>\n",
       "      <td>0</td>\n",
       "      <td>0</td>\n",
       "      <td>0</td>\n",
       "      <td>0</td>\n",
       "      <td>0</td>\n",
       "      <td>0</td>\n",
       "      <td>0</td>\n",
       "      <td>0</td>\n",
       "      <td>0</td>\n",
       "      <td>0</td>\n",
       "      <td>0</td>\n",
       "      <td>0</td>\n",
       "      <td>0</td>\n",
       "      <td>0</td>\n",
       "      <td>0</td>\n",
       "      <td>1</td>\n",
       "      <td>0</td>\n",
       "      <td>0</td>\n",
       "      <td>0</td>\n",
       "      <td>0</td>\n",
       "      <td>0</td>\n",
       "      <td>0</td>\n",
       "      <td>0</td>\n",
       "      <td>0</td>\n",
       "      <td>0</td>\n",
       "    </tr>\n",
       "    <tr>\n",
       "      <th>85843</th>\n",
       "      <td>8400</td>\n",
       "      <td>8.7</td>\n",
       "      <td>22.0</td>\n",
       "      <td>2297.0</td>\n",
       "      <td>1469.0</td>\n",
       "      <td>84.0</td>\n",
       "      <td>4577.0</td>\n",
       "      <td>121.0</td>\n",
       "      <td>145</td>\n",
       "      <td>0</td>\n",
       "      <td>0</td>\n",
       "      <td>0</td>\n",
       "      <td>0</td>\n",
       "      <td>0</td>\n",
       "      <td>0</td>\n",
       "      <td>0</td>\n",
       "      <td>0</td>\n",
       "      <td>0</td>\n",
       "      <td>0</td>\n",
       "      <td>0</td>\n",
       "      <td>0</td>\n",
       "      <td>0</td>\n",
       "      <td>0</td>\n",
       "      <td>0</td>\n",
       "      <td>0</td>\n",
       "      <td>0</td>\n",
       "      <td>0</td>\n",
       "      <td>0</td>\n",
       "      <td>0</td>\n",
       "      <td>0</td>\n",
       "      <td>0</td>\n",
       "      <td>0</td>\n",
       "      <td>0</td>\n",
       "      <td>0</td>\n",
       "      <td>0</td>\n",
       "      <td>0</td>\n",
       "      <td>0</td>\n",
       "      <td>0</td>\n",
       "      <td>0</td>\n",
       "      <td>0</td>\n",
       "      <td>...</td>\n",
       "      <td>0</td>\n",
       "      <td>0</td>\n",
       "      <td>0</td>\n",
       "      <td>0</td>\n",
       "      <td>0</td>\n",
       "      <td>0</td>\n",
       "      <td>0</td>\n",
       "      <td>0</td>\n",
       "      <td>0</td>\n",
       "      <td>0</td>\n",
       "      <td>0</td>\n",
       "      <td>0</td>\n",
       "      <td>0</td>\n",
       "      <td>0</td>\n",
       "      <td>0</td>\n",
       "      <td>0</td>\n",
       "      <td>0</td>\n",
       "      <td>0</td>\n",
       "      <td>0</td>\n",
       "      <td>0</td>\n",
       "      <td>0</td>\n",
       "      <td>0</td>\n",
       "      <td>0</td>\n",
       "      <td>0</td>\n",
       "      <td>0</td>\n",
       "      <td>0</td>\n",
       "      <td>0</td>\n",
       "      <td>0</td>\n",
       "      <td>0</td>\n",
       "      <td>0</td>\n",
       "      <td>0</td>\n",
       "      <td>0</td>\n",
       "      <td>0</td>\n",
       "      <td>0</td>\n",
       "      <td>0</td>\n",
       "      <td>0</td>\n",
       "      <td>0</td>\n",
       "      <td>0</td>\n",
       "      <td>0</td>\n",
       "      <td>0</td>\n",
       "    </tr>\n",
       "    <tr>\n",
       "      <th>85846</th>\n",
       "      <td>764</td>\n",
       "      <td>6.4</td>\n",
       "      <td>1.0</td>\n",
       "      <td>37.0</td>\n",
       "      <td>135.0</td>\n",
       "      <td>151.0</td>\n",
       "      <td>310.0</td>\n",
       "      <td>36.0</td>\n",
       "      <td>92</td>\n",
       "      <td>0</td>\n",
       "      <td>0</td>\n",
       "      <td>0</td>\n",
       "      <td>0</td>\n",
       "      <td>0</td>\n",
       "      <td>0</td>\n",
       "      <td>0</td>\n",
       "      <td>0</td>\n",
       "      <td>0</td>\n",
       "      <td>0</td>\n",
       "      <td>0</td>\n",
       "      <td>0</td>\n",
       "      <td>0</td>\n",
       "      <td>0</td>\n",
       "      <td>0</td>\n",
       "      <td>0</td>\n",
       "      <td>0</td>\n",
       "      <td>0</td>\n",
       "      <td>0</td>\n",
       "      <td>0</td>\n",
       "      <td>0</td>\n",
       "      <td>0</td>\n",
       "      <td>0</td>\n",
       "      <td>0</td>\n",
       "      <td>0</td>\n",
       "      <td>0</td>\n",
       "      <td>0</td>\n",
       "      <td>0</td>\n",
       "      <td>0</td>\n",
       "      <td>0</td>\n",
       "      <td>0</td>\n",
       "      <td>...</td>\n",
       "      <td>0</td>\n",
       "      <td>0</td>\n",
       "      <td>0</td>\n",
       "      <td>0</td>\n",
       "      <td>0</td>\n",
       "      <td>0</td>\n",
       "      <td>0</td>\n",
       "      <td>0</td>\n",
       "      <td>0</td>\n",
       "      <td>0</td>\n",
       "      <td>0</td>\n",
       "      <td>0</td>\n",
       "      <td>0</td>\n",
       "      <td>0</td>\n",
       "      <td>0</td>\n",
       "      <td>0</td>\n",
       "      <td>0</td>\n",
       "      <td>0</td>\n",
       "      <td>0</td>\n",
       "      <td>0</td>\n",
       "      <td>0</td>\n",
       "      <td>0</td>\n",
       "      <td>0</td>\n",
       "      <td>0</td>\n",
       "      <td>0</td>\n",
       "      <td>0</td>\n",
       "      <td>0</td>\n",
       "      <td>0</td>\n",
       "      <td>0</td>\n",
       "      <td>1</td>\n",
       "      <td>0</td>\n",
       "      <td>0</td>\n",
       "      <td>0</td>\n",
       "      <td>0</td>\n",
       "      <td>0</td>\n",
       "      <td>0</td>\n",
       "      <td>0</td>\n",
       "      <td>0</td>\n",
       "      <td>0</td>\n",
       "      <td>0</td>\n",
       "    </tr>\n",
       "    <tr>\n",
       "      <th>85850</th>\n",
       "      <td>398</td>\n",
       "      <td>5.5</td>\n",
       "      <td>1.0</td>\n",
       "      <td>42.0</td>\n",
       "      <td>137.0</td>\n",
       "      <td>101.0</td>\n",
       "      <td>267.0</td>\n",
       "      <td>26.0</td>\n",
       "      <td>95</td>\n",
       "      <td>0</td>\n",
       "      <td>0</td>\n",
       "      <td>0</td>\n",
       "      <td>0</td>\n",
       "      <td>0</td>\n",
       "      <td>0</td>\n",
       "      <td>0</td>\n",
       "      <td>0</td>\n",
       "      <td>0</td>\n",
       "      <td>0</td>\n",
       "      <td>0</td>\n",
       "      <td>0</td>\n",
       "      <td>0</td>\n",
       "      <td>0</td>\n",
       "      <td>0</td>\n",
       "      <td>0</td>\n",
       "      <td>0</td>\n",
       "      <td>0</td>\n",
       "      <td>0</td>\n",
       "      <td>0</td>\n",
       "      <td>0</td>\n",
       "      <td>0</td>\n",
       "      <td>0</td>\n",
       "      <td>0</td>\n",
       "      <td>0</td>\n",
       "      <td>0</td>\n",
       "      <td>0</td>\n",
       "      <td>0</td>\n",
       "      <td>0</td>\n",
       "      <td>0</td>\n",
       "      <td>0</td>\n",
       "      <td>...</td>\n",
       "      <td>0</td>\n",
       "      <td>0</td>\n",
       "      <td>0</td>\n",
       "      <td>0</td>\n",
       "      <td>0</td>\n",
       "      <td>0</td>\n",
       "      <td>0</td>\n",
       "      <td>0</td>\n",
       "      <td>0</td>\n",
       "      <td>0</td>\n",
       "      <td>0</td>\n",
       "      <td>0</td>\n",
       "      <td>0</td>\n",
       "      <td>0</td>\n",
       "      <td>0</td>\n",
       "      <td>0</td>\n",
       "      <td>0</td>\n",
       "      <td>0</td>\n",
       "      <td>0</td>\n",
       "      <td>0</td>\n",
       "      <td>0</td>\n",
       "      <td>0</td>\n",
       "      <td>0</td>\n",
       "      <td>0</td>\n",
       "      <td>0</td>\n",
       "      <td>0</td>\n",
       "      <td>0</td>\n",
       "      <td>0</td>\n",
       "      <td>0</td>\n",
       "      <td>0</td>\n",
       "      <td>0</td>\n",
       "      <td>0</td>\n",
       "      <td>0</td>\n",
       "      <td>0</td>\n",
       "      <td>0</td>\n",
       "      <td>0</td>\n",
       "      <td>0</td>\n",
       "      <td>0</td>\n",
       "      <td>0</td>\n",
       "      <td>0</td>\n",
       "    </tr>\n",
       "  </tbody>\n",
       "</table>\n",
       "<p>33319 rows × 445 columns</p>\n",
       "</div>"
      ],
      "text/plain": [
       "       total_votes  mean_vote  ...  Yugoslavia  Zambia\n",
       "0              154        5.9  ...           0       0\n",
       "1              589        6.3  ...           0       0\n",
       "4             2237        6.9  ...           0       0\n",
       "6              753        6.8  ...           0       0\n",
       "7              273        6.2  ...           0       0\n",
       "...            ...        ...  ...         ...     ...\n",
       "85838          442        7.0  ...           0       0\n",
       "85839        10627        5.1  ...           0       0\n",
       "85843         8400        8.7  ...           0       0\n",
       "85846          764        6.4  ...           0       0\n",
       "85850          398        5.5  ...           0       0\n",
       "\n",
       "[33319 rows x 445 columns]"
      ]
     },
     "execution_count": 58,
     "metadata": {
      "tags": []
     },
     "output_type": "execute_result"
    }
   ],
   "source": [
    "mlb = MultiLabelBinarizer(sparse_output=True)\n",
    "\n",
    "# One-hot encoding do treino\n",
    "df['year'] = df['year'].astype(str)\n",
    "df['year'] = df['year'].str.split(',')\n",
    "df['genre'] = df['genre'].str.split(',')\n",
    "df['country'] = df['country'].str.split(',')\n",
    "df = df.join(pd.DataFrame.sparse.from_spmatrix(mlb.fit_transform(df.pop('year')), index=df.index, columns=mlb.classes_), how = 'left', lsuffix = '_left', rsuffix = '_right')\n",
    "df = df.join(pd.DataFrame.sparse.from_spmatrix(mlb.fit_transform(df.pop('genre')), index=df.index, columns=mlb.classes_), how = 'left', lsuffix = '_left', rsuffix = '_right')\n",
    "df = df.join(pd.DataFrame.sparse.from_spmatrix(mlb.fit_transform(df.pop('country')), index=df.index, columns=mlb.classes_), how = 'left', lsuffix = '_left', rsuffix = '_right')\n",
    "df"
   ]
  },
  {
   "cell_type": "markdown",
   "metadata": {
    "id": "WnIFvj8CmiQo"
   },
   "source": [
    "Dividimos o dataframe em um conjunto para treino e outro para testes"
   ]
  },
  {
   "cell_type": "code",
   "execution_count": 59,
   "metadata": {
    "executionInfo": {
     "elapsed": 136174,
     "status": "ok",
     "timestamp": 1616429713620,
     "user": {
      "displayName": "Lucas Augusto",
      "photoUrl": "https://lh3.googleusercontent.com/a-/AOh14GhKyK-ERGs5QO0SG3PBzrISYGaLYQokTYyFURVSwA=s64",
      "userId": "14088004947059534312"
     },
     "user_tz": 180
    },
    "id": "x1dZEqZCmiQp"
   },
   "outputs": [],
   "source": [
    "from sklearn.model_selection import train_test_split"
   ]
  },
  {
   "cell_type": "code",
   "execution_count": 60,
   "metadata": {
    "colab": {
     "base_uri": "https://localhost:8080/"
    },
    "executionInfo": {
     "elapsed": 137005,
     "status": "ok",
     "timestamp": 1616429714464,
     "user": {
      "displayName": "Lucas Augusto",
      "photoUrl": "https://lh3.googleusercontent.com/a-/AOh14GhKyK-ERGs5QO0SG3PBzrISYGaLYQokTYyFURVSwA=s64",
      "userId": "14088004947059534312"
     },
     "user_tz": 180
    },
    "id": "ZMCggBg6miQp",
    "outputId": "16a62ab8-ef2b-437d-b927-cc58b736d7c2"
   },
   "outputs": [
    {
     "name": "stdout",
     "output_type": "stream",
     "text": [
      "(26655, 445)\n",
      "(6664, 445)\n"
     ]
    }
   ],
   "source": [
    "train_df, test_df = train_test_split(df, test_size=0.2)\n",
    "print(train_df.shape)\n",
    "print(test_df.shape)"
   ]
  },
  {
   "cell_type": "code",
   "execution_count": 61,
   "metadata": {
    "executionInfo": {
     "elapsed": 137004,
     "status": "ok",
     "timestamp": 1616429714466,
     "user": {
      "displayName": "Lucas Augusto",
      "photoUrl": "https://lh3.googleusercontent.com/a-/AOh14GhKyK-ERGs5QO0SG3PBzrISYGaLYQokTYyFURVSwA=s64",
      "userId": "14088004947059534312"
     },
     "user_tz": 180
    },
    "id": "iUWBVccxmiQp"
   },
   "outputs": [],
   "source": [
    "# Treino\n",
    "y_train_df = train_df['mean_vote']\n",
    "X_train_df = train_df.drop('mean_vote', axis='columns')\n",
    "\n",
    "#Teste\n",
    "y_test = test_df['mean_vote']\n",
    "X_test = test_df.drop('mean_vote', axis='columns')\n"
   ]
  },
  {
   "cell_type": "markdown",
   "metadata": {
    "id": "n-3MLzfPmiQq"
   },
   "source": [
    "As colunas possuem escalas diferentes, portanto é necessário z-normalizar os atributos numéricos"
   ]
  },
  {
   "cell_type": "code",
   "execution_count": 62,
   "metadata": {
    "executionInfo": {
     "elapsed": 137003,
     "status": "ok",
     "timestamp": 1616429714467,
     "user": {
      "displayName": "Lucas Augusto",
      "photoUrl": "https://lh3.googleusercontent.com/a-/AOh14GhKyK-ERGs5QO0SG3PBzrISYGaLYQokTYyFURVSwA=s64",
      "userId": "14088004947059534312"
     },
     "user_tz": 180
    },
    "id": "tPPf6TVomiQq"
   },
   "outputs": [],
   "source": [
    "from sklearn.preprocessing import StandardScaler"
   ]
  },
  {
   "cell_type": "code",
   "execution_count": 63,
   "metadata": {
    "executionInfo": {
     "elapsed": 137208,
     "status": "ok",
     "timestamp": 1616429714674,
     "user": {
      "displayName": "Lucas Augusto",
      "photoUrl": "https://lh3.googleusercontent.com/a-/AOh14GhKyK-ERGs5QO0SG3PBzrISYGaLYQokTYyFURVSwA=s64",
      "userId": "14088004947059534312"
     },
     "user_tz": 180
    },
    "id": "5uA8pFqbmiQq"
   },
   "outputs": [],
   "source": [
    "scaler_x = StandardScaler()\n",
    "scaler_y = StandardScaler()\n",
    "\n",
    "y_train = scaler_y.fit_transform(y_train_df.values[:, np.newaxis])\n",
    "X_train = scaler_x.fit_transform(X_train_df.values)"
   ]
  },
  {
   "cell_type": "markdown",
   "metadata": {
    "id": "FOG3N0D7miQq"
   },
   "source": [
    "Iniciaremos o aprendizado de máquina, a partir daqui o conjunto de testes não será utilizado. Testaremos modelos de regressão linear. Modelos com e sem regularização estão disponíveis na biblioteca scikit-learn."
   ]
  },
  {
   "cell_type": "code",
   "execution_count": 64,
   "metadata": {
    "executionInfo": {
     "elapsed": 137440,
     "status": "ok",
     "timestamp": 1616429714909,
     "user": {
      "displayName": "Lucas Augusto",
      "photoUrl": "https://lh3.googleusercontent.com/a-/AOh14GhKyK-ERGs5QO0SG3PBzrISYGaLYQokTYyFURVSwA=s64",
      "userId": "14088004947059534312"
     },
     "user_tz": 180
    },
    "id": "Ci44gRQImiQr"
   },
   "outputs": [],
   "source": [
    "from sklearn.linear_model import LinearRegression\n",
    "from sklearn.linear_model import Lasso #L1\n",
    "from sklearn.linear_model import Ridge #L2\n",
    "\n",
    "from sklearn.model_selection import GridSearchCV"
   ]
  },
  {
   "cell_type": "markdown",
   "metadata": {
    "id": "SWlxcNNKmiQr"
   },
   "source": [
    "Faremos validação-cruzada para minimizar o erro dos parâmetros de regularização."
   ]
  },
  {
   "cell_type": "code",
   "execution_count": 65,
   "metadata": {
    "executionInfo": {
     "elapsed": 137438,
     "status": "ok",
     "timestamp": 1616429714909,
     "user": {
      "displayName": "Lucas Augusto",
      "photoUrl": "https://lh3.googleusercontent.com/a-/AOh14GhKyK-ERGs5QO0SG3PBzrISYGaLYQokTYyFURVSwA=s64",
      "userId": "14088004947059534312"
     },
     "user_tz": 180
    },
    "id": "k0x9ek2JmiQs"
   },
   "outputs": [],
   "source": [
    "linear = LinearRegression(fit_intercept=False)\n",
    "lasso = GridSearchCV(Lasso(max_iter = 10000),\n",
    "                     cv = 5,\n",
    "                     refit=True,\n",
    "                     param_grid={'alpha': [0.001, 0.01, 0.1, 1, 10, 100]},\n",
    "                     return_train_score=True)\n",
    "\n",
    "ridge = GridSearchCV(Ridge(),\n",
    "                     cv = 5,\n",
    "                     refit=True,\n",
    "                     param_grid={'alpha': [0.001, 0.01, 0.1, 1, 10, 100]},\n",
    "                     return_train_score=True)"
   ]
  },
  {
   "cell_type": "markdown",
   "metadata": {
    "id": "X2PtRqeGmiQs"
   },
   "source": [
    "Verificamos o score para saber a fração da variação total na variável dependente capturada pelo modelo"
   ]
  },
  {
   "cell_type": "code",
   "execution_count": 66,
   "metadata": {
    "colab": {
     "base_uri": "https://localhost:8080/"
    },
    "executionInfo": {
     "elapsed": 138907,
     "status": "ok",
     "timestamp": 1616429716397,
     "user": {
      "displayName": "Lucas Augusto",
      "photoUrl": "https://lh3.googleusercontent.com/a-/AOh14GhKyK-ERGs5QO0SG3PBzrISYGaLYQokTYyFURVSwA=s64",
      "userId": "14088004947059534312"
     },
     "user_tz": 180
    },
    "id": "R_lNEyJ2miQt",
    "outputId": "35dd8eec-87fe-442f-93eb-a0870ad33c1b"
   },
   "outputs": [
    {
     "data": {
      "text/plain": [
       "0.38739286628004954"
      ]
     },
     "execution_count": 66,
     "metadata": {
      "tags": []
     },
     "output_type": "execute_result"
    }
   ],
   "source": [
    "linear = linear.fit(X_train, y_train)\n",
    "linear.score(X_train, y_train)"
   ]
  },
  {
   "cell_type": "code",
   "execution_count": 67,
   "metadata": {
    "colab": {
     "base_uri": "https://localhost:8080/"
    },
    "executionInfo": {
     "elapsed": 273572,
     "status": "ok",
     "timestamp": 1616429851076,
     "user": {
      "displayName": "Lucas Augusto",
      "photoUrl": "https://lh3.googleusercontent.com/a-/AOh14GhKyK-ERGs5QO0SG3PBzrISYGaLYQokTYyFURVSwA=s64",
      "userId": "14088004947059534312"
     },
     "user_tz": 180
    },
    "id": "AUA1ebd-miQt",
    "outputId": "94e13297-6b71-4b71-d188-05e64cee568a"
   },
   "outputs": [
    {
     "data": {
      "text/plain": [
       "0.3826005010714623"
      ]
     },
     "execution_count": 67,
     "metadata": {
      "tags": []
     },
     "output_type": "execute_result"
    }
   ],
   "source": [
    "lasso = lasso.fit(X_train, y_train)\n",
    "lasso.score(X_train, y_train)"
   ]
  },
  {
   "cell_type": "code",
   "execution_count": 68,
   "metadata": {
    "colab": {
     "base_uri": "https://localhost:8080/"
    },
    "executionInfo": {
     "elapsed": 284732,
     "status": "ok",
     "timestamp": 1616429862248,
     "user": {
      "displayName": "Lucas Augusto",
      "photoUrl": "https://lh3.googleusercontent.com/a-/AOh14GhKyK-ERGs5QO0SG3PBzrISYGaLYQokTYyFURVSwA=s64",
      "userId": "14088004947059534312"
     },
     "user_tz": 180
    },
    "id": "nkimE8FTmiQu",
    "outputId": "78998ac6-db3c-4b3f-ed5a-fb9829205ead"
   },
   "outputs": [
    {
     "data": {
      "text/plain": [
       "0.3874182500073674"
      ]
     },
     "execution_count": 68,
     "metadata": {
      "tags": []
     },
     "output_type": "execute_result"
    }
   ],
   "source": [
    "ridge = ridge.fit(X_train, y_train)\n",
    "ridge.score(X_train, y_train)"
   ]
  },
  {
   "cell_type": "markdown",
   "metadata": {
    "id": "ZIFv9zOAmiQu"
   },
   "source": [
    "Verificamos o erro quadrado médio na previsão dos modelos"
   ]
  },
  {
   "cell_type": "code",
   "execution_count": 69,
   "metadata": {
    "executionInfo": {
     "elapsed": 284730,
     "status": "ok",
     "timestamp": 1616429862249,
     "user": {
      "displayName": "Lucas Augusto",
      "photoUrl": "https://lh3.googleusercontent.com/a-/AOh14GhKyK-ERGs5QO0SG3PBzrISYGaLYQokTYyFURVSwA=s64",
      "userId": "14088004947059534312"
     },
     "user_tz": 180
    },
    "id": "WiwsfHMimiQu"
   },
   "outputs": [],
   "source": [
    "from sklearn.metrics import mean_squared_error"
   ]
  },
  {
   "cell_type": "code",
   "execution_count": 70,
   "metadata": {
    "colab": {
     "base_uri": "https://localhost:8080/"
    },
    "executionInfo": {
     "elapsed": 284717,
     "status": "ok",
     "timestamp": 1616429862249,
     "user": {
      "displayName": "Lucas Augusto",
      "photoUrl": "https://lh3.googleusercontent.com/a-/AOh14GhKyK-ERGs5QO0SG3PBzrISYGaLYQokTYyFURVSwA=s64",
      "userId": "14088004947059534312"
     },
     "user_tz": 180
    },
    "id": "BtnWuOMxmiQu",
    "outputId": "5e04d458-1e53-4354-bd45-9910fbd76b51"
   },
   "outputs": [
    {
     "data": {
      "text/plain": [
       "0.6126071337199505"
      ]
     },
     "execution_count": 70,
     "metadata": {
      "tags": []
     },
     "output_type": "execute_result"
    }
   ],
   "source": [
    "mean_squared_error(y_train, linear.predict(X_train))"
   ]
  },
  {
   "cell_type": "code",
   "execution_count": 71,
   "metadata": {
    "colab": {
     "base_uri": "https://localhost:8080/"
    },
    "executionInfo": {
     "elapsed": 284705,
     "status": "ok",
     "timestamp": 1616429862250,
     "user": {
      "displayName": "Lucas Augusto",
      "photoUrl": "https://lh3.googleusercontent.com/a-/AOh14GhKyK-ERGs5QO0SG3PBzrISYGaLYQokTYyFURVSwA=s64",
      "userId": "14088004947059534312"
     },
     "user_tz": 180
    },
    "id": "-j7oUJ9nmiQv",
    "outputId": "dfe18847-e14b-4b58-c887-374a6d7fd1ef"
   },
   "outputs": [
    {
     "data": {
      "text/plain": [
       "0.6173994989285376"
      ]
     },
     "execution_count": 71,
     "metadata": {
      "tags": []
     },
     "output_type": "execute_result"
    }
   ],
   "source": [
    "mean_squared_error(y_train, lasso.predict(X_train))"
   ]
  },
  {
   "cell_type": "code",
   "execution_count": 72,
   "metadata": {
    "colab": {
     "base_uri": "https://localhost:8080/"
    },
    "executionInfo": {
     "elapsed": 284694,
     "status": "ok",
     "timestamp": 1616429862251,
     "user": {
      "displayName": "Lucas Augusto",
      "photoUrl": "https://lh3.googleusercontent.com/a-/AOh14GhKyK-ERGs5QO0SG3PBzrISYGaLYQokTYyFURVSwA=s64",
      "userId": "14088004947059534312"
     },
     "user_tz": 180
    },
    "id": "bWcrxYPBmiQv",
    "outputId": "36935c97-b203-4abb-e956-d8e948f9b59e"
   },
   "outputs": [
    {
     "data": {
      "text/plain": [
       "0.6125817499926325"
      ]
     },
     "execution_count": 72,
     "metadata": {
      "tags": []
     },
     "output_type": "execute_result"
    }
   ],
   "source": [
    "mean_squared_error(y_train, ridge.predict(X_train))"
   ]
  },
  {
   "cell_type": "markdown",
   "metadata": {
    "id": "caosu3bKmiQv"
   },
   "source": [
    "Podemos também comparar algumas previsões de cada modelo."
   ]
  },
  {
   "cell_type": "code",
   "execution_count": 73,
   "metadata": {
    "colab": {
     "base_uri": "https://localhost:8080/",
     "height": 391
    },
    "executionInfo": {
     "elapsed": 284890,
     "status": "ok",
     "timestamp": 1616429862462,
     "user": {
      "displayName": "Lucas Augusto",
      "photoUrl": "https://lh3.googleusercontent.com/a-/AOh14GhKyK-ERGs5QO0SG3PBzrISYGaLYQokTYyFURVSwA=s64",
      "userId": "14088004947059534312"
     },
     "user_tz": 180
    },
    "id": "Iq6oQB8DmiQw",
    "outputId": "44fccb3a-8093-48a4-e387-e6de6997ea1e"
   },
   "outputs": [
    {
     "data": {
      "text/html": [
       "<div>\n",
       "<style scoped>\n",
       "    .dataframe tbody tr th:only-of-type {\n",
       "        vertical-align: middle;\n",
       "    }\n",
       "\n",
       "    .dataframe tbody tr th {\n",
       "        vertical-align: top;\n",
       "    }\n",
       "\n",
       "    .dataframe thead th {\n",
       "        text-align: right;\n",
       "    }\n",
       "</style>\n",
       "<table border=\"1\" class=\"dataframe\">\n",
       "  <thead>\n",
       "    <tr style=\"text-align: right;\">\n",
       "      <th></th>\n",
       "      <th>mean_vote</th>\n",
       "      <th>linear</th>\n",
       "      <th>lasso</th>\n",
       "      <th>ridge</th>\n",
       "    </tr>\n",
       "  </thead>\n",
       "  <tbody>\n",
       "    <tr>\n",
       "      <th>0</th>\n",
       "      <td>-0.165251</td>\n",
       "      <td>-0.498961</td>\n",
       "      <td>-0.504427</td>\n",
       "      <td>-0.498126</td>\n",
       "    </tr>\n",
       "    <tr>\n",
       "      <th>1</th>\n",
       "      <td>0.456376</td>\n",
       "      <td>0.341295</td>\n",
       "      <td>0.335783</td>\n",
       "      <td>0.339934</td>\n",
       "    </tr>\n",
       "    <tr>\n",
       "      <th>2</th>\n",
       "      <td>-0.964485</td>\n",
       "      <td>-0.905836</td>\n",
       "      <td>-0.876658</td>\n",
       "      <td>-0.905756</td>\n",
       "    </tr>\n",
       "    <tr>\n",
       "      <th>3</th>\n",
       "      <td>1.344414</td>\n",
       "      <td>0.193697</td>\n",
       "      <td>0.344243</td>\n",
       "      <td>0.195961</td>\n",
       "    </tr>\n",
       "    <tr>\n",
       "      <th>4</th>\n",
       "      <td>0.456376</td>\n",
       "      <td>0.506380</td>\n",
       "      <td>0.497708</td>\n",
       "      <td>0.501859</td>\n",
       "    </tr>\n",
       "    <tr>\n",
       "      <th>...</th>\n",
       "      <td>...</td>\n",
       "      <td>...</td>\n",
       "      <td>...</td>\n",
       "      <td>...</td>\n",
       "    </tr>\n",
       "    <tr>\n",
       "      <th>26650</th>\n",
       "      <td>0.278768</td>\n",
       "      <td>-0.389456</td>\n",
       "      <td>-0.381411</td>\n",
       "      <td>-0.389226</td>\n",
       "    </tr>\n",
       "    <tr>\n",
       "      <th>26651</th>\n",
       "      <td>-2.651758</td>\n",
       "      <td>-0.269140</td>\n",
       "      <td>-0.278069</td>\n",
       "      <td>-0.266622</td>\n",
       "    </tr>\n",
       "    <tr>\n",
       "      <th>26652</th>\n",
       "      <td>0.900395</td>\n",
       "      <td>0.665379</td>\n",
       "      <td>0.621928</td>\n",
       "      <td>0.663135</td>\n",
       "    </tr>\n",
       "    <tr>\n",
       "      <th>26653</th>\n",
       "      <td>-0.786878</td>\n",
       "      <td>-0.360818</td>\n",
       "      <td>-0.329331</td>\n",
       "      <td>-0.351445</td>\n",
       "    </tr>\n",
       "    <tr>\n",
       "      <th>26654</th>\n",
       "      <td>0.189965</td>\n",
       "      <td>0.175270</td>\n",
       "      <td>0.163530</td>\n",
       "      <td>0.174591</td>\n",
       "    </tr>\n",
       "  </tbody>\n",
       "</table>\n",
       "<p>26655 rows × 4 columns</p>\n",
       "</div>"
      ],
      "text/plain": [
       "       mean_vote    linear     lasso     ridge\n",
       "0      -0.165251 -0.498961 -0.504427 -0.498126\n",
       "1       0.456376  0.341295  0.335783  0.339934\n",
       "2      -0.964485 -0.905836 -0.876658 -0.905756\n",
       "3       1.344414  0.193697  0.344243  0.195961\n",
       "4       0.456376  0.506380  0.497708  0.501859\n",
       "...          ...       ...       ...       ...\n",
       "26650   0.278768 -0.389456 -0.381411 -0.389226\n",
       "26651  -2.651758 -0.269140 -0.278069 -0.266622\n",
       "26652   0.900395  0.665379  0.621928  0.663135\n",
       "26653  -0.786878 -0.360818 -0.329331 -0.351445\n",
       "26654   0.189965  0.175270  0.163530  0.174591\n",
       "\n",
       "[26655 rows x 4 columns]"
      ]
     },
     "execution_count": 73,
     "metadata": {
      "tags": []
     },
     "output_type": "execute_result"
    }
   ],
   "source": [
    "pred = pd.Series(y_train.flatten())\n",
    "pred = pred.to_frame(name='mean_vote')\n",
    "pred.assign(\n",
    "    linear = linear.predict(X_train),\n",
    "    lasso = lasso.predict(X_train),\n",
    "    ridge = ridge.predict(X_train))"
   ]
  },
  {
   "cell_type": "markdown",
   "metadata": {
    "id": "lce2DQVzmiQw"
   },
   "source": [
    "Utilizaremos bootstrap para comparar o intervalo dos erros quadrados de cada modelo"
   ]
  },
  {
   "cell_type": "code",
   "execution_count": 74,
   "metadata": {
    "executionInfo": {
     "elapsed": 284889,
     "status": "ok",
     "timestamp": 1616429862464,
     "user": {
      "displayName": "Lucas Augusto",
      "photoUrl": "https://lh3.googleusercontent.com/a-/AOh14GhKyK-ERGs5QO0SG3PBzrISYGaLYQokTYyFURVSwA=s64",
      "userId": "14088004947059534312"
     },
     "user_tz": 180
    },
    "id": "SN13BVkdmiQw"
   },
   "outputs": [],
   "source": [
    "def bootstrap_score(X, y, model, n=1000):\n",
    "    size = len(y)\n",
    "    samples = np.zeros(n)\n",
    "    for i in range(n):\n",
    "        idx = np.random.choice(size, size)\n",
    "        Xb = X[idx]\n",
    "        yb = y[idx]\n",
    "        err = mean_squared_error(yb, model.predict(Xb))\n",
    "        samples[i] = err\n",
    "    return samples\n",
    "        "
   ]
  },
  {
   "cell_type": "code",
   "execution_count": 75,
   "metadata": {
    "colab": {
     "base_uri": "https://localhost:8080/",
     "height": 528
    },
    "executionInfo": {
     "elapsed": 473599,
     "status": "ok",
     "timestamp": 1616430051190,
     "user": {
      "displayName": "Lucas Augusto",
      "photoUrl": "https://lh3.googleusercontent.com/a-/AOh14GhKyK-ERGs5QO0SG3PBzrISYGaLYQokTYyFURVSwA=s64",
      "userId": "14088004947059534312"
     },
     "user_tz": 180
    },
    "id": "Fx2rrC3amiQx",
    "outputId": "9fbdaa15-f6dd-44d3-f1ec-12d0dc4264d9"
   },
   "outputs": [
    {
     "data": {
      "text/plain": [
       "Text(0.5, 1.0, '(0.5974118415732752, 0.6272775191531914)')"
      ]
     },
     "execution_count": 75,
     "metadata": {
      "tags": []
     },
     "output_type": "execute_result"
    },
    {
     "data": {
      "image/png": "[encoded data removed]",
      "text/plain": [
       "<Figure size 864x576 with 1 Axes>"
      ]
     },
     "metadata": {
      "needs_background": "light",
      "tags": []
     },
     "output_type": "display_data"
    }
   ],
   "source": [
    "samples = bootstrap_score(X_train, y_train, linear)\n",
    "plt.hist(samples, edgecolor='k')\n",
    "plt.title('({}, {})'.format(stats.scoreatpercentile(samples, 2.5),\n",
    "                            stats.scoreatpercentile(samples, 97.5)))"
   ]
  },
  {
   "cell_type": "code",
   "execution_count": 76,
   "metadata": {
    "colab": {
     "base_uri": "https://localhost:8080/",
     "height": 528
    },
    "executionInfo": {
     "elapsed": 660963,
     "status": "ok",
     "timestamp": 1616430238568,
     "user": {
      "displayName": "Lucas Augusto",
      "photoUrl": "https://lh3.googleusercontent.com/a-/AOh14GhKyK-ERGs5QO0SG3PBzrISYGaLYQokTYyFURVSwA=s64",
      "userId": "14088004947059534312"
     },
     "user_tz": 180
    },
    "id": "yCIKpsAHmiQx",
    "outputId": "783e94fa-4641-4262-b4c6-451dca66700d"
   },
   "outputs": [
    {
     "data": {
      "text/plain": [
       "Text(0.5, 1.0, '(0.6022933652653354, 0.6319488463923445)')"
      ]
     },
     "execution_count": 76,
     "metadata": {
      "tags": []
     },
     "output_type": "execute_result"
    },
    {
     "data": {
      "image/png": "[encoded data removed]",
      "text/plain": [
       "<Figure size 864x576 with 1 Axes>"
      ]
     },
     "metadata": {
      "needs_background": "light",
      "tags": []
     },
     "output_type": "display_data"
    }
   ],
   "source": [
    "samples = bootstrap_score(X_train, y_train, lasso)\n",
    "plt.hist(samples, edgecolor='k')\n",
    "plt.title('({}, {})'.format(stats.scoreatpercentile(samples, 2.5),\n",
    "                            stats.scoreatpercentile(samples, 97.5)))"
   ]
  },
  {
   "cell_type": "code",
   "execution_count": 77,
   "metadata": {
    "colab": {
     "base_uri": "https://localhost:8080/",
     "height": 528
    },
    "executionInfo": {
     "elapsed": 838762,
     "status": "ok",
     "timestamp": 1616430416382,
     "user": {
      "displayName": "Lucas Augusto",
      "photoUrl": "https://lh3.googleusercontent.com/a-/AOh14GhKyK-ERGs5QO0SG3PBzrISYGaLYQokTYyFURVSwA=s64",
      "userId": "14088004947059534312"
     },
     "user_tz": 180
    },
    "id": "PxD0faLbmiQz",
    "outputId": "9c9b4f84-7c47-4ab9-87bf-2bd9db5c95fd"
   },
   "outputs": [
    {
     "data": {
      "text/plain": [
       "Text(0.5, 1.0, '(0.5974627268702187, 0.6267963687221864)')"
      ]
     },
     "execution_count": 77,
     "metadata": {
      "tags": []
     },
     "output_type": "execute_result"
    },
    {
     "data": {
      "image/png": "[encoded data removed]",
      "text/plain": [
       "<Figure size 864x576 with 1 Axes>"
      ]
     },
     "metadata": {
      "needs_background": "light",
      "tags": []
     },
     "output_type": "display_data"
    }
   ],
   "source": [
    "samples = bootstrap_score(X_train, y_train, ridge)\n",
    "plt.hist(samples, edgecolor='k')\n",
    "plt.title('({}, {})'.format(stats.scoreatpercentile(samples, 2.5),\n",
    "                            stats.scoreatpercentile(samples, 97.5)))"
   ]
  },
  {
   "cell_type": "markdown",
   "metadata": {
    "id": "Xd0CVaCnmiQz"
   },
   "source": [
    "Os intervalos de confiança se cruzam, portanto os modelos são estatisticamente equivalentes. Vamos escolher o ridge, simplesmente porque foi mais rápido durante os testes, e avaliar no conjunto de teste."
   ]
  },
  {
   "cell_type": "code",
   "execution_count": 78,
   "metadata": {
    "executionInfo": {
     "elapsed": 838964,
     "status": "ok",
     "timestamp": 1616430416587,
     "user": {
      "displayName": "Lucas Augusto",
      "photoUrl": "https://lh3.googleusercontent.com/a-/AOh14GhKyK-ERGs5QO0SG3PBzrISYGaLYQokTYyFURVSwA=s64",
      "userId": "14088004947059534312"
     },
     "user_tz": 180
    },
    "id": "10VwEse1miQ0"
   },
   "outputs": [],
   "source": [
    "y_test = scaler_y.fit_transform(y_test.values[:, np.newaxis])\n",
    "X_test = scaler_x.fit_transform(X_test.values)"
   ]
  },
  {
   "cell_type": "code",
   "execution_count": 79,
   "metadata": {
    "colab": {
     "base_uri": "https://localhost:8080/",
     "height": 528
    },
    "executionInfo": {
     "elapsed": 896908,
     "status": "ok",
     "timestamp": 1616430474547,
     "user": {
      "displayName": "Lucas Augusto",
      "photoUrl": "https://lh3.googleusercontent.com/a-/AOh14GhKyK-ERGs5QO0SG3PBzrISYGaLYQokTYyFURVSwA=s64",
      "userId": "14088004947059534312"
     },
     "user_tz": 180
    },
    "id": "dA1OeR3TmiQ0",
    "outputId": "fc5cc030-95e2-4a8e-8c3d-ca1963f14369"
   },
   "outputs": [
    {
     "data": {
      "text/plain": [
       "Text(0.5, 1.0, '(0.599482411114374, 0.6684188654466351)')"
      ]
     },
     "execution_count": 79,
     "metadata": {
      "tags": []
     },
     "output_type": "execute_result"
    },
    {
     "data": {
      "image/png": "[encoded data removed]",
      "text/plain": [
       "<Figure size 864x576 with 1 Axes>"
      ]
     },
     "metadata": {
      "needs_background": "light",
      "tags": []
     },
     "output_type": "display_data"
    }
   ],
   "source": [
    "samples = bootstrap_score(X_test, y_test, ridge)\n",
    "plt.hist(samples, edgecolor='k')\n",
    "plt.title('({}, {})'.format(stats.scoreatpercentile(samples, 2.5),\n",
    "                            stats.scoreatpercentile(samples, 97.5)))"
   ]
  },
  {
   "cell_type": "markdown",
   "metadata": {
    "id": "wVc85h2TmiQ0"
   },
   "source": [
    "Este é o intervalo do erro que esperamos para previsões em uma base real."
   ]
  },
  {
   "cell_type": "markdown",
   "metadata": {
    "id": "oPil8WtqmiQ1"
   },
   "source": [
    "## <div id=\"regressao2\"><a href=\"#sumario\"><h2>B. Regressão 2</h2></a></div>"
   ]
  },
  {
   "cell_type": "markdown",
   "metadata": {
    "id": "zuGftkNomiQ1"
   },
   "source": [
    "Vamos repetir o processo, mas dessa vez queremos prever a popularidade (número de votos dos filmes). Para isso iremos adicionar a média das notas como um dos parâmetros, além disso vamos substituir o país pelo orçamento, o motivo para não utilizar ambos é que a maioria dos orçamentos registrados na base estão em dólares, ou seja, a coluna de países ficaria só com Estados Unidos."
   ]
  },
  {
   "cell_type": "code",
   "execution_count": 80,
   "metadata": {
    "colab": {
     "base_uri": "https://localhost:8080/"
    },
    "executionInfo": {
     "elapsed": 896896,
     "status": "ok",
     "timestamp": 1616430474549,
     "user": {
      "displayName": "Lucas Augusto",
      "photoUrl": "https://lh3.googleusercontent.com/a-/AOh14GhKyK-ERGs5QO0SG3PBzrISYGaLYQokTYyFURVSwA=s64",
      "userId": "14088004947059534312"
     },
     "user_tz": 180
    },
    "id": "cESh2qHOmiQ1",
    "outputId": "88eabcd0-c9e5-437e-88d6-5a0351eb9743"
   },
   "outputs": [
    {
     "name": "stdout",
     "output_type": "stream",
     "text": [
      "Index(['imdb_title_id', 'weighted_average_vote', 'total_votes', 'mean_vote',\n",
      "       'median_vote', 'votes_10', 'votes_9', 'votes_8', 'votes_7', 'votes_6',\n",
      "       'votes_5', 'votes_4', 'votes_3', 'votes_2', 'votes_1',\n",
      "       'allgenders_0age_avg_vote', 'allgenders_0age_votes',\n",
      "       'allgenders_18age_avg_vote', 'allgenders_18age_votes',\n",
      "       'allgenders_30age_avg_vote', 'allgenders_30age_votes',\n",
      "       'allgenders_45age_avg_vote', 'allgenders_45age_votes',\n",
      "       'males_allages_avg_vote', 'males_allages_votes', 'males_0age_avg_vote',\n",
      "       'males_0age_votes', 'males_18age_avg_vote', 'males_18age_votes',\n",
      "       'males_30age_avg_vote', 'males_30age_votes', 'males_45age_avg_vote',\n",
      "       'males_45age_votes', 'females_allages_avg_vote',\n",
      "       'females_allages_votes', 'females_0age_avg_vote', 'females_0age_votes',\n",
      "       'females_18age_avg_vote', 'females_18age_votes',\n",
      "       'females_30age_avg_vote', 'females_30age_votes',\n",
      "       'females_45age_avg_vote', 'females_45age_votes',\n",
      "       'top1000_voters_rating', 'top1000_voters_votes', 'us_voters_rating',\n",
      "       'us_voters_votes', 'non_us_voters_rating', 'non_us_voters_votes'],\n",
      "      dtype='object')\n",
      "\n",
      "Index(['imdb_title_id', 'title', 'original_title', 'year', 'date_published',\n",
      "       'genre', 'duration', 'country', 'language', 'director', 'writer',\n",
      "       'production_company', 'actors', 'description', 'avg_vote', 'votes',\n",
      "       'budget', 'usa_gross_income', 'worlwide_gross_income', 'metascore',\n",
      "       'reviews_from_users', 'reviews_from_critics'],\n",
      "      dtype='object')\n"
     ]
    }
   ],
   "source": [
    "print(ratings.columns)\n",
    "print()\n",
    "print(movies.columns)"
   ]
  },
  {
   "cell_type": "code",
   "execution_count": 81,
   "metadata": {
    "colab": {
     "base_uri": "https://localhost:8080/",
     "height": 341
    },
    "executionInfo": {
     "elapsed": 896883,
     "status": "ok",
     "timestamp": 1616430474550,
     "user": {
      "displayName": "Lucas Augusto",
      "photoUrl": "https://lh3.googleusercontent.com/a-/AOh14GhKyK-ERGs5QO0SG3PBzrISYGaLYQokTYyFURVSwA=s64",
      "userId": "14088004947059534312"
     },
     "user_tz": 180
    },
    "id": "k7ND88vRmiQ2",
    "outputId": "dc5ddf9a-ef0f-4415-e1ef-b00465ab64c9"
   },
   "outputs": [
    {
     "data": {
      "text/html": [
       "<div>\n",
       "<style scoped>\n",
       "    .dataframe tbody tr th:only-of-type {\n",
       "        vertical-align: middle;\n",
       "    }\n",
       "\n",
       "    .dataframe tbody tr th {\n",
       "        vertical-align: top;\n",
       "    }\n",
       "\n",
       "    .dataframe thead th {\n",
       "        text-align: right;\n",
       "    }\n",
       "</style>\n",
       "<table border=\"1\" class=\"dataframe\">\n",
       "  <thead>\n",
       "    <tr style=\"text-align: right;\">\n",
       "      <th></th>\n",
       "      <th>total_votes</th>\n",
       "      <th>mean_vote</th>\n",
       "      <th>allgenders_0age_avg_vote</th>\n",
       "      <th>allgenders_18age_avg_vote</th>\n",
       "      <th>allgenders_30age_avg_vote</th>\n",
       "      <th>allgenders_45age_avg_vote</th>\n",
       "      <th>males_allages_avg_vote</th>\n",
       "      <th>females_allages_avg_vote</th>\n",
       "      <th>duration</th>\n",
       "      <th>budget</th>\n",
       "      <th>year</th>\n",
       "      <th>genre</th>\n",
       "    </tr>\n",
       "  </thead>\n",
       "  <tbody>\n",
       "    <tr>\n",
       "      <th>1</th>\n",
       "      <td>589</td>\n",
       "      <td>6.3</td>\n",
       "      <td>6.0</td>\n",
       "      <td>6.1</td>\n",
       "      <td>6.0</td>\n",
       "      <td>6.3</td>\n",
       "      <td>6.1</td>\n",
       "      <td>6.2</td>\n",
       "      <td>70</td>\n",
       "      <td>$ 2250</td>\n",
       "      <td>1906</td>\n",
       "      <td>Biography, Crime, Drama</td>\n",
       "    </tr>\n",
       "    <tr>\n",
       "      <th>7</th>\n",
       "      <td>273</td>\n",
       "      <td>6.2</td>\n",
       "      <td>6.0</td>\n",
       "      <td>5.9</td>\n",
       "      <td>6.2</td>\n",
       "      <td>6.3</td>\n",
       "      <td>6.2</td>\n",
       "      <td>6.3</td>\n",
       "      <td>120</td>\n",
       "      <td>ITL 45000</td>\n",
       "      <td>1913</td>\n",
       "      <td>Drama, History</td>\n",
       "    </tr>\n",
       "    <tr>\n",
       "      <th>24</th>\n",
       "      <td>3073</td>\n",
       "      <td>6.5</td>\n",
       "      <td>6.0</td>\n",
       "      <td>7.0</td>\n",
       "      <td>7.0</td>\n",
       "      <td>7.2</td>\n",
       "      <td>7.1</td>\n",
       "      <td>6.9</td>\n",
       "      <td>148</td>\n",
       "      <td>$ 210000</td>\n",
       "      <td>1914</td>\n",
       "      <td>Adventure, Drama, History</td>\n",
       "    </tr>\n",
       "    <tr>\n",
       "      <th>34</th>\n",
       "      <td>1239</td>\n",
       "      <td>7.2</td>\n",
       "      <td>6.0</td>\n",
       "      <td>6.4</td>\n",
       "      <td>6.2</td>\n",
       "      <td>5.8</td>\n",
       "      <td>6.1</td>\n",
       "      <td>6.0</td>\n",
       "      <td>61</td>\n",
       "      <td>$ 40000</td>\n",
       "      <td>1914</td>\n",
       "      <td>Drama</td>\n",
       "    </tr>\n",
       "    <tr>\n",
       "      <th>37</th>\n",
       "      <td>879</td>\n",
       "      <td>6.1</td>\n",
       "      <td>5.0</td>\n",
       "      <td>5.5</td>\n",
       "      <td>5.5</td>\n",
       "      <td>6.0</td>\n",
       "      <td>5.7</td>\n",
       "      <td>5.9</td>\n",
       "      <td>74</td>\n",
       "      <td>$ 20000</td>\n",
       "      <td>1914</td>\n",
       "      <td>Action, Drama, Romance</td>\n",
       "    </tr>\n",
       "  </tbody>\n",
       "</table>\n",
       "</div>"
      ],
      "text/plain": [
       "    total_votes  mean_vote  ...  year                      genre\n",
       "1           589        6.3  ...  1906    Biography, Crime, Drama\n",
       "7           273        6.2  ...  1913             Drama, History\n",
       "24         3073        6.5  ...  1914  Adventure, Drama, History\n",
       "34         1239        7.2  ...  1914                      Drama\n",
       "37          879        6.1  ...  1914     Action, Drama, Romance\n",
       "\n",
       "[5 rows x 12 columns]"
      ]
     },
     "execution_count": 81,
     "metadata": {
      "tags": []
     },
     "output_type": "execute_result"
    }
   ],
   "source": [
    "df = pd.merge(ratings[['imdb_title_id', 'total_votes', 'mean_vote', 'allgenders_0age_avg_vote', 'allgenders_18age_avg_vote', 'allgenders_30age_avg_vote', 'allgenders_45age_avg_vote', 'males_allages_avg_vote', 'females_allages_avg_vote', ]],\n",
    "              movies[['imdb_title_id', 'duration', 'budget', 'year', 'genre']], on='imdb_title_id').dropna()\n",
    "df = df.drop(['imdb_title_id'], axis=1)\n",
    "df.head()\n"
   ]
  },
  {
   "cell_type": "code",
   "execution_count": 82,
   "metadata": {
    "colab": {
     "base_uri": "https://localhost:8080/"
    },
    "executionInfo": {
     "elapsed": 896869,
     "status": "ok",
     "timestamp": 1616430474551,
     "user": {
      "displayName": "Lucas Augusto",
      "photoUrl": "https://lh3.googleusercontent.com/a-/AOh14GhKyK-ERGs5QO0SG3PBzrISYGaLYQokTYyFURVSwA=s64",
      "userId": "14088004947059534312"
     },
     "user_tz": 180
    },
    "id": "ehPnaF6dmiQ2",
    "outputId": "a76f4cd5-5f73-46e4-d923-30520a579795"
   },
   "outputs": [
    {
     "data": {
      "text/plain": [
       "(12840, 12)"
      ]
     },
     "execution_count": 82,
     "metadata": {
      "tags": []
     },
     "output_type": "execute_result"
    }
   ],
   "source": [
    "df.shape"
   ]
  },
  {
   "cell_type": "markdown",
   "metadata": {
    "id": "Lct0KbtmmiQ2"
   },
   "source": [
    "Faremos algumas modificações para selecionar apenas os orçamentos com valor em dólares e para ajustar os valores de acordo com a inflação. Iremos utilizar um dataset extraido de https://fred.stlouisfed.org/series/CPIAUCNS."
   ]
  },
  {
   "cell_type": "code",
   "execution_count": 83,
   "metadata": {
    "colab": {
     "base_uri": "https://localhost:8080/",
     "height": 276
    },
    "executionInfo": {
     "elapsed": 897105,
     "status": "ok",
     "timestamp": 1616430474801,
     "user": {
      "displayName": "Lucas Augusto",
      "photoUrl": "https://lh3.googleusercontent.com/a-/AOh14GhKyK-ERGs5QO0SG3PBzrISYGaLYQokTYyFURVSwA=s64",
      "userId": "14088004947059534312"
     },
     "user_tz": 180
    },
    "id": "YPx4VeCImiQ3",
    "outputId": "f460eda1-12f6-4a2d-eb4c-a8e67dee5f57"
   },
   "outputs": [
    {
     "data": {
      "text/html": [
       "<div>\n",
       "<style scoped>\n",
       "    .dataframe tbody tr th:only-of-type {\n",
       "        vertical-align: middle;\n",
       "    }\n",
       "\n",
       "    .dataframe tbody tr th {\n",
       "        vertical-align: top;\n",
       "    }\n",
       "\n",
       "    .dataframe thead th {\n",
       "        text-align: right;\n",
       "    }\n",
       "</style>\n",
       "<table border=\"1\" class=\"dataframe\">\n",
       "  <thead>\n",
       "    <tr style=\"text-align: right;\">\n",
       "      <th></th>\n",
       "      <th>total_votes</th>\n",
       "      <th>mean_vote</th>\n",
       "      <th>allgenders_0age_avg_vote</th>\n",
       "      <th>allgenders_18age_avg_vote</th>\n",
       "      <th>allgenders_30age_avg_vote</th>\n",
       "      <th>allgenders_45age_avg_vote</th>\n",
       "      <th>males_allages_avg_vote</th>\n",
       "      <th>females_allages_avg_vote</th>\n",
       "      <th>duration</th>\n",
       "      <th>budget</th>\n",
       "      <th>year</th>\n",
       "      <th>genre</th>\n",
       "    </tr>\n",
       "  </thead>\n",
       "  <tbody>\n",
       "    <tr>\n",
       "      <th>24</th>\n",
       "      <td>3073</td>\n",
       "      <td>6.5</td>\n",
       "      <td>6.0</td>\n",
       "      <td>7.0</td>\n",
       "      <td>7.0</td>\n",
       "      <td>7.2</td>\n",
       "      <td>7.1</td>\n",
       "      <td>6.9</td>\n",
       "      <td>148</td>\n",
       "      <td>210000.0</td>\n",
       "      <td>1914</td>\n",
       "      <td>Adventure, Drama, History</td>\n",
       "    </tr>\n",
       "    <tr>\n",
       "      <th>34</th>\n",
       "      <td>1239</td>\n",
       "      <td>7.2</td>\n",
       "      <td>6.0</td>\n",
       "      <td>6.4</td>\n",
       "      <td>6.2</td>\n",
       "      <td>5.8</td>\n",
       "      <td>6.1</td>\n",
       "      <td>6.0</td>\n",
       "      <td>61</td>\n",
       "      <td>40000.0</td>\n",
       "      <td>1914</td>\n",
       "      <td>Drama</td>\n",
       "    </tr>\n",
       "    <tr>\n",
       "      <th>37</th>\n",
       "      <td>879</td>\n",
       "      <td>6.1</td>\n",
       "      <td>5.0</td>\n",
       "      <td>5.5</td>\n",
       "      <td>5.5</td>\n",
       "      <td>6.0</td>\n",
       "      <td>5.7</td>\n",
       "      <td>5.9</td>\n",
       "      <td>74</td>\n",
       "      <td>20000.0</td>\n",
       "      <td>1914</td>\n",
       "      <td>Action, Drama, Romance</td>\n",
       "    </tr>\n",
       "    <tr>\n",
       "      <th>38</th>\n",
       "      <td>178</td>\n",
       "      <td>6.4</td>\n",
       "      <td>8.0</td>\n",
       "      <td>5.5</td>\n",
       "      <td>5.8</td>\n",
       "      <td>6.6</td>\n",
       "      <td>6.1</td>\n",
       "      <td>6.5</td>\n",
       "      <td>80</td>\n",
       "      <td>10000.0</td>\n",
       "      <td>1914</td>\n",
       "      <td>Drama</td>\n",
       "    </tr>\n",
       "    <tr>\n",
       "      <th>39</th>\n",
       "      <td>3250</td>\n",
       "      <td>7.1</td>\n",
       "      <td>5.0</td>\n",
       "      <td>6.3</td>\n",
       "      <td>6.2</td>\n",
       "      <td>6.4</td>\n",
       "      <td>6.3</td>\n",
       "      <td>6.6</td>\n",
       "      <td>82</td>\n",
       "      <td>50000.0</td>\n",
       "      <td>1914</td>\n",
       "      <td>Comedy</td>\n",
       "    </tr>\n",
       "  </tbody>\n",
       "</table>\n",
       "</div>"
      ],
      "text/plain": [
       "    total_votes  mean_vote  ...  year                      genre\n",
       "24         3073        6.5  ...  1914  Adventure, Drama, History\n",
       "34         1239        7.2  ...  1914                      Drama\n",
       "37          879        6.1  ...  1914     Action, Drama, Romance\n",
       "38          178        6.4  ...  1914                      Drama\n",
       "39         3250        7.1  ...  1914                     Comedy\n",
       "\n",
       "[5 rows x 12 columns]"
      ]
     },
     "execution_count": 83,
     "metadata": {
      "tags": []
     },
     "output_type": "execute_result"
    }
   ],
   "source": [
    "# Selecionando orçamentos em dollar e convertendo para numérico\n",
    "df['budget'] = df['budget'].convert_dtypes()\n",
    "df = df[df['budget'].str.contains(\"\\$\")]\n",
    "df['budget'] = df['budget'].str.extract('(\\d+)').astype(float)\n",
    "\n",
    "# Selecionando filmes publicados após 1913.\n",
    "# 1913 é onde a base utilizada para corrigir a \n",
    "# inflação começa\n",
    "df['year'] = df['year'].astype(int)\n",
    "df = df[df['year'] >= 1913]\n",
    "df.head()"
   ]
  },
  {
   "cell_type": "code",
   "execution_count": 84,
   "metadata": {
    "colab": {
     "base_uri": "https://localhost:8080/",
     "height": 391
    },
    "executionInfo": {
     "elapsed": 897399,
     "status": "ok",
     "timestamp": 1616430475110,
     "user": {
      "displayName": "Lucas Augusto",
      "photoUrl": "https://lh3.googleusercontent.com/a-/AOh14GhKyK-ERGs5QO0SG3PBzrISYGaLYQokTYyFURVSwA=s64",
      "userId": "14088004947059534312"
     },
     "user_tz": 180
    },
    "id": "6bx38J5OmiQ3",
    "outputId": "72f9aec2-932b-4607-c647-3e13c694ab60"
   },
   "outputs": [
    {
     "data": {
      "text/html": [
       "<div>\n",
       "<style scoped>\n",
       "    .dataframe tbody tr th:only-of-type {\n",
       "        vertical-align: middle;\n",
       "    }\n",
       "\n",
       "    .dataframe tbody tr th {\n",
       "        vertical-align: top;\n",
       "    }\n",
       "\n",
       "    .dataframe thead th {\n",
       "        text-align: right;\n",
       "    }\n",
       "</style>\n",
       "<table border=\"1\" class=\"dataframe\">\n",
       "  <thead>\n",
       "    <tr style=\"text-align: right;\">\n",
       "      <th></th>\n",
       "      <th>DATE</th>\n",
       "      <th>CPIAUCNS</th>\n",
       "      <th>CURRENT</th>\n",
       "    </tr>\n",
       "  </thead>\n",
       "  <tbody>\n",
       "    <tr>\n",
       "      <th>0</th>\n",
       "      <td>1913-01-01</td>\n",
       "      <td>26.692041</td>\n",
       "      <td>261.582</td>\n",
       "    </tr>\n",
       "    <tr>\n",
       "      <th>1</th>\n",
       "      <td>1913-02-01</td>\n",
       "      <td>26.692041</td>\n",
       "      <td>261.582</td>\n",
       "    </tr>\n",
       "    <tr>\n",
       "      <th>2</th>\n",
       "      <td>1913-03-01</td>\n",
       "      <td>26.692041</td>\n",
       "      <td>261.582</td>\n",
       "    </tr>\n",
       "    <tr>\n",
       "      <th>3</th>\n",
       "      <td>1913-04-01</td>\n",
       "      <td>26.692041</td>\n",
       "      <td>261.582</td>\n",
       "    </tr>\n",
       "    <tr>\n",
       "      <th>4</th>\n",
       "      <td>1913-05-01</td>\n",
       "      <td>26.967216</td>\n",
       "      <td>261.582</td>\n",
       "    </tr>\n",
       "    <tr>\n",
       "      <th>...</th>\n",
       "      <td>...</td>\n",
       "      <td>...</td>\n",
       "      <td>...</td>\n",
       "    </tr>\n",
       "    <tr>\n",
       "      <th>1292</th>\n",
       "      <td>2020-09-01</td>\n",
       "      <td>1.005002</td>\n",
       "      <td>261.582</td>\n",
       "    </tr>\n",
       "    <tr>\n",
       "      <th>1293</th>\n",
       "      <td>2020-10-01</td>\n",
       "      <td>1.004585</td>\n",
       "      <td>261.582</td>\n",
       "    </tr>\n",
       "    <tr>\n",
       "      <th>1294</th>\n",
       "      <td>2020-11-01</td>\n",
       "      <td>1.005199</td>\n",
       "      <td>261.582</td>\n",
       "    </tr>\n",
       "    <tr>\n",
       "      <th>1295</th>\n",
       "      <td>2020-12-01</td>\n",
       "      <td>1.004254</td>\n",
       "      <td>261.582</td>\n",
       "    </tr>\n",
       "    <tr>\n",
       "      <th>1296</th>\n",
       "      <td>2021-01-01</td>\n",
       "      <td>1.000000</td>\n",
       "      <td>261.582</td>\n",
       "    </tr>\n",
       "  </tbody>\n",
       "</table>\n",
       "<p>1297 rows × 3 columns</p>\n",
       "</div>"
      ],
      "text/plain": [
       "           DATE   CPIAUCNS  CURRENT\n",
       "0    1913-01-01  26.692041  261.582\n",
       "1    1913-02-01  26.692041  261.582\n",
       "2    1913-03-01  26.692041  261.582\n",
       "3    1913-04-01  26.692041  261.582\n",
       "4    1913-05-01  26.967216  261.582\n",
       "...         ...        ...      ...\n",
       "1292 2020-09-01   1.005002  261.582\n",
       "1293 2020-10-01   1.004585  261.582\n",
       "1294 2020-11-01   1.005199  261.582\n",
       "1295 2020-12-01   1.004254  261.582\n",
       "1296 2021-01-01   1.000000  261.582\n",
       "\n",
       "[1297 rows x 3 columns]"
      ]
     },
     "execution_count": 84,
     "metadata": {
      "tags": []
     },
     "output_type": "execute_result"
    }
   ],
   "source": [
    "# Dataset para fazer a correção monetária pela inflação\n",
    "# cpi = pd.read_csv('datasets/CPIAUCNS.csv')\n",
    "cpi = pd.read_csv('https://media.githubusercontent.com/media/joaopmo/TP_ICD/main/datasets/CPIAUCNS.csv')\n",
    "cpi['DATE'] =  pd.to_datetime(cpi['DATE'])\n",
    "current_cpi = cpi.iloc[-1, 1]\n",
    "cpi['CURRENT'] = current_cpi\n",
    "cpi['CPIAUCNS'] = cpi['CURRENT'] / cpi['CPIAUCNS']\n",
    "cpi"
   ]
  },
  {
   "cell_type": "code",
   "execution_count": 85,
   "metadata": {
    "colab": {
     "base_uri": "https://localhost:8080/",
     "height": 276
    },
    "executionInfo": {
     "elapsed": 897397,
     "status": "ok",
     "timestamp": 1616430475122,
     "user": {
      "displayName": "Lucas Augusto",
      "photoUrl": "https://lh3.googleusercontent.com/a-/AOh14GhKyK-ERGs5QO0SG3PBzrISYGaLYQokTYyFURVSwA=s64",
      "userId": "14088004947059534312"
     },
     "user_tz": 180
    },
    "id": "sgEZy8pwmiQ4",
    "outputId": "9b3d7925-e253-4712-d657-ff65c8212d62"
   },
   "outputs": [
    {
     "data": {
      "text/html": [
       "<div>\n",
       "<style scoped>\n",
       "    .dataframe tbody tr th:only-of-type {\n",
       "        vertical-align: middle;\n",
       "    }\n",
       "\n",
       "    .dataframe tbody tr th {\n",
       "        vertical-align: top;\n",
       "    }\n",
       "\n",
       "    .dataframe thead th {\n",
       "        text-align: right;\n",
       "    }\n",
       "</style>\n",
       "<table border=\"1\" class=\"dataframe\">\n",
       "  <thead>\n",
       "    <tr style=\"text-align: right;\">\n",
       "      <th></th>\n",
       "      <th>total_votes</th>\n",
       "      <th>mean_vote</th>\n",
       "      <th>allgenders_0age_avg_vote</th>\n",
       "      <th>allgenders_18age_avg_vote</th>\n",
       "      <th>allgenders_30age_avg_vote</th>\n",
       "      <th>allgenders_45age_avg_vote</th>\n",
       "      <th>males_allages_avg_vote</th>\n",
       "      <th>females_allages_avg_vote</th>\n",
       "      <th>duration</th>\n",
       "      <th>budget</th>\n",
       "      <th>year</th>\n",
       "      <th>genre</th>\n",
       "    </tr>\n",
       "  </thead>\n",
       "  <tbody>\n",
       "    <tr>\n",
       "      <th>0</th>\n",
       "      <td>3073</td>\n",
       "      <td>6.5</td>\n",
       "      <td>6.0</td>\n",
       "      <td>7.0</td>\n",
       "      <td>7.0</td>\n",
       "      <td>7.2</td>\n",
       "      <td>7.1</td>\n",
       "      <td>6.9</td>\n",
       "      <td>148</td>\n",
       "      <td>5493222.0</td>\n",
       "      <td>1914</td>\n",
       "      <td>Adventure, Drama, History</td>\n",
       "    </tr>\n",
       "    <tr>\n",
       "      <th>1</th>\n",
       "      <td>1239</td>\n",
       "      <td>7.2</td>\n",
       "      <td>6.0</td>\n",
       "      <td>6.4</td>\n",
       "      <td>6.2</td>\n",
       "      <td>5.8</td>\n",
       "      <td>6.1</td>\n",
       "      <td>6.0</td>\n",
       "      <td>61</td>\n",
       "      <td>1046328.0</td>\n",
       "      <td>1914</td>\n",
       "      <td>Drama</td>\n",
       "    </tr>\n",
       "    <tr>\n",
       "      <th>2</th>\n",
       "      <td>879</td>\n",
       "      <td>6.1</td>\n",
       "      <td>5.0</td>\n",
       "      <td>5.5</td>\n",
       "      <td>5.5</td>\n",
       "      <td>6.0</td>\n",
       "      <td>5.7</td>\n",
       "      <td>5.9</td>\n",
       "      <td>74</td>\n",
       "      <td>523164.0</td>\n",
       "      <td>1914</td>\n",
       "      <td>Action, Drama, Romance</td>\n",
       "    </tr>\n",
       "    <tr>\n",
       "      <th>3</th>\n",
       "      <td>178</td>\n",
       "      <td>6.4</td>\n",
       "      <td>8.0</td>\n",
       "      <td>5.5</td>\n",
       "      <td>5.8</td>\n",
       "      <td>6.6</td>\n",
       "      <td>6.1</td>\n",
       "      <td>6.5</td>\n",
       "      <td>80</td>\n",
       "      <td>261582.0</td>\n",
       "      <td>1914</td>\n",
       "      <td>Drama</td>\n",
       "    </tr>\n",
       "    <tr>\n",
       "      <th>4</th>\n",
       "      <td>3250</td>\n",
       "      <td>7.1</td>\n",
       "      <td>5.0</td>\n",
       "      <td>6.3</td>\n",
       "      <td>6.2</td>\n",
       "      <td>6.4</td>\n",
       "      <td>6.3</td>\n",
       "      <td>6.6</td>\n",
       "      <td>82</td>\n",
       "      <td>1307910.0</td>\n",
       "      <td>1914</td>\n",
       "      <td>Comedy</td>\n",
       "    </tr>\n",
       "  </tbody>\n",
       "</table>\n",
       "</div>"
      ],
      "text/plain": [
       "   total_votes  mean_vote  ...  year                      genre\n",
       "0         3073        6.5  ...  1914  Adventure, Drama, History\n",
       "1         1239        7.2  ...  1914                      Drama\n",
       "2          879        6.1  ...  1914     Action, Drama, Romance\n",
       "3          178        6.4  ...  1914                      Drama\n",
       "4         3250        7.1  ...  1914                     Comedy\n",
       "\n",
       "[5 rows x 12 columns]"
      ]
     },
     "execution_count": 85,
     "metadata": {
      "tags": []
     },
     "output_type": "execute_result"
    }
   ],
   "source": [
    "# Ajustando datas e unindo datasets\n",
    "df['day'] = 1\n",
    "df['month'] = 1\n",
    "new_df = df[['year', 'month', 'day']]\n",
    "df['DATE'] = pd.to_datetime(new_df)\n",
    "df = pd.merge(df, cpi, on='DATE')\n",
    "\n",
    "# Corrigindo a inflação\n",
    "df['budget'] = df['budget'] * df['CPIAUCNS']\n",
    "\n",
    "# Removendo colunas que não são de interesse\n",
    "df = df.drop(['day', 'month', 'DATE', 'CPIAUCNS', 'CURRENT'], axis=1)\n",
    "\n",
    "df.head()"
   ]
  },
  {
   "cell_type": "markdown",
   "metadata": {
    "id": "nAUUu2wsmiQ4"
   },
   "source": [
    "Agora faremos one-hot encoding nas colunas com dados categóricos"
   ]
  },
  {
   "cell_type": "code",
   "execution_count": 86,
   "metadata": {
    "colab": {
     "base_uri": "https://localhost:8080/",
     "height": 427
    },
    "executionInfo": {
     "elapsed": 897580,
     "status": "ok",
     "timestamp": 1616430475318,
     "user": {
      "displayName": "Lucas Augusto",
      "photoUrl": "https://lh3.googleusercontent.com/a-/AOh14GhKyK-ERGs5QO0SG3PBzrISYGaLYQokTYyFURVSwA=s64",
      "userId": "14088004947059534312"
     },
     "user_tz": 180
    },
    "id": "KL9GJd_mmiQ4",
    "outputId": "390229e6-e7c7-42bf-b093-72b28a8b37a7"
   },
   "outputs": [
    {
     "data": {
      "text/html": [
       "<div>\n",
       "<style scoped>\n",
       "    .dataframe tbody tr th:only-of-type {\n",
       "        vertical-align: middle;\n",
       "    }\n",
       "\n",
       "    .dataframe tbody tr th {\n",
       "        vertical-align: top;\n",
       "    }\n",
       "\n",
       "    .dataframe thead th {\n",
       "        text-align: right;\n",
       "    }\n",
       "</style>\n",
       "<table border=\"1\" class=\"dataframe\">\n",
       "  <thead>\n",
       "    <tr style=\"text-align: right;\">\n",
       "      <th></th>\n",
       "      <th>total_votes</th>\n",
       "      <th>mean_vote</th>\n",
       "      <th>allgenders_0age_avg_vote</th>\n",
       "      <th>allgenders_18age_avg_vote</th>\n",
       "      <th>allgenders_30age_avg_vote</th>\n",
       "      <th>allgenders_45age_avg_vote</th>\n",
       "      <th>males_allages_avg_vote</th>\n",
       "      <th>females_allages_avg_vote</th>\n",
       "      <th>duration</th>\n",
       "      <th>budget</th>\n",
       "      <th>1914</th>\n",
       "      <th>1915</th>\n",
       "      <th>1916</th>\n",
       "      <th>1917</th>\n",
       "      <th>1918</th>\n",
       "      <th>1919</th>\n",
       "      <th>1920</th>\n",
       "      <th>1921</th>\n",
       "      <th>1922</th>\n",
       "      <th>1923</th>\n",
       "      <th>1924</th>\n",
       "      <th>1925</th>\n",
       "      <th>1926</th>\n",
       "      <th>1927</th>\n",
       "      <th>1928</th>\n",
       "      <th>1929</th>\n",
       "      <th>1930</th>\n",
       "      <th>1931</th>\n",
       "      <th>1932</th>\n",
       "      <th>1933</th>\n",
       "      <th>1934</th>\n",
       "      <th>1935</th>\n",
       "      <th>1936</th>\n",
       "      <th>1937</th>\n",
       "      <th>1938</th>\n",
       "      <th>1939</th>\n",
       "      <th>1940</th>\n",
       "      <th>1941</th>\n",
       "      <th>1942</th>\n",
       "      <th>1943</th>\n",
       "      <th>...</th>\n",
       "      <th>Action</th>\n",
       "      <th>Adventure</th>\n",
       "      <th>Biography</th>\n",
       "      <th>Comedy</th>\n",
       "      <th>Crime</th>\n",
       "      <th>Drama</th>\n",
       "      <th>Family</th>\n",
       "      <th>Fantasy</th>\n",
       "      <th>Film-Noir</th>\n",
       "      <th>History</th>\n",
       "      <th>Horror</th>\n",
       "      <th>Music</th>\n",
       "      <th>Musical</th>\n",
       "      <th>Mystery</th>\n",
       "      <th>Romance</th>\n",
       "      <th>Sci-Fi</th>\n",
       "      <th>Sport</th>\n",
       "      <th>Thriller</th>\n",
       "      <th>War</th>\n",
       "      <th>Western</th>\n",
       "      <th>Action</th>\n",
       "      <th>Adventure</th>\n",
       "      <th>Animation</th>\n",
       "      <th>Biography</th>\n",
       "      <th>Comedy</th>\n",
       "      <th>Crime</th>\n",
       "      <th>Drama</th>\n",
       "      <th>Family</th>\n",
       "      <th>Fantasy</th>\n",
       "      <th>Film-Noir</th>\n",
       "      <th>History</th>\n",
       "      <th>Horror</th>\n",
       "      <th>Music</th>\n",
       "      <th>Musical</th>\n",
       "      <th>Mystery</th>\n",
       "      <th>Romance</th>\n",
       "      <th>Sci-Fi</th>\n",
       "      <th>Thriller</th>\n",
       "      <th>War</th>\n",
       "      <th>Western</th>\n",
       "    </tr>\n",
       "  </thead>\n",
       "  <tbody>\n",
       "    <tr>\n",
       "      <th>0</th>\n",
       "      <td>3073</td>\n",
       "      <td>6.5</td>\n",
       "      <td>6.0</td>\n",
       "      <td>7.0</td>\n",
       "      <td>7.0</td>\n",
       "      <td>7.2</td>\n",
       "      <td>7.1</td>\n",
       "      <td>6.9</td>\n",
       "      <td>148</td>\n",
       "      <td>5.493222e+06</td>\n",
       "      <td>1</td>\n",
       "      <td>0</td>\n",
       "      <td>0</td>\n",
       "      <td>0</td>\n",
       "      <td>0</td>\n",
       "      <td>0</td>\n",
       "      <td>0</td>\n",
       "      <td>0</td>\n",
       "      <td>0</td>\n",
       "      <td>0</td>\n",
       "      <td>0</td>\n",
       "      <td>0</td>\n",
       "      <td>0</td>\n",
       "      <td>0</td>\n",
       "      <td>0</td>\n",
       "      <td>0</td>\n",
       "      <td>0</td>\n",
       "      <td>0</td>\n",
       "      <td>0</td>\n",
       "      <td>0</td>\n",
       "      <td>0</td>\n",
       "      <td>0</td>\n",
       "      <td>0</td>\n",
       "      <td>0</td>\n",
       "      <td>0</td>\n",
       "      <td>0</td>\n",
       "      <td>0</td>\n",
       "      <td>0</td>\n",
       "      <td>0</td>\n",
       "      <td>0</td>\n",
       "      <td>...</td>\n",
       "      <td>0</td>\n",
       "      <td>0</td>\n",
       "      <td>0</td>\n",
       "      <td>0</td>\n",
       "      <td>0</td>\n",
       "      <td>1</td>\n",
       "      <td>0</td>\n",
       "      <td>0</td>\n",
       "      <td>0</td>\n",
       "      <td>1</td>\n",
       "      <td>0</td>\n",
       "      <td>0</td>\n",
       "      <td>0</td>\n",
       "      <td>0</td>\n",
       "      <td>0</td>\n",
       "      <td>0</td>\n",
       "      <td>0</td>\n",
       "      <td>0</td>\n",
       "      <td>0</td>\n",
       "      <td>0</td>\n",
       "      <td>0</td>\n",
       "      <td>1</td>\n",
       "      <td>0</td>\n",
       "      <td>0</td>\n",
       "      <td>0</td>\n",
       "      <td>0</td>\n",
       "      <td>0</td>\n",
       "      <td>0</td>\n",
       "      <td>0</td>\n",
       "      <td>0</td>\n",
       "      <td>0</td>\n",
       "      <td>0</td>\n",
       "      <td>0</td>\n",
       "      <td>0</td>\n",
       "      <td>0</td>\n",
       "      <td>0</td>\n",
       "      <td>0</td>\n",
       "      <td>0</td>\n",
       "      <td>0</td>\n",
       "      <td>0</td>\n",
       "    </tr>\n",
       "    <tr>\n",
       "      <th>1</th>\n",
       "      <td>1239</td>\n",
       "      <td>7.2</td>\n",
       "      <td>6.0</td>\n",
       "      <td>6.4</td>\n",
       "      <td>6.2</td>\n",
       "      <td>5.8</td>\n",
       "      <td>6.1</td>\n",
       "      <td>6.0</td>\n",
       "      <td>61</td>\n",
       "      <td>1.046328e+06</td>\n",
       "      <td>1</td>\n",
       "      <td>0</td>\n",
       "      <td>0</td>\n",
       "      <td>0</td>\n",
       "      <td>0</td>\n",
       "      <td>0</td>\n",
       "      <td>0</td>\n",
       "      <td>0</td>\n",
       "      <td>0</td>\n",
       "      <td>0</td>\n",
       "      <td>0</td>\n",
       "      <td>0</td>\n",
       "      <td>0</td>\n",
       "      <td>0</td>\n",
       "      <td>0</td>\n",
       "      <td>0</td>\n",
       "      <td>0</td>\n",
       "      <td>0</td>\n",
       "      <td>0</td>\n",
       "      <td>0</td>\n",
       "      <td>0</td>\n",
       "      <td>0</td>\n",
       "      <td>0</td>\n",
       "      <td>0</td>\n",
       "      <td>0</td>\n",
       "      <td>0</td>\n",
       "      <td>0</td>\n",
       "      <td>0</td>\n",
       "      <td>0</td>\n",
       "      <td>0</td>\n",
       "      <td>...</td>\n",
       "      <td>0</td>\n",
       "      <td>0</td>\n",
       "      <td>0</td>\n",
       "      <td>0</td>\n",
       "      <td>0</td>\n",
       "      <td>0</td>\n",
       "      <td>0</td>\n",
       "      <td>0</td>\n",
       "      <td>0</td>\n",
       "      <td>0</td>\n",
       "      <td>0</td>\n",
       "      <td>0</td>\n",
       "      <td>0</td>\n",
       "      <td>0</td>\n",
       "      <td>0</td>\n",
       "      <td>0</td>\n",
       "      <td>0</td>\n",
       "      <td>0</td>\n",
       "      <td>0</td>\n",
       "      <td>0</td>\n",
       "      <td>0</td>\n",
       "      <td>0</td>\n",
       "      <td>0</td>\n",
       "      <td>0</td>\n",
       "      <td>0</td>\n",
       "      <td>0</td>\n",
       "      <td>1</td>\n",
       "      <td>0</td>\n",
       "      <td>0</td>\n",
       "      <td>0</td>\n",
       "      <td>0</td>\n",
       "      <td>0</td>\n",
       "      <td>0</td>\n",
       "      <td>0</td>\n",
       "      <td>0</td>\n",
       "      <td>0</td>\n",
       "      <td>0</td>\n",
       "      <td>0</td>\n",
       "      <td>0</td>\n",
       "      <td>0</td>\n",
       "    </tr>\n",
       "    <tr>\n",
       "      <th>2</th>\n",
       "      <td>879</td>\n",
       "      <td>6.1</td>\n",
       "      <td>5.0</td>\n",
       "      <td>5.5</td>\n",
       "      <td>5.5</td>\n",
       "      <td>6.0</td>\n",
       "      <td>5.7</td>\n",
       "      <td>5.9</td>\n",
       "      <td>74</td>\n",
       "      <td>5.231640e+05</td>\n",
       "      <td>1</td>\n",
       "      <td>0</td>\n",
       "      <td>0</td>\n",
       "      <td>0</td>\n",
       "      <td>0</td>\n",
       "      <td>0</td>\n",
       "      <td>0</td>\n",
       "      <td>0</td>\n",
       "      <td>0</td>\n",
       "      <td>0</td>\n",
       "      <td>0</td>\n",
       "      <td>0</td>\n",
       "      <td>0</td>\n",
       "      <td>0</td>\n",
       "      <td>0</td>\n",
       "      <td>0</td>\n",
       "      <td>0</td>\n",
       "      <td>0</td>\n",
       "      <td>0</td>\n",
       "      <td>0</td>\n",
       "      <td>0</td>\n",
       "      <td>0</td>\n",
       "      <td>0</td>\n",
       "      <td>0</td>\n",
       "      <td>0</td>\n",
       "      <td>0</td>\n",
       "      <td>0</td>\n",
       "      <td>0</td>\n",
       "      <td>0</td>\n",
       "      <td>0</td>\n",
       "      <td>...</td>\n",
       "      <td>0</td>\n",
       "      <td>0</td>\n",
       "      <td>0</td>\n",
       "      <td>0</td>\n",
       "      <td>0</td>\n",
       "      <td>1</td>\n",
       "      <td>0</td>\n",
       "      <td>0</td>\n",
       "      <td>0</td>\n",
       "      <td>0</td>\n",
       "      <td>0</td>\n",
       "      <td>0</td>\n",
       "      <td>0</td>\n",
       "      <td>0</td>\n",
       "      <td>1</td>\n",
       "      <td>0</td>\n",
       "      <td>0</td>\n",
       "      <td>0</td>\n",
       "      <td>0</td>\n",
       "      <td>0</td>\n",
       "      <td>1</td>\n",
       "      <td>0</td>\n",
       "      <td>0</td>\n",
       "      <td>0</td>\n",
       "      <td>0</td>\n",
       "      <td>0</td>\n",
       "      <td>0</td>\n",
       "      <td>0</td>\n",
       "      <td>0</td>\n",
       "      <td>0</td>\n",
       "      <td>0</td>\n",
       "      <td>0</td>\n",
       "      <td>0</td>\n",
       "      <td>0</td>\n",
       "      <td>0</td>\n",
       "      <td>0</td>\n",
       "      <td>0</td>\n",
       "      <td>0</td>\n",
       "      <td>0</td>\n",
       "      <td>0</td>\n",
       "    </tr>\n",
       "    <tr>\n",
       "      <th>3</th>\n",
       "      <td>178</td>\n",
       "      <td>6.4</td>\n",
       "      <td>8.0</td>\n",
       "      <td>5.5</td>\n",
       "      <td>5.8</td>\n",
       "      <td>6.6</td>\n",
       "      <td>6.1</td>\n",
       "      <td>6.5</td>\n",
       "      <td>80</td>\n",
       "      <td>2.615820e+05</td>\n",
       "      <td>1</td>\n",
       "      <td>0</td>\n",
       "      <td>0</td>\n",
       "      <td>0</td>\n",
       "      <td>0</td>\n",
       "      <td>0</td>\n",
       "      <td>0</td>\n",
       "      <td>0</td>\n",
       "      <td>0</td>\n",
       "      <td>0</td>\n",
       "      <td>0</td>\n",
       "      <td>0</td>\n",
       "      <td>0</td>\n",
       "      <td>0</td>\n",
       "      <td>0</td>\n",
       "      <td>0</td>\n",
       "      <td>0</td>\n",
       "      <td>0</td>\n",
       "      <td>0</td>\n",
       "      <td>0</td>\n",
       "      <td>0</td>\n",
       "      <td>0</td>\n",
       "      <td>0</td>\n",
       "      <td>0</td>\n",
       "      <td>0</td>\n",
       "      <td>0</td>\n",
       "      <td>0</td>\n",
       "      <td>0</td>\n",
       "      <td>0</td>\n",
       "      <td>0</td>\n",
       "      <td>...</td>\n",
       "      <td>0</td>\n",
       "      <td>0</td>\n",
       "      <td>0</td>\n",
       "      <td>0</td>\n",
       "      <td>0</td>\n",
       "      <td>0</td>\n",
       "      <td>0</td>\n",
       "      <td>0</td>\n",
       "      <td>0</td>\n",
       "      <td>0</td>\n",
       "      <td>0</td>\n",
       "      <td>0</td>\n",
       "      <td>0</td>\n",
       "      <td>0</td>\n",
       "      <td>0</td>\n",
       "      <td>0</td>\n",
       "      <td>0</td>\n",
       "      <td>0</td>\n",
       "      <td>0</td>\n",
       "      <td>0</td>\n",
       "      <td>0</td>\n",
       "      <td>0</td>\n",
       "      <td>0</td>\n",
       "      <td>0</td>\n",
       "      <td>0</td>\n",
       "      <td>0</td>\n",
       "      <td>1</td>\n",
       "      <td>0</td>\n",
       "      <td>0</td>\n",
       "      <td>0</td>\n",
       "      <td>0</td>\n",
       "      <td>0</td>\n",
       "      <td>0</td>\n",
       "      <td>0</td>\n",
       "      <td>0</td>\n",
       "      <td>0</td>\n",
       "      <td>0</td>\n",
       "      <td>0</td>\n",
       "      <td>0</td>\n",
       "      <td>0</td>\n",
       "    </tr>\n",
       "    <tr>\n",
       "      <th>4</th>\n",
       "      <td>3250</td>\n",
       "      <td>7.1</td>\n",
       "      <td>5.0</td>\n",
       "      <td>6.3</td>\n",
       "      <td>6.2</td>\n",
       "      <td>6.4</td>\n",
       "      <td>6.3</td>\n",
       "      <td>6.6</td>\n",
       "      <td>82</td>\n",
       "      <td>1.307910e+06</td>\n",
       "      <td>1</td>\n",
       "      <td>0</td>\n",
       "      <td>0</td>\n",
       "      <td>0</td>\n",
       "      <td>0</td>\n",
       "      <td>0</td>\n",
       "      <td>0</td>\n",
       "      <td>0</td>\n",
       "      <td>0</td>\n",
       "      <td>0</td>\n",
       "      <td>0</td>\n",
       "      <td>0</td>\n",
       "      <td>0</td>\n",
       "      <td>0</td>\n",
       "      <td>0</td>\n",
       "      <td>0</td>\n",
       "      <td>0</td>\n",
       "      <td>0</td>\n",
       "      <td>0</td>\n",
       "      <td>0</td>\n",
       "      <td>0</td>\n",
       "      <td>0</td>\n",
       "      <td>0</td>\n",
       "      <td>0</td>\n",
       "      <td>0</td>\n",
       "      <td>0</td>\n",
       "      <td>0</td>\n",
       "      <td>0</td>\n",
       "      <td>0</td>\n",
       "      <td>0</td>\n",
       "      <td>...</td>\n",
       "      <td>0</td>\n",
       "      <td>0</td>\n",
       "      <td>0</td>\n",
       "      <td>0</td>\n",
       "      <td>0</td>\n",
       "      <td>0</td>\n",
       "      <td>0</td>\n",
       "      <td>0</td>\n",
       "      <td>0</td>\n",
       "      <td>0</td>\n",
       "      <td>0</td>\n",
       "      <td>0</td>\n",
       "      <td>0</td>\n",
       "      <td>0</td>\n",
       "      <td>0</td>\n",
       "      <td>0</td>\n",
       "      <td>0</td>\n",
       "      <td>0</td>\n",
       "      <td>0</td>\n",
       "      <td>0</td>\n",
       "      <td>0</td>\n",
       "      <td>0</td>\n",
       "      <td>0</td>\n",
       "      <td>0</td>\n",
       "      <td>1</td>\n",
       "      <td>0</td>\n",
       "      <td>0</td>\n",
       "      <td>0</td>\n",
       "      <td>0</td>\n",
       "      <td>0</td>\n",
       "      <td>0</td>\n",
       "      <td>0</td>\n",
       "      <td>0</td>\n",
       "      <td>0</td>\n",
       "      <td>0</td>\n",
       "      <td>0</td>\n",
       "      <td>0</td>\n",
       "      <td>0</td>\n",
       "      <td>0</td>\n",
       "      <td>0</td>\n",
       "    </tr>\n",
       "    <tr>\n",
       "      <th>...</th>\n",
       "      <td>...</td>\n",
       "      <td>...</td>\n",
       "      <td>...</td>\n",
       "      <td>...</td>\n",
       "      <td>...</td>\n",
       "      <td>...</td>\n",
       "      <td>...</td>\n",
       "      <td>...</td>\n",
       "      <td>...</td>\n",
       "      <td>...</td>\n",
       "      <td>...</td>\n",
       "      <td>...</td>\n",
       "      <td>...</td>\n",
       "      <td>...</td>\n",
       "      <td>...</td>\n",
       "      <td>...</td>\n",
       "      <td>...</td>\n",
       "      <td>...</td>\n",
       "      <td>...</td>\n",
       "      <td>...</td>\n",
       "      <td>...</td>\n",
       "      <td>...</td>\n",
       "      <td>...</td>\n",
       "      <td>...</td>\n",
       "      <td>...</td>\n",
       "      <td>...</td>\n",
       "      <td>...</td>\n",
       "      <td>...</td>\n",
       "      <td>...</td>\n",
       "      <td>...</td>\n",
       "      <td>...</td>\n",
       "      <td>...</td>\n",
       "      <td>...</td>\n",
       "      <td>...</td>\n",
       "      <td>...</td>\n",
       "      <td>...</td>\n",
       "      <td>...</td>\n",
       "      <td>...</td>\n",
       "      <td>...</td>\n",
       "      <td>...</td>\n",
       "      <td>...</td>\n",
       "      <td>...</td>\n",
       "      <td>...</td>\n",
       "      <td>...</td>\n",
       "      <td>...</td>\n",
       "      <td>...</td>\n",
       "      <td>...</td>\n",
       "      <td>...</td>\n",
       "      <td>...</td>\n",
       "      <td>...</td>\n",
       "      <td>...</td>\n",
       "      <td>...</td>\n",
       "      <td>...</td>\n",
       "      <td>...</td>\n",
       "      <td>...</td>\n",
       "      <td>...</td>\n",
       "      <td>...</td>\n",
       "      <td>...</td>\n",
       "      <td>...</td>\n",
       "      <td>...</td>\n",
       "      <td>...</td>\n",
       "      <td>...</td>\n",
       "      <td>...</td>\n",
       "      <td>...</td>\n",
       "      <td>...</td>\n",
       "      <td>...</td>\n",
       "      <td>...</td>\n",
       "      <td>...</td>\n",
       "      <td>...</td>\n",
       "      <td>...</td>\n",
       "      <td>...</td>\n",
       "      <td>...</td>\n",
       "      <td>...</td>\n",
       "      <td>...</td>\n",
       "      <td>...</td>\n",
       "      <td>...</td>\n",
       "      <td>...</td>\n",
       "      <td>...</td>\n",
       "      <td>...</td>\n",
       "      <td>...</td>\n",
       "      <td>...</td>\n",
       "    </tr>\n",
       "    <tr>\n",
       "      <th>9982</th>\n",
       "      <td>18390</td>\n",
       "      <td>5.3</td>\n",
       "      <td>5.4</td>\n",
       "      <td>5.4</td>\n",
       "      <td>5.4</td>\n",
       "      <td>5.2</td>\n",
       "      <td>5.4</td>\n",
       "      <td>5.3</td>\n",
       "      <td>87</td>\n",
       "      <td>5.069988e+06</td>\n",
       "      <td>0</td>\n",
       "      <td>0</td>\n",
       "      <td>0</td>\n",
       "      <td>0</td>\n",
       "      <td>0</td>\n",
       "      <td>0</td>\n",
       "      <td>0</td>\n",
       "      <td>0</td>\n",
       "      <td>0</td>\n",
       "      <td>0</td>\n",
       "      <td>0</td>\n",
       "      <td>0</td>\n",
       "      <td>0</td>\n",
       "      <td>0</td>\n",
       "      <td>0</td>\n",
       "      <td>0</td>\n",
       "      <td>0</td>\n",
       "      <td>0</td>\n",
       "      <td>0</td>\n",
       "      <td>0</td>\n",
       "      <td>0</td>\n",
       "      <td>0</td>\n",
       "      <td>0</td>\n",
       "      <td>0</td>\n",
       "      <td>0</td>\n",
       "      <td>0</td>\n",
       "      <td>0</td>\n",
       "      <td>0</td>\n",
       "      <td>0</td>\n",
       "      <td>0</td>\n",
       "      <td>...</td>\n",
       "      <td>0</td>\n",
       "      <td>0</td>\n",
       "      <td>0</td>\n",
       "      <td>0</td>\n",
       "      <td>0</td>\n",
       "      <td>0</td>\n",
       "      <td>0</td>\n",
       "      <td>0</td>\n",
       "      <td>0</td>\n",
       "      <td>0</td>\n",
       "      <td>1</td>\n",
       "      <td>0</td>\n",
       "      <td>0</td>\n",
       "      <td>1</td>\n",
       "      <td>0</td>\n",
       "      <td>0</td>\n",
       "      <td>0</td>\n",
       "      <td>0</td>\n",
       "      <td>0</td>\n",
       "      <td>0</td>\n",
       "      <td>0</td>\n",
       "      <td>0</td>\n",
       "      <td>0</td>\n",
       "      <td>0</td>\n",
       "      <td>0</td>\n",
       "      <td>0</td>\n",
       "      <td>0</td>\n",
       "      <td>0</td>\n",
       "      <td>1</td>\n",
       "      <td>0</td>\n",
       "      <td>0</td>\n",
       "      <td>0</td>\n",
       "      <td>0</td>\n",
       "      <td>0</td>\n",
       "      <td>0</td>\n",
       "      <td>0</td>\n",
       "      <td>0</td>\n",
       "      <td>0</td>\n",
       "      <td>0</td>\n",
       "      <td>0</td>\n",
       "    </tr>\n",
       "    <tr>\n",
       "      <th>9983</th>\n",
       "      <td>8755</td>\n",
       "      <td>4.7</td>\n",
       "      <td>3.7</td>\n",
       "      <td>4.4</td>\n",
       "      <td>4.6</td>\n",
       "      <td>4.9</td>\n",
       "      <td>4.6</td>\n",
       "      <td>4.7</td>\n",
       "      <td>86</td>\n",
       "      <td>1.013998e+07</td>\n",
       "      <td>0</td>\n",
       "      <td>0</td>\n",
       "      <td>0</td>\n",
       "      <td>0</td>\n",
       "      <td>0</td>\n",
       "      <td>0</td>\n",
       "      <td>0</td>\n",
       "      <td>0</td>\n",
       "      <td>0</td>\n",
       "      <td>0</td>\n",
       "      <td>0</td>\n",
       "      <td>0</td>\n",
       "      <td>0</td>\n",
       "      <td>0</td>\n",
       "      <td>0</td>\n",
       "      <td>0</td>\n",
       "      <td>0</td>\n",
       "      <td>0</td>\n",
       "      <td>0</td>\n",
       "      <td>0</td>\n",
       "      <td>0</td>\n",
       "      <td>0</td>\n",
       "      <td>0</td>\n",
       "      <td>0</td>\n",
       "      <td>0</td>\n",
       "      <td>0</td>\n",
       "      <td>0</td>\n",
       "      <td>0</td>\n",
       "      <td>0</td>\n",
       "      <td>0</td>\n",
       "      <td>...</td>\n",
       "      <td>0</td>\n",
       "      <td>0</td>\n",
       "      <td>0</td>\n",
       "      <td>0</td>\n",
       "      <td>0</td>\n",
       "      <td>0</td>\n",
       "      <td>0</td>\n",
       "      <td>0</td>\n",
       "      <td>0</td>\n",
       "      <td>0</td>\n",
       "      <td>1</td>\n",
       "      <td>0</td>\n",
       "      <td>0</td>\n",
       "      <td>1</td>\n",
       "      <td>0</td>\n",
       "      <td>0</td>\n",
       "      <td>0</td>\n",
       "      <td>0</td>\n",
       "      <td>0</td>\n",
       "      <td>0</td>\n",
       "      <td>0</td>\n",
       "      <td>0</td>\n",
       "      <td>0</td>\n",
       "      <td>0</td>\n",
       "      <td>0</td>\n",
       "      <td>0</td>\n",
       "      <td>1</td>\n",
       "      <td>0</td>\n",
       "      <td>0</td>\n",
       "      <td>0</td>\n",
       "      <td>0</td>\n",
       "      <td>0</td>\n",
       "      <td>0</td>\n",
       "      <td>0</td>\n",
       "      <td>0</td>\n",
       "      <td>0</td>\n",
       "      <td>0</td>\n",
       "      <td>0</td>\n",
       "      <td>0</td>\n",
       "      <td>0</td>\n",
       "    </tr>\n",
       "    <tr>\n",
       "      <th>9984</th>\n",
       "      <td>4105</td>\n",
       "      <td>6.2</td>\n",
       "      <td>7.3</td>\n",
       "      <td>6.1</td>\n",
       "      <td>5.8</td>\n",
       "      <td>5.1</td>\n",
       "      <td>5.8</td>\n",
       "      <td>6.4</td>\n",
       "      <td>92</td>\n",
       "      <td>3.041993e+06</td>\n",
       "      <td>0</td>\n",
       "      <td>0</td>\n",
       "      <td>0</td>\n",
       "      <td>0</td>\n",
       "      <td>0</td>\n",
       "      <td>0</td>\n",
       "      <td>0</td>\n",
       "      <td>0</td>\n",
       "      <td>0</td>\n",
       "      <td>0</td>\n",
       "      <td>0</td>\n",
       "      <td>0</td>\n",
       "      <td>0</td>\n",
       "      <td>0</td>\n",
       "      <td>0</td>\n",
       "      <td>0</td>\n",
       "      <td>0</td>\n",
       "      <td>0</td>\n",
       "      <td>0</td>\n",
       "      <td>0</td>\n",
       "      <td>0</td>\n",
       "      <td>0</td>\n",
       "      <td>0</td>\n",
       "      <td>0</td>\n",
       "      <td>0</td>\n",
       "      <td>0</td>\n",
       "      <td>0</td>\n",
       "      <td>0</td>\n",
       "      <td>0</td>\n",
       "      <td>0</td>\n",
       "      <td>...</td>\n",
       "      <td>0</td>\n",
       "      <td>0</td>\n",
       "      <td>0</td>\n",
       "      <td>0</td>\n",
       "      <td>0</td>\n",
       "      <td>0</td>\n",
       "      <td>0</td>\n",
       "      <td>0</td>\n",
       "      <td>0</td>\n",
       "      <td>0</td>\n",
       "      <td>0</td>\n",
       "      <td>0</td>\n",
       "      <td>0</td>\n",
       "      <td>0</td>\n",
       "      <td>0</td>\n",
       "      <td>0</td>\n",
       "      <td>0</td>\n",
       "      <td>0</td>\n",
       "      <td>0</td>\n",
       "      <td>0</td>\n",
       "      <td>0</td>\n",
       "      <td>0</td>\n",
       "      <td>0</td>\n",
       "      <td>0</td>\n",
       "      <td>1</td>\n",
       "      <td>0</td>\n",
       "      <td>0</td>\n",
       "      <td>0</td>\n",
       "      <td>0</td>\n",
       "      <td>0</td>\n",
       "      <td>0</td>\n",
       "      <td>0</td>\n",
       "      <td>0</td>\n",
       "      <td>0</td>\n",
       "      <td>0</td>\n",
       "      <td>0</td>\n",
       "      <td>0</td>\n",
       "      <td>0</td>\n",
       "      <td>0</td>\n",
       "      <td>0</td>\n",
       "    </tr>\n",
       "    <tr>\n",
       "      <th>9985</th>\n",
       "      <td>19858</td>\n",
       "      <td>6.8</td>\n",
       "      <td>5.7</td>\n",
       "      <td>7.0</td>\n",
       "      <td>6.6</td>\n",
       "      <td>6.6</td>\n",
       "      <td>6.5</td>\n",
       "      <td>7.0</td>\n",
       "      <td>124</td>\n",
       "      <td>1.013998e+07</td>\n",
       "      <td>0</td>\n",
       "      <td>0</td>\n",
       "      <td>0</td>\n",
       "      <td>0</td>\n",
       "      <td>0</td>\n",
       "      <td>0</td>\n",
       "      <td>0</td>\n",
       "      <td>0</td>\n",
       "      <td>0</td>\n",
       "      <td>0</td>\n",
       "      <td>0</td>\n",
       "      <td>0</td>\n",
       "      <td>0</td>\n",
       "      <td>0</td>\n",
       "      <td>0</td>\n",
       "      <td>0</td>\n",
       "      <td>0</td>\n",
       "      <td>0</td>\n",
       "      <td>0</td>\n",
       "      <td>0</td>\n",
       "      <td>0</td>\n",
       "      <td>0</td>\n",
       "      <td>0</td>\n",
       "      <td>0</td>\n",
       "      <td>0</td>\n",
       "      <td>0</td>\n",
       "      <td>0</td>\n",
       "      <td>0</td>\n",
       "      <td>0</td>\n",
       "      <td>0</td>\n",
       "      <td>...</td>\n",
       "      <td>0</td>\n",
       "      <td>0</td>\n",
       "      <td>0</td>\n",
       "      <td>0</td>\n",
       "      <td>0</td>\n",
       "      <td>1</td>\n",
       "      <td>0</td>\n",
       "      <td>0</td>\n",
       "      <td>0</td>\n",
       "      <td>0</td>\n",
       "      <td>0</td>\n",
       "      <td>0</td>\n",
       "      <td>0</td>\n",
       "      <td>0</td>\n",
       "      <td>0</td>\n",
       "      <td>0</td>\n",
       "      <td>0</td>\n",
       "      <td>0</td>\n",
       "      <td>0</td>\n",
       "      <td>0</td>\n",
       "      <td>0</td>\n",
       "      <td>0</td>\n",
       "      <td>0</td>\n",
       "      <td>0</td>\n",
       "      <td>1</td>\n",
       "      <td>0</td>\n",
       "      <td>0</td>\n",
       "      <td>0</td>\n",
       "      <td>0</td>\n",
       "      <td>0</td>\n",
       "      <td>0</td>\n",
       "      <td>0</td>\n",
       "      <td>0</td>\n",
       "      <td>0</td>\n",
       "      <td>0</td>\n",
       "      <td>0</td>\n",
       "      <td>0</td>\n",
       "      <td>0</td>\n",
       "      <td>0</td>\n",
       "      <td>0</td>\n",
       "    </tr>\n",
       "    <tr>\n",
       "      <th>9986</th>\n",
       "      <td>6196</td>\n",
       "      <td>6.9</td>\n",
       "      <td>7.3</td>\n",
       "      <td>6.5</td>\n",
       "      <td>6.3</td>\n",
       "      <td>6.5</td>\n",
       "      <td>6.3</td>\n",
       "      <td>6.8</td>\n",
       "      <td>116</td>\n",
       "      <td>1.216797e+07</td>\n",
       "      <td>0</td>\n",
       "      <td>0</td>\n",
       "      <td>0</td>\n",
       "      <td>0</td>\n",
       "      <td>0</td>\n",
       "      <td>0</td>\n",
       "      <td>0</td>\n",
       "      <td>0</td>\n",
       "      <td>0</td>\n",
       "      <td>0</td>\n",
       "      <td>0</td>\n",
       "      <td>0</td>\n",
       "      <td>0</td>\n",
       "      <td>0</td>\n",
       "      <td>0</td>\n",
       "      <td>0</td>\n",
       "      <td>0</td>\n",
       "      <td>0</td>\n",
       "      <td>0</td>\n",
       "      <td>0</td>\n",
       "      <td>0</td>\n",
       "      <td>0</td>\n",
       "      <td>0</td>\n",
       "      <td>0</td>\n",
       "      <td>0</td>\n",
       "      <td>0</td>\n",
       "      <td>0</td>\n",
       "      <td>0</td>\n",
       "      <td>0</td>\n",
       "      <td>0</td>\n",
       "      <td>...</td>\n",
       "      <td>0</td>\n",
       "      <td>0</td>\n",
       "      <td>0</td>\n",
       "      <td>0</td>\n",
       "      <td>0</td>\n",
       "      <td>1</td>\n",
       "      <td>0</td>\n",
       "      <td>0</td>\n",
       "      <td>0</td>\n",
       "      <td>0</td>\n",
       "      <td>0</td>\n",
       "      <td>1</td>\n",
       "      <td>0</td>\n",
       "      <td>0</td>\n",
       "      <td>0</td>\n",
       "      <td>0</td>\n",
       "      <td>0</td>\n",
       "      <td>0</td>\n",
       "      <td>0</td>\n",
       "      <td>0</td>\n",
       "      <td>0</td>\n",
       "      <td>0</td>\n",
       "      <td>0</td>\n",
       "      <td>1</td>\n",
       "      <td>0</td>\n",
       "      <td>0</td>\n",
       "      <td>0</td>\n",
       "      <td>0</td>\n",
       "      <td>0</td>\n",
       "      <td>0</td>\n",
       "      <td>0</td>\n",
       "      <td>0</td>\n",
       "      <td>0</td>\n",
       "      <td>0</td>\n",
       "      <td>0</td>\n",
       "      <td>0</td>\n",
       "      <td>0</td>\n",
       "      <td>0</td>\n",
       "      <td>0</td>\n",
       "      <td>0</td>\n",
       "    </tr>\n",
       "  </tbody>\n",
       "</table>\n",
       "<p>9987 rows × 157 columns</p>\n",
       "</div>"
      ],
      "text/plain": [
       "      total_votes  mean_vote  allgenders_0age_avg_vote  ...  Thriller  War  Western\n",
       "0            3073        6.5                       6.0  ...         0    0        0\n",
       "1            1239        7.2                       6.0  ...         0    0        0\n",
       "2             879        6.1                       5.0  ...         0    0        0\n",
       "3             178        6.4                       8.0  ...         0    0        0\n",
       "4            3250        7.1                       5.0  ...         0    0        0\n",
       "...           ...        ...                       ...  ...       ...  ...      ...\n",
       "9982        18390        5.3                       5.4  ...         0    0        0\n",
       "9983         8755        4.7                       3.7  ...         0    0        0\n",
       "9984         4105        6.2                       7.3  ...         0    0        0\n",
       "9985        19858        6.8                       5.7  ...         0    0        0\n",
       "9986         6196        6.9                       7.3  ...         0    0        0\n",
       "\n",
       "[9987 rows x 157 columns]"
      ]
     },
     "execution_count": 86,
     "metadata": {
      "tags": []
     },
     "output_type": "execute_result"
    }
   ],
   "source": [
    "mlb = MultiLabelBinarizer(sparse_output=True)\n",
    "\n",
    "# One-hot encoding do treino\n",
    "df['year'] = df['year'].astype(str)\n",
    "df['year'] = df['year'].str.split(',')\n",
    "df['genre'] = df['genre'].str.split(',')\n",
    "df = df.join(pd.DataFrame.sparse.from_spmatrix(mlb.fit_transform(df.pop('year')), index=df.index, columns=mlb.classes_), how = 'left', lsuffix = '_left', rsuffix = '_right')\n",
    "df = df.join(pd.DataFrame.sparse.from_spmatrix(mlb.fit_transform(df.pop('genre')), index=df.index, columns=mlb.classes_), how = 'left', lsuffix = '_left', rsuffix = '_right')\n",
    "df"
   ]
  },
  {
   "cell_type": "markdown",
   "metadata": {
    "id": "br93NSZ9miQ5"
   },
   "source": [
    "Dividimos o dataframe em um conjunto para treino e outro para testes"
   ]
  },
  {
   "cell_type": "code",
   "execution_count": 87,
   "metadata": {
    "colab": {
     "base_uri": "https://localhost:8080/"
    },
    "executionInfo": {
     "elapsed": 897821,
     "status": "ok",
     "timestamp": 1616430475574,
     "user": {
      "displayName": "Lucas Augusto",
      "photoUrl": "https://lh3.googleusercontent.com/a-/AOh14GhKyK-ERGs5QO0SG3PBzrISYGaLYQokTYyFURVSwA=s64",
      "userId": "14088004947059534312"
     },
     "user_tz": 180
    },
    "id": "XqwI0SsemiQ5",
    "outputId": "7c45e4f4-2652-49c8-caf2-e1eac7a5f6d5"
   },
   "outputs": [
    {
     "name": "stdout",
     "output_type": "stream",
     "text": [
      "(7989, 157)\n",
      "(1998, 157)\n"
     ]
    }
   ],
   "source": [
    "train_df, test_df = train_test_split(df, test_size=0.2)\n",
    "print(train_df.shape)\n",
    "print(test_df.shape)"
   ]
  },
  {
   "cell_type": "code",
   "execution_count": 88,
   "metadata": {
    "executionInfo": {
     "elapsed": 897815,
     "status": "ok",
     "timestamp": 1616430475575,
     "user": {
      "displayName": "Lucas Augusto",
      "photoUrl": "https://lh3.googleusercontent.com/a-/AOh14GhKyK-ERGs5QO0SG3PBzrISYGaLYQokTYyFURVSwA=s64",
      "userId": "14088004947059534312"
     },
     "user_tz": 180
    },
    "id": "6SrdBLn8miQ5"
   },
   "outputs": [],
   "source": [
    "# Treino\n",
    "y_train_df = train_df['total_votes']\n",
    "X_train_df = train_df.drop('total_votes', axis='columns')\n",
    "\n",
    "#Teste\n",
    "y_test = test_df['total_votes']\n",
    "X_test = test_df.drop('total_votes', axis='columns')\n"
   ]
  },
  {
   "cell_type": "markdown",
   "metadata": {
    "id": "sH-wCbFHmiQ6"
   },
   "source": [
    "As colunas possuem escalas diferentes, portanto é necessário z-normalizar os atributos numéricos"
   ]
  },
  {
   "cell_type": "code",
   "execution_count": 89,
   "metadata": {
    "executionInfo": {
     "elapsed": 897813,
     "status": "ok",
     "timestamp": 1616430475576,
     "user": {
      "displayName": "Lucas Augusto",
      "photoUrl": "https://lh3.googleusercontent.com/a-/AOh14GhKyK-ERGs5QO0SG3PBzrISYGaLYQokTYyFURVSwA=s64",
      "userId": "14088004947059534312"
     },
     "user_tz": 180
    },
    "id": "s2TpTfaXmiQ6"
   },
   "outputs": [],
   "source": [
    "scaler_x = StandardScaler()\n",
    "scaler_y = StandardScaler()\n",
    "\n",
    "y_train = scaler_y.fit_transform(y_train_df.values[:, np.newaxis])\n",
    "X_train = scaler_x.fit_transform(X_train_df.values)"
   ]
  },
  {
   "cell_type": "markdown",
   "metadata": {
    "id": "--7bJy2LmiQ6"
   },
   "source": [
    "Iniciaremos o aprendizado de máquina, a partir daqui o conjunto de testes não será utilizado. Testaremos modelos de regressão linear e vizinho mais próximo. Faremos validação-cruzada para minimizar o erro dos parâmetros de regularização."
   ]
  },
  {
   "cell_type": "code",
   "execution_count": 90,
   "metadata": {
    "colab": {
     "base_uri": "https://localhost:8080/"
    },
    "executionInfo": {
     "elapsed": 897801,
     "status": "ok",
     "timestamp": 1616430475577,
     "user": {
      "displayName": "Lucas Augusto",
      "photoUrl": "https://lh3.googleusercontent.com/a-/AOh14GhKyK-ERGs5QO0SG3PBzrISYGaLYQokTYyFURVSwA=s64",
      "userId": "14088004947059534312"
     },
     "user_tz": 180
    },
    "id": "0Ok0EKtWmiQ6",
    "outputId": "bdce9341-3c13-4514-d743-2a8cd60b08ab"
   },
   "outputs": [
    {
     "data": {
      "text/plain": [
       "0.3939409251128374"
      ]
     },
     "execution_count": 90,
     "metadata": {
      "tags": []
     },
     "output_type": "execute_result"
    }
   ],
   "source": [
    "linear = linear.fit(X_train, y_train)\n",
    "linear.score(X_train, y_train)"
   ]
  },
  {
   "cell_type": "code",
   "execution_count": 91,
   "metadata": {
    "colab": {
     "base_uri": "https://localhost:8080/"
    },
    "executionInfo": {
     "elapsed": 902811,
     "status": "ok",
     "timestamp": 1616430480600,
     "user": {
      "displayName": "Lucas Augusto",
      "photoUrl": "https://lh3.googleusercontent.com/a-/AOh14GhKyK-ERGs5QO0SG3PBzrISYGaLYQokTYyFURVSwA=s64",
      "userId": "14088004947059534312"
     },
     "user_tz": 180
    },
    "id": "cRVhPthVmiQ7",
    "outputId": "9c720a80-d46b-48ff-f6c2-40823388c069"
   },
   "outputs": [
    {
     "data": {
      "text/plain": [
       "0.3936534334660411"
      ]
     },
     "execution_count": 91,
     "metadata": {
      "tags": []
     },
     "output_type": "execute_result"
    }
   ],
   "source": [
    "lasso = lasso.fit(X_train, y_train)\n",
    "lasso.score(X_train, y_train)"
   ]
  },
  {
   "cell_type": "code",
   "execution_count": 92,
   "metadata": {
    "colab": {
     "base_uri": "https://localhost:8080/"
    },
    "executionInfo": {
     "elapsed": 904286,
     "status": "ok",
     "timestamp": 1616430482087,
     "user": {
      "displayName": "Lucas Augusto",
      "photoUrl": "https://lh3.googleusercontent.com/a-/AOh14GhKyK-ERGs5QO0SG3PBzrISYGaLYQokTYyFURVSwA=s64",
      "userId": "14088004947059534312"
     },
     "user_tz": 180
    },
    "id": "sT4ZJqmcmiQ7",
    "outputId": "681dad5a-daaf-49a7-a336-4e8e9866f18c"
   },
   "outputs": [
    {
     "data": {
      "text/plain": [
       "0.39361212373813115"
      ]
     },
     "execution_count": 92,
     "metadata": {
      "tags": []
     },
     "output_type": "execute_result"
    }
   ],
   "source": [
    "ridge = ridge.fit(X_train, y_train)\n",
    "ridge.score(X_train, y_train)"
   ]
  },
  {
   "cell_type": "markdown",
   "metadata": {
    "id": "ClJb6H18miQ7"
   },
   "source": [
    "Verificamos o erro quadrado médio na previsão dos modelos"
   ]
  },
  {
   "cell_type": "code",
   "execution_count": 93,
   "metadata": {
    "colab": {
     "base_uri": "https://localhost:8080/"
    },
    "executionInfo": {
     "elapsed": 904279,
     "status": "ok",
     "timestamp": 1616430482094,
     "user": {
      "displayName": "Lucas Augusto",
      "photoUrl": "https://lh3.googleusercontent.com/a-/AOh14GhKyK-ERGs5QO0SG3PBzrISYGaLYQokTYyFURVSwA=s64",
      "userId": "14088004947059534312"
     },
     "user_tz": 180
    },
    "id": "ZZp3XCmkmiQ8",
    "outputId": "8af98d59-a3b1-4528-c066-972cf23911e4"
   },
   "outputs": [
    {
     "data": {
      "text/plain": [
       "0.6060590748871625"
      ]
     },
     "execution_count": 93,
     "metadata": {
      "tags": []
     },
     "output_type": "execute_result"
    }
   ],
   "source": [
    "mean_squared_error(y_train, linear.predict(X_train))"
   ]
  },
  {
   "cell_type": "code",
   "execution_count": 94,
   "metadata": {
    "colab": {
     "base_uri": "https://localhost:8080/"
    },
    "executionInfo": {
     "elapsed": 904268,
     "status": "ok",
     "timestamp": 1616430482096,
     "user": {
      "displayName": "Lucas Augusto",
      "photoUrl": "https://lh3.googleusercontent.com/a-/AOh14GhKyK-ERGs5QO0SG3PBzrISYGaLYQokTYyFURVSwA=s64",
      "userId": "14088004947059534312"
     },
     "user_tz": 180
    },
    "id": "QjpjUUirmiQ9",
    "outputId": "4ded68bc-c782-4d0f-b7ce-99d158d522a0"
   },
   "outputs": [
    {
     "data": {
      "text/plain": [
       "0.6063465665339588"
      ]
     },
     "execution_count": 94,
     "metadata": {
      "tags": []
     },
     "output_type": "execute_result"
    }
   ],
   "source": [
    "mean_squared_error(y_train, lasso.predict(X_train))"
   ]
  },
  {
   "cell_type": "code",
   "execution_count": 95,
   "metadata": {
    "colab": {
     "base_uri": "https://localhost:8080/"
    },
    "executionInfo": {
     "elapsed": 904256,
     "status": "ok",
     "timestamp": 1616430482097,
     "user": {
      "displayName": "Lucas Augusto",
      "photoUrl": "https://lh3.googleusercontent.com/a-/AOh14GhKyK-ERGs5QO0SG3PBzrISYGaLYQokTYyFURVSwA=s64",
      "userId": "14088004947059534312"
     },
     "user_tz": 180
    },
    "id": "AeiWSvcTmiQ-",
    "outputId": "095498fa-fa48-4f8a-cf6d-ff411f943a09"
   },
   "outputs": [
    {
     "data": {
      "text/plain": [
       "0.6063878762618687"
      ]
     },
     "execution_count": 95,
     "metadata": {
      "tags": []
     },
     "output_type": "execute_result"
    }
   ],
   "source": [
    "mean_squared_error(y_train, ridge.predict(X_train))"
   ]
  },
  {
   "cell_type": "markdown",
   "metadata": {
    "id": "8aazqbWLmiQ-"
   },
   "source": [
    "Podemos também comparar algumas previsões de cada modelo."
   ]
  },
  {
   "cell_type": "code",
   "execution_count": 96,
   "metadata": {
    "colab": {
     "base_uri": "https://localhost:8080/",
     "height": 391
    },
    "executionInfo": {
     "elapsed": 904245,
     "status": "ok",
     "timestamp": 1616430482099,
     "user": {
      "displayName": "Lucas Augusto",
      "photoUrl": "https://lh3.googleusercontent.com/a-/AOh14GhKyK-ERGs5QO0SG3PBzrISYGaLYQokTYyFURVSwA=s64",
      "userId": "14088004947059534312"
     },
     "user_tz": 180
    },
    "id": "59woh-JpmiQ_",
    "outputId": "44941954-89f1-4dce-dca0-2f74415715ed"
   },
   "outputs": [
    {
     "data": {
      "text/html": [
       "<div>\n",
       "<style scoped>\n",
       "    .dataframe tbody tr th:only-of-type {\n",
       "        vertical-align: middle;\n",
       "    }\n",
       "\n",
       "    .dataframe tbody tr th {\n",
       "        vertical-align: top;\n",
       "    }\n",
       "\n",
       "    .dataframe thead th {\n",
       "        text-align: right;\n",
       "    }\n",
       "</style>\n",
       "<table border=\"1\" class=\"dataframe\">\n",
       "  <thead>\n",
       "    <tr style=\"text-align: right;\">\n",
       "      <th></th>\n",
       "      <th>total_votes</th>\n",
       "      <th>linear</th>\n",
       "      <th>lasso</th>\n",
       "      <th>ridge</th>\n",
       "    </tr>\n",
       "  </thead>\n",
       "  <tbody>\n",
       "    <tr>\n",
       "      <th>0</th>\n",
       "      <td>0.755004</td>\n",
       "      <td>0.991776</td>\n",
       "      <td>0.973891</td>\n",
       "      <td>0.982149</td>\n",
       "    </tr>\n",
       "    <tr>\n",
       "      <th>1</th>\n",
       "      <td>-0.294767</td>\n",
       "      <td>-0.315353</td>\n",
       "      <td>-0.317129</td>\n",
       "      <td>-0.305846</td>\n",
       "    </tr>\n",
       "    <tr>\n",
       "      <th>2</th>\n",
       "      <td>2.458049</td>\n",
       "      <td>-0.094162</td>\n",
       "      <td>-0.091194</td>\n",
       "      <td>-0.070315</td>\n",
       "    </tr>\n",
       "    <tr>\n",
       "      <th>3</th>\n",
       "      <td>-0.458579</td>\n",
       "      <td>-0.131271</td>\n",
       "      <td>-0.136086</td>\n",
       "      <td>-0.132106</td>\n",
       "    </tr>\n",
       "    <tr>\n",
       "      <th>4</th>\n",
       "      <td>-0.425418</td>\n",
       "      <td>-0.330490</td>\n",
       "      <td>-0.330687</td>\n",
       "      <td>-0.340940</td>\n",
       "    </tr>\n",
       "    <tr>\n",
       "      <th>...</th>\n",
       "      <td>...</td>\n",
       "      <td>...</td>\n",
       "      <td>...</td>\n",
       "      <td>...</td>\n",
       "    </tr>\n",
       "    <tr>\n",
       "      <th>7984</th>\n",
       "      <td>0.502558</td>\n",
       "      <td>0.066605</td>\n",
       "      <td>0.075160</td>\n",
       "      <td>0.064614</td>\n",
       "    </tr>\n",
       "    <tr>\n",
       "      <th>7985</th>\n",
       "      <td>0.154079</td>\n",
       "      <td>0.362625</td>\n",
       "      <td>0.343511</td>\n",
       "      <td>0.345284</td>\n",
       "    </tr>\n",
       "    <tr>\n",
       "      <th>7986</th>\n",
       "      <td>0.506207</td>\n",
       "      <td>1.558914</td>\n",
       "      <td>1.541435</td>\n",
       "      <td>1.539610</td>\n",
       "    </tr>\n",
       "    <tr>\n",
       "      <th>7987</th>\n",
       "      <td>0.008291</td>\n",
       "      <td>0.304266</td>\n",
       "      <td>0.305896</td>\n",
       "      <td>0.314802</td>\n",
       "    </tr>\n",
       "    <tr>\n",
       "      <th>7988</th>\n",
       "      <td>4.285804</td>\n",
       "      <td>1.318610</td>\n",
       "      <td>1.320382</td>\n",
       "      <td>1.322309</td>\n",
       "    </tr>\n",
       "  </tbody>\n",
       "</table>\n",
       "<p>7989 rows × 4 columns</p>\n",
       "</div>"
      ],
      "text/plain": [
       "      total_votes    linear     lasso     ridge\n",
       "0        0.755004  0.991776  0.973891  0.982149\n",
       "1       -0.294767 -0.315353 -0.317129 -0.305846\n",
       "2        2.458049 -0.094162 -0.091194 -0.070315\n",
       "3       -0.458579 -0.131271 -0.136086 -0.132106\n",
       "4       -0.425418 -0.330490 -0.330687 -0.340940\n",
       "...           ...       ...       ...       ...\n",
       "7984     0.502558  0.066605  0.075160  0.064614\n",
       "7985     0.154079  0.362625  0.343511  0.345284\n",
       "7986     0.506207  1.558914  1.541435  1.539610\n",
       "7987     0.008291  0.304266  0.305896  0.314802\n",
       "7988     4.285804  1.318610  1.320382  1.322309\n",
       "\n",
       "[7989 rows x 4 columns]"
      ]
     },
     "execution_count": 96,
     "metadata": {
      "tags": []
     },
     "output_type": "execute_result"
    }
   ],
   "source": [
    "pred = pd.Series(y_train.flatten())\n",
    "pred = pred.to_frame(name='total_votes')\n",
    "pred.assign(\n",
    "    linear = linear.predict(X_train),\n",
    "    lasso = lasso.predict(X_train),\n",
    "    ridge = ridge.predict(X_train))"
   ]
  },
  {
   "cell_type": "markdown",
   "metadata": {
    "id": "CfmwTvssmiQ_"
   },
   "source": [
    "Utilizaremos bootstrap para comparar o intervalo dos erros quadrados de cada modelo"
   ]
  },
  {
   "cell_type": "code",
   "execution_count": 97,
   "metadata": {
    "colab": {
     "base_uri": "https://localhost:8080/",
     "height": 528
    },
    "executionInfo": {
     "elapsed": 916986,
     "status": "ok",
     "timestamp": 1616430494854,
     "user": {
      "displayName": "Lucas Augusto",
      "photoUrl": "https://lh3.googleusercontent.com/a-/AOh14GhKyK-ERGs5QO0SG3PBzrISYGaLYQokTYyFURVSwA=s64",
      "userId": "14088004947059534312"
     },
     "user_tz": 180
    },
    "id": "M925GMt7miQ_",
    "outputId": "9d435809-ffe6-4bb9-9c10-aa534dce5925"
   },
   "outputs": [
    {
     "data": {
      "text/plain": [
       "Text(0.5, 1.0, '(0.5104427881549485, 0.7075986369165069)')"
      ]
     },
     "execution_count": 97,
     "metadata": {
      "tags": []
     },
     "output_type": "execute_result"
    },
    {
     "data": {
      "image/png": "[encoded data removed]",
      "text/plain": [
       "<Figure size 864x576 with 1 Axes>"
      ]
     },
     "metadata": {
      "needs_background": "light",
      "tags": []
     },
     "output_type": "display_data"
    }
   ],
   "source": [
    "samples = bootstrap_score(X_train, y_train, linear)\n",
    "plt.hist(samples, edgecolor='k')\n",
    "plt.title('({}, {})'.format(stats.scoreatpercentile(samples, 2.5),\n",
    "                            stats.scoreatpercentile(samples, 97.5)))"
   ]
  },
  {
   "cell_type": "code",
   "execution_count": 98,
   "metadata": {
    "colab": {
     "base_uri": "https://localhost:8080/",
     "height": 528
    },
    "executionInfo": {
     "elapsed": 930332,
     "status": "ok",
     "timestamp": 1616430508215,
     "user": {
      "displayName": "Lucas Augusto",
      "photoUrl": "https://lh3.googleusercontent.com/a-/AOh14GhKyK-ERGs5QO0SG3PBzrISYGaLYQokTYyFURVSwA=s64",
      "userId": "14088004947059534312"
     },
     "user_tz": 180
    },
    "id": "q4Go3NgzmiRA",
    "outputId": "1bc69824-0976-417a-9775-f5d4a21bb693"
   },
   "outputs": [
    {
     "data": {
      "text/plain": [
       "Text(0.5, 1.0, '(0.5108794633753804, 0.7169341037623403)')"
      ]
     },
     "execution_count": 98,
     "metadata": {
      "tags": []
     },
     "output_type": "execute_result"
    },
    {
     "data": {
      "image/png": "[encoded data removed]",
      "text/plain": [
       "<Figure size 864x576 with 1 Axes>"
      ]
     },
     "metadata": {
      "needs_background": "light",
      "tags": []
     },
     "output_type": "display_data"
    }
   ],
   "source": [
    "samples = bootstrap_score(X_train, y_train, lasso)\n",
    "plt.hist(samples, edgecolor='k')\n",
    "plt.title('({}, {})'.format(stats.scoreatpercentile(samples, 2.5),\n",
    "                            stats.scoreatpercentile(samples, 97.5)))"
   ]
  },
  {
   "cell_type": "code",
   "execution_count": 99,
   "metadata": {
    "colab": {
     "base_uri": "https://localhost:8080/",
     "height": 528
    },
    "executionInfo": {
     "elapsed": 943600,
     "status": "ok",
     "timestamp": 1616430521497,
     "user": {
      "displayName": "Lucas Augusto",
      "photoUrl": "https://lh3.googleusercontent.com/a-/AOh14GhKyK-ERGs5QO0SG3PBzrISYGaLYQokTYyFURVSwA=s64",
      "userId": "14088004947059534312"
     },
     "user_tz": 180
    },
    "id": "OoRco80ZmiRA",
    "outputId": "7993e5da-0381-4665-8db3-c1fb7075eba1"
   },
   "outputs": [
    {
     "data": {
      "text/plain": [
       "Text(0.5, 1.0, '(0.5160757465678061, 0.7138571597194938)')"
      ]
     },
     "execution_count": 99,
     "metadata": {
      "tags": []
     },
     "output_type": "execute_result"
    },
    {
     "data": {
      "image/png": "[encoded data removed]",
      "text/plain": [
       "<Figure size 864x576 with 1 Axes>"
      ]
     },
     "metadata": {
      "needs_background": "light",
      "tags": []
     },
     "output_type": "display_data"
    }
   ],
   "source": [
    "samples = bootstrap_score(X_train, y_train, ridge)\n",
    "plt.hist(samples, edgecolor='k')\n",
    "plt.title('({}, {})'.format(stats.scoreatpercentile(samples, 2.5),\n",
    "                            stats.scoreatpercentile(samples, 97.5)))"
   ]
  },
  {
   "cell_type": "markdown",
   "metadata": {
    "id": "dZTNtZaumiRA"
   },
   "source": [
    "Os intervalos de confiança se cruzam, portanto os modelos são estatisticamente equivalentes. Vamos escolher o ridge, simplesmente porque foi mais rápido durante os testes, e avaliar no conjunto de teste."
   ]
  },
  {
   "cell_type": "code",
   "execution_count": 100,
   "metadata": {
    "executionInfo": {
     "elapsed": 943599,
     "status": "ok",
     "timestamp": 1616430521499,
     "user": {
      "displayName": "Lucas Augusto",
      "photoUrl": "https://lh3.googleusercontent.com/a-/AOh14GhKyK-ERGs5QO0SG3PBzrISYGaLYQokTYyFURVSwA=s64",
      "userId": "14088004947059534312"
     },
     "user_tz": 180
    },
    "id": "DOBDw_smmiRB"
   },
   "outputs": [],
   "source": [
    "y_test = scaler_y.fit_transform(y_test.values[:, np.newaxis])\n",
    "X_test = scaler_x.fit_transform(X_test.values)"
   ]
  },
  {
   "cell_type": "code",
   "execution_count": 101,
   "metadata": {
    "colab": {
     "base_uri": "https://localhost:8080/",
     "height": 528
    },
    "executionInfo": {
     "elapsed": 946127,
     "status": "ok",
     "timestamp": 1616430524043,
     "user": {
      "displayName": "Lucas Augusto",
      "photoUrl": "https://lh3.googleusercontent.com/a-/AOh14GhKyK-ERGs5QO0SG3PBzrISYGaLYQokTYyFURVSwA=s64",
      "userId": "14088004947059534312"
     },
     "user_tz": 180
    },
    "id": "-9ahk-svmiRB",
    "outputId": "13a8a488-2c2f-46bb-bbac-f9b2d5712719"
   },
   "outputs": [
    {
     "data": {
      "text/plain": [
       "Text(0.5, 1.0, '(0.4099654533932192, 0.7542779573159522)')"
      ]
     },
     "execution_count": 101,
     "metadata": {
      "tags": []
     },
     "output_type": "execute_result"
    },
    {
     "data": {
      "image/png": "[encoded data removed]",
      "text/plain": [
       "<Figure size 864x576 with 1 Axes>"
      ]
     },
     "metadata": {
      "needs_background": "light",
      "tags": []
     },
     "output_type": "display_data"
    }
   ],
   "source": [
    "samples = bootstrap_score(X_test, y_test, ridge)\n",
    "plt.hist(samples, edgecolor='k')\n",
    "plt.title('({}, {})'.format(stats.scoreatpercentile(samples, 2.5),\n",
    "                            stats.scoreatpercentile(samples, 97.5)))"
   ]
  },
  {
   "cell_type": "markdown",
   "metadata": {
    "id": "4uf_G2z1miRB"
   },
   "source": [
    "Este é o intervalo do erro que esperamos para previsões em uma base real."
   ]
  },
  {
   "cell_type": "markdown",
   "metadata": {
    "id": "IqaCZJW6zH0a"
   },
   "source": [
    "# <div id=\"metodologia\"><a href=\"#sumario\"><h1>7. Metodologia</h1></a></div>"
   ]
  },
  {
   "cell_type": "markdown",
   "metadata": {
    "id": "EMCMVSft1q1X"
   },
   "source": [
    "O trabalho foi criado seguindo em grande parte o pipeline apresentado em aula, inicialmente pela criação de intervalos de confiança que nos permitissem ter uma ideia de relações entre os dados armazenados no dataset, formulando teses e as checando, e na sequência pela realização de regressões lineares que melhor destacassem essas relações buscadas.\n",
    "\n",
    "Para os ICs, a estratégia utilizada foi o Bootstrap, dado que o dataset contém uma parcela de filmes, os que contém mais de 100 avaliações, e não a população total.\n",
    "\n",
    "Quanto às regressões, elas foram desenvolvidas através do *scikit-learn*, utilizando os métodos oferecidos pela biblioteca de normalização, divisão em conjunto treino e teste, validação cruzada, seleção dos melhores modelos, etc. No caso específico do modelo escolhido para a regressão e previsão, optou-se pelo *ridge* devido ao fato de ele ser o que é mais rápido executado e por ser estatisticamente equivalente aos demais, como anteriormente descrito."
   ]
  },
  {
   "cell_type": "markdown",
   "metadata": {
    "id": "zeN4nZX3miRC"
   },
   "source": [
    "# <div id=\"conclusao\"><a href=\"#sumario\"><h1>8. Conclusao</h1></a></div>"
   ]
  },
  {
   "cell_type": "markdown",
   "metadata": {
    "id": "EbeEJLnObjID"
   },
   "source": [
    "Na construção deste relatório diversas hipóteses foram levantadas sobre o conteúdo do dataset, se existia alguma relação entre seus atributos e como estes se relacionavam, desenvolvendo testes de hipótese, intervalos de confiança e regressões lineares de modo a tirar conclusões estatisticamente embasadas sobre tais hipóteses. Voltando à pergunta inicial e tendo como base os testes mencionados, damos uma resposta positiva à pergunta que motivou este trabalho: sim, a avaliação e popularidade de um filme são influenciadas tanto por aspectos do próprio filme quanto por características da população que o avalia."
   ]
  },
  {
   "cell_type": "markdown",
   "metadata": {},
   "source": [
    "# <div id=\"links\"><a href=\"#sumario\"><h1>9. Links</h1></a></div>"
   ]
  },
  {
   "cell_type": "markdown",
   "metadata": {},
   "source": [
    "Apresentação no Youtube: https://www.youtube.com/watch?v=UAqnmvo2lp4\n",
    "\n",
    "Repositório: https://github.com/joaopmo/TP_ICD"
   ]
  },
  {
   "cell_type": "code",
   "execution_count": null,
   "metadata": {},
   "outputs": [],
   "source": []
  }
 ],
 "metadata": {
  "colab": {
   "collapsed_sections": [
    "9a7oXLsnmiPy",
    "nV7ti8HimiP9",
    "oFhSgMXKmiP_",
    "xLoxZOkMmiQA",
    "CYF1P3CmmiQE",
    "2WEu8AWFmiQG",
    "_I-cBkmHmiQl",
    "IqaCZJW6zH0a",
    "zeN4nZX3miRC"
   ],
   "name": "relatorio.ipynb",
   "provenance": [],
   "toc_visible": true
  },
  "kernelspec": {
   "display_name": "Python 3",
   "language": "python",
   "name": "python3"
  },
  "language_info": {
   "codemirror_mode": {
    "name": "ipython",
    "version": 3
   },
   "file_extension": ".py",
   "mimetype": "text/x-python",
   "name": "python",
   "nbconvert_exporter": "python",
   "pygments_lexer": "ipython3",
   "version": "3.9.2"
  }
 },
 "nbformat": 4,
 "nbformat_minor": 4
}
