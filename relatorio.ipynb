{
 "cells": [
  {
   "cell_type": "markdown",
   "metadata": {},
   "source": [
    "<div id=\"sumario\"><a href=\"#sumario\"><h1>1. Sumário</h1></a></div>"
   ]
  },
  {
   "cell_type": "markdown",
   "metadata": {},
   "source": [
    "1. <spam> <a href=\"#sumario\">Sumário</a></spam>\n",
    "2. <spam> <a href=\"#imports\">Imports</a></spam>\n",
    "3. <spam> <a href=\"#introducao\">Introdução</a></spam>\n",
    "4. <spam> <a href=\"#dataset\">Dataset</a></spam>\n",
    "5. <spam> <a href=\"#caracterizacao\">Caracterização</a></spam>\n",
    "    1. <spam> <a href=\"#testes\">Testes de Hipótese</a></spam>\n",
    "        1. <spam> <a href=\"#teste1\">Teste 1</a></spam>\n",
    "        2. <spam> <a href=\"#teste2\">Teste 2</a></spam>\n",
    "        3. <spam> <a href=\"#teste3\">Teste 3</a></spam>\n",
    "        4. <spam> <a href=\"#teste4\">Teste 4</a></spam>\n",
    "        5. <spam> <a href=\"#teste5\">Teste 5</a></spam>\n",
    "6. <spam> <a href=\"#regressoes\">Regressões</a></spam>\n",
    "    1. <spam> <a href=\"#regressao1\">Regressão 1</a></spam>\n",
    "    2. <spam> <a href=\"#regressao2\">Regressão 2</a></spam>\n",
    "    3. <spam> <a href=\"#regressao3\">Regressão 3</a></spam>\n",
    "7. <spam> <a href=\"#conclusao\">Conclusão</a></spam>"
   ]
  },
  {
   "cell_type": "markdown",
   "metadata": {},
   "source": [
    "<div id=\"imports\"><a href=\"#sumario\"><h1>2. Imports</h1></a></div>"
   ]
  },
  {
   "cell_type": "code",
   "execution_count": 7,
   "metadata": {},
   "outputs": [],
   "source": [
    "# -*- coding: utf8\n",
    "\n",
    "from IPython.display import HTML\n",
    "from scipy import stats as stats\n",
    "import numpy as np\n",
    "import matplotlib.pyplot as plt\n",
    "import pandas as pd\n",
    "\n",
    "plt.rcParams['figure.figsize']  = (18, 10)\n",
    "plt.rcParams['axes.labelsize']  = 20\n",
    "plt.rcParams['axes.titlesize']  = 20\n",
    "plt.rcParams['legend.fontsize'] = 20\n",
    "plt.rcParams['xtick.labelsize'] = 20\n",
    "plt.rcParams['ytick.labelsize'] = 20\n",
    "plt.rcParams['lines.linewidth'] = 4"
   ]
  },
  {
   "cell_type": "code",
   "execution_count": 8,
   "metadata": {},
   "outputs": [],
   "source": [
    "plt.ion()\n",
    "\n",
    "plt.style.use('seaborn-colorblind')\n",
    "plt.rcParams['figure.figsize']  = (12, 8)"
   ]
  },
  {
   "cell_type": "code",
   "execution_count": 9,
   "metadata": {},
   "outputs": [],
   "source": [
    "def despine(ax=None):\n",
    "    if ax is None:\n",
    "        ax = plt.gca()\n",
    "    # Hide the right and top spines\n",
    "    ax.spines['right'].set_visible(False)\n",
    "    ax.spines['top'].set_visible(False)\n",
    "\n",
    "    # Only show ticks on the left and bottom spines\n",
    "    ax.yaxis.set_ticks_position('left')\n",
    "    ax.xaxis.set_ticks_position('bottom')"
   ]
  },
  {
   "cell_type": "markdown",
   "metadata": {},
   "source": [
    "<div id=\"introducao\"><a href=\"#sumario\"><h1>3. Introdução</h1></a></div>"
   ]
  },
  {
   "cell_type": "markdown",
   "metadata": {},
   "source": [
    "Ao longo do texto faremos uma análise de dados retirados do website IMDb<a href=\"#imdb\">$^1$</a>, contendo majoritariamente informações sobre filmes e usuários da plataforma. Atualmente o IMDb é um serviço com uma série de utilidades, mas para o nosso propósito basta conhecer uma de suas principais finalidades: ele mantém um banco de dados constantemente atualizado com informações disponíveis sobre filmes, além disso, permite que usuários da plataforma interajam com essas informações. \n",
    "Dentre os dados disponíveis podemos encontrar o título, duração, gênero, orçamento, etc. de várias produções, informações sobre o elenco destes filmes também estão presentes. Usuários podem fazer análises, votar, avaliar e adicionar filmes em uma lista pessoal dentro da plataforma, essas informações, assim como dados de aspecto demográfico disponibilizados pelos usuários, também podem ser visualizados no IMDb.\n",
    "Em dezembro de 2020, o IMDb possuía 560,232 filmes no catálogo<a href=\"#stats\">$^2$</a>. O dataset utilizado possui todos os filmes que haviam mais de cem votos até 01/01/2020, os dados estão separados em quatro arquivos da seguinte maneira:\n",
    "\n",
    "* IMDb_movies.csv inclui 85,855 filmes\n",
    "* IMDb_ratings.csv inclui avaliações dos usuários para os filmes no dataset\n",
    "* IMDb_names.csv inclui informações sobre o elenco dos filmes no dataset\n",
    "* IMDb_title_principals.csv inclui 835,513 papéis desempenhados dentro dos filmes no dataset \n",
    "\n",
    "Mais informações sobre o dataset podem ser encontradas em sua página no Kaggle<a href=\"#kaggle\">$^3$</a>.\n",
    "\n",
    "---\n",
    "\n",
    "Antes de iniciarmos qualquer análise tentaremos definir o significado dos nossos dados. Temos uma amostra de aproximadamente 85,000 títulos retirados da população de filmes do IMDb, que é por sua vez uma amostra da população de todos os filmes lançados. Temos também uma amostra dos usuários da plataforma, que são também uma amostra da população de todas as pessoas que assistem filmes. Vale notar que seja qual for a população que queremos estudar a nossa amostra não possui aleatoriedade na escolha dos dados, os usuários de um serviço de catálogo e recomendação de conteúdo como o IMDb podem, por exemplo, representar um grupo de fãs do cinema, não representando bem as pessoas que assistem filmes em geral. Além disso, como descrito anteriormente, a amostra inclui filmes com mais de 100 votos dentro da plataforma, ou seja, o grupo de filmes mais populares entre os usuários do site. Dito isto, iremos tratar os dados como uma amostra do catálogo e usuários do IMDb.\n",
    "\n",
    "As partes mais relevantes do conjunto de dados para a análise que faremos em seguida são as que relacionam os filmes com os usuários, em especial a nota média será uma métrica importante para tentar responder a questão: **As características do público e do próprio filme influenciam sua avaliação e popularidade?** \n",
    "\n",
    "---\n",
    "\n",
    "1. <span id=\"imdb\">https://www.imdb.com/</span>\n",
    "2. <span id=\"stats\">https://www.imdb.com/pressroom/stats/</span>\n",
    "3. <span id=\"kaggle\">https://www.kaggle.com/stefanoleone992/imdb-extensive-dataset?select=IMDb+ratings.csv</span>\n"
   ]
  },
  {
   "cell_type": "markdown",
   "metadata": {},
   "source": [
    "<div id=\"dataset\"><a href=\"#sumario\"><h1>4. Dataset</h1></a></div>"
   ]
  },
  {
   "cell_type": "code",
   "execution_count": 10,
   "metadata": {},
   "outputs": [
    {
     "name": "stderr",
     "output_type": "stream",
     "text": [
      "/home/joao/.local/lib/python3.9/site-packages/IPython/core/interactiveshell.py:3146: DtypeWarning: Columns (3) have mixed types.Specify dtype option on import or set low_memory=False.\n",
      "  has_raised = await self.run_ast_nodes(code_ast.body, cell_name,\n"
     ]
    },
    {
     "data": {
      "text/html": [
       "<div>\n",
       "<style scoped>\n",
       "    .dataframe tbody tr th:only-of-type {\n",
       "        vertical-align: middle;\n",
       "    }\n",
       "\n",
       "    .dataframe tbody tr th {\n",
       "        vertical-align: top;\n",
       "    }\n",
       "\n",
       "    .dataframe thead th {\n",
       "        text-align: right;\n",
       "    }\n",
       "</style>\n",
       "<table border=\"1\" class=\"dataframe\">\n",
       "  <thead>\n",
       "    <tr style=\"text-align: right;\">\n",
       "      <th></th>\n",
       "      <th>imdb_title_id</th>\n",
       "      <th>title</th>\n",
       "      <th>original_title</th>\n",
       "      <th>year</th>\n",
       "      <th>date_published</th>\n",
       "      <th>genre</th>\n",
       "      <th>duration</th>\n",
       "      <th>country</th>\n",
       "      <th>language</th>\n",
       "      <th>director</th>\n",
       "      <th>...</th>\n",
       "      <th>actors</th>\n",
       "      <th>description</th>\n",
       "      <th>avg_vote</th>\n",
       "      <th>votes</th>\n",
       "      <th>budget</th>\n",
       "      <th>usa_gross_income</th>\n",
       "      <th>worlwide_gross_income</th>\n",
       "      <th>metascore</th>\n",
       "      <th>reviews_from_users</th>\n",
       "      <th>reviews_from_critics</th>\n",
       "    </tr>\n",
       "  </thead>\n",
       "  <tbody>\n",
       "    <tr>\n",
       "      <th>0</th>\n",
       "      <td>tt0000009</td>\n",
       "      <td>Miss Jerry</td>\n",
       "      <td>Miss Jerry</td>\n",
       "      <td>1894</td>\n",
       "      <td>1894-10-09</td>\n",
       "      <td>Romance</td>\n",
       "      <td>45</td>\n",
       "      <td>USA</td>\n",
       "      <td>None</td>\n",
       "      <td>Alexander Black</td>\n",
       "      <td>...</td>\n",
       "      <td>Blanche Bayliss, William Courtenay, Chauncey D...</td>\n",
       "      <td>The adventures of a female reporter in the 1890s.</td>\n",
       "      <td>5.9</td>\n",
       "      <td>154</td>\n",
       "      <td>NaN</td>\n",
       "      <td>NaN</td>\n",
       "      <td>NaN</td>\n",
       "      <td>NaN</td>\n",
       "      <td>1.0</td>\n",
       "      <td>2.0</td>\n",
       "    </tr>\n",
       "    <tr>\n",
       "      <th>1</th>\n",
       "      <td>tt0000574</td>\n",
       "      <td>The Story of the Kelly Gang</td>\n",
       "      <td>The Story of the Kelly Gang</td>\n",
       "      <td>1906</td>\n",
       "      <td>1906-12-26</td>\n",
       "      <td>Biography, Crime, Drama</td>\n",
       "      <td>70</td>\n",
       "      <td>Australia</td>\n",
       "      <td>None</td>\n",
       "      <td>Charles Tait</td>\n",
       "      <td>...</td>\n",
       "      <td>Elizabeth Tait, John Tait, Norman Campbell, Be...</td>\n",
       "      <td>True story of notorious Australian outlaw Ned ...</td>\n",
       "      <td>6.1</td>\n",
       "      <td>589</td>\n",
       "      <td>$ 2250</td>\n",
       "      <td>NaN</td>\n",
       "      <td>NaN</td>\n",
       "      <td>NaN</td>\n",
       "      <td>7.0</td>\n",
       "      <td>7.0</td>\n",
       "    </tr>\n",
       "    <tr>\n",
       "      <th>2</th>\n",
       "      <td>tt0001892</td>\n",
       "      <td>Den sorte drøm</td>\n",
       "      <td>Den sorte drøm</td>\n",
       "      <td>1911</td>\n",
       "      <td>1911-08-19</td>\n",
       "      <td>Drama</td>\n",
       "      <td>53</td>\n",
       "      <td>Germany, Denmark</td>\n",
       "      <td>NaN</td>\n",
       "      <td>Urban Gad</td>\n",
       "      <td>...</td>\n",
       "      <td>Asta Nielsen, Valdemar Psilander, Gunnar Helse...</td>\n",
       "      <td>Two men of high rank are both wooing the beaut...</td>\n",
       "      <td>5.8</td>\n",
       "      <td>188</td>\n",
       "      <td>NaN</td>\n",
       "      <td>NaN</td>\n",
       "      <td>NaN</td>\n",
       "      <td>NaN</td>\n",
       "      <td>5.0</td>\n",
       "      <td>2.0</td>\n",
       "    </tr>\n",
       "    <tr>\n",
       "      <th>3</th>\n",
       "      <td>tt0002101</td>\n",
       "      <td>Cleopatra</td>\n",
       "      <td>Cleopatra</td>\n",
       "      <td>1912</td>\n",
       "      <td>1912-11-13</td>\n",
       "      <td>Drama, History</td>\n",
       "      <td>100</td>\n",
       "      <td>USA</td>\n",
       "      <td>English</td>\n",
       "      <td>Charles L. Gaskill</td>\n",
       "      <td>...</td>\n",
       "      <td>Helen Gardner, Pearl Sindelar, Miss Fielding, ...</td>\n",
       "      <td>The fabled queen of Egypt's affair with Roman ...</td>\n",
       "      <td>5.2</td>\n",
       "      <td>446</td>\n",
       "      <td>$ 45000</td>\n",
       "      <td>NaN</td>\n",
       "      <td>NaN</td>\n",
       "      <td>NaN</td>\n",
       "      <td>25.0</td>\n",
       "      <td>3.0</td>\n",
       "    </tr>\n",
       "    <tr>\n",
       "      <th>4</th>\n",
       "      <td>tt0002130</td>\n",
       "      <td>L'Inferno</td>\n",
       "      <td>L'Inferno</td>\n",
       "      <td>1911</td>\n",
       "      <td>1911-03-06</td>\n",
       "      <td>Adventure, Drama, Fantasy</td>\n",
       "      <td>68</td>\n",
       "      <td>Italy</td>\n",
       "      <td>Italian</td>\n",
       "      <td>Francesco Bertolini, Adolfo Padovan</td>\n",
       "      <td>...</td>\n",
       "      <td>Salvatore Papa, Arturo Pirovano, Giuseppe de L...</td>\n",
       "      <td>Loosely adapted from Dante's Divine Comedy and...</td>\n",
       "      <td>7.0</td>\n",
       "      <td>2237</td>\n",
       "      <td>NaN</td>\n",
       "      <td>NaN</td>\n",
       "      <td>NaN</td>\n",
       "      <td>NaN</td>\n",
       "      <td>31.0</td>\n",
       "      <td>14.0</td>\n",
       "    </tr>\n",
       "  </tbody>\n",
       "</table>\n",
       "<p>5 rows × 22 columns</p>\n",
       "</div>"
      ],
      "text/plain": [
       "  imdb_title_id                        title               original_title  \\\n",
       "0     tt0000009                   Miss Jerry                   Miss Jerry   \n",
       "1     tt0000574  The Story of the Kelly Gang  The Story of the Kelly Gang   \n",
       "2     tt0001892               Den sorte drøm               Den sorte drøm   \n",
       "3     tt0002101                    Cleopatra                    Cleopatra   \n",
       "4     tt0002130                    L'Inferno                    L'Inferno   \n",
       "\n",
       "   year date_published                      genre  duration           country  \\\n",
       "0  1894     1894-10-09                    Romance        45               USA   \n",
       "1  1906     1906-12-26    Biography, Crime, Drama        70         Australia   \n",
       "2  1911     1911-08-19                      Drama        53  Germany, Denmark   \n",
       "3  1912     1912-11-13             Drama, History       100               USA   \n",
       "4  1911     1911-03-06  Adventure, Drama, Fantasy        68             Italy   \n",
       "\n",
       "  language                             director  ...  \\\n",
       "0     None                      Alexander Black  ...   \n",
       "1     None                         Charles Tait  ...   \n",
       "2      NaN                            Urban Gad  ...   \n",
       "3  English                   Charles L. Gaskill  ...   \n",
       "4  Italian  Francesco Bertolini, Adolfo Padovan  ...   \n",
       "\n",
       "                                              actors  \\\n",
       "0  Blanche Bayliss, William Courtenay, Chauncey D...   \n",
       "1  Elizabeth Tait, John Tait, Norman Campbell, Be...   \n",
       "2  Asta Nielsen, Valdemar Psilander, Gunnar Helse...   \n",
       "3  Helen Gardner, Pearl Sindelar, Miss Fielding, ...   \n",
       "4  Salvatore Papa, Arturo Pirovano, Giuseppe de L...   \n",
       "\n",
       "                                         description avg_vote votes   budget  \\\n",
       "0  The adventures of a female reporter in the 1890s.      5.9   154      NaN   \n",
       "1  True story of notorious Australian outlaw Ned ...      6.1   589   $ 2250   \n",
       "2  Two men of high rank are both wooing the beaut...      5.8   188      NaN   \n",
       "3  The fabled queen of Egypt's affair with Roman ...      5.2   446  $ 45000   \n",
       "4  Loosely adapted from Dante's Divine Comedy and...      7.0  2237      NaN   \n",
       "\n",
       "   usa_gross_income worlwide_gross_income metascore reviews_from_users  \\\n",
       "0               NaN                   NaN       NaN                1.0   \n",
       "1               NaN                   NaN       NaN                7.0   \n",
       "2               NaN                   NaN       NaN                5.0   \n",
       "3               NaN                   NaN       NaN               25.0   \n",
       "4               NaN                   NaN       NaN               31.0   \n",
       "\n",
       "   reviews_from_critics  \n",
       "0                   2.0  \n",
       "1                   7.0  \n",
       "2                   2.0  \n",
       "3                   3.0  \n",
       "4                  14.0  \n",
       "\n",
       "[5 rows x 22 columns]"
      ]
     },
     "execution_count": 10,
     "metadata": {},
     "output_type": "execute_result"
    }
   ],
   "source": [
    "movies = pd.read_csv('datasets/IMDb_movies.csv')\n",
    "movies.head()"
   ]
  },
  {
   "cell_type": "code",
   "execution_count": 11,
   "metadata": {},
   "outputs": [
    {
     "data": {
      "text/html": [
       "<div>\n",
       "<style scoped>\n",
       "    .dataframe tbody tr th:only-of-type {\n",
       "        vertical-align: middle;\n",
       "    }\n",
       "\n",
       "    .dataframe tbody tr th {\n",
       "        vertical-align: top;\n",
       "    }\n",
       "\n",
       "    .dataframe thead th {\n",
       "        text-align: right;\n",
       "    }\n",
       "</style>\n",
       "<table border=\"1\" class=\"dataframe\">\n",
       "  <thead>\n",
       "    <tr style=\"text-align: right;\">\n",
       "      <th></th>\n",
       "      <th>imdb_name_id</th>\n",
       "      <th>name</th>\n",
       "      <th>birth_name</th>\n",
       "      <th>height</th>\n",
       "      <th>bio</th>\n",
       "      <th>birth_details</th>\n",
       "      <th>date_of_birth</th>\n",
       "      <th>place_of_birth</th>\n",
       "      <th>death_details</th>\n",
       "      <th>date_of_death</th>\n",
       "      <th>place_of_death</th>\n",
       "      <th>reason_of_death</th>\n",
       "      <th>spouses_string</th>\n",
       "      <th>spouses</th>\n",
       "      <th>divorces</th>\n",
       "      <th>spouses_with_children</th>\n",
       "      <th>children</th>\n",
       "    </tr>\n",
       "  </thead>\n",
       "  <tbody>\n",
       "    <tr>\n",
       "      <th>0</th>\n",
       "      <td>nm0000001</td>\n",
       "      <td>Fred Astaire</td>\n",
       "      <td>Frederic Austerlitz Jr.</td>\n",
       "      <td>177.0</td>\n",
       "      <td>Fred Astaire was born in Omaha, Nebraska, to J...</td>\n",
       "      <td>May 10, 1899 in Omaha, Nebraska, USA</td>\n",
       "      <td>1899-05-10</td>\n",
       "      <td>Omaha, Nebraska, USA</td>\n",
       "      <td>June 22, 1987 in Los Angeles, California, USA ...</td>\n",
       "      <td>1987-06-22</td>\n",
       "      <td>Los Angeles, California, USA</td>\n",
       "      <td>pneumonia</td>\n",
       "      <td>Robyn Smith  (27 June 1980 - 22 June 1987) (hi...</td>\n",
       "      <td>2</td>\n",
       "      <td>0</td>\n",
       "      <td>1</td>\n",
       "      <td>2</td>\n",
       "    </tr>\n",
       "    <tr>\n",
       "      <th>1</th>\n",
       "      <td>nm0000002</td>\n",
       "      <td>Lauren Bacall</td>\n",
       "      <td>Betty Joan Perske</td>\n",
       "      <td>174.0</td>\n",
       "      <td>Lauren Bacall was born Betty Joan Perske on Se...</td>\n",
       "      <td>September 16, 1924 in The Bronx, New York City...</td>\n",
       "      <td>1924-09-16</td>\n",
       "      <td>The Bronx, New York City, New York, USA</td>\n",
       "      <td>August 12, 2014 in New York City, New York, US...</td>\n",
       "      <td>2014-08-12</td>\n",
       "      <td>New York City, New York, USA</td>\n",
       "      <td>stroke</td>\n",
       "      <td>Jason Robards  (4 July 1961 - 10 September 196...</td>\n",
       "      <td>2</td>\n",
       "      <td>1</td>\n",
       "      <td>2</td>\n",
       "      <td>3</td>\n",
       "    </tr>\n",
       "    <tr>\n",
       "      <th>2</th>\n",
       "      <td>nm0000003</td>\n",
       "      <td>Brigitte Bardot</td>\n",
       "      <td>Brigitte Bardot</td>\n",
       "      <td>166.0</td>\n",
       "      <td>Brigitte Bardot was born on September 28, 1934...</td>\n",
       "      <td>September 28, 1934 in Paris, France</td>\n",
       "      <td>1934-09-28</td>\n",
       "      <td>Paris, France</td>\n",
       "      <td>NaN</td>\n",
       "      <td>NaN</td>\n",
       "      <td>NaN</td>\n",
       "      <td>NaN</td>\n",
       "      <td>Bernard d'Ormale  (16 August 1992 - present)\\n...</td>\n",
       "      <td>4</td>\n",
       "      <td>3</td>\n",
       "      <td>1</td>\n",
       "      <td>1</td>\n",
       "    </tr>\n",
       "    <tr>\n",
       "      <th>3</th>\n",
       "      <td>nm0000004</td>\n",
       "      <td>John Belushi</td>\n",
       "      <td>John Adam Belushi</td>\n",
       "      <td>170.0</td>\n",
       "      <td>John Belushi was born in Chicago, Illinois, US...</td>\n",
       "      <td>January 24, 1949 in Chicago, Illinois, USA</td>\n",
       "      <td>1949-01-24</td>\n",
       "      <td>Chicago, Illinois, USA</td>\n",
       "      <td>March 5, 1982 in Hollywood, Los Angeles, Calif...</td>\n",
       "      <td>1982-03-05</td>\n",
       "      <td>Hollywood, Los Angeles, California, USA</td>\n",
       "      <td>acute cocaine and heroin intoxication</td>\n",
       "      <td>Judith Belushi-Pisano  (31 December 1976 - 5 M...</td>\n",
       "      <td>1</td>\n",
       "      <td>0</td>\n",
       "      <td>0</td>\n",
       "      <td>0</td>\n",
       "    </tr>\n",
       "    <tr>\n",
       "      <th>4</th>\n",
       "      <td>nm0000005</td>\n",
       "      <td>Ingmar Bergman</td>\n",
       "      <td>Ernst Ingmar Bergman</td>\n",
       "      <td>179.0</td>\n",
       "      <td>Ernst Ingmar Bergman was born July 14, 1918, t...</td>\n",
       "      <td>July 14, 1918 in Uppsala, Uppsala län, Sweden</td>\n",
       "      <td>1918-07-14</td>\n",
       "      <td>Uppsala, Uppsala län, Sweden</td>\n",
       "      <td>July 30, 2007 in Fårö, Gotlands län, Sweden  (...</td>\n",
       "      <td>2007-07-30</td>\n",
       "      <td>Fårö, Gotlands län, Sweden</td>\n",
       "      <td>natural causes</td>\n",
       "      <td>Ingrid Bergman  (11 November 1971 - 20 May 199...</td>\n",
       "      <td>5</td>\n",
       "      <td>4</td>\n",
       "      <td>5</td>\n",
       "      <td>8</td>\n",
       "    </tr>\n",
       "  </tbody>\n",
       "</table>\n",
       "</div>"
      ],
      "text/plain": [
       "  imdb_name_id             name               birth_name  height  \\\n",
       "0    nm0000001     Fred Astaire  Frederic Austerlitz Jr.   177.0   \n",
       "1    nm0000002    Lauren Bacall        Betty Joan Perske   174.0   \n",
       "2    nm0000003  Brigitte Bardot          Brigitte Bardot   166.0   \n",
       "3    nm0000004     John Belushi        John Adam Belushi   170.0   \n",
       "4    nm0000005   Ingmar Bergman     Ernst Ingmar Bergman   179.0   \n",
       "\n",
       "                                                 bio  \\\n",
       "0  Fred Astaire was born in Omaha, Nebraska, to J...   \n",
       "1  Lauren Bacall was born Betty Joan Perske on Se...   \n",
       "2  Brigitte Bardot was born on September 28, 1934...   \n",
       "3  John Belushi was born in Chicago, Illinois, US...   \n",
       "4  Ernst Ingmar Bergman was born July 14, 1918, t...   \n",
       "\n",
       "                                       birth_details date_of_birth  \\\n",
       "0               May 10, 1899 in Omaha, Nebraska, USA    1899-05-10   \n",
       "1  September 16, 1924 in The Bronx, New York City...    1924-09-16   \n",
       "2                September 28, 1934 in Paris, France    1934-09-28   \n",
       "3         January 24, 1949 in Chicago, Illinois, USA    1949-01-24   \n",
       "4      July 14, 1918 in Uppsala, Uppsala län, Sweden    1918-07-14   \n",
       "\n",
       "                            place_of_birth  \\\n",
       "0                     Omaha, Nebraska, USA   \n",
       "1  The Bronx, New York City, New York, USA   \n",
       "2                            Paris, France   \n",
       "3                   Chicago, Illinois, USA   \n",
       "4             Uppsala, Uppsala län, Sweden   \n",
       "\n",
       "                                       death_details date_of_death  \\\n",
       "0  June 22, 1987 in Los Angeles, California, USA ...    1987-06-22   \n",
       "1  August 12, 2014 in New York City, New York, US...    2014-08-12   \n",
       "2                                                NaN           NaN   \n",
       "3  March 5, 1982 in Hollywood, Los Angeles, Calif...    1982-03-05   \n",
       "4  July 30, 2007 in Fårö, Gotlands län, Sweden  (...    2007-07-30   \n",
       "\n",
       "                              place_of_death  \\\n",
       "0             Los Angeles, California, USA     \n",
       "1             New York City, New York, USA     \n",
       "2                                        NaN   \n",
       "3  Hollywood, Los Angeles, California, USA     \n",
       "4               Fårö, Gotlands län, Sweden     \n",
       "\n",
       "                         reason_of_death  \\\n",
       "0                              pneumonia   \n",
       "1                                 stroke   \n",
       "2                                    NaN   \n",
       "3  acute cocaine and heroin intoxication   \n",
       "4                         natural causes   \n",
       "\n",
       "                                      spouses_string  spouses  divorces  \\\n",
       "0  Robyn Smith  (27 June 1980 - 22 June 1987) (hi...        2         0   \n",
       "1  Jason Robards  (4 July 1961 - 10 September 196...        2         1   \n",
       "2  Bernard d'Ormale  (16 August 1992 - present)\\n...        4         3   \n",
       "3  Judith Belushi-Pisano  (31 December 1976 - 5 M...        1         0   \n",
       "4  Ingrid Bergman  (11 November 1971 - 20 May 199...        5         4   \n",
       "\n",
       "   spouses_with_children  children  \n",
       "0                      1         2  \n",
       "1                      2         3  \n",
       "2                      1         1  \n",
       "3                      0         0  \n",
       "4                      5         8  "
      ]
     },
     "execution_count": 11,
     "metadata": {},
     "output_type": "execute_result"
    }
   ],
   "source": [
    "names = pd.read_csv('datasets/IMDb_names.csv')\n",
    "names.head()"
   ]
  },
  {
   "cell_type": "code",
   "execution_count": 12,
   "metadata": {},
   "outputs": [
    {
     "data": {
      "text/html": [
       "<div>\n",
       "<style scoped>\n",
       "    .dataframe tbody tr th:only-of-type {\n",
       "        vertical-align: middle;\n",
       "    }\n",
       "\n",
       "    .dataframe tbody tr th {\n",
       "        vertical-align: top;\n",
       "    }\n",
       "\n",
       "    .dataframe thead th {\n",
       "        text-align: right;\n",
       "    }\n",
       "</style>\n",
       "<table border=\"1\" class=\"dataframe\">\n",
       "  <thead>\n",
       "    <tr style=\"text-align: right;\">\n",
       "      <th></th>\n",
       "      <th>imdb_title_id</th>\n",
       "      <th>weighted_average_vote</th>\n",
       "      <th>total_votes</th>\n",
       "      <th>mean_vote</th>\n",
       "      <th>median_vote</th>\n",
       "      <th>votes_10</th>\n",
       "      <th>votes_9</th>\n",
       "      <th>votes_8</th>\n",
       "      <th>votes_7</th>\n",
       "      <th>votes_6</th>\n",
       "      <th>...</th>\n",
       "      <th>females_30age_avg_vote</th>\n",
       "      <th>females_30age_votes</th>\n",
       "      <th>females_45age_avg_vote</th>\n",
       "      <th>females_45age_votes</th>\n",
       "      <th>top1000_voters_rating</th>\n",
       "      <th>top1000_voters_votes</th>\n",
       "      <th>us_voters_rating</th>\n",
       "      <th>us_voters_votes</th>\n",
       "      <th>non_us_voters_rating</th>\n",
       "      <th>non_us_voters_votes</th>\n",
       "    </tr>\n",
       "  </thead>\n",
       "  <tbody>\n",
       "    <tr>\n",
       "      <th>0</th>\n",
       "      <td>tt0000009</td>\n",
       "      <td>5.9</td>\n",
       "      <td>154</td>\n",
       "      <td>5.9</td>\n",
       "      <td>6.0</td>\n",
       "      <td>12</td>\n",
       "      <td>4</td>\n",
       "      <td>10</td>\n",
       "      <td>43</td>\n",
       "      <td>28</td>\n",
       "      <td>...</td>\n",
       "      <td>5.7</td>\n",
       "      <td>13.0</td>\n",
       "      <td>4.5</td>\n",
       "      <td>4.0</td>\n",
       "      <td>5.7</td>\n",
       "      <td>34.0</td>\n",
       "      <td>6.4</td>\n",
       "      <td>51.0</td>\n",
       "      <td>6.0</td>\n",
       "      <td>70.0</td>\n",
       "    </tr>\n",
       "    <tr>\n",
       "      <th>1</th>\n",
       "      <td>tt0000574</td>\n",
       "      <td>6.1</td>\n",
       "      <td>589</td>\n",
       "      <td>6.3</td>\n",
       "      <td>6.0</td>\n",
       "      <td>57</td>\n",
       "      <td>18</td>\n",
       "      <td>58</td>\n",
       "      <td>137</td>\n",
       "      <td>139</td>\n",
       "      <td>...</td>\n",
       "      <td>6.2</td>\n",
       "      <td>23.0</td>\n",
       "      <td>6.6</td>\n",
       "      <td>14.0</td>\n",
       "      <td>6.4</td>\n",
       "      <td>66.0</td>\n",
       "      <td>6.0</td>\n",
       "      <td>96.0</td>\n",
       "      <td>6.2</td>\n",
       "      <td>331.0</td>\n",
       "    </tr>\n",
       "    <tr>\n",
       "      <th>2</th>\n",
       "      <td>tt0001892</td>\n",
       "      <td>5.8</td>\n",
       "      <td>188</td>\n",
       "      <td>6.0</td>\n",
       "      <td>6.0</td>\n",
       "      <td>6</td>\n",
       "      <td>6</td>\n",
       "      <td>17</td>\n",
       "      <td>44</td>\n",
       "      <td>52</td>\n",
       "      <td>...</td>\n",
       "      <td>5.8</td>\n",
       "      <td>4.0</td>\n",
       "      <td>6.8</td>\n",
       "      <td>7.0</td>\n",
       "      <td>5.4</td>\n",
       "      <td>32.0</td>\n",
       "      <td>6.2</td>\n",
       "      <td>31.0</td>\n",
       "      <td>5.9</td>\n",
       "      <td>123.0</td>\n",
       "    </tr>\n",
       "    <tr>\n",
       "      <th>3</th>\n",
       "      <td>tt0002101</td>\n",
       "      <td>5.2</td>\n",
       "      <td>446</td>\n",
       "      <td>5.3</td>\n",
       "      <td>5.0</td>\n",
       "      <td>15</td>\n",
       "      <td>8</td>\n",
       "      <td>16</td>\n",
       "      <td>62</td>\n",
       "      <td>98</td>\n",
       "      <td>...</td>\n",
       "      <td>5.5</td>\n",
       "      <td>14.0</td>\n",
       "      <td>6.1</td>\n",
       "      <td>21.0</td>\n",
       "      <td>4.9</td>\n",
       "      <td>57.0</td>\n",
       "      <td>5.5</td>\n",
       "      <td>207.0</td>\n",
       "      <td>4.7</td>\n",
       "      <td>105.0</td>\n",
       "    </tr>\n",
       "    <tr>\n",
       "      <th>4</th>\n",
       "      <td>tt0002130</td>\n",
       "      <td>7.0</td>\n",
       "      <td>2237</td>\n",
       "      <td>6.9</td>\n",
       "      <td>7.0</td>\n",
       "      <td>210</td>\n",
       "      <td>225</td>\n",
       "      <td>436</td>\n",
       "      <td>641</td>\n",
       "      <td>344</td>\n",
       "      <td>...</td>\n",
       "      <td>7.3</td>\n",
       "      <td>82.0</td>\n",
       "      <td>7.4</td>\n",
       "      <td>77.0</td>\n",
       "      <td>6.9</td>\n",
       "      <td>139.0</td>\n",
       "      <td>7.0</td>\n",
       "      <td>488.0</td>\n",
       "      <td>7.0</td>\n",
       "      <td>1166.0</td>\n",
       "    </tr>\n",
       "  </tbody>\n",
       "</table>\n",
       "<p>5 rows × 49 columns</p>\n",
       "</div>"
      ],
      "text/plain": [
       "  imdb_title_id  weighted_average_vote  total_votes  mean_vote  median_vote  \\\n",
       "0     tt0000009                    5.9          154        5.9          6.0   \n",
       "1     tt0000574                    6.1          589        6.3          6.0   \n",
       "2     tt0001892                    5.8          188        6.0          6.0   \n",
       "3     tt0002101                    5.2          446        5.3          5.0   \n",
       "4     tt0002130                    7.0         2237        6.9          7.0   \n",
       "\n",
       "   votes_10  votes_9  votes_8  votes_7  votes_6  ...  females_30age_avg_vote  \\\n",
       "0        12        4       10       43       28  ...                     5.7   \n",
       "1        57       18       58      137      139  ...                     6.2   \n",
       "2         6        6       17       44       52  ...                     5.8   \n",
       "3        15        8       16       62       98  ...                     5.5   \n",
       "4       210      225      436      641      344  ...                     7.3   \n",
       "\n",
       "   females_30age_votes  females_45age_avg_vote  females_45age_votes  \\\n",
       "0                 13.0                     4.5                  4.0   \n",
       "1                 23.0                     6.6                 14.0   \n",
       "2                  4.0                     6.8                  7.0   \n",
       "3                 14.0                     6.1                 21.0   \n",
       "4                 82.0                     7.4                 77.0   \n",
       "\n",
       "   top1000_voters_rating  top1000_voters_votes  us_voters_rating  \\\n",
       "0                    5.7                  34.0               6.4   \n",
       "1                    6.4                  66.0               6.0   \n",
       "2                    5.4                  32.0               6.2   \n",
       "3                    4.9                  57.0               5.5   \n",
       "4                    6.9                 139.0               7.0   \n",
       "\n",
       "   us_voters_votes  non_us_voters_rating  non_us_voters_votes  \n",
       "0             51.0                   6.0                 70.0  \n",
       "1             96.0                   6.2                331.0  \n",
       "2             31.0                   5.9                123.0  \n",
       "3            207.0                   4.7                105.0  \n",
       "4            488.0                   7.0               1166.0  \n",
       "\n",
       "[5 rows x 49 columns]"
      ]
     },
     "execution_count": 12,
     "metadata": {},
     "output_type": "execute_result"
    }
   ],
   "source": [
    "ratings = pd.read_csv('datasets/IMDb_ratings.csv')\n",
    "ratings.head()"
   ]
  },
  {
   "cell_type": "code",
   "execution_count": 13,
   "metadata": {},
   "outputs": [
    {
     "data": {
      "text/html": [
       "<div>\n",
       "<style scoped>\n",
       "    .dataframe tbody tr th:only-of-type {\n",
       "        vertical-align: middle;\n",
       "    }\n",
       "\n",
       "    .dataframe tbody tr th {\n",
       "        vertical-align: top;\n",
       "    }\n",
       "\n",
       "    .dataframe thead th {\n",
       "        text-align: right;\n",
       "    }\n",
       "</style>\n",
       "<table border=\"1\" class=\"dataframe\">\n",
       "  <thead>\n",
       "    <tr style=\"text-align: right;\">\n",
       "      <th></th>\n",
       "      <th>imdb_title_id</th>\n",
       "      <th>ordering</th>\n",
       "      <th>imdb_name_id</th>\n",
       "      <th>category</th>\n",
       "      <th>job</th>\n",
       "      <th>characters</th>\n",
       "    </tr>\n",
       "  </thead>\n",
       "  <tbody>\n",
       "    <tr>\n",
       "      <th>0</th>\n",
       "      <td>tt0000009</td>\n",
       "      <td>1</td>\n",
       "      <td>nm0063086</td>\n",
       "      <td>actress</td>\n",
       "      <td>NaN</td>\n",
       "      <td>[\"Miss Geraldine Holbrook (Miss Jerry)\"]</td>\n",
       "    </tr>\n",
       "    <tr>\n",
       "      <th>1</th>\n",
       "      <td>tt0000009</td>\n",
       "      <td>2</td>\n",
       "      <td>nm0183823</td>\n",
       "      <td>actor</td>\n",
       "      <td>NaN</td>\n",
       "      <td>[\"Mr. Hamilton\"]</td>\n",
       "    </tr>\n",
       "    <tr>\n",
       "      <th>2</th>\n",
       "      <td>tt0000009</td>\n",
       "      <td>3</td>\n",
       "      <td>nm1309758</td>\n",
       "      <td>actor</td>\n",
       "      <td>NaN</td>\n",
       "      <td>[\"Chauncey Depew - the Director of the New Yor...</td>\n",
       "    </tr>\n",
       "    <tr>\n",
       "      <th>3</th>\n",
       "      <td>tt0000009</td>\n",
       "      <td>4</td>\n",
       "      <td>nm0085156</td>\n",
       "      <td>director</td>\n",
       "      <td>NaN</td>\n",
       "      <td>NaN</td>\n",
       "    </tr>\n",
       "    <tr>\n",
       "      <th>4</th>\n",
       "      <td>tt0000574</td>\n",
       "      <td>1</td>\n",
       "      <td>nm0846887</td>\n",
       "      <td>actress</td>\n",
       "      <td>NaN</td>\n",
       "      <td>[\"Kate Kelly\"]</td>\n",
       "    </tr>\n",
       "  </tbody>\n",
       "</table>\n",
       "</div>"
      ],
      "text/plain": [
       "  imdb_title_id  ordering imdb_name_id  category  job  \\\n",
       "0     tt0000009         1    nm0063086   actress  NaN   \n",
       "1     tt0000009         2    nm0183823     actor  NaN   \n",
       "2     tt0000009         3    nm1309758     actor  NaN   \n",
       "3     tt0000009         4    nm0085156  director  NaN   \n",
       "4     tt0000574         1    nm0846887   actress  NaN   \n",
       "\n",
       "                                          characters  \n",
       "0           [\"Miss Geraldine Holbrook (Miss Jerry)\"]  \n",
       "1                                   [\"Mr. Hamilton\"]  \n",
       "2  [\"Chauncey Depew - the Director of the New Yor...  \n",
       "3                                                NaN  \n",
       "4                                     [\"Kate Kelly\"]  "
      ]
     },
     "execution_count": 13,
     "metadata": {},
     "output_type": "execute_result"
    }
   ],
   "source": [
    "title_principals = pd.read_csv('datasets/IMDb_title_principals.csv')\n",
    "title_principals.head()"
   ]
  },
  {
   "cell_type": "markdown",
   "metadata": {},
   "source": [
    "<div id=\"caracterizacao\"><a href=\"#sumario\"><h1>5. Caracterização</h1></a></div> "
   ]
  },
  {
   "cell_type": "markdown",
   "metadata": {},
   "source": [
    "Iremos iniciar nosso estudo com testes para algumas hipóteses que devem ajudar a responder nossa pergunta. Para isso iremos explorar alguns dados de interesse e construir intervalos de confiança através de métodos adequados."
   ]
  },
  {
   "cell_type": "markdown",
   "metadata": {},
   "source": [
    "## Funções"
   ]
  },
  {
   "cell_type": "code",
   "execution_count": 14,
   "metadata": {},
   "outputs": [],
   "source": [
    "def bootstrap_mean(df, column, n=5000, size=None):\n",
    "    if size is None:\n",
    "        size = len(df)\n",
    "    values = np.zeros(n)\n",
    "    for i in range(n):\n",
    "        sample = df[column].sample(size, replace=True)\n",
    "        values[i] = sample.mean()\n",
    "    return values"
   ]
  },
  {
   "cell_type": "code",
   "execution_count": 15,
   "metadata": {},
   "outputs": [],
   "source": [
    "def bootstrap_diff(df1, df2, column, n=5000, size=None):\n",
    "    if size is None:\n",
    "        size = len(df1)\n",
    "    values = np.zeros(n)\n",
    "    for i in range(n):\n",
    "        sample1 = df1[column].sample(size, replace=True)\n",
    "        sample2 = df2[column].sample(size, replace=True)\n",
    "        values[i] = sample1.mean() - sample2.mean()\n",
    "    return values"
   ]
  },
  {
   "cell_type": "code",
   "execution_count": 16,
   "metadata": {},
   "outputs": [],
   "source": [
    "def ic_bootstrap(df, column, n=5000, size=None):\n",
    "    values = bootstrap_mean(df, column, n, size)\n",
    "    return (np.percentile(values, 2.5), np.percentile(values, 97.5))"
   ]
  },
  {
   "cell_type": "markdown",
   "metadata": {},
   "source": [
    "<div id=\"testes\"><a href=\"#sumario\"><h2>A. Testes de Hipótese</h2></a></div> "
   ]
  },
  {
   "cell_type": "markdown",
   "metadata": {},
   "source": [
    "<div id=\"teste1\"><a href=\"#sumario\"><h3>a. Teste 1</h3></a></div> "
   ]
  },
  {
   "cell_type": "markdown",
   "metadata": {},
   "source": [
    "#### Checando intervalos de confiança com Bootstrap"
   ]
  },
  {
   "cell_type": "markdown",
   "metadata": {},
   "source": [
    "Podemos analisar desse dataset o que de fato uma nota diz sobre um filme, analisando quão rara é tal nota quando tiramos a média de notas da população. Por exemplo, a partir disso, podemos formular a seguinte hipótese: uma nota média 8 diz pouco sobre a qualidade de um filme, já que ela é bem comum na base de dados. Tentaremos a partir daqui buscar evidências em dados que confirmem ou descartem essa ideia.\n",
    "\n",
    "Uma maneira de testar essa hipótese é construir um intervalo de confiança utilizando a técnica de bootstrap, estratégia que será utilizada aqui."
   ]
  },
  {
   "cell_type": "code",
   "execution_count": 29,
   "metadata": {},
   "outputs": [
    {
     "data": {
      "text/plain": [
       "array([6.3009, 6.2014, 6.2659, ..., 6.184 , 6.2971, 6.2391])"
      ]
     },
     "execution_count": 29,
     "metadata": {},
     "output_type": "execute_result"
    }
   ],
   "source": [
    "result = bootstrap_mean(ratings,'mean_vote', 10000, 1000)\n",
    "result"
   ]
  },
  {
   "cell_type": "markdown",
   "metadata": {},
   "source": [
    "Plotando o resultado - Note como o resultado obtido se aproxima de uma distribuição normal:"
   ]
  },
  {
   "cell_type": "code",
   "execution_count": 34,
   "metadata": {},
   "outputs": [
    {
     "data": {
      "image/png": "[encoded data removed]",
      "text/plain": [
       "<Figure size 936x576 with 1 Axes>"
      ]
     },
     "metadata": {
      "needs_background": "light"
     },
     "output_type": "display_data"
    }
   ],
   "source": [
    "plt.figure(figsize=(13,8))\n",
    "plt.hist(result, bins=40, edgecolor='k', density=True)\n",
    "res = stats.norm(loc=result.mean(), scale=result.std())\n",
    "res_np = np.linspace(res.ppf(0.001), res.ppf(0.999),10000)\n",
    "plt.plot(res_np, res.pdf(res_np))\n",
    "plt.xlabel('Média de avaliação')\n",
    "plt.ylabel('P[Média]')\n",
    "plt.show()"
   ]
  },
  {
   "cell_type": "markdown",
   "metadata": {},
   "source": [
    "A maior concentração de valores se encontra entre 6.15 e 6.30, como mostrado abaixo:"
   ]
  },
  {
   "cell_type": "code",
   "execution_count": 35,
   "metadata": {},
   "outputs": [
    {
     "data": {
      "image/png": "[encoded data removed]",
      "text/plain": [
       "<Figure size 936x576 with 1 Axes>"
      ]
     },
     "metadata": {
      "needs_background": "light"
     },
     "output_type": "display_data"
    }
   ],
   "source": [
    "plt.figure(figsize=(13,8))\n",
    "plt.plot(res_np, res.pdf(res_np))\n",
    "filler = np.linspace(np.percentile(result, 2.5),np.percentile(result, 97.5))\n",
    "plt.fill_between(filler, res.pdf(filler), color='r', alpha=0.5)\n",
    "plt.xlabel('Média de avaliação')\n",
    "plt.ylabel('P(Média)')\n",
    "plt.show()"
   ]
  },
  {
   "cell_type": "markdown",
   "metadata": {},
   "source": [
    "Como o valor apresentado na hipótese, 8, encontra-se fora dessa área, temos que ele é um valor de rara ocorrência e portanto, a hipótese é rejeitada, uma vez que um filme não apresenta média igual a ele frequentemente."
   ]
  },
  {
   "cell_type": "markdown",
   "metadata": {},
   "source": [
    "<div id=\"teste2\"><a href=\"#sumario\"><h3>b. Teste 2</h3></a></div> "
   ]
  },
  {
   "cell_type": "markdown",
   "metadata": {},
   "source": [
    "Jovens (até 18 anos) tendem a dar notas mais altas que outras faixas etárias"
   ]
  },
  {
   "cell_type": "markdown",
   "metadata": {},
   "source": [
    "#### Análise Exploratória"
   ]
  },
  {
   "cell_type": "code",
   "execution_count": 36,
   "metadata": {},
   "outputs": [
    {
     "data": {
      "text/plain": [
       "Index(['imdb_title_id', 'weighted_average_vote', 'total_votes', 'mean_vote',\n",
       "       'median_vote', 'votes_10', 'votes_9', 'votes_8', 'votes_7', 'votes_6',\n",
       "       'votes_5', 'votes_4', 'votes_3', 'votes_2', 'votes_1',\n",
       "       'allgenders_0age_avg_vote', 'allgenders_0age_votes',\n",
       "       'allgenders_18age_avg_vote', 'allgenders_18age_votes',\n",
       "       'allgenders_30age_avg_vote', 'allgenders_30age_votes',\n",
       "       'allgenders_45age_avg_vote', 'allgenders_45age_votes',\n",
       "       'males_allages_avg_vote', 'males_allages_votes', 'males_0age_avg_vote',\n",
       "       'males_0age_votes', 'males_18age_avg_vote', 'males_18age_votes',\n",
       "       'males_30age_avg_vote', 'males_30age_votes', 'males_45age_avg_vote',\n",
       "       'males_45age_votes', 'females_allages_avg_vote',\n",
       "       'females_allages_votes', 'females_0age_avg_vote', 'females_0age_votes',\n",
       "       'females_18age_avg_vote', 'females_18age_votes',\n",
       "       'females_30age_avg_vote', 'females_30age_votes',\n",
       "       'females_45age_avg_vote', 'females_45age_votes',\n",
       "       'top1000_voters_rating', 'top1000_voters_votes', 'us_voters_rating',\n",
       "       'us_voters_votes', 'non_us_voters_rating', 'non_us_voters_votes'],\n",
       "      dtype='object')"
      ]
     },
     "execution_count": 36,
     "metadata": {},
     "output_type": "execute_result"
    }
   ],
   "source": [
    "ratings.columns"
   ]
  },
  {
   "cell_type": "code",
   "execution_count": 37,
   "metadata": {},
   "outputs": [
    {
     "data": {
      "text/html": [
       "<div>\n",
       "<style scoped>\n",
       "    .dataframe tbody tr th:only-of-type {\n",
       "        vertical-align: middle;\n",
       "    }\n",
       "\n",
       "    .dataframe tbody tr th {\n",
       "        vertical-align: top;\n",
       "    }\n",
       "\n",
       "    .dataframe thead th {\n",
       "        text-align: right;\n",
       "    }\n",
       "</style>\n",
       "<table border=\"1\" class=\"dataframe\">\n",
       "  <thead>\n",
       "    <tr style=\"text-align: right;\">\n",
       "      <th></th>\n",
       "      <th>allgenders_0age_avg_vote</th>\n",
       "      <th>allgenders_18age_avg_vote</th>\n",
       "      <th>allgenders_30age_avg_vote</th>\n",
       "      <th>allgenders_45age_avg_vote</th>\n",
       "    </tr>\n",
       "  </thead>\n",
       "  <tbody>\n",
       "    <tr>\n",
       "      <th>0</th>\n",
       "      <td>7.2</td>\n",
       "      <td>6.0</td>\n",
       "      <td>5.7</td>\n",
       "      <td>6.6</td>\n",
       "    </tr>\n",
       "    <tr>\n",
       "      <th>1</th>\n",
       "      <td>6.0</td>\n",
       "      <td>6.1</td>\n",
       "      <td>6.0</td>\n",
       "      <td>6.3</td>\n",
       "    </tr>\n",
       "    <tr>\n",
       "      <th>2</th>\n",
       "      <td>7.5</td>\n",
       "      <td>7.0</td>\n",
       "      <td>7.0</td>\n",
       "      <td>7.1</td>\n",
       "    </tr>\n",
       "    <tr>\n",
       "      <th>3</th>\n",
       "      <td>3.0</td>\n",
       "      <td>6.4</td>\n",
       "      <td>6.7</td>\n",
       "      <td>7.0</td>\n",
       "    </tr>\n",
       "    <tr>\n",
       "      <th>4</th>\n",
       "      <td>6.0</td>\n",
       "      <td>5.9</td>\n",
       "      <td>6.2</td>\n",
       "      <td>6.3</td>\n",
       "    </tr>\n",
       "    <tr>\n",
       "      <th>...</th>\n",
       "      <td>...</td>\n",
       "      <td>...</td>\n",
       "      <td>...</td>\n",
       "      <td>...</td>\n",
       "    </tr>\n",
       "    <tr>\n",
       "      <th>33331</th>\n",
       "      <td>4.0</td>\n",
       "      <td>5.7</td>\n",
       "      <td>5.6</td>\n",
       "      <td>5.3</td>\n",
       "    </tr>\n",
       "    <tr>\n",
       "      <th>33332</th>\n",
       "      <td>5.1</td>\n",
       "      <td>5.2</td>\n",
       "      <td>5.1</td>\n",
       "      <td>4.9</td>\n",
       "    </tr>\n",
       "    <tr>\n",
       "      <th>33333</th>\n",
       "      <td>9.3</td>\n",
       "      <td>8.6</td>\n",
       "      <td>8.1</td>\n",
       "      <td>6.8</td>\n",
       "    </tr>\n",
       "    <tr>\n",
       "      <th>33334</th>\n",
       "      <td>6.0</td>\n",
       "      <td>4.0</td>\n",
       "      <td>3.9</td>\n",
       "      <td>4.4</td>\n",
       "    </tr>\n",
       "    <tr>\n",
       "      <th>33335</th>\n",
       "      <td>6.0</td>\n",
       "      <td>5.8</td>\n",
       "      <td>5.3</td>\n",
       "      <td>5.2</td>\n",
       "    </tr>\n",
       "  </tbody>\n",
       "</table>\n",
       "<p>33336 rows × 4 columns</p>\n",
       "</div>"
      ],
      "text/plain": [
       "       allgenders_0age_avg_vote  allgenders_18age_avg_vote  \\\n",
       "0                           7.2                        6.0   \n",
       "1                           6.0                        6.1   \n",
       "2                           7.5                        7.0   \n",
       "3                           3.0                        6.4   \n",
       "4                           6.0                        5.9   \n",
       "...                         ...                        ...   \n",
       "33331                       4.0                        5.7   \n",
       "33332                       5.1                        5.2   \n",
       "33333                       9.3                        8.6   \n",
       "33334                       6.0                        4.0   \n",
       "33335                       6.0                        5.8   \n",
       "\n",
       "       allgenders_30age_avg_vote  allgenders_45age_avg_vote  \n",
       "0                            5.7                        6.6  \n",
       "1                            6.0                        6.3  \n",
       "2                            7.0                        7.1  \n",
       "3                            6.7                        7.0  \n",
       "4                            6.2                        6.3  \n",
       "...                          ...                        ...  \n",
       "33331                        5.6                        5.3  \n",
       "33332                        5.1                        4.9  \n",
       "33333                        8.1                        6.8  \n",
       "33334                        3.9                        4.4  \n",
       "33335                        5.3                        5.2  \n",
       "\n",
       "[33336 rows x 4 columns]"
      ]
     },
     "execution_count": 37,
     "metadata": {},
     "output_type": "execute_result"
    }
   ],
   "source": [
    "faixas = ratings[['allgenders_0age_avg_vote', 'allgenders_18age_avg_vote', 'allgenders_30age_avg_vote', 'allgenders_45age_avg_vote']].dropna()\n",
    "faixas = faixas.reset_index(drop=True)\n",
    "faixas"
   ]
  },
  {
   "cell_type": "code",
   "execution_count": 38,
   "metadata": {},
   "outputs": [
    {
     "data": {
      "text/html": [
       "<div>\n",
       "<style scoped>\n",
       "    .dataframe tbody tr th:only-of-type {\n",
       "        vertical-align: middle;\n",
       "    }\n",
       "\n",
       "    .dataframe tbody tr th {\n",
       "        vertical-align: top;\n",
       "    }\n",
       "\n",
       "    .dataframe thead th {\n",
       "        text-align: right;\n",
       "    }\n",
       "</style>\n",
       "<table border=\"1\" class=\"dataframe\">\n",
       "  <thead>\n",
       "    <tr style=\"text-align: right;\">\n",
       "      <th></th>\n",
       "      <th>vals</th>\n",
       "    </tr>\n",
       "  </thead>\n",
       "  <tbody>\n",
       "    <tr>\n",
       "      <th>count</th>\n",
       "      <td>33336.000000</td>\n",
       "    </tr>\n",
       "    <tr>\n",
       "      <th>mean</th>\n",
       "      <td>6.195134</td>\n",
       "    </tr>\n",
       "    <tr>\n",
       "      <th>std</th>\n",
       "      <td>1.848898</td>\n",
       "    </tr>\n",
       "    <tr>\n",
       "      <th>min</th>\n",
       "      <td>1.000000</td>\n",
       "    </tr>\n",
       "    <tr>\n",
       "      <th>25%</th>\n",
       "      <td>5.000000</td>\n",
       "    </tr>\n",
       "    <tr>\n",
       "      <th>50%</th>\n",
       "      <td>6.000000</td>\n",
       "    </tr>\n",
       "    <tr>\n",
       "      <th>75%</th>\n",
       "      <td>7.200000</td>\n",
       "    </tr>\n",
       "    <tr>\n",
       "      <th>max</th>\n",
       "      <td>10.000000</td>\n",
       "    </tr>\n",
       "  </tbody>\n",
       "</table>\n",
       "</div>"
      ],
      "text/plain": [
       "               vals\n",
       "count  33336.000000\n",
       "mean       6.195134\n",
       "std        1.848898\n",
       "min        1.000000\n",
       "25%        5.000000\n",
       "50%        6.000000\n",
       "75%        7.200000\n",
       "max       10.000000"
      ]
     },
     "execution_count": 38,
     "metadata": {},
     "output_type": "execute_result"
    }
   ],
   "source": [
    "jovens = faixas['allgenders_0age_avg_vote'].to_frame(name=\"vals\")\n",
    "jovens.describe()"
   ]
  },
  {
   "cell_type": "code",
   "execution_count": 39,
   "metadata": {},
   "outputs": [
    {
     "data": {
      "text/html": [
       "<div>\n",
       "<style scoped>\n",
       "    .dataframe tbody tr th:only-of-type {\n",
       "        vertical-align: middle;\n",
       "    }\n",
       "\n",
       "    .dataframe tbody tr th {\n",
       "        vertical-align: top;\n",
       "    }\n",
       "\n",
       "    .dataframe thead th {\n",
       "        text-align: right;\n",
       "    }\n",
       "</style>\n",
       "<table border=\"1\" class=\"dataframe\">\n",
       "  <thead>\n",
       "    <tr style=\"text-align: right;\">\n",
       "      <th></th>\n",
       "      <th>vals</th>\n",
       "    </tr>\n",
       "  </thead>\n",
       "  <tbody>\n",
       "    <tr>\n",
       "      <th>count</th>\n",
       "      <td>33336.000000</td>\n",
       "    </tr>\n",
       "    <tr>\n",
       "      <th>mean</th>\n",
       "      <td>6.075230</td>\n",
       "    </tr>\n",
       "    <tr>\n",
       "      <th>std</th>\n",
       "      <td>1.164201</td>\n",
       "    </tr>\n",
       "    <tr>\n",
       "      <th>min</th>\n",
       "      <td>1.033333</td>\n",
       "    </tr>\n",
       "    <tr>\n",
       "      <th>25%</th>\n",
       "      <td>5.466667</td>\n",
       "    </tr>\n",
       "    <tr>\n",
       "      <th>50%</th>\n",
       "      <td>6.233333</td>\n",
       "    </tr>\n",
       "    <tr>\n",
       "      <th>75%</th>\n",
       "      <td>6.866667</td>\n",
       "    </tr>\n",
       "    <tr>\n",
       "      <th>max</th>\n",
       "      <td>9.766667</td>\n",
       "    </tr>\n",
       "  </tbody>\n",
       "</table>\n",
       "</div>"
      ],
      "text/plain": [
       "               vals\n",
       "count  33336.000000\n",
       "mean       6.075230\n",
       "std        1.164201\n",
       "min        1.033333\n",
       "25%        5.466667\n",
       "50%        6.233333\n",
       "75%        6.866667\n",
       "max        9.766667"
      ]
     },
     "execution_count": 39,
     "metadata": {},
     "output_type": "execute_result"
    }
   ],
   "source": [
    "geral = faixas[['allgenders_18age_avg_vote', 'allgenders_30age_avg_vote', 'allgenders_45age_avg_vote']].sum(axis=1).to_frame(name=\"vals\")\n",
    "geral /= 3\n",
    "geral.describe()"
   ]
  },
  {
   "cell_type": "code",
   "execution_count": 40,
   "metadata": {},
   "outputs": [
    {
     "data": {
      "text/plain": [
       "<matplotlib.legend.Legend at 0x7f8b254b6730>"
      ]
     },
     "execution_count": 40,
     "metadata": {},
     "output_type": "execute_result"
    },
    {
     "data": {
      "image/png": "[encoded data removed]",
      "text/plain": [
       "<Figure size 864x576 with 1 Axes>"
      ]
     },
     "metadata": {
      "needs_background": "light"
     },
     "output_type": "display_data"
    }
   ],
   "source": [
    "plt.hist(jovens['vals'], alpha=0.3, edgecolor='k', label='Jovens')\n",
    "plt.hist(geral['vals'], alpha=0.3, edgecolor='k', label='Geral')\n",
    "plt.xlabel('Avaliação Média')\n",
    "plt.ylabel('# de votos')\n",
    "plt.legend()"
   ]
  },
  {
   "cell_type": "markdown",
   "metadata": {},
   "source": [
    "#### Checando intervalos de confiança com Bootstrap"
   ]
  },
  {
   "cell_type": "code",
   "execution_count": 41,
   "metadata": {},
   "outputs": [
    {
     "data": {
      "text/plain": [
       "(6.1751497630189585, 6.214954928605712)"
      ]
     },
     "execution_count": 41,
     "metadata": {},
     "output_type": "execute_result"
    }
   ],
   "source": [
    "ic_bootstrap(jovens, 'vals')"
   ]
  },
  {
   "cell_type": "code",
   "execution_count": 42,
   "metadata": {},
   "outputs": [
    {
     "data": {
      "text/plain": [
       "(6.062526922846172, 6.0877725281977435)"
      ]
     },
     "execution_count": 42,
     "metadata": {},
     "output_type": "execute_result"
    }
   ],
   "source": [
    "ic_bootstrap(geral, 'vals')"
   ]
  },
  {
   "cell_type": "code",
   "execution_count": 43,
   "metadata": {},
   "outputs": [],
   "source": [
    "diff = bootstrap_diff(jovens, geral, 'vals')"
   ]
  },
  {
   "cell_type": "code",
   "execution_count": 44,
   "metadata": {},
   "outputs": [
    {
     "data": {
      "text/plain": [
       "Text(0, 0.5, 'Freq')"
      ]
     },
     "execution_count": 44,
     "metadata": {},
     "output_type": "execute_result"
    },
    {
     "data": {
      "image/png": "[encoded data removed]",
      "text/plain": [
       "<Figure size 864x576 with 1 Axes>"
      ]
     },
     "metadata": {
      "needs_background": "light"
     },
     "output_type": "display_data"
    }
   ],
   "source": [
    "plt.hist(diff, edgecolor='k')\n",
    "plt.xlabel('Média Joves - Média Geral')\n",
    "plt.ylabel('Freq')"
   ]
  },
  {
   "cell_type": "markdown",
   "metadata": {},
   "source": [
    "Podemos ver que o intervalo das médias não se cruzam e que o plot da diferença dos intervalos não contém o valor zero no eixo x, o que confirma nossa hipótese. Agora testaremos uma nova hipótese:\n"
   ]
  },
  {
   "cell_type": "markdown",
   "metadata": {},
   "source": [
    "<div id=\"teste3\"><a href=\"#sumario\"><h3>c. Teste 3</h3></a></div> "
   ]
  },
  {
   "cell_type": "markdown",
   "metadata": {},
   "source": [
    "Filmes produzidos nos EUA tendem a ter melhores avaliações."
   ]
  },
  {
   "cell_type": "markdown",
   "metadata": {},
   "source": [
    "#### Análise Exploratória"
   ]
  },
  {
   "cell_type": "code",
   "execution_count": 45,
   "metadata": {},
   "outputs": [
    {
     "name": "stdout",
     "output_type": "stream",
     "text": [
      "Index(['imdb_title_id', 'weighted_average_vote', 'total_votes', 'mean_vote',\n",
      "       'median_vote', 'votes_10', 'votes_9', 'votes_8', 'votes_7', 'votes_6',\n",
      "       'votes_5', 'votes_4', 'votes_3', 'votes_2', 'votes_1',\n",
      "       'allgenders_0age_avg_vote', 'allgenders_0age_votes',\n",
      "       'allgenders_18age_avg_vote', 'allgenders_18age_votes',\n",
      "       'allgenders_30age_avg_vote', 'allgenders_30age_votes',\n",
      "       'allgenders_45age_avg_vote', 'allgenders_45age_votes',\n",
      "       'males_allages_avg_vote', 'males_allages_votes', 'males_0age_avg_vote',\n",
      "       'males_0age_votes', 'males_18age_avg_vote', 'males_18age_votes',\n",
      "       'males_30age_avg_vote', 'males_30age_votes', 'males_45age_avg_vote',\n",
      "       'males_45age_votes', 'females_allages_avg_vote',\n",
      "       'females_allages_votes', 'females_0age_avg_vote', 'females_0age_votes',\n",
      "       'females_18age_avg_vote', 'females_18age_votes',\n",
      "       'females_30age_avg_vote', 'females_30age_votes',\n",
      "       'females_45age_avg_vote', 'females_45age_votes',\n",
      "       'top1000_voters_rating', 'top1000_voters_votes', 'us_voters_rating',\n",
      "       'us_voters_votes', 'non_us_voters_rating', 'non_us_voters_votes'],\n",
      "      dtype='object')\n",
      "\n",
      "Index(['imdb_title_id', 'title', 'original_title', 'year', 'date_published',\n",
      "       'genre', 'duration', 'country', 'language', 'director', 'writer',\n",
      "       'production_company', 'actors', 'description', 'avg_vote', 'votes',\n",
      "       'budget', 'usa_gross_income', 'worlwide_gross_income', 'metascore',\n",
      "       'reviews_from_users', 'reviews_from_critics'],\n",
      "      dtype='object')\n"
     ]
    }
   ],
   "source": [
    "print(ratings.columns)\n",
    "print()\n",
    "print(movies.columns)"
   ]
  },
  {
   "cell_type": "code",
   "execution_count": 46,
   "metadata": {},
   "outputs": [
    {
     "data": {
      "text/html": [
       "<div>\n",
       "<style scoped>\n",
       "    .dataframe tbody tr th:only-of-type {\n",
       "        vertical-align: middle;\n",
       "    }\n",
       "\n",
       "    .dataframe tbody tr th {\n",
       "        vertical-align: top;\n",
       "    }\n",
       "\n",
       "    .dataframe thead th {\n",
       "        text-align: right;\n",
       "    }\n",
       "</style>\n",
       "<table border=\"1\" class=\"dataframe\">\n",
       "  <thead>\n",
       "    <tr style=\"text-align: right;\">\n",
       "      <th></th>\n",
       "      <th>imdb_title_id</th>\n",
       "      <th>mean_vote</th>\n",
       "      <th>country</th>\n",
       "    </tr>\n",
       "  </thead>\n",
       "  <tbody>\n",
       "    <tr>\n",
       "      <th>0</th>\n",
       "      <td>tt0000009</td>\n",
       "      <td>5.9</td>\n",
       "      <td>USA</td>\n",
       "    </tr>\n",
       "    <tr>\n",
       "      <th>1</th>\n",
       "      <td>tt0000574</td>\n",
       "      <td>6.3</td>\n",
       "      <td>Australia</td>\n",
       "    </tr>\n",
       "    <tr>\n",
       "      <th>2</th>\n",
       "      <td>tt0001892</td>\n",
       "      <td>6.0</td>\n",
       "      <td>Germany, Denmark</td>\n",
       "    </tr>\n",
       "    <tr>\n",
       "      <th>3</th>\n",
       "      <td>tt0002101</td>\n",
       "      <td>5.3</td>\n",
       "      <td>USA</td>\n",
       "    </tr>\n",
       "    <tr>\n",
       "      <th>4</th>\n",
       "      <td>tt0002130</td>\n",
       "      <td>6.9</td>\n",
       "      <td>Italy</td>\n",
       "    </tr>\n",
       "    <tr>\n",
       "      <th>...</th>\n",
       "      <td>...</td>\n",
       "      <td>...</td>\n",
       "      <td>...</td>\n",
       "    </tr>\n",
       "    <tr>\n",
       "      <th>85850</th>\n",
       "      <td>tt9908390</td>\n",
       "      <td>5.5</td>\n",
       "      <td>France, Belgium</td>\n",
       "    </tr>\n",
       "    <tr>\n",
       "      <th>85851</th>\n",
       "      <td>tt9911196</td>\n",
       "      <td>7.9</td>\n",
       "      <td>Netherlands</td>\n",
       "    </tr>\n",
       "    <tr>\n",
       "      <th>85852</th>\n",
       "      <td>tt9911774</td>\n",
       "      <td>7.8</td>\n",
       "      <td>India</td>\n",
       "    </tr>\n",
       "    <tr>\n",
       "      <th>85853</th>\n",
       "      <td>tt9914286</td>\n",
       "      <td>9.4</td>\n",
       "      <td>Turkey</td>\n",
       "    </tr>\n",
       "    <tr>\n",
       "      <th>85854</th>\n",
       "      <td>tt9914942</td>\n",
       "      <td>6.8</td>\n",
       "      <td>Spain</td>\n",
       "    </tr>\n",
       "  </tbody>\n",
       "</table>\n",
       "<p>85855 rows × 3 columns</p>\n",
       "</div>"
      ],
      "text/plain": [
       "      imdb_title_id  mean_vote           country\n",
       "0         tt0000009        5.9               USA\n",
       "1         tt0000574        6.3         Australia\n",
       "2         tt0001892        6.0  Germany, Denmark\n",
       "3         tt0002101        5.3               USA\n",
       "4         tt0002130        6.9             Italy\n",
       "...             ...        ...               ...\n",
       "85850     tt9908390        5.5   France, Belgium\n",
       "85851     tt9911196        7.9       Netherlands\n",
       "85852     tt9911774        7.8             India\n",
       "85853     tt9914286        9.4            Turkey\n",
       "85854     tt9914942        6.8             Spain\n",
       "\n",
       "[85855 rows x 3 columns]"
      ]
     },
     "execution_count": 46,
     "metadata": {},
     "output_type": "execute_result"
    }
   ],
   "source": [
    "vc = pd.merge(ratings[['imdb_title_id', 'mean_vote']], movies[['imdb_title_id', 'country']], on='imdb_title_id')\n",
    "vc"
   ]
  },
  {
   "cell_type": "code",
   "execution_count": 47,
   "metadata": {},
   "outputs": [
    {
     "data": {
      "text/html": [
       "<div>\n",
       "<style scoped>\n",
       "    .dataframe tbody tr th:only-of-type {\n",
       "        vertical-align: middle;\n",
       "    }\n",
       "\n",
       "    .dataframe tbody tr th {\n",
       "        vertical-align: top;\n",
       "    }\n",
       "\n",
       "    .dataframe thead th {\n",
       "        text-align: right;\n",
       "    }\n",
       "</style>\n",
       "<table border=\"1\" class=\"dataframe\">\n",
       "  <thead>\n",
       "    <tr style=\"text-align: right;\">\n",
       "      <th></th>\n",
       "      <th>mean_vote</th>\n",
       "    </tr>\n",
       "  </thead>\n",
       "  <tbody>\n",
       "    <tr>\n",
       "      <th>count</th>\n",
       "      <td>28511.000000</td>\n",
       "    </tr>\n",
       "    <tr>\n",
       "      <th>mean</th>\n",
       "      <td>5.951036</td>\n",
       "    </tr>\n",
       "    <tr>\n",
       "      <th>std</th>\n",
       "      <td>1.189045</td>\n",
       "    </tr>\n",
       "    <tr>\n",
       "      <th>min</th>\n",
       "      <td>1.400000</td>\n",
       "    </tr>\n",
       "    <tr>\n",
       "      <th>25%</th>\n",
       "      <td>5.200000</td>\n",
       "    </tr>\n",
       "    <tr>\n",
       "      <th>50%</th>\n",
       "      <td>6.100000</td>\n",
       "    </tr>\n",
       "    <tr>\n",
       "      <th>75%</th>\n",
       "      <td>6.800000</td>\n",
       "    </tr>\n",
       "    <tr>\n",
       "      <th>max</th>\n",
       "      <td>9.700000</td>\n",
       "    </tr>\n",
       "  </tbody>\n",
       "</table>\n",
       "</div>"
      ],
      "text/plain": [
       "          mean_vote\n",
       "count  28511.000000\n",
       "mean       5.951036\n",
       "std        1.189045\n",
       "min        1.400000\n",
       "25%        5.200000\n",
       "50%        6.100000\n",
       "75%        6.800000\n",
       "max        9.700000"
      ]
     },
     "execution_count": 47,
     "metadata": {},
     "output_type": "execute_result"
    }
   ],
   "source": [
    "us = vc[vc['country'] == 'USA']\n",
    "us.describe()"
   ]
  },
  {
   "cell_type": "code",
   "execution_count": 48,
   "metadata": {},
   "outputs": [
    {
     "data": {
      "text/html": [
       "<div>\n",
       "<style scoped>\n",
       "    .dataframe tbody tr th:only-of-type {\n",
       "        vertical-align: middle;\n",
       "    }\n",
       "\n",
       "    .dataframe tbody tr th {\n",
       "        vertical-align: top;\n",
       "    }\n",
       "\n",
       "    .dataframe thead th {\n",
       "        text-align: right;\n",
       "    }\n",
       "</style>\n",
       "<table border=\"1\" class=\"dataframe\">\n",
       "  <thead>\n",
       "    <tr style=\"text-align: right;\">\n",
       "      <th></th>\n",
       "      <th>mean_vote</th>\n",
       "    </tr>\n",
       "  </thead>\n",
       "  <tbody>\n",
       "    <tr>\n",
       "      <th>count</th>\n",
       "      <td>57344.000000</td>\n",
       "    </tr>\n",
       "    <tr>\n",
       "      <th>mean</th>\n",
       "      <td>6.363222</td>\n",
       "    </tr>\n",
       "    <tr>\n",
       "      <th>std</th>\n",
       "      <td>1.113067</td>\n",
       "    </tr>\n",
       "    <tr>\n",
       "      <th>min</th>\n",
       "      <td>1.000000</td>\n",
       "    </tr>\n",
       "    <tr>\n",
       "      <th>25%</th>\n",
       "      <td>5.700000</td>\n",
       "    </tr>\n",
       "    <tr>\n",
       "      <th>50%</th>\n",
       "      <td>6.500000</td>\n",
       "    </tr>\n",
       "    <tr>\n",
       "      <th>75%</th>\n",
       "      <td>7.100000</td>\n",
       "    </tr>\n",
       "    <tr>\n",
       "      <th>max</th>\n",
       "      <td>9.800000</td>\n",
       "    </tr>\n",
       "  </tbody>\n",
       "</table>\n",
       "</div>"
      ],
      "text/plain": [
       "          mean_vote\n",
       "count  57344.000000\n",
       "mean       6.363222\n",
       "std        1.113067\n",
       "min        1.000000\n",
       "25%        5.700000\n",
       "50%        6.500000\n",
       "75%        7.100000\n",
       "max        9.800000"
      ]
     },
     "execution_count": 48,
     "metadata": {},
     "output_type": "execute_result"
    }
   ],
   "source": [
    "no_us = vc[vc['country'] != 'USA']\n",
    "no_us.describe()"
   ]
  },
  {
   "cell_type": "code",
   "execution_count": 49,
   "metadata": {},
   "outputs": [
    {
     "data": {
      "text/plain": [
       "<matplotlib.legend.Legend at 0x7f8b253b01c0>"
      ]
     },
     "execution_count": 49,
     "metadata": {},
     "output_type": "execute_result"
    },
    {
     "data": {
      "image/png": "[encoded data removed]",
      "text/plain": [
       "<Figure size 864x576 with 1 Axes>"
      ]
     },
     "metadata": {
      "needs_background": "light"
     },
     "output_type": "display_data"
    }
   ],
   "source": [
    "plt.hist(us['mean_vote'], alpha=0.3, edgecolor='k', label='USA')\n",
    "plt.hist(no_us['mean_vote'], alpha=0.3, edgecolor='k', label='No USA')\n",
    "plt.xlabel('Avaliação Média')\n",
    "plt.ylabel('# de votos')\n",
    "plt.legend()"
   ]
  },
  {
   "cell_type": "markdown",
   "metadata": {},
   "source": [
    "#### Checando intervalos de confiança com Bootstrap"
   ]
  },
  {
   "cell_type": "code",
   "execution_count": 50,
   "metadata": {},
   "outputs": [
    {
     "data": {
      "text/plain": [
       "(5.937676160078566, 5.964849970186944)"
      ]
     },
     "execution_count": 50,
     "metadata": {},
     "output_type": "execute_result"
    }
   ],
   "source": [
    "ic_bootstrap(us, 'mean_vote')"
   ]
  },
  {
   "cell_type": "code",
   "execution_count": 51,
   "metadata": {},
   "outputs": [
    {
     "data": {
      "text/plain": [
       "(6.354293561662947, 6.372459891183035)"
      ]
     },
     "execution_count": 51,
     "metadata": {},
     "output_type": "execute_result"
    }
   ],
   "source": [
    "ic_bootstrap(no_us, 'mean_vote')"
   ]
  },
  {
   "cell_type": "code",
   "execution_count": 52,
   "metadata": {},
   "outputs": [],
   "source": [
    "samples_us = bootstrap_mean(us, 'mean_vote')\n",
    "samples_no_us = bootstrap_mean(no_us, 'mean_vote')\n",
    "to_plot = pd.DataFrame()\n",
    "to_plot['USA'] = samples_us\n",
    "to_plot['No USA'] = samples_no_us"
   ]
  },
  {
   "cell_type": "code",
   "execution_count": 53,
   "metadata": {},
   "outputs": [
    {
     "data": {
      "text/plain": [
       "Text(0, 0.5, 'Média')"
      ]
     },
     "execution_count": 53,
     "metadata": {},
     "output_type": "execute_result"
    },
    {
     "data": {
      "image/png": "[encoded data removed]",
      "text/plain": [
       "<Figure size 864x576 with 1 Axes>"
      ]
     },
     "metadata": {
      "needs_background": "light"
     },
     "output_type": "display_data"
    }
   ],
   "source": [
    "to_plot.boxplot(grid=False, sym='', whis=[5, 95], showmeans=True)\n",
    "plt.ylim(5.9, 6.4)\n",
    "plt.ylabel('Média')"
   ]
  },
  {
   "cell_type": "markdown",
   "metadata": {},
   "source": [
    "O intervalo das médias não se cruzam, porém, a nota média dos filmes dos EUA é menor que a de produções de outros países, logo, rejeitamos nossa hipótese. Outra hipótese:"
   ]
  },
  {
   "cell_type": "markdown",
   "metadata": {},
   "source": [
    "<div id=\"teste4\"><a href=\"#sumario\"><h3>d. Teste 4</h3></a></div> "
   ]
  },
  {
   "cell_type": "markdown",
   "metadata": {},
   "source": [
    "Filmes que possuem 'Action' como um dos gêneros são mais populares"
   ]
  },
  {
   "cell_type": "markdown",
   "metadata": {},
   "source": [
    "#### Análise Exploratória"
   ]
  },
  {
   "cell_type": "code",
   "execution_count": 55,
   "metadata": {},
   "outputs": [
    {
     "data": {
      "text/plain": [
       "Index(['imdb_title_id', 'title', 'original_title', 'year', 'date_published',\n",
       "       'genre', 'duration', 'country', 'language', 'director', 'writer',\n",
       "       'production_company', 'actors', 'description', 'avg_vote', 'votes',\n",
       "       'budget', 'usa_gross_income', 'worlwide_gross_income', 'metascore',\n",
       "       'reviews_from_users', 'reviews_from_critics'],\n",
       "      dtype='object')"
      ]
     },
     "execution_count": 55,
     "metadata": {},
     "output_type": "execute_result"
    }
   ],
   "source": [
    "movies.columns"
   ]
  },
  {
   "cell_type": "code",
   "execution_count": 56,
   "metadata": {},
   "outputs": [
    {
     "data": {
      "text/html": [
       "<div>\n",
       "<style scoped>\n",
       "    .dataframe tbody tr th:only-of-type {\n",
       "        vertical-align: middle;\n",
       "    }\n",
       "\n",
       "    .dataframe tbody tr th {\n",
       "        vertical-align: top;\n",
       "    }\n",
       "\n",
       "    .dataframe thead th {\n",
       "        text-align: right;\n",
       "    }\n",
       "</style>\n",
       "<table border=\"1\" class=\"dataframe\">\n",
       "  <thead>\n",
       "    <tr style=\"text-align: right;\">\n",
       "      <th></th>\n",
       "      <th>genre</th>\n",
       "      <th>votes</th>\n",
       "    </tr>\n",
       "  </thead>\n",
       "  <tbody>\n",
       "    <tr>\n",
       "      <th>0</th>\n",
       "      <td>Romance</td>\n",
       "      <td>154</td>\n",
       "    </tr>\n",
       "    <tr>\n",
       "      <th>1</th>\n",
       "      <td>Biography, Crime, Drama</td>\n",
       "      <td>589</td>\n",
       "    </tr>\n",
       "    <tr>\n",
       "      <th>2</th>\n",
       "      <td>Drama</td>\n",
       "      <td>188</td>\n",
       "    </tr>\n",
       "    <tr>\n",
       "      <th>3</th>\n",
       "      <td>Drama, History</td>\n",
       "      <td>446</td>\n",
       "    </tr>\n",
       "    <tr>\n",
       "      <th>4</th>\n",
       "      <td>Adventure, Drama, Fantasy</td>\n",
       "      <td>2237</td>\n",
       "    </tr>\n",
       "    <tr>\n",
       "      <th>...</th>\n",
       "      <td>...</td>\n",
       "      <td>...</td>\n",
       "    </tr>\n",
       "    <tr>\n",
       "      <th>85850</th>\n",
       "      <td>Comedy</td>\n",
       "      <td>398</td>\n",
       "    </tr>\n",
       "    <tr>\n",
       "      <th>85851</th>\n",
       "      <td>Comedy, Drama</td>\n",
       "      <td>724</td>\n",
       "    </tr>\n",
       "    <tr>\n",
       "      <th>85852</th>\n",
       "      <td>Drama</td>\n",
       "      <td>265</td>\n",
       "    </tr>\n",
       "    <tr>\n",
       "      <th>85853</th>\n",
       "      <td>Drama, Family</td>\n",
       "      <td>194</td>\n",
       "    </tr>\n",
       "    <tr>\n",
       "      <th>85854</th>\n",
       "      <td>Drama</td>\n",
       "      <td>102</td>\n",
       "    </tr>\n",
       "  </tbody>\n",
       "</table>\n",
       "<p>85855 rows × 2 columns</p>\n",
       "</div>"
      ],
      "text/plain": [
       "                           genre  votes\n",
       "0                        Romance    154\n",
       "1        Biography, Crime, Drama    589\n",
       "2                          Drama    188\n",
       "3                 Drama, History    446\n",
       "4      Adventure, Drama, Fantasy   2237\n",
       "...                          ...    ...\n",
       "85850                     Comedy    398\n",
       "85851              Comedy, Drama    724\n",
       "85852                      Drama    265\n",
       "85853              Drama, Family    194\n",
       "85854                      Drama    102\n",
       "\n",
       "[85855 rows x 2 columns]"
      ]
     },
     "execution_count": 56,
     "metadata": {},
     "output_type": "execute_result"
    }
   ],
   "source": [
    "gv = movies[['genre', 'votes']].dropna()\n",
    "gv            "
   ]
  },
  {
   "cell_type": "code",
   "execution_count": 57,
   "metadata": {},
   "outputs": [
    {
     "data": {
      "text/html": [
       "<div>\n",
       "<style scoped>\n",
       "    .dataframe tbody tr th:only-of-type {\n",
       "        vertical-align: middle;\n",
       "    }\n",
       "\n",
       "    .dataframe tbody tr th {\n",
       "        vertical-align: top;\n",
       "    }\n",
       "\n",
       "    .dataframe thead th {\n",
       "        text-align: right;\n",
       "    }\n",
       "</style>\n",
       "<table border=\"1\" class=\"dataframe\">\n",
       "  <thead>\n",
       "    <tr style=\"text-align: right;\">\n",
       "      <th></th>\n",
       "      <th>votes</th>\n",
       "    </tr>\n",
       "  </thead>\n",
       "  <tbody>\n",
       "    <tr>\n",
       "      <th>count</th>\n",
       "      <td>12948.00000</td>\n",
       "    </tr>\n",
       "    <tr>\n",
       "      <th>mean</th>\n",
       "      <td>20712.99985</td>\n",
       "    </tr>\n",
       "    <tr>\n",
       "      <th>std</th>\n",
       "      <td>87583.58916</td>\n",
       "    </tr>\n",
       "    <tr>\n",
       "      <th>min</th>\n",
       "      <td>100.00000</td>\n",
       "    </tr>\n",
       "    <tr>\n",
       "      <th>25%</th>\n",
       "      <td>251.00000</td>\n",
       "    </tr>\n",
       "    <tr>\n",
       "      <th>50%</th>\n",
       "      <td>734.00000</td>\n",
       "    </tr>\n",
       "    <tr>\n",
       "      <th>75%</th>\n",
       "      <td>3632.75000</td>\n",
       "    </tr>\n",
       "    <tr>\n",
       "      <th>max</th>\n",
       "      <td>2241615.00000</td>\n",
       "    </tr>\n",
       "  </tbody>\n",
       "</table>\n",
       "</div>"
      ],
      "text/plain": [
       "               votes\n",
       "count    12948.00000\n",
       "mean     20712.99985\n",
       "std      87583.58916\n",
       "min        100.00000\n",
       "25%        251.00000\n",
       "50%        734.00000\n",
       "75%       3632.75000\n",
       "max    2241615.00000"
      ]
     },
     "execution_count": 57,
     "metadata": {},
     "output_type": "execute_result"
    }
   ],
   "source": [
    "action = gv[gv['genre'].str.contains(\"Action\")]\n",
    "action.describe().apply(lambda s: s.apply('{0:.5f}'.format))"
   ]
  },
  {
   "cell_type": "code",
   "execution_count": 58,
   "metadata": {},
   "outputs": [
    {
     "data": {
      "text/html": [
       "<div>\n",
       "<style scoped>\n",
       "    .dataframe tbody tr th:only-of-type {\n",
       "        vertical-align: middle;\n",
       "    }\n",
       "\n",
       "    .dataframe tbody tr th {\n",
       "        vertical-align: top;\n",
       "    }\n",
       "\n",
       "    .dataframe thead th {\n",
       "        text-align: right;\n",
       "    }\n",
       "</style>\n",
       "<table border=\"1\" class=\"dataframe\">\n",
       "  <thead>\n",
       "    <tr style=\"text-align: right;\">\n",
       "      <th></th>\n",
       "      <th>votes</th>\n",
       "    </tr>\n",
       "  </thead>\n",
       "  <tbody>\n",
       "    <tr>\n",
       "      <th>count</th>\n",
       "      <td>72907.00000</td>\n",
       "    </tr>\n",
       "    <tr>\n",
       "      <th>mean</th>\n",
       "      <td>7500.94817</td>\n",
       "    </tr>\n",
       "    <tr>\n",
       "      <th>std</th>\n",
       "      <td>44625.09056</td>\n",
       "    </tr>\n",
       "    <tr>\n",
       "      <th>min</th>\n",
       "      <td>99.00000</td>\n",
       "    </tr>\n",
       "    <tr>\n",
       "      <th>25%</th>\n",
       "      <td>199.00000</td>\n",
       "    </tr>\n",
       "    <tr>\n",
       "      <th>50%</th>\n",
       "      <td>455.00000</td>\n",
       "    </tr>\n",
       "    <tr>\n",
       "      <th>75%</th>\n",
       "      <td>1578.50000</td>\n",
       "    </tr>\n",
       "    <tr>\n",
       "      <th>max</th>\n",
       "      <td>2278845.00000</td>\n",
       "    </tr>\n",
       "  </tbody>\n",
       "</table>\n",
       "</div>"
      ],
      "text/plain": [
       "               votes\n",
       "count    72907.00000\n",
       "mean      7500.94817\n",
       "std      44625.09056\n",
       "min         99.00000\n",
       "25%        199.00000\n",
       "50%        455.00000\n",
       "75%       1578.50000\n",
       "max    2278845.00000"
      ]
     },
     "execution_count": 58,
     "metadata": {},
     "output_type": "execute_result"
    }
   ],
   "source": [
    "no_action = gv[~gv['genre'].str.contains(\"Action\")]\n",
    "no_action.describe().apply(lambda s: s.apply('{0:.5f}'.format))"
   ]
  },
  {
   "cell_type": "code",
   "execution_count": 59,
   "metadata": {},
   "outputs": [
    {
     "data": {
      "text/plain": [
       "<matplotlib.legend.Legend at 0x7f8b252215e0>"
      ]
     },
     "execution_count": 59,
     "metadata": {},
     "output_type": "execute_result"
    },
    {
     "data": {
      "image/png": "[encoded data removed]",
      "text/plain": [
       "<Figure size 864x576 with 1 Axes>"
      ]
     },
     "metadata": {
      "needs_background": "light"
     },
     "output_type": "display_data"
    }
   ],
   "source": [
    "plt.hist(us['mean_vote'], alpha=0.3, edgecolor='k', label='USA')\n",
    "plt.hist(no_us['mean_vote'], alpha=0.3, edgecolor='k', label='No USA')\n",
    "plt.xlabel('Avaliação Média')\n",
    "plt.ylabel('# de votos')\n",
    "plt.legend()"
   ]
  },
  {
   "cell_type": "code",
   "execution_count": 60,
   "metadata": {},
   "outputs": [
    {
     "data": {
      "text/plain": [
       "<matplotlib.legend.Legend at 0x7f8b251bbb50>"
      ]
     },
     "execution_count": 60,
     "metadata": {},
     "output_type": "execute_result"
    },
    {
     "data": {
      "image/png": "[encoded data removed]",
      "text/plain": [
       "<Figure size 864x576 with 1 Axes>"
      ]
     },
     "metadata": {
      "needs_background": "light"
     },
     "output_type": "display_data"
    }
   ],
   "source": [
    "bins = np.logspace(np.log10(action['votes'].min()), np.log10(action['votes'].max()))\n",
    "plt.hist(action['votes'], bins=bins, alpha=0.3, edgecolor='k', label='Action')\n",
    "bins = np.logspace(np.log10(no_action['votes'].min()), np.log10(no_action['votes'].max()))\n",
    "plt.hist(no_action['votes'], bins=bins, alpha=0.3, edgecolor='k', label='No Action')\n",
    "ax = plt.gca()\n",
    "ax.set_yscale('log')\n",
    "ax.set_xscale('log')\n",
    "plt.xlabel('Popularidade dos filme')\n",
    "plt.ylabel('# de votos')\n",
    "plt.legend()"
   ]
  },
  {
   "cell_type": "markdown",
   "metadata": {},
   "source": [
    "#### Checando intervalos de confiança com Bootstrap"
   ]
  },
  {
   "cell_type": "code",
   "execution_count": 61,
   "metadata": {},
   "outputs": [
    {
     "data": {
      "text/plain": [
       "(19320.718591674387, 22254.378826845845)"
      ]
     },
     "execution_count": 61,
     "metadata": {},
     "output_type": "execute_result"
    }
   ],
   "source": [
    "ic_bootstrap(action, 'votes')"
   ]
  },
  {
   "cell_type": "code",
   "execution_count": 62,
   "metadata": {},
   "outputs": [
    {
     "data": {
      "text/plain": [
       "(7189.593261278067, 7834.175322328445)"
      ]
     },
     "execution_count": 62,
     "metadata": {},
     "output_type": "execute_result"
    }
   ],
   "source": [
    "ic_bootstrap(no_action, 'votes')"
   ]
  },
  {
   "cell_type": "code",
   "execution_count": 63,
   "metadata": {},
   "outputs": [],
   "source": [
    "diff = bootstrap_diff(action, no_action, 'votes')"
   ]
  },
  {
   "cell_type": "code",
   "execution_count": 64,
   "metadata": {},
   "outputs": [
    {
     "data": {
      "text/plain": [
       "Text(0, 0.5, 'Freq')"
      ]
     },
     "execution_count": 64,
     "metadata": {},
     "output_type": "execute_result"
    },
    {
     "data": {
      "image/png": "[encoded data removed]",
      "text/plain": [
       "<Figure size 864x576 with 1 Axes>"
      ]
     },
     "metadata": {
      "needs_background": "light"
     },
     "output_type": "display_data"
    }
   ],
   "source": [
    "plt.hist(diff, edgecolor='k')\n",
    "plt.xlabel('Média Action - Média Geral')\n",
    "plt.ylabel('Freq')"
   ]
  },
  {
   "cell_type": "markdown",
   "metadata": {},
   "source": [
    "O intervalo das médias não se cruzam, filmes de ação recebem em média milhares de votos a mais do que produções sem esse gênero, confirmamos a hipótese."
   ]
  },
  {
   "cell_type": "markdown",
   "metadata": {},
   "source": [
    "<div id=\"teste5\"><a href=\"#sumario\"><h3>e. Teste 5</h3></a></div> "
   ]
  },
  {
   "cell_type": "markdown",
   "metadata": {},
   "source": [
    "Filmes de duração maior que 100 minutos tem avaliação mais baixa"
   ]
  },
  {
   "cell_type": "markdown",
   "metadata": {},
   "source": [
    "#### Análise Exploratória"
   ]
  },
  {
   "cell_type": "code",
   "execution_count": 17,
   "metadata": {},
   "outputs": [
    {
     "name": "stdout",
     "output_type": "stream",
     "text": [
      "Index(['imdb_title_id', 'weighted_average_vote', 'total_votes', 'mean_vote',\n",
      "       'median_vote', 'votes_10', 'votes_9', 'votes_8', 'votes_7', 'votes_6',\n",
      "       'votes_5', 'votes_4', 'votes_3', 'votes_2', 'votes_1',\n",
      "       'allgenders_0age_avg_vote', 'allgenders_0age_votes',\n",
      "       'allgenders_18age_avg_vote', 'allgenders_18age_votes',\n",
      "       'allgenders_30age_avg_vote', 'allgenders_30age_votes',\n",
      "       'allgenders_45age_avg_vote', 'allgenders_45age_votes',\n",
      "       'males_allages_avg_vote', 'males_allages_votes', 'males_0age_avg_vote',\n",
      "       'males_0age_votes', 'males_18age_avg_vote', 'males_18age_votes',\n",
      "       'males_30age_avg_vote', 'males_30age_votes', 'males_45age_avg_vote',\n",
      "       'males_45age_votes', 'females_allages_avg_vote',\n",
      "       'females_allages_votes', 'females_0age_avg_vote', 'females_0age_votes',\n",
      "       'females_18age_avg_vote', 'females_18age_votes',\n",
      "       'females_30age_avg_vote', 'females_30age_votes',\n",
      "       'females_45age_avg_vote', 'females_45age_votes',\n",
      "       'top1000_voters_rating', 'top1000_voters_votes', 'us_voters_rating',\n",
      "       'us_voters_votes', 'non_us_voters_rating', 'non_us_voters_votes'],\n",
      "      dtype='object')\n",
      "Index(['imdb_title_id', 'title', 'original_title', 'year', 'date_published',\n",
      "       'genre', 'duration', 'country', 'language', 'director', 'writer',\n",
      "       'production_company', 'actors', 'description', 'avg_vote', 'votes',\n",
      "       'budget', 'usa_gross_income', 'worlwide_gross_income', 'metascore',\n",
      "       'reviews_from_users', 'reviews_from_critics'],\n",
      "      dtype='object')\n"
     ]
    }
   ],
   "source": [
    "print(ratings.columns)\n",
    "print(movies.columns)"
   ]
  },
  {
   "cell_type": "code",
   "execution_count": 19,
   "metadata": {},
   "outputs": [
    {
     "data": {
      "text/html": [
       "<div>\n",
       "<style scoped>\n",
       "    .dataframe tbody tr th:only-of-type {\n",
       "        vertical-align: middle;\n",
       "    }\n",
       "\n",
       "    .dataframe tbody tr th {\n",
       "        vertical-align: top;\n",
       "    }\n",
       "\n",
       "    .dataframe thead th {\n",
       "        text-align: right;\n",
       "    }\n",
       "</style>\n",
       "<table border=\"1\" class=\"dataframe\">\n",
       "  <thead>\n",
       "    <tr style=\"text-align: right;\">\n",
       "      <th></th>\n",
       "      <th>imdb_title_id</th>\n",
       "      <th>mean_vote</th>\n",
       "      <th>duration</th>\n",
       "    </tr>\n",
       "  </thead>\n",
       "  <tbody>\n",
       "    <tr>\n",
       "      <th>0</th>\n",
       "      <td>tt0000009</td>\n",
       "      <td>5.9</td>\n",
       "      <td>45</td>\n",
       "    </tr>\n",
       "    <tr>\n",
       "      <th>1</th>\n",
       "      <td>tt0000574</td>\n",
       "      <td>6.3</td>\n",
       "      <td>70</td>\n",
       "    </tr>\n",
       "    <tr>\n",
       "      <th>2</th>\n",
       "      <td>tt0001892</td>\n",
       "      <td>6.0</td>\n",
       "      <td>53</td>\n",
       "    </tr>\n",
       "    <tr>\n",
       "      <th>3</th>\n",
       "      <td>tt0002101</td>\n",
       "      <td>5.3</td>\n",
       "      <td>100</td>\n",
       "    </tr>\n",
       "    <tr>\n",
       "      <th>4</th>\n",
       "      <td>tt0002130</td>\n",
       "      <td>6.9</td>\n",
       "      <td>68</td>\n",
       "    </tr>\n",
       "    <tr>\n",
       "      <th>...</th>\n",
       "      <td>...</td>\n",
       "      <td>...</td>\n",
       "      <td>...</td>\n",
       "    </tr>\n",
       "    <tr>\n",
       "      <th>85850</th>\n",
       "      <td>tt9908390</td>\n",
       "      <td>5.5</td>\n",
       "      <td>95</td>\n",
       "    </tr>\n",
       "    <tr>\n",
       "      <th>85851</th>\n",
       "      <td>tt9911196</td>\n",
       "      <td>7.9</td>\n",
       "      <td>103</td>\n",
       "    </tr>\n",
       "    <tr>\n",
       "      <th>85852</th>\n",
       "      <td>tt9911774</td>\n",
       "      <td>7.8</td>\n",
       "      <td>130</td>\n",
       "    </tr>\n",
       "    <tr>\n",
       "      <th>85853</th>\n",
       "      <td>tt9914286</td>\n",
       "      <td>9.4</td>\n",
       "      <td>98</td>\n",
       "    </tr>\n",
       "    <tr>\n",
       "      <th>85854</th>\n",
       "      <td>tt9914942</td>\n",
       "      <td>6.8</td>\n",
       "      <td>74</td>\n",
       "    </tr>\n",
       "  </tbody>\n",
       "</table>\n",
       "<p>85855 rows × 3 columns</p>\n",
       "</div>"
      ],
      "text/plain": [
       "      imdb_title_id  mean_vote  duration\n",
       "0         tt0000009        5.9        45\n",
       "1         tt0000574        6.3        70\n",
       "2         tt0001892        6.0        53\n",
       "3         tt0002101        5.3       100\n",
       "4         tt0002130        6.9        68\n",
       "...             ...        ...       ...\n",
       "85850     tt9908390        5.5        95\n",
       "85851     tt9911196        7.9       103\n",
       "85852     tt9911774        7.8       130\n",
       "85853     tt9914286        9.4        98\n",
       "85854     tt9914942        6.8        74\n",
       "\n",
       "[85855 rows x 3 columns]"
      ]
     },
     "execution_count": 19,
     "metadata": {},
     "output_type": "execute_result"
    }
   ],
   "source": [
    "vc = pd.merge(ratings[['imdb_title_id', 'mean_vote']], movies[['imdb_title_id', 'duration']], on='imdb_title_id')\n",
    "vc"
   ]
  },
  {
   "cell_type": "code",
   "execution_count": 20,
   "metadata": {},
   "outputs": [
    {
     "data": {
      "text/html": [
       "<div>\n",
       "<style scoped>\n",
       "    .dataframe tbody tr th:only-of-type {\n",
       "        vertical-align: middle;\n",
       "    }\n",
       "\n",
       "    .dataframe tbody tr th {\n",
       "        vertical-align: top;\n",
       "    }\n",
       "\n",
       "    .dataframe thead th {\n",
       "        text-align: right;\n",
       "    }\n",
       "</style>\n",
       "<table border=\"1\" class=\"dataframe\">\n",
       "  <thead>\n",
       "    <tr style=\"text-align: right;\">\n",
       "      <th></th>\n",
       "      <th>imdb_title_id</th>\n",
       "      <th>mean_vote</th>\n",
       "      <th>duration</th>\n",
       "    </tr>\n",
       "  </thead>\n",
       "  <tbody>\n",
       "    <tr>\n",
       "      <th>0</th>\n",
       "      <td>tt0000009</td>\n",
       "      <td>5.9</td>\n",
       "      <td>45</td>\n",
       "    </tr>\n",
       "    <tr>\n",
       "      <th>1</th>\n",
       "      <td>tt0000574</td>\n",
       "      <td>6.3</td>\n",
       "      <td>70</td>\n",
       "    </tr>\n",
       "    <tr>\n",
       "      <th>2</th>\n",
       "      <td>tt0001892</td>\n",
       "      <td>6.0</td>\n",
       "      <td>53</td>\n",
       "    </tr>\n",
       "    <tr>\n",
       "      <th>4</th>\n",
       "      <td>tt0002130</td>\n",
       "      <td>6.9</td>\n",
       "      <td>68</td>\n",
       "    </tr>\n",
       "    <tr>\n",
       "      <th>5</th>\n",
       "      <td>tt0002199</td>\n",
       "      <td>5.8</td>\n",
       "      <td>60</td>\n",
       "    </tr>\n",
       "    <tr>\n",
       "      <th>...</th>\n",
       "      <td>...</td>\n",
       "      <td>...</td>\n",
       "      <td>...</td>\n",
       "    </tr>\n",
       "    <tr>\n",
       "      <th>85845</th>\n",
       "      <td>tt9904250</td>\n",
       "      <td>4.9</td>\n",
       "      <td>63</td>\n",
       "    </tr>\n",
       "    <tr>\n",
       "      <th>85846</th>\n",
       "      <td>tt9904802</td>\n",
       "      <td>6.4</td>\n",
       "      <td>92</td>\n",
       "    </tr>\n",
       "    <tr>\n",
       "      <th>85850</th>\n",
       "      <td>tt9908390</td>\n",
       "      <td>5.5</td>\n",
       "      <td>95</td>\n",
       "    </tr>\n",
       "    <tr>\n",
       "      <th>85853</th>\n",
       "      <td>tt9914286</td>\n",
       "      <td>9.4</td>\n",
       "      <td>98</td>\n",
       "    </tr>\n",
       "    <tr>\n",
       "      <th>85854</th>\n",
       "      <td>tt9914942</td>\n",
       "      <td>6.8</td>\n",
       "      <td>74</td>\n",
       "    </tr>\n",
       "  </tbody>\n",
       "</table>\n",
       "<p>50034 rows × 3 columns</p>\n",
       "</div>"
      ],
      "text/plain": [
       "      imdb_title_id  mean_vote  duration\n",
       "0         tt0000009        5.9        45\n",
       "1         tt0000574        6.3        70\n",
       "2         tt0001892        6.0        53\n",
       "4         tt0002130        6.9        68\n",
       "5         tt0002199        5.8        60\n",
       "...             ...        ...       ...\n",
       "85845     tt9904250        4.9        63\n",
       "85846     tt9904802        6.4        92\n",
       "85850     tt9908390        5.5        95\n",
       "85853     tt9914286        9.4        98\n",
       "85854     tt9914942        6.8        74\n",
       "\n",
       "[50034 rows x 3 columns]"
      ]
     },
     "execution_count": 20,
     "metadata": {},
     "output_type": "execute_result"
    }
   ],
   "source": [
    "curtos = vc[vc['duration']<100]\n",
    "curtos"
   ]
  },
  {
   "cell_type": "code",
   "execution_count": 21,
   "metadata": {},
   "outputs": [
    {
     "data": {
      "text/html": [
       "<div>\n",
       "<style scoped>\n",
       "    .dataframe tbody tr th:only-of-type {\n",
       "        vertical-align: middle;\n",
       "    }\n",
       "\n",
       "    .dataframe tbody tr th {\n",
       "        vertical-align: top;\n",
       "    }\n",
       "\n",
       "    .dataframe thead th {\n",
       "        text-align: right;\n",
       "    }\n",
       "</style>\n",
       "<table border=\"1\" class=\"dataframe\">\n",
       "  <thead>\n",
       "    <tr style=\"text-align: right;\">\n",
       "      <th></th>\n",
       "      <th>mean_vote</th>\n",
       "      <th>duration</th>\n",
       "    </tr>\n",
       "  </thead>\n",
       "  <tbody>\n",
       "    <tr>\n",
       "      <th>count</th>\n",
       "      <td>50034.000000</td>\n",
       "      <td>50034.000000</td>\n",
       "    </tr>\n",
       "    <tr>\n",
       "      <th>mean</th>\n",
       "      <td>5.971196</td>\n",
       "      <td>87.177319</td>\n",
       "    </tr>\n",
       "    <tr>\n",
       "      <th>std</th>\n",
       "      <td>1.167831</td>\n",
       "      <td>9.302321</td>\n",
       "    </tr>\n",
       "    <tr>\n",
       "      <th>min</th>\n",
       "      <td>1.000000</td>\n",
       "      <td>41.000000</td>\n",
       "    </tr>\n",
       "    <tr>\n",
       "      <th>25%</th>\n",
       "      <td>5.300000</td>\n",
       "      <td>83.000000</td>\n",
       "    </tr>\n",
       "    <tr>\n",
       "      <th>50%</th>\n",
       "      <td>6.100000</td>\n",
       "      <td>90.000000</td>\n",
       "    </tr>\n",
       "    <tr>\n",
       "      <th>75%</th>\n",
       "      <td>6.800000</td>\n",
       "      <td>94.000000</td>\n",
       "    </tr>\n",
       "    <tr>\n",
       "      <th>max</th>\n",
       "      <td>9.800000</td>\n",
       "      <td>99.000000</td>\n",
       "    </tr>\n",
       "  </tbody>\n",
       "</table>\n",
       "</div>"
      ],
      "text/plain": [
       "          mean_vote      duration\n",
       "count  50034.000000  50034.000000\n",
       "mean       5.971196     87.177319\n",
       "std        1.167831      9.302321\n",
       "min        1.000000     41.000000\n",
       "25%        5.300000     83.000000\n",
       "50%        6.100000     90.000000\n",
       "75%        6.800000     94.000000\n",
       "max        9.800000     99.000000"
      ]
     },
     "execution_count": 21,
     "metadata": {},
     "output_type": "execute_result"
    }
   ],
   "source": [
    "curtos.describe()"
   ]
  },
  {
   "cell_type": "code",
   "execution_count": 22,
   "metadata": {},
   "outputs": [
    {
     "data": {
      "text/html": [
       "<div>\n",
       "<style scoped>\n",
       "    .dataframe tbody tr th:only-of-type {\n",
       "        vertical-align: middle;\n",
       "    }\n",
       "\n",
       "    .dataframe tbody tr th {\n",
       "        vertical-align: top;\n",
       "    }\n",
       "\n",
       "    .dataframe thead th {\n",
       "        text-align: right;\n",
       "    }\n",
       "</style>\n",
       "<table border=\"1\" class=\"dataframe\">\n",
       "  <thead>\n",
       "    <tr style=\"text-align: right;\">\n",
       "      <th></th>\n",
       "      <th>imdb_title_id</th>\n",
       "      <th>mean_vote</th>\n",
       "      <th>duration</th>\n",
       "    </tr>\n",
       "  </thead>\n",
       "  <tbody>\n",
       "    <tr>\n",
       "      <th>3</th>\n",
       "      <td>tt0002101</td>\n",
       "      <td>5.3</td>\n",
       "      <td>100</td>\n",
       "    </tr>\n",
       "    <tr>\n",
       "      <th>7</th>\n",
       "      <td>tt0002445</td>\n",
       "      <td>6.2</td>\n",
       "      <td>120</td>\n",
       "    </tr>\n",
       "    <tr>\n",
       "      <th>8</th>\n",
       "      <td>tt0002452</td>\n",
       "      <td>7.1</td>\n",
       "      <td>120</td>\n",
       "    </tr>\n",
       "    <tr>\n",
       "      <th>10</th>\n",
       "      <td>tt0002646</td>\n",
       "      <td>6.6</td>\n",
       "      <td>121</td>\n",
       "    </tr>\n",
       "    <tr>\n",
       "      <th>24</th>\n",
       "      <td>tt0003740</td>\n",
       "      <td>6.5</td>\n",
       "      <td>148</td>\n",
       "    </tr>\n",
       "    <tr>\n",
       "      <th>...</th>\n",
       "      <td>...</td>\n",
       "      <td>...</td>\n",
       "      <td>...</td>\n",
       "    </tr>\n",
       "    <tr>\n",
       "      <th>85847</th>\n",
       "      <td>tt9905412</td>\n",
       "      <td>7.9</td>\n",
       "      <td>120</td>\n",
       "    </tr>\n",
       "    <tr>\n",
       "      <th>85848</th>\n",
       "      <td>tt9905462</td>\n",
       "      <td>8.5</td>\n",
       "      <td>111</td>\n",
       "    </tr>\n",
       "    <tr>\n",
       "      <th>85849</th>\n",
       "      <td>tt9906644</td>\n",
       "      <td>7.2</td>\n",
       "      <td>122</td>\n",
       "    </tr>\n",
       "    <tr>\n",
       "      <th>85851</th>\n",
       "      <td>tt9911196</td>\n",
       "      <td>7.9</td>\n",
       "      <td>103</td>\n",
       "    </tr>\n",
       "    <tr>\n",
       "      <th>85852</th>\n",
       "      <td>tt9911774</td>\n",
       "      <td>7.8</td>\n",
       "      <td>130</td>\n",
       "    </tr>\n",
       "  </tbody>\n",
       "</table>\n",
       "<p>35821 rows × 3 columns</p>\n",
       "</div>"
      ],
      "text/plain": [
       "      imdb_title_id  mean_vote  duration\n",
       "3         tt0002101        5.3       100\n",
       "7         tt0002445        6.2       120\n",
       "8         tt0002452        7.1       120\n",
       "10        tt0002646        6.6       121\n",
       "24        tt0003740        6.5       148\n",
       "...             ...        ...       ...\n",
       "85847     tt9905412        7.9       120\n",
       "85848     tt9905462        8.5       111\n",
       "85849     tt9906644        7.2       122\n",
       "85851     tt9911196        7.9       103\n",
       "85852     tt9911774        7.8       130\n",
       "\n",
       "[35821 rows x 3 columns]"
      ]
     },
     "execution_count": 22,
     "metadata": {},
     "output_type": "execute_result"
    }
   ],
   "source": [
    "longos = vc[vc['duration']>=100]\n",
    "longos"
   ]
  },
  {
   "cell_type": "code",
   "execution_count": 23,
   "metadata": {},
   "outputs": [
    {
     "data": {
      "text/html": [
       "<div>\n",
       "<style scoped>\n",
       "    .dataframe tbody tr th:only-of-type {\n",
       "        vertical-align: middle;\n",
       "    }\n",
       "\n",
       "    .dataframe tbody tr th {\n",
       "        vertical-align: top;\n",
       "    }\n",
       "\n",
       "    .dataframe thead th {\n",
       "        text-align: right;\n",
       "    }\n",
       "</style>\n",
       "<table border=\"1\" class=\"dataframe\">\n",
       "  <thead>\n",
       "    <tr style=\"text-align: right;\">\n",
       "      <th></th>\n",
       "      <th>mean_vote</th>\n",
       "      <th>duration</th>\n",
       "    </tr>\n",
       "  </thead>\n",
       "  <tbody>\n",
       "    <tr>\n",
       "      <th>count</th>\n",
       "      <td>35821.000000</td>\n",
       "      <td>35821.000000</td>\n",
       "    </tr>\n",
       "    <tr>\n",
       "      <th>mean</th>\n",
       "      <td>6.582725</td>\n",
       "      <td>118.752715</td>\n",
       "    </tr>\n",
       "    <tr>\n",
       "      <th>std</th>\n",
       "      <td>1.037321</td>\n",
       "      <td>22.744022</td>\n",
       "    </tr>\n",
       "    <tr>\n",
       "      <th>min</th>\n",
       "      <td>1.000000</td>\n",
       "      <td>100.000000</td>\n",
       "    </tr>\n",
       "    <tr>\n",
       "      <th>25%</th>\n",
       "      <td>6.000000</td>\n",
       "      <td>104.000000</td>\n",
       "    </tr>\n",
       "    <tr>\n",
       "      <th>50%</th>\n",
       "      <td>6.700000</td>\n",
       "      <td>111.000000</td>\n",
       "    </tr>\n",
       "    <tr>\n",
       "      <th>75%</th>\n",
       "      <td>7.300000</td>\n",
       "      <td>126.000000</td>\n",
       "    </tr>\n",
       "    <tr>\n",
       "      <th>max</th>\n",
       "      <td>9.800000</td>\n",
       "      <td>808.000000</td>\n",
       "    </tr>\n",
       "  </tbody>\n",
       "</table>\n",
       "</div>"
      ],
      "text/plain": [
       "          mean_vote      duration\n",
       "count  35821.000000  35821.000000\n",
       "mean       6.582725    118.752715\n",
       "std        1.037321     22.744022\n",
       "min        1.000000    100.000000\n",
       "25%        6.000000    104.000000\n",
       "50%        6.700000    111.000000\n",
       "75%        7.300000    126.000000\n",
       "max        9.800000    808.000000"
      ]
     },
     "execution_count": 23,
     "metadata": {},
     "output_type": "execute_result"
    }
   ],
   "source": [
    "longos.describe()"
   ]
  },
  {
   "cell_type": "code",
   "execution_count": 24,
   "metadata": {},
   "outputs": [
    {
     "data": {
      "text/plain": [
       "<matplotlib.legend.Legend at 0x7f5de223bbe0>"
      ]
     },
     "execution_count": 24,
     "metadata": {},
     "output_type": "execute_result"
    },
    {
     "data": {
      "image/png": "[encoded data removed]",
      "text/plain": [
       "<Figure size 864x576 with 1 Axes>"
      ]
     },
     "metadata": {
      "needs_background": "light"
     },
     "output_type": "display_data"
    }
   ],
   "source": [
    "plt.hist(longos['mean_vote'], alpha=0.3, edgecolor='k', label='>100min')\n",
    "plt.hist(curtos['mean_vote'], alpha=0.3, edgecolor='k', label='<100min')\n",
    "plt.xlabel('Avaliação Média')\n",
    "plt.ylabel('# de avaliações')\n",
    "plt.legend()"
   ]
  },
  {
   "cell_type": "code",
   "execution_count": 25,
   "metadata": {},
   "outputs": [
    {
     "data": {
      "text/plain": [
       "(6.572203456073253, 6.593191284442088)"
      ]
     },
     "execution_count": 25,
     "metadata": {},
     "output_type": "execute_result"
    }
   ],
   "source": [
    "ic_bootstrap(longos, 'mean_vote')"
   ]
  },
  {
   "cell_type": "code",
   "execution_count": 26,
   "metadata": {},
   "outputs": [
    {
     "data": {
      "text/plain": [
       "(5.961120188271974, 5.981439521125635)"
      ]
     },
     "execution_count": 26,
     "metadata": {},
     "output_type": "execute_result"
    }
   ],
   "source": [
    "ic_bootstrap(curtos, 'mean_vote')"
   ]
  },
  {
   "cell_type": "code",
   "execution_count": 27,
   "metadata": {},
   "outputs": [],
   "source": [
    "diff = bootstrap_diff(longos, curtos, 'mean_vote')"
   ]
  },
  {
   "cell_type": "code",
   "execution_count": 28,
   "metadata": {},
   "outputs": [
    {
     "data": {
      "text/plain": [
       "Text(0, 0.5, 'Freq')"
      ]
     },
     "execution_count": 28,
     "metadata": {},
     "output_type": "execute_result"
    },
    {
     "data": {
      "image/png": "[encoded data removed]",
      "text/plain": [
       "<Figure size 864x576 with 1 Axes>"
      ]
     },
     "metadata": {
      "needs_background": "light"
     },
     "output_type": "display_data"
    }
   ],
   "source": [
    "plt.hist(diff, edgecolor='k')\n",
    "plt.xlabel('Média Filmes Longos - Média Filmes Curtos')\n",
    "plt.ylabel('Freq')"
   ]
  },
  {
   "cell_type": "markdown",
   "metadata": {},
   "source": [
    "Podemos ver que o intervalo das médias não se cruzam e que o plot da diferença dos intervalos não contém o valor zero no eixo x, o que sinaliza que há uma diferença significativa. Contudo, essa diferença é positiva, o que quer dizer que a média de votação pra filmes longos é, em geral, maior que a dos filmes curtos, e então nossa hipótese inicial é rejeitada."
   ]
  },
  {
   "cell_type": "markdown",
   "metadata": {},
   "source": [
    "<div id=\"regressoes\"><a href=\"#sumario\"><h1>6. Regressões</h1></a></div>"
   ]
  },
  {
   "cell_type": "markdown",
   "metadata": {},
   "source": [
    "<div id=\"regressao1\"><a href=\"#sumario\"><h2>A. Regressão 1</h2></a></div>"
   ]
  },
  {
   "cell_type": "code",
   "execution_count": 73,
   "metadata": {},
   "outputs": [
    {
     "name": "stdout",
     "output_type": "stream",
     "text": [
      "Index(['imdb_title_id', 'weighted_average_vote', 'total_votes', 'mean_vote',\n",
      "       'median_vote', 'votes_10', 'votes_9', 'votes_8', 'votes_7', 'votes_6',\n",
      "       'votes_5', 'votes_4', 'votes_3', 'votes_2', 'votes_1',\n",
      "       'allgenders_0age_avg_vote', 'allgenders_0age_votes',\n",
      "       'allgenders_18age_avg_vote', 'allgenders_18age_votes',\n",
      "       'allgenders_30age_avg_vote', 'allgenders_30age_votes',\n",
      "       'allgenders_45age_avg_vote', 'allgenders_45age_votes',\n",
      "       'males_allages_avg_vote', 'males_allages_votes', 'males_0age_avg_vote',\n",
      "       'males_0age_votes', 'males_18age_avg_vote', 'males_18age_votes',\n",
      "       'males_30age_avg_vote', 'males_30age_votes', 'males_45age_avg_vote',\n",
      "       'males_45age_votes', 'females_allages_avg_vote',\n",
      "       'females_allages_votes', 'females_0age_avg_vote', 'females_0age_votes',\n",
      "       'females_18age_avg_vote', 'females_18age_votes',\n",
      "       'females_30age_avg_vote', 'females_30age_votes',\n",
      "       'females_45age_avg_vote', 'females_45age_votes',\n",
      "       'top1000_voters_rating', 'top1000_voters_votes', 'us_voters_rating',\n",
      "       'us_voters_votes', 'non_us_voters_rating', 'non_us_voters_votes'],\n",
      "      dtype='object')\n",
      "\n",
      "Index(['imdb_title_id', 'title', 'original_title', 'year', 'date_published',\n",
      "       'genre', 'duration', 'country', 'language', 'director', 'writer',\n",
      "       'production_company', 'actors', 'description', 'avg_vote', 'votes',\n",
      "       'budget', 'usa_gross_income', 'worlwide_gross_income', 'metascore',\n",
      "       'reviews_from_users', 'reviews_from_critics'],\n",
      "      dtype='object')\n"
     ]
    }
   ],
   "source": [
    "print(ratings.columns)\n",
    "print()\n",
    "print(movies.columns)"
   ]
  },
  {
   "cell_type": "markdown",
   "metadata": {},
   "source": [
    "Vamos utilizar os resultados dos ICs para ajudar a selecionar alguns parâmetros de interesse. Observamos anteriormente que a idade dos usuários, país e duração dos filmes parecem influenciar na nota do filme, então iremos testar a regreção com esses valores. Iremos também testar o gênero dos usuários, o ano, gêneros e popularidade (número de votos) dos filmes. Alguns atributos como diretor e atores geram dataframes muito grandes durante o one-hot encoding, não seria viável tratar esses parâmetros."
   ]
  },
  {
   "cell_type": "code",
   "execution_count": 74,
   "metadata": {},
   "outputs": [
    {
     "data": {
      "text/html": [
       "<div>\n",
       "<style scoped>\n",
       "    .dataframe tbody tr th:only-of-type {\n",
       "        vertical-align: middle;\n",
       "    }\n",
       "\n",
       "    .dataframe tbody tr th {\n",
       "        vertical-align: top;\n",
       "    }\n",
       "\n",
       "    .dataframe thead th {\n",
       "        text-align: right;\n",
       "    }\n",
       "</style>\n",
       "<table border=\"1\" class=\"dataframe\">\n",
       "  <thead>\n",
       "    <tr style=\"text-align: right;\">\n",
       "      <th></th>\n",
       "      <th>total_votes</th>\n",
       "      <th>mean_vote</th>\n",
       "      <th>allgenders_0age_votes</th>\n",
       "      <th>allgenders_18age_votes</th>\n",
       "      <th>allgenders_30age_votes</th>\n",
       "      <th>allgenders_45age_votes</th>\n",
       "      <th>males_allages_votes</th>\n",
       "      <th>females_allages_votes</th>\n",
       "      <th>duration</th>\n",
       "      <th>year</th>\n",
       "      <th>genre</th>\n",
       "      <th>country</th>\n",
       "    </tr>\n",
       "  </thead>\n",
       "  <tbody>\n",
       "    <tr>\n",
       "      <th>0</th>\n",
       "      <td>154</td>\n",
       "      <td>5.9</td>\n",
       "      <td>4.0</td>\n",
       "      <td>38.0</td>\n",
       "      <td>50.0</td>\n",
       "      <td>35.0</td>\n",
       "      <td>97.0</td>\n",
       "      <td>35.0</td>\n",
       "      <td>45</td>\n",
       "      <td>1894</td>\n",
       "      <td>Romance</td>\n",
       "      <td>USA</td>\n",
       "    </tr>\n",
       "    <tr>\n",
       "      <th>1</th>\n",
       "      <td>589</td>\n",
       "      <td>6.3</td>\n",
       "      <td>1.0</td>\n",
       "      <td>114.0</td>\n",
       "      <td>239.0</td>\n",
       "      <td>115.0</td>\n",
       "      <td>425.0</td>\n",
       "      <td>50.0</td>\n",
       "      <td>70</td>\n",
       "      <td>1906</td>\n",
       "      <td>Biography, Crime, Drama</td>\n",
       "      <td>Australia</td>\n",
       "    </tr>\n",
       "    <tr>\n",
       "      <th>4</th>\n",
       "      <td>2237</td>\n",
       "      <td>6.9</td>\n",
       "      <td>4.0</td>\n",
       "      <td>402.0</td>\n",
       "      <td>895.0</td>\n",
       "      <td>482.0</td>\n",
       "      <td>1607.0</td>\n",
       "      <td>215.0</td>\n",
       "      <td>68</td>\n",
       "      <td>1911</td>\n",
       "      <td>Adventure, Drama, Fantasy</td>\n",
       "      <td>Italy</td>\n",
       "    </tr>\n",
       "    <tr>\n",
       "      <th>6</th>\n",
       "      <td>753</td>\n",
       "      <td>6.8</td>\n",
       "      <td>1.0</td>\n",
       "      <td>59.0</td>\n",
       "      <td>287.0</td>\n",
       "      <td>276.0</td>\n",
       "      <td>530.0</td>\n",
       "      <td>93.0</td>\n",
       "      <td>85</td>\n",
       "      <td>1919</td>\n",
       "      <td>Biography, Drama, Romance</td>\n",
       "      <td>Germany</td>\n",
       "    </tr>\n",
       "    <tr>\n",
       "      <th>7</th>\n",
       "      <td>273</td>\n",
       "      <td>6.2</td>\n",
       "      <td>1.0</td>\n",
       "      <td>34.0</td>\n",
       "      <td>99.0</td>\n",
       "      <td>69.0</td>\n",
       "      <td>191.0</td>\n",
       "      <td>21.0</td>\n",
       "      <td>120</td>\n",
       "      <td>1913</td>\n",
       "      <td>Drama, History</td>\n",
       "      <td>Italy</td>\n",
       "    </tr>\n",
       "  </tbody>\n",
       "</table>\n",
       "</div>"
      ],
      "text/plain": [
       "   total_votes  mean_vote  allgenders_0age_votes  allgenders_18age_votes  \\\n",
       "0          154        5.9                    4.0                    38.0   \n",
       "1          589        6.3                    1.0                   114.0   \n",
       "4         2237        6.9                    4.0                   402.0   \n",
       "6          753        6.8                    1.0                    59.0   \n",
       "7          273        6.2                    1.0                    34.0   \n",
       "\n",
       "   allgenders_30age_votes  allgenders_45age_votes  males_allages_votes  \\\n",
       "0                    50.0                    35.0                 97.0   \n",
       "1                   239.0                   115.0                425.0   \n",
       "4                   895.0                   482.0               1607.0   \n",
       "6                   287.0                   276.0                530.0   \n",
       "7                    99.0                    69.0                191.0   \n",
       "\n",
       "   females_allages_votes  duration  year                      genre    country  \n",
       "0                   35.0        45  1894                    Romance        USA  \n",
       "1                   50.0        70  1906    Biography, Crime, Drama  Australia  \n",
       "4                  215.0        68  1911  Adventure, Drama, Fantasy      Italy  \n",
       "6                   93.0        85  1919  Biography, Drama, Romance    Germany  \n",
       "7                   21.0       120  1913             Drama, History      Italy  "
      ]
     },
     "execution_count": 74,
     "metadata": {},
     "output_type": "execute_result"
    }
   ],
   "source": [
    "df = pd.merge(ratings[['imdb_title_id', 'total_votes', 'mean_vote', 'allgenders_0age_votes', 'allgenders_18age_votes', 'allgenders_30age_votes', 'allgenders_45age_votes', 'males_allages_votes', 'females_allages_votes', ]],\n",
    "              movies[['imdb_title_id', 'duration', 'year', 'genre', 'country']], on='imdb_title_id').dropna()\n",
    "df = df.drop(['imdb_title_id'], axis=1)\n",
    "df.head()\n"
   ]
  },
  {
   "cell_type": "code",
   "execution_count": 75,
   "metadata": {},
   "outputs": [
    {
     "data": {
      "text/plain": [
       "(33319, 12)"
      ]
     },
     "execution_count": 75,
     "metadata": {},
     "output_type": "execute_result"
    }
   ],
   "source": [
    "df.shape"
   ]
  },
  {
   "cell_type": "markdown",
   "metadata": {},
   "source": [
    "Agora faremos one-hot encoding nas colunas com dados categóricos"
   ]
  },
  {
   "cell_type": "code",
   "execution_count": 76,
   "metadata": {},
   "outputs": [],
   "source": [
    "from sklearn.preprocessing import MultiLabelBinarizer"
   ]
  },
  {
   "cell_type": "code",
   "execution_count": 77,
   "metadata": {},
   "outputs": [
    {
     "data": {
      "text/html": [
       "<div>\n",
       "<style scoped>\n",
       "    .dataframe tbody tr th:only-of-type {\n",
       "        vertical-align: middle;\n",
       "    }\n",
       "\n",
       "    .dataframe tbody tr th {\n",
       "        vertical-align: top;\n",
       "    }\n",
       "\n",
       "    .dataframe thead th {\n",
       "        text-align: right;\n",
       "    }\n",
       "</style>\n",
       "<table border=\"1\" class=\"dataframe\">\n",
       "  <thead>\n",
       "    <tr style=\"text-align: right;\">\n",
       "      <th></th>\n",
       "      <th>total_votes</th>\n",
       "      <th>mean_vote</th>\n",
       "      <th>allgenders_0age_votes</th>\n",
       "      <th>allgenders_18age_votes</th>\n",
       "      <th>allgenders_30age_votes</th>\n",
       "      <th>allgenders_45age_votes</th>\n",
       "      <th>males_allages_votes</th>\n",
       "      <th>females_allages_votes</th>\n",
       "      <th>duration</th>\n",
       "      <th>1894</th>\n",
       "      <th>...</th>\n",
       "      <th>USA</th>\n",
       "      <th>Uganda</th>\n",
       "      <th>Ukraine</th>\n",
       "      <th>United Arab Emirates</th>\n",
       "      <th>Uruguay</th>\n",
       "      <th>Venezuela</th>\n",
       "      <th>Vietnam</th>\n",
       "      <th>West Germany</th>\n",
       "      <th>Yugoslavia</th>\n",
       "      <th>Zambia</th>\n",
       "    </tr>\n",
       "  </thead>\n",
       "  <tbody>\n",
       "    <tr>\n",
       "      <th>0</th>\n",
       "      <td>154</td>\n",
       "      <td>5.9</td>\n",
       "      <td>4.0</td>\n",
       "      <td>38.0</td>\n",
       "      <td>50.0</td>\n",
       "      <td>35.0</td>\n",
       "      <td>97.0</td>\n",
       "      <td>35.0</td>\n",
       "      <td>45</td>\n",
       "      <td>1</td>\n",
       "      <td>...</td>\n",
       "      <td>1</td>\n",
       "      <td>0</td>\n",
       "      <td>0</td>\n",
       "      <td>0</td>\n",
       "      <td>0</td>\n",
       "      <td>0</td>\n",
       "      <td>0</td>\n",
       "      <td>0</td>\n",
       "      <td>0</td>\n",
       "      <td>0</td>\n",
       "    </tr>\n",
       "    <tr>\n",
       "      <th>1</th>\n",
       "      <td>589</td>\n",
       "      <td>6.3</td>\n",
       "      <td>1.0</td>\n",
       "      <td>114.0</td>\n",
       "      <td>239.0</td>\n",
       "      <td>115.0</td>\n",
       "      <td>425.0</td>\n",
       "      <td>50.0</td>\n",
       "      <td>70</td>\n",
       "      <td>0</td>\n",
       "      <td>...</td>\n",
       "      <td>0</td>\n",
       "      <td>0</td>\n",
       "      <td>0</td>\n",
       "      <td>0</td>\n",
       "      <td>0</td>\n",
       "      <td>0</td>\n",
       "      <td>0</td>\n",
       "      <td>0</td>\n",
       "      <td>0</td>\n",
       "      <td>0</td>\n",
       "    </tr>\n",
       "    <tr>\n",
       "      <th>4</th>\n",
       "      <td>2237</td>\n",
       "      <td>6.9</td>\n",
       "      <td>4.0</td>\n",
       "      <td>402.0</td>\n",
       "      <td>895.0</td>\n",
       "      <td>482.0</td>\n",
       "      <td>1607.0</td>\n",
       "      <td>215.0</td>\n",
       "      <td>68</td>\n",
       "      <td>0</td>\n",
       "      <td>...</td>\n",
       "      <td>0</td>\n",
       "      <td>0</td>\n",
       "      <td>0</td>\n",
       "      <td>0</td>\n",
       "      <td>0</td>\n",
       "      <td>0</td>\n",
       "      <td>0</td>\n",
       "      <td>0</td>\n",
       "      <td>0</td>\n",
       "      <td>0</td>\n",
       "    </tr>\n",
       "    <tr>\n",
       "      <th>6</th>\n",
       "      <td>753</td>\n",
       "      <td>6.8</td>\n",
       "      <td>1.0</td>\n",
       "      <td>59.0</td>\n",
       "      <td>287.0</td>\n",
       "      <td>276.0</td>\n",
       "      <td>530.0</td>\n",
       "      <td>93.0</td>\n",
       "      <td>85</td>\n",
       "      <td>0</td>\n",
       "      <td>...</td>\n",
       "      <td>0</td>\n",
       "      <td>0</td>\n",
       "      <td>0</td>\n",
       "      <td>0</td>\n",
       "      <td>0</td>\n",
       "      <td>0</td>\n",
       "      <td>0</td>\n",
       "      <td>0</td>\n",
       "      <td>0</td>\n",
       "      <td>0</td>\n",
       "    </tr>\n",
       "    <tr>\n",
       "      <th>7</th>\n",
       "      <td>273</td>\n",
       "      <td>6.2</td>\n",
       "      <td>1.0</td>\n",
       "      <td>34.0</td>\n",
       "      <td>99.0</td>\n",
       "      <td>69.0</td>\n",
       "      <td>191.0</td>\n",
       "      <td>21.0</td>\n",
       "      <td>120</td>\n",
       "      <td>0</td>\n",
       "      <td>...</td>\n",
       "      <td>0</td>\n",
       "      <td>0</td>\n",
       "      <td>0</td>\n",
       "      <td>0</td>\n",
       "      <td>0</td>\n",
       "      <td>0</td>\n",
       "      <td>0</td>\n",
       "      <td>0</td>\n",
       "      <td>0</td>\n",
       "      <td>0</td>\n",
       "    </tr>\n",
       "    <tr>\n",
       "      <th>...</th>\n",
       "      <td>...</td>\n",
       "      <td>...</td>\n",
       "      <td>...</td>\n",
       "      <td>...</td>\n",
       "      <td>...</td>\n",
       "      <td>...</td>\n",
       "      <td>...</td>\n",
       "      <td>...</td>\n",
       "      <td>...</td>\n",
       "      <td>...</td>\n",
       "      <td>...</td>\n",
       "      <td>...</td>\n",
       "      <td>...</td>\n",
       "      <td>...</td>\n",
       "      <td>...</td>\n",
       "      <td>...</td>\n",
       "      <td>...</td>\n",
       "      <td>...</td>\n",
       "      <td>...</td>\n",
       "      <td>...</td>\n",
       "      <td>...</td>\n",
       "    </tr>\n",
       "    <tr>\n",
       "      <th>85838</th>\n",
       "      <td>442</td>\n",
       "      <td>7.0</td>\n",
       "      <td>1.0</td>\n",
       "      <td>33.0</td>\n",
       "      <td>132.0</td>\n",
       "      <td>107.0</td>\n",
       "      <td>229.0</td>\n",
       "      <td>71.0</td>\n",
       "      <td>108</td>\n",
       "      <td>0</td>\n",
       "      <td>...</td>\n",
       "      <td>1</td>\n",
       "      <td>0</td>\n",
       "      <td>0</td>\n",
       "      <td>0</td>\n",
       "      <td>0</td>\n",
       "      <td>0</td>\n",
       "      <td>0</td>\n",
       "      <td>0</td>\n",
       "      <td>0</td>\n",
       "      <td>0</td>\n",
       "    </tr>\n",
       "    <tr>\n",
       "      <th>85839</th>\n",
       "      <td>10627</td>\n",
       "      <td>5.1</td>\n",
       "      <td>13.0</td>\n",
       "      <td>1706.0</td>\n",
       "      <td>4026.0</td>\n",
       "      <td>1117.0</td>\n",
       "      <td>6270.0</td>\n",
       "      <td>1161.0</td>\n",
       "      <td>88</td>\n",
       "      <td>0</td>\n",
       "      <td>...</td>\n",
       "      <td>1</td>\n",
       "      <td>0</td>\n",
       "      <td>0</td>\n",
       "      <td>0</td>\n",
       "      <td>0</td>\n",
       "      <td>0</td>\n",
       "      <td>0</td>\n",
       "      <td>0</td>\n",
       "      <td>0</td>\n",
       "      <td>0</td>\n",
       "    </tr>\n",
       "    <tr>\n",
       "      <th>85843</th>\n",
       "      <td>8400</td>\n",
       "      <td>8.7</td>\n",
       "      <td>22.0</td>\n",
       "      <td>2297.0</td>\n",
       "      <td>1469.0</td>\n",
       "      <td>84.0</td>\n",
       "      <td>4577.0</td>\n",
       "      <td>121.0</td>\n",
       "      <td>145</td>\n",
       "      <td>0</td>\n",
       "      <td>...</td>\n",
       "      <td>0</td>\n",
       "      <td>0</td>\n",
       "      <td>0</td>\n",
       "      <td>0</td>\n",
       "      <td>0</td>\n",
       "      <td>0</td>\n",
       "      <td>0</td>\n",
       "      <td>0</td>\n",
       "      <td>0</td>\n",
       "      <td>0</td>\n",
       "    </tr>\n",
       "    <tr>\n",
       "      <th>85846</th>\n",
       "      <td>764</td>\n",
       "      <td>6.4</td>\n",
       "      <td>1.0</td>\n",
       "      <td>37.0</td>\n",
       "      <td>135.0</td>\n",
       "      <td>151.0</td>\n",
       "      <td>310.0</td>\n",
       "      <td>36.0</td>\n",
       "      <td>92</td>\n",
       "      <td>0</td>\n",
       "      <td>...</td>\n",
       "      <td>0</td>\n",
       "      <td>0</td>\n",
       "      <td>0</td>\n",
       "      <td>0</td>\n",
       "      <td>0</td>\n",
       "      <td>0</td>\n",
       "      <td>0</td>\n",
       "      <td>0</td>\n",
       "      <td>0</td>\n",
       "      <td>0</td>\n",
       "    </tr>\n",
       "    <tr>\n",
       "      <th>85850</th>\n",
       "      <td>398</td>\n",
       "      <td>5.5</td>\n",
       "      <td>1.0</td>\n",
       "      <td>42.0</td>\n",
       "      <td>137.0</td>\n",
       "      <td>101.0</td>\n",
       "      <td>267.0</td>\n",
       "      <td>26.0</td>\n",
       "      <td>95</td>\n",
       "      <td>0</td>\n",
       "      <td>...</td>\n",
       "      <td>0</td>\n",
       "      <td>0</td>\n",
       "      <td>0</td>\n",
       "      <td>0</td>\n",
       "      <td>0</td>\n",
       "      <td>0</td>\n",
       "      <td>0</td>\n",
       "      <td>0</td>\n",
       "      <td>0</td>\n",
       "      <td>0</td>\n",
       "    </tr>\n",
       "  </tbody>\n",
       "</table>\n",
       "<p>33319 rows × 445 columns</p>\n",
       "</div>"
      ],
      "text/plain": [
       "       total_votes  mean_vote  allgenders_0age_votes  allgenders_18age_votes  \\\n",
       "0              154        5.9                    4.0                    38.0   \n",
       "1              589        6.3                    1.0                   114.0   \n",
       "4             2237        6.9                    4.0                   402.0   \n",
       "6              753        6.8                    1.0                    59.0   \n",
       "7              273        6.2                    1.0                    34.0   \n",
       "...            ...        ...                    ...                     ...   \n",
       "85838          442        7.0                    1.0                    33.0   \n",
       "85839        10627        5.1                   13.0                  1706.0   \n",
       "85843         8400        8.7                   22.0                  2297.0   \n",
       "85846          764        6.4                    1.0                    37.0   \n",
       "85850          398        5.5                    1.0                    42.0   \n",
       "\n",
       "       allgenders_30age_votes  allgenders_45age_votes  males_allages_votes  \\\n",
       "0                        50.0                    35.0                 97.0   \n",
       "1                       239.0                   115.0                425.0   \n",
       "4                       895.0                   482.0               1607.0   \n",
       "6                       287.0                   276.0                530.0   \n",
       "7                        99.0                    69.0                191.0   \n",
       "...                       ...                     ...                  ...   \n",
       "85838                   132.0                   107.0                229.0   \n",
       "85839                  4026.0                  1117.0               6270.0   \n",
       "85843                  1469.0                    84.0               4577.0   \n",
       "85846                   135.0                   151.0                310.0   \n",
       "85850                   137.0                   101.0                267.0   \n",
       "\n",
       "       females_allages_votes  duration  1894  ...  USA  Uganda  Ukraine  \\\n",
       "0                       35.0        45     1  ...    1       0        0   \n",
       "1                       50.0        70     0  ...    0       0        0   \n",
       "4                      215.0        68     0  ...    0       0        0   \n",
       "6                       93.0        85     0  ...    0       0        0   \n",
       "7                       21.0       120     0  ...    0       0        0   \n",
       "...                      ...       ...   ...  ...  ...     ...      ...   \n",
       "85838                   71.0       108     0  ...    1       0        0   \n",
       "85839                 1161.0        88     0  ...    1       0        0   \n",
       "85843                  121.0       145     0  ...    0       0        0   \n",
       "85846                   36.0        92     0  ...    0       0        0   \n",
       "85850                   26.0        95     0  ...    0       0        0   \n",
       "\n",
       "       United Arab Emirates  Uruguay  Venezuela  Vietnam  West Germany  \\\n",
       "0                         0        0          0        0             0   \n",
       "1                         0        0          0        0             0   \n",
       "4                         0        0          0        0             0   \n",
       "6                         0        0          0        0             0   \n",
       "7                         0        0          0        0             0   \n",
       "...                     ...      ...        ...      ...           ...   \n",
       "85838                     0        0          0        0             0   \n",
       "85839                     0        0          0        0             0   \n",
       "85843                     0        0          0        0             0   \n",
       "85846                     0        0          0        0             0   \n",
       "85850                     0        0          0        0             0   \n",
       "\n",
       "       Yugoslavia  Zambia  \n",
       "0               0       0  \n",
       "1               0       0  \n",
       "4               0       0  \n",
       "6               0       0  \n",
       "7               0       0  \n",
       "...           ...     ...  \n",
       "85838           0       0  \n",
       "85839           0       0  \n",
       "85843           0       0  \n",
       "85846           0       0  \n",
       "85850           0       0  \n",
       "\n",
       "[33319 rows x 445 columns]"
      ]
     },
     "execution_count": 77,
     "metadata": {},
     "output_type": "execute_result"
    }
   ],
   "source": [
    "mlb = MultiLabelBinarizer(sparse_output=True)\n",
    "\n",
    "# One-hot encoding do treino\n",
    "df['year'] = df['year'].astype(str)\n",
    "df['year'] = df['year'].str.split(',')\n",
    "df['genre'] = df['genre'].str.split(',')\n",
    "df['country'] = df['country'].str.split(',')\n",
    "df = df.join(pd.DataFrame.sparse.from_spmatrix(mlb.fit_transform(df.pop('year')), index=df.index, columns=mlb.classes_), how = 'left', lsuffix = '_left', rsuffix = '_right')\n",
    "df = df.join(pd.DataFrame.sparse.from_spmatrix(mlb.fit_transform(df.pop('genre')), index=df.index, columns=mlb.classes_), how = 'left', lsuffix = '_left', rsuffix = '_right')\n",
    "df = df.join(pd.DataFrame.sparse.from_spmatrix(mlb.fit_transform(df.pop('country')), index=df.index, columns=mlb.classes_), how = 'left', lsuffix = '_left', rsuffix = '_right')\n",
    "df"
   ]
  },
  {
   "cell_type": "markdown",
   "metadata": {},
   "source": [
    "Dividimos o dataframe em um conjunto para treino e outro para testes"
   ]
  },
  {
   "cell_type": "code",
   "execution_count": 78,
   "metadata": {},
   "outputs": [],
   "source": [
    "from sklearn.model_selection import train_test_split"
   ]
  },
  {
   "cell_type": "code",
   "execution_count": 79,
   "metadata": {},
   "outputs": [
    {
     "name": "stdout",
     "output_type": "stream",
     "text": [
      "(26655, 445)\n",
      "(6664, 445)\n"
     ]
    }
   ],
   "source": [
    "train_df, test_df = train_test_split(df, test_size=0.2)\n",
    "print(train_df.shape)\n",
    "print(test_df.shape)"
   ]
  },
  {
   "cell_type": "code",
   "execution_count": 80,
   "metadata": {},
   "outputs": [],
   "source": [
    "# Treino\n",
    "y_train_df = train_df['mean_vote']\n",
    "X_train_df = train_df.drop('mean_vote', axis='columns')\n",
    "\n",
    "#Teste\n",
    "y_test = test_df['mean_vote']\n",
    "X_test = test_df.drop('mean_vote', axis='columns')\n"
   ]
  },
  {
   "cell_type": "markdown",
   "metadata": {},
   "source": [
    "As colunas possuem escalas diferentes, portanto é necessário z-normalizar os atributos numéricos"
   ]
  },
  {
   "cell_type": "code",
   "execution_count": 81,
   "metadata": {},
   "outputs": [],
   "source": [
    "from sklearn.preprocessing import StandardScaler"
   ]
  },
  {
   "cell_type": "code",
   "execution_count": 82,
   "metadata": {},
   "outputs": [],
   "source": [
    "scaler_x = StandardScaler()\n",
    "scaler_y = StandardScaler()\n",
    "\n",
    "y_train = scaler_y.fit_transform(y_train_df.values[:, np.newaxis])\n",
    "X_train = scaler_x.fit_transform(X_train_df.values)"
   ]
  },
  {
   "cell_type": "markdown",
   "metadata": {},
   "source": [
    "Iniciaremos o aprendizado de máquina, a partir daqui o conjunto de testes não será utilizado. Testaremos modelos de regressão linear. Modelos com e sem regularização estão disponíveis na biblioteca scikit-learn."
   ]
  },
  {
   "cell_type": "code",
   "execution_count": 83,
   "metadata": {},
   "outputs": [],
   "source": [
    "from sklearn.linear_model import LinearRegression\n",
    "from sklearn.linear_model import Lasso #L1\n",
    "from sklearn.linear_model import Ridge #L2\n",
    "\n",
    "from sklearn.model_selection import GridSearchCV"
   ]
  },
  {
   "cell_type": "markdown",
   "metadata": {},
   "source": [
    "Faremos validação-cruzada para minimizar o erro dos parâmetros de regularização."
   ]
  },
  {
   "cell_type": "code",
   "execution_count": 84,
   "metadata": {},
   "outputs": [],
   "source": [
    "linear = LinearRegression(fit_intercept=False)\n",
    "lasso = GridSearchCV(Lasso(max_iter = 10000),\n",
    "                     cv = 5,\n",
    "                     refit=True,\n",
    "                     param_grid={'alpha': [0.001, 0.01, 0.1, 1, 10, 100]},\n",
    "                     return_train_score=True)\n",
    "\n",
    "ridge = GridSearchCV(Ridge(),\n",
    "                     cv = 5,\n",
    "                     refit=True,\n",
    "                     param_grid={'alpha': [0.001, 0.01, 0.1, 1, 10, 100]},\n",
    "                     return_train_score=True)"
   ]
  },
  {
   "cell_type": "markdown",
   "metadata": {},
   "source": [
    "Verificamos o score para saber a fração da variação total na variável dependente capturada pelo modelo"
   ]
  },
  {
   "cell_type": "code",
   "execution_count": 85,
   "metadata": {},
   "outputs": [
    {
     "data": {
      "text/plain": [
       "0.38940005913724074"
      ]
     },
     "execution_count": 85,
     "metadata": {},
     "output_type": "execute_result"
    }
   ],
   "source": [
    "linear = linear.fit(X_train, y_train)\n",
    "linear.score(X_train, y_train)"
   ]
  },
  {
   "cell_type": "code",
   "execution_count": 86,
   "metadata": {},
   "outputs": [
    {
     "data": {
      "text/plain": [
       "0.38419969317506864"
      ]
     },
     "execution_count": 86,
     "metadata": {},
     "output_type": "execute_result"
    }
   ],
   "source": [
    "lasso = lasso.fit(X_train, y_train)\n",
    "lasso.score(X_train, y_train)"
   ]
  },
  {
   "cell_type": "code",
   "execution_count": 87,
   "metadata": {},
   "outputs": [
    {
     "data": {
      "text/plain": [
       "0.3894213241857194"
      ]
     },
     "execution_count": 87,
     "metadata": {},
     "output_type": "execute_result"
    }
   ],
   "source": [
    "ridge = ridge.fit(X_train, y_train)\n",
    "ridge.score(X_train, y_train)"
   ]
  },
  {
   "cell_type": "markdown",
   "metadata": {},
   "source": [
    "Verificamos o erro quadrado médio na previsão dos modelos"
   ]
  },
  {
   "cell_type": "code",
   "execution_count": 88,
   "metadata": {},
   "outputs": [],
   "source": [
    "from sklearn.metrics import mean_squared_error"
   ]
  },
  {
   "cell_type": "code",
   "execution_count": 89,
   "metadata": {},
   "outputs": [
    {
     "data": {
      "text/plain": [
       "0.6105999408627594"
      ]
     },
     "execution_count": 89,
     "metadata": {},
     "output_type": "execute_result"
    }
   ],
   "source": [
    "mean_squared_error(y_train, linear.predict(X_train))"
   ]
  },
  {
   "cell_type": "code",
   "execution_count": 90,
   "metadata": {},
   "outputs": [
    {
     "data": {
      "text/plain": [
       "0.6158003068249316"
      ]
     },
     "execution_count": 90,
     "metadata": {},
     "output_type": "execute_result"
    }
   ],
   "source": [
    "mean_squared_error(y_train, lasso.predict(X_train))"
   ]
  },
  {
   "cell_type": "code",
   "execution_count": 91,
   "metadata": {},
   "outputs": [
    {
     "data": {
      "text/plain": [
       "0.6105786758142808"
      ]
     },
     "execution_count": 91,
     "metadata": {},
     "output_type": "execute_result"
    }
   ],
   "source": [
    "mean_squared_error(y_train, ridge.predict(X_train))"
   ]
  },
  {
   "cell_type": "markdown",
   "metadata": {},
   "source": [
    "Podemos também comparar algumas previsões de cada modelo."
   ]
  },
  {
   "cell_type": "code",
   "execution_count": 92,
   "metadata": {},
   "outputs": [
    {
     "data": {
      "text/html": [
       "<div>\n",
       "<style scoped>\n",
       "    .dataframe tbody tr th:only-of-type {\n",
       "        vertical-align: middle;\n",
       "    }\n",
       "\n",
       "    .dataframe tbody tr th {\n",
       "        vertical-align: top;\n",
       "    }\n",
       "\n",
       "    .dataframe thead th {\n",
       "        text-align: right;\n",
       "    }\n",
       "</style>\n",
       "<table border=\"1\" class=\"dataframe\">\n",
       "  <thead>\n",
       "    <tr style=\"text-align: right;\">\n",
       "      <th></th>\n",
       "      <th>mean_vote</th>\n",
       "      <th>linear</th>\n",
       "      <th>lasso</th>\n",
       "      <th>ridge</th>\n",
       "    </tr>\n",
       "  </thead>\n",
       "  <tbody>\n",
       "    <tr>\n",
       "      <th>0</th>\n",
       "      <td>-0.252592</td>\n",
       "      <td>0.076691</td>\n",
       "      <td>0.046935</td>\n",
       "      <td>0.078140</td>\n",
       "    </tr>\n",
       "    <tr>\n",
       "      <th>1</th>\n",
       "      <td>0.635480</td>\n",
       "      <td>0.482836</td>\n",
       "      <td>0.473271</td>\n",
       "      <td>0.487801</td>\n",
       "    </tr>\n",
       "    <tr>\n",
       "      <th>2</th>\n",
       "      <td>-0.874242</td>\n",
       "      <td>-0.639990</td>\n",
       "      <td>-0.574099</td>\n",
       "      <td>-0.640880</td>\n",
       "    </tr>\n",
       "    <tr>\n",
       "      <th>3</th>\n",
       "      <td>-0.519013</td>\n",
       "      <td>-0.446885</td>\n",
       "      <td>-0.425574</td>\n",
       "      <td>-0.443666</td>\n",
       "    </tr>\n",
       "    <tr>\n",
       "      <th>4</th>\n",
       "      <td>0.635480</td>\n",
       "      <td>-0.234471</td>\n",
       "      <td>-0.164122</td>\n",
       "      <td>-0.230970</td>\n",
       "    </tr>\n",
       "    <tr>\n",
       "      <th>...</th>\n",
       "      <td>...</td>\n",
       "      <td>...</td>\n",
       "      <td>...</td>\n",
       "      <td>...</td>\n",
       "    </tr>\n",
       "    <tr>\n",
       "      <th>26650</th>\n",
       "      <td>-0.074977</td>\n",
       "      <td>-0.549133</td>\n",
       "      <td>-0.571916</td>\n",
       "      <td>-0.545253</td>\n",
       "    </tr>\n",
       "    <tr>\n",
       "      <th>26651</th>\n",
       "      <td>-0.430206</td>\n",
       "      <td>0.147303</td>\n",
       "      <td>0.164396</td>\n",
       "      <td>0.147607</td>\n",
       "    </tr>\n",
       "    <tr>\n",
       "      <th>26652</th>\n",
       "      <td>1.434745</td>\n",
       "      <td>0.830976</td>\n",
       "      <td>0.796078</td>\n",
       "      <td>0.831681</td>\n",
       "    </tr>\n",
       "    <tr>\n",
       "      <th>26653</th>\n",
       "      <td>-0.074977</td>\n",
       "      <td>-0.370172</td>\n",
       "      <td>-0.367706</td>\n",
       "      <td>-0.371908</td>\n",
       "    </tr>\n",
       "    <tr>\n",
       "      <th>26654</th>\n",
       "      <td>-0.074977</td>\n",
       "      <td>-0.128115</td>\n",
       "      <td>-0.097879</td>\n",
       "      <td>-0.123797</td>\n",
       "    </tr>\n",
       "  </tbody>\n",
       "</table>\n",
       "<p>26655 rows × 4 columns</p>\n",
       "</div>"
      ],
      "text/plain": [
       "       mean_vote    linear     lasso     ridge\n",
       "0      -0.252592  0.076691  0.046935  0.078140\n",
       "1       0.635480  0.482836  0.473271  0.487801\n",
       "2      -0.874242 -0.639990 -0.574099 -0.640880\n",
       "3      -0.519013 -0.446885 -0.425574 -0.443666\n",
       "4       0.635480 -0.234471 -0.164122 -0.230970\n",
       "...          ...       ...       ...       ...\n",
       "26650  -0.074977 -0.549133 -0.571916 -0.545253\n",
       "26651  -0.430206  0.147303  0.164396  0.147607\n",
       "26652   1.434745  0.830976  0.796078  0.831681\n",
       "26653  -0.074977 -0.370172 -0.367706 -0.371908\n",
       "26654  -0.074977 -0.128115 -0.097879 -0.123797\n",
       "\n",
       "[26655 rows x 4 columns]"
      ]
     },
     "execution_count": 92,
     "metadata": {},
     "output_type": "execute_result"
    }
   ],
   "source": [
    "pred = pd.Series(y_train.flatten())\n",
    "pred = pred.to_frame(name='mean_vote')\n",
    "pred.assign(\n",
    "    linear = linear.predict(X_train),\n",
    "    lasso = lasso.predict(X_train),\n",
    "    ridge = ridge.predict(X_train))"
   ]
  },
  {
   "cell_type": "markdown",
   "metadata": {},
   "source": [
    "Utilizaremos bootstrap para comparar o intervalo dos erros quadrados de cada modelo"
   ]
  },
  {
   "cell_type": "code",
   "execution_count": 93,
   "metadata": {},
   "outputs": [],
   "source": [
    "def bootstrap_score(X, y, model, n=1000):\n",
    "    size = len(y)\n",
    "    samples = np.zeros(n)\n",
    "    for i in range(n):\n",
    "        idx = np.random.choice(size, size)\n",
    "        Xb = X[idx]\n",
    "        yb = y[idx]\n",
    "        err = mean_squared_error(yb, model.predict(Xb))\n",
    "        samples[i] = err\n",
    "    return samples\n",
    "        "
   ]
  },
  {
   "cell_type": "code",
   "execution_count": 94,
   "metadata": {},
   "outputs": [
    {
     "data": {
      "text/plain": [
       "Text(0.5, 1.0, '(0.5961043854842683, 0.6253634396229156)')"
      ]
     },
     "execution_count": 94,
     "metadata": {},
     "output_type": "execute_result"
    },
    {
     "data": {
      "image/png": "[encoded data removed]",
      "text/plain": [
       "<Figure size 864x576 with 1 Axes>"
      ]
     },
     "metadata": {
      "needs_background": "light"
     },
     "output_type": "display_data"
    }
   ],
   "source": [
    "samples = bootstrap_score(X_train, y_train, linear)\n",
    "plt.hist(samples, edgecolor='k')\n",
    "plt.title('({}, {})'.format(stats.scoreatpercentile(samples, 2.5),\n",
    "                            stats.scoreatpercentile(samples, 97.5)))"
   ]
  },
  {
   "cell_type": "code",
   "execution_count": 95,
   "metadata": {},
   "outputs": [
    {
     "data": {
      "text/plain": [
       "Text(0.5, 1.0, '(0.6019794260072318, 0.6303738557907904)')"
      ]
     },
     "execution_count": 95,
     "metadata": {},
     "output_type": "execute_result"
    },
    {
     "data": {
      "image/png": "[encoded data removed]",
      "text/plain": [
       "<Figure size 864x576 with 1 Axes>"
      ]
     },
     "metadata": {
      "needs_background": "light"
     },
     "output_type": "display_data"
    }
   ],
   "source": [
    "samples = bootstrap_score(X_train, y_train, lasso)\n",
    "plt.hist(samples, edgecolor='k')\n",
    "plt.title('({}, {})'.format(stats.scoreatpercentile(samples, 2.5),\n",
    "                            stats.scoreatpercentile(samples, 97.5)))"
   ]
  },
  {
   "cell_type": "code",
   "execution_count": 95,
   "metadata": {},
   "outputs": [
    {
     "data": {
      "text/plain": [
       "Text(0.5, 1.0, '(0.6000617873359976, 0.6325599407514668)')"
      ]
     },
     "execution_count": 95,
     "metadata": {},
     "output_type": "execute_result"
    },
    {
     "data": {
      "image/png": "[encoded data removed]",
      "text/plain": [
       "<Figure size 864x576 with 1 Axes>"
      ]
     },
     "metadata": {
      "needs_background": "light"
     },
     "output_type": "display_data"
    }
   ],
   "source": [
    "samples = bootstrap_score(X_train, y_train, ridge)\n",
    "plt.hist(samples, edgecolor='k')\n",
    "plt.title('({}, {})'.format(stats.scoreatpercentile(samples, 2.5),\n",
    "                            stats.scoreatpercentile(samples, 97.5)))"
   ]
  },
  {
   "cell_type": "markdown",
   "metadata": {},
   "source": [
    "Os intervalos de confiança se cruzam, portanto os modelos são estatisticamente equivalentes. Vamos escolher o ridge, simplesmente porque foi mais rápido durante os testes, e avaliar no conjunto de teste."
   ]
  },
  {
   "cell_type": "code",
   "execution_count": 96,
   "metadata": {},
   "outputs": [],
   "source": [
    "y_test = scaler_y.fit_transform(y_test.values[:, np.newaxis])\n",
    "X_test = scaler_x.fit_transform(X_test.values)"
   ]
  },
  {
   "cell_type": "code",
   "execution_count": 97,
   "metadata": {},
   "outputs": [
    {
     "data": {
      "text/plain": [
       "Text(0.5, 1.0, '(0.6132266576624785, 0.6749720820109957)')"
      ]
     },
     "execution_count": 97,
     "metadata": {},
     "output_type": "execute_result"
    },
    {
     "data": {
      "image/png": "[encoded data removed]",
      "text/plain": [
       "<Figure size 864x576 with 1 Axes>"
      ]
     },
     "metadata": {
      "needs_background": "light"
     },
     "output_type": "display_data"
    }
   ],
   "source": [
    "samples = bootstrap_score(X_test, y_test, ridge)\n",
    "plt.hist(samples, edgecolor='k')\n",
    "plt.title('({}, {})'.format(stats.scoreatpercentile(samples, 2.5),\n",
    "                            stats.scoreatpercentile(samples, 97.5)))"
   ]
  },
  {
   "cell_type": "markdown",
   "metadata": {},
   "source": [
    "Este é o intervalo do erro que esperamos para previsões em uma base real."
   ]
  },
  {
   "cell_type": "markdown",
   "metadata": {},
   "source": [
    "<div id=\"regressao2\"><a href=\"#sumario\"><h2>B. Regressão 2</h2></a></div>"
   ]
  },
  {
   "cell_type": "markdown",
   "metadata": {},
   "source": [
    "Vamos repetir o processo, mas dessa vez queremos prever a popularidade (número de votos dos filmes). Para isso iremos adicionar a média das notas como um dos parâmetros, além disso vamos substituir o país pelo orçamento, o motivo para não utilizar ambos é que a maioria dos orçamentos registrados na base estão em dólares, ou seja, a coluna de países ficaria só com Estados Unidos."
   ]
  },
  {
   "cell_type": "code",
   "execution_count": 98,
   "metadata": {},
   "outputs": [
    {
     "name": "stdout",
     "output_type": "stream",
     "text": [
      "Index(['imdb_title_id', 'weighted_average_vote', 'total_votes', 'mean_vote',\n",
      "       'median_vote', 'votes_10', 'votes_9', 'votes_8', 'votes_7', 'votes_6',\n",
      "       'votes_5', 'votes_4', 'votes_3', 'votes_2', 'votes_1',\n",
      "       'allgenders_0age_avg_vote', 'allgenders_0age_votes',\n",
      "       'allgenders_18age_avg_vote', 'allgenders_18age_votes',\n",
      "       'allgenders_30age_avg_vote', 'allgenders_30age_votes',\n",
      "       'allgenders_45age_avg_vote', 'allgenders_45age_votes',\n",
      "       'males_allages_avg_vote', 'males_allages_votes', 'males_0age_avg_vote',\n",
      "       'males_0age_votes', 'males_18age_avg_vote', 'males_18age_votes',\n",
      "       'males_30age_avg_vote', 'males_30age_votes', 'males_45age_avg_vote',\n",
      "       'males_45age_votes', 'females_allages_avg_vote',\n",
      "       'females_allages_votes', 'females_0age_avg_vote', 'females_0age_votes',\n",
      "       'females_18age_avg_vote', 'females_18age_votes',\n",
      "       'females_30age_avg_vote', 'females_30age_votes',\n",
      "       'females_45age_avg_vote', 'females_45age_votes',\n",
      "       'top1000_voters_rating', 'top1000_voters_votes', 'us_voters_rating',\n",
      "       'us_voters_votes', 'non_us_voters_rating', 'non_us_voters_votes'],\n",
      "      dtype='object')\n",
      "\n",
      "Index(['imdb_title_id', 'title', 'original_title', 'year', 'date_published',\n",
      "       'genre', 'duration', 'country', 'language', 'director', 'writer',\n",
      "       'production_company', 'actors', 'description', 'avg_vote', 'votes',\n",
      "       'budget', 'usa_gross_income', 'worlwide_gross_income', 'metascore',\n",
      "       'reviews_from_users', 'reviews_from_critics'],\n",
      "      dtype='object')\n"
     ]
    }
   ],
   "source": [
    "print(ratings.columns)\n",
    "print()\n",
    "print(movies.columns)"
   ]
  },
  {
   "cell_type": "code",
   "execution_count": 99,
   "metadata": {},
   "outputs": [
    {
     "data": {
      "text/html": [
       "<div>\n",
       "<style scoped>\n",
       "    .dataframe tbody tr th:only-of-type {\n",
       "        vertical-align: middle;\n",
       "    }\n",
       "\n",
       "    .dataframe tbody tr th {\n",
       "        vertical-align: top;\n",
       "    }\n",
       "\n",
       "    .dataframe thead th {\n",
       "        text-align: right;\n",
       "    }\n",
       "</style>\n",
       "<table border=\"1\" class=\"dataframe\">\n",
       "  <thead>\n",
       "    <tr style=\"text-align: right;\">\n",
       "      <th></th>\n",
       "      <th>total_votes</th>\n",
       "      <th>mean_vote</th>\n",
       "      <th>allgenders_0age_avg_vote</th>\n",
       "      <th>allgenders_18age_avg_vote</th>\n",
       "      <th>allgenders_30age_avg_vote</th>\n",
       "      <th>allgenders_45age_avg_vote</th>\n",
       "      <th>males_allages_avg_vote</th>\n",
       "      <th>females_allages_avg_vote</th>\n",
       "      <th>duration</th>\n",
       "      <th>budget</th>\n",
       "      <th>year</th>\n",
       "      <th>genre</th>\n",
       "    </tr>\n",
       "  </thead>\n",
       "  <tbody>\n",
       "    <tr>\n",
       "      <th>1</th>\n",
       "      <td>589</td>\n",
       "      <td>6.3</td>\n",
       "      <td>6.0</td>\n",
       "      <td>6.1</td>\n",
       "      <td>6.0</td>\n",
       "      <td>6.3</td>\n",
       "      <td>6.1</td>\n",
       "      <td>6.2</td>\n",
       "      <td>70</td>\n",
       "      <td>$ 2250</td>\n",
       "      <td>1906</td>\n",
       "      <td>Biography, Crime, Drama</td>\n",
       "    </tr>\n",
       "    <tr>\n",
       "      <th>7</th>\n",
       "      <td>273</td>\n",
       "      <td>6.2</td>\n",
       "      <td>6.0</td>\n",
       "      <td>5.9</td>\n",
       "      <td>6.2</td>\n",
       "      <td>6.3</td>\n",
       "      <td>6.2</td>\n",
       "      <td>6.3</td>\n",
       "      <td>120</td>\n",
       "      <td>ITL 45000</td>\n",
       "      <td>1913</td>\n",
       "      <td>Drama, History</td>\n",
       "    </tr>\n",
       "    <tr>\n",
       "      <th>24</th>\n",
       "      <td>3073</td>\n",
       "      <td>6.5</td>\n",
       "      <td>6.0</td>\n",
       "      <td>7.0</td>\n",
       "      <td>7.0</td>\n",
       "      <td>7.2</td>\n",
       "      <td>7.1</td>\n",
       "      <td>6.9</td>\n",
       "      <td>148</td>\n",
       "      <td>$ 210000</td>\n",
       "      <td>1914</td>\n",
       "      <td>Adventure, Drama, History</td>\n",
       "    </tr>\n",
       "    <tr>\n",
       "      <th>34</th>\n",
       "      <td>1239</td>\n",
       "      <td>7.2</td>\n",
       "      <td>6.0</td>\n",
       "      <td>6.4</td>\n",
       "      <td>6.2</td>\n",
       "      <td>5.8</td>\n",
       "      <td>6.1</td>\n",
       "      <td>6.0</td>\n",
       "      <td>61</td>\n",
       "      <td>$ 40000</td>\n",
       "      <td>1914</td>\n",
       "      <td>Drama</td>\n",
       "    </tr>\n",
       "    <tr>\n",
       "      <th>37</th>\n",
       "      <td>879</td>\n",
       "      <td>6.1</td>\n",
       "      <td>5.0</td>\n",
       "      <td>5.5</td>\n",
       "      <td>5.5</td>\n",
       "      <td>6.0</td>\n",
       "      <td>5.7</td>\n",
       "      <td>5.9</td>\n",
       "      <td>74</td>\n",
       "      <td>$ 20000</td>\n",
       "      <td>1914</td>\n",
       "      <td>Action, Drama, Romance</td>\n",
       "    </tr>\n",
       "  </tbody>\n",
       "</table>\n",
       "</div>"
      ],
      "text/plain": [
       "    total_votes  mean_vote  allgenders_0age_avg_vote  \\\n",
       "1           589        6.3                       6.0   \n",
       "7           273        6.2                       6.0   \n",
       "24         3073        6.5                       6.0   \n",
       "34         1239        7.2                       6.0   \n",
       "37          879        6.1                       5.0   \n",
       "\n",
       "    allgenders_18age_avg_vote  allgenders_30age_avg_vote  \\\n",
       "1                         6.1                        6.0   \n",
       "7                         5.9                        6.2   \n",
       "24                        7.0                        7.0   \n",
       "34                        6.4                        6.2   \n",
       "37                        5.5                        5.5   \n",
       "\n",
       "    allgenders_45age_avg_vote  males_allages_avg_vote  \\\n",
       "1                         6.3                     6.1   \n",
       "7                         6.3                     6.2   \n",
       "24                        7.2                     7.1   \n",
       "34                        5.8                     6.1   \n",
       "37                        6.0                     5.7   \n",
       "\n",
       "    females_allages_avg_vote  duration     budget  year  \\\n",
       "1                        6.2        70     $ 2250  1906   \n",
       "7                        6.3       120  ITL 45000  1913   \n",
       "24                       6.9       148   $ 210000  1914   \n",
       "34                       6.0        61    $ 40000  1914   \n",
       "37                       5.9        74    $ 20000  1914   \n",
       "\n",
       "                        genre  \n",
       "1     Biography, Crime, Drama  \n",
       "7              Drama, History  \n",
       "24  Adventure, Drama, History  \n",
       "34                      Drama  \n",
       "37     Action, Drama, Romance  "
      ]
     },
     "execution_count": 99,
     "metadata": {},
     "output_type": "execute_result"
    }
   ],
   "source": [
    "df = pd.merge(ratings[['imdb_title_id', 'total_votes', 'mean_vote', 'allgenders_0age_avg_vote', 'allgenders_18age_avg_vote', 'allgenders_30age_avg_vote', 'allgenders_45age_avg_vote', 'males_allages_avg_vote', 'females_allages_avg_vote', ]],\n",
    "              movies[['imdb_title_id', 'duration', 'budget', 'year', 'genre']], on='imdb_title_id').dropna()\n",
    "df = df.drop(['imdb_title_id'], axis=1)\n",
    "df.head()\n"
   ]
  },
  {
   "cell_type": "code",
   "execution_count": 100,
   "metadata": {},
   "outputs": [
    {
     "data": {
      "text/plain": [
       "(12840, 12)"
      ]
     },
     "execution_count": 100,
     "metadata": {},
     "output_type": "execute_result"
    }
   ],
   "source": [
    "df.shape"
   ]
  },
  {
   "cell_type": "markdown",
   "metadata": {},
   "source": [
    "Faremos algumas modificações para selecionar apenas os orçamentos com valor em dólares e para ajustar os valores de acordo com a inflação. Iremos utilizar um dataset extraido de https://fred.stlouisfed.org/series/CPIAUCNS."
   ]
  },
  {
   "cell_type": "code",
   "execution_count": 101,
   "metadata": {},
   "outputs": [
    {
     "data": {
      "text/html": [
       "<div>\n",
       "<style scoped>\n",
       "    .dataframe tbody tr th:only-of-type {\n",
       "        vertical-align: middle;\n",
       "    }\n",
       "\n",
       "    .dataframe tbody tr th {\n",
       "        vertical-align: top;\n",
       "    }\n",
       "\n",
       "    .dataframe thead th {\n",
       "        text-align: right;\n",
       "    }\n",
       "</style>\n",
       "<table border=\"1\" class=\"dataframe\">\n",
       "  <thead>\n",
       "    <tr style=\"text-align: right;\">\n",
       "      <th></th>\n",
       "      <th>total_votes</th>\n",
       "      <th>mean_vote</th>\n",
       "      <th>allgenders_0age_avg_vote</th>\n",
       "      <th>allgenders_18age_avg_vote</th>\n",
       "      <th>allgenders_30age_avg_vote</th>\n",
       "      <th>allgenders_45age_avg_vote</th>\n",
       "      <th>males_allages_avg_vote</th>\n",
       "      <th>females_allages_avg_vote</th>\n",
       "      <th>duration</th>\n",
       "      <th>budget</th>\n",
       "      <th>year</th>\n",
       "      <th>genre</th>\n",
       "    </tr>\n",
       "  </thead>\n",
       "  <tbody>\n",
       "    <tr>\n",
       "      <th>24</th>\n",
       "      <td>3073</td>\n",
       "      <td>6.5</td>\n",
       "      <td>6.0</td>\n",
       "      <td>7.0</td>\n",
       "      <td>7.0</td>\n",
       "      <td>7.2</td>\n",
       "      <td>7.1</td>\n",
       "      <td>6.9</td>\n",
       "      <td>148</td>\n",
       "      <td>210000.0</td>\n",
       "      <td>1914</td>\n",
       "      <td>Adventure, Drama, History</td>\n",
       "    </tr>\n",
       "    <tr>\n",
       "      <th>34</th>\n",
       "      <td>1239</td>\n",
       "      <td>7.2</td>\n",
       "      <td>6.0</td>\n",
       "      <td>6.4</td>\n",
       "      <td>6.2</td>\n",
       "      <td>5.8</td>\n",
       "      <td>6.1</td>\n",
       "      <td>6.0</td>\n",
       "      <td>61</td>\n",
       "      <td>40000.0</td>\n",
       "      <td>1914</td>\n",
       "      <td>Drama</td>\n",
       "    </tr>\n",
       "    <tr>\n",
       "      <th>37</th>\n",
       "      <td>879</td>\n",
       "      <td>6.1</td>\n",
       "      <td>5.0</td>\n",
       "      <td>5.5</td>\n",
       "      <td>5.5</td>\n",
       "      <td>6.0</td>\n",
       "      <td>5.7</td>\n",
       "      <td>5.9</td>\n",
       "      <td>74</td>\n",
       "      <td>20000.0</td>\n",
       "      <td>1914</td>\n",
       "      <td>Action, Drama, Romance</td>\n",
       "    </tr>\n",
       "    <tr>\n",
       "      <th>38</th>\n",
       "      <td>178</td>\n",
       "      <td>6.4</td>\n",
       "      <td>8.0</td>\n",
       "      <td>5.5</td>\n",
       "      <td>5.8</td>\n",
       "      <td>6.6</td>\n",
       "      <td>6.1</td>\n",
       "      <td>6.5</td>\n",
       "      <td>80</td>\n",
       "      <td>10000.0</td>\n",
       "      <td>1914</td>\n",
       "      <td>Drama</td>\n",
       "    </tr>\n",
       "    <tr>\n",
       "      <th>39</th>\n",
       "      <td>3250</td>\n",
       "      <td>7.1</td>\n",
       "      <td>5.0</td>\n",
       "      <td>6.3</td>\n",
       "      <td>6.2</td>\n",
       "      <td>6.4</td>\n",
       "      <td>6.3</td>\n",
       "      <td>6.6</td>\n",
       "      <td>82</td>\n",
       "      <td>50000.0</td>\n",
       "      <td>1914</td>\n",
       "      <td>Comedy</td>\n",
       "    </tr>\n",
       "  </tbody>\n",
       "</table>\n",
       "</div>"
      ],
      "text/plain": [
       "    total_votes  mean_vote  allgenders_0age_avg_vote  \\\n",
       "24         3073        6.5                       6.0   \n",
       "34         1239        7.2                       6.0   \n",
       "37          879        6.1                       5.0   \n",
       "38          178        6.4                       8.0   \n",
       "39         3250        7.1                       5.0   \n",
       "\n",
       "    allgenders_18age_avg_vote  allgenders_30age_avg_vote  \\\n",
       "24                        7.0                        7.0   \n",
       "34                        6.4                        6.2   \n",
       "37                        5.5                        5.5   \n",
       "38                        5.5                        5.8   \n",
       "39                        6.3                        6.2   \n",
       "\n",
       "    allgenders_45age_avg_vote  males_allages_avg_vote  \\\n",
       "24                        7.2                     7.1   \n",
       "34                        5.8                     6.1   \n",
       "37                        6.0                     5.7   \n",
       "38                        6.6                     6.1   \n",
       "39                        6.4                     6.3   \n",
       "\n",
       "    females_allages_avg_vote  duration    budget  year  \\\n",
       "24                       6.9       148  210000.0  1914   \n",
       "34                       6.0        61   40000.0  1914   \n",
       "37                       5.9        74   20000.0  1914   \n",
       "38                       6.5        80   10000.0  1914   \n",
       "39                       6.6        82   50000.0  1914   \n",
       "\n",
       "                        genre  \n",
       "24  Adventure, Drama, History  \n",
       "34                      Drama  \n",
       "37     Action, Drama, Romance  \n",
       "38                      Drama  \n",
       "39                     Comedy  "
      ]
     },
     "execution_count": 101,
     "metadata": {},
     "output_type": "execute_result"
    }
   ],
   "source": [
    "# Selecionando orçamentos em dollar e convertendo para numérico\n",
    "df['budget'] = df['budget'].convert_dtypes()\n",
    "df = df[df['budget'].str.contains(\"\\$\")]\n",
    "df['budget'] = df['budget'].str.extract('(\\d+)').astype(float)\n",
    "\n",
    "# Selecionando filmes publicados após 1913.\n",
    "# 1913 é onde a base utilizada para corrigir a \n",
    "# inflação começa\n",
    "df['year'] = df['year'].astype(int)\n",
    "df = df[df['year'] >= 1913]\n",
    "df.head()"
   ]
  },
  {
   "cell_type": "code",
   "execution_count": 102,
   "metadata": {},
   "outputs": [
    {
     "data": {
      "text/html": [
       "<div>\n",
       "<style scoped>\n",
       "    .dataframe tbody tr th:only-of-type {\n",
       "        vertical-align: middle;\n",
       "    }\n",
       "\n",
       "    .dataframe tbody tr th {\n",
       "        vertical-align: top;\n",
       "    }\n",
       "\n",
       "    .dataframe thead th {\n",
       "        text-align: right;\n",
       "    }\n",
       "</style>\n",
       "<table border=\"1\" class=\"dataframe\">\n",
       "  <thead>\n",
       "    <tr style=\"text-align: right;\">\n",
       "      <th></th>\n",
       "      <th>DATE</th>\n",
       "      <th>CPIAUCNS</th>\n",
       "      <th>CURRENT</th>\n",
       "    </tr>\n",
       "  </thead>\n",
       "  <tbody>\n",
       "    <tr>\n",
       "      <th>0</th>\n",
       "      <td>1913-01-01</td>\n",
       "      <td>26.692041</td>\n",
       "      <td>261.582</td>\n",
       "    </tr>\n",
       "    <tr>\n",
       "      <th>1</th>\n",
       "      <td>1913-02-01</td>\n",
       "      <td>26.692041</td>\n",
       "      <td>261.582</td>\n",
       "    </tr>\n",
       "    <tr>\n",
       "      <th>2</th>\n",
       "      <td>1913-03-01</td>\n",
       "      <td>26.692041</td>\n",
       "      <td>261.582</td>\n",
       "    </tr>\n",
       "    <tr>\n",
       "      <th>3</th>\n",
       "      <td>1913-04-01</td>\n",
       "      <td>26.692041</td>\n",
       "      <td>261.582</td>\n",
       "    </tr>\n",
       "    <tr>\n",
       "      <th>4</th>\n",
       "      <td>1913-05-01</td>\n",
       "      <td>26.967216</td>\n",
       "      <td>261.582</td>\n",
       "    </tr>\n",
       "    <tr>\n",
       "      <th>...</th>\n",
       "      <td>...</td>\n",
       "      <td>...</td>\n",
       "      <td>...</td>\n",
       "    </tr>\n",
       "    <tr>\n",
       "      <th>1292</th>\n",
       "      <td>2020-09-01</td>\n",
       "      <td>1.005002</td>\n",
       "      <td>261.582</td>\n",
       "    </tr>\n",
       "    <tr>\n",
       "      <th>1293</th>\n",
       "      <td>2020-10-01</td>\n",
       "      <td>1.004585</td>\n",
       "      <td>261.582</td>\n",
       "    </tr>\n",
       "    <tr>\n",
       "      <th>1294</th>\n",
       "      <td>2020-11-01</td>\n",
       "      <td>1.005199</td>\n",
       "      <td>261.582</td>\n",
       "    </tr>\n",
       "    <tr>\n",
       "      <th>1295</th>\n",
       "      <td>2020-12-01</td>\n",
       "      <td>1.004254</td>\n",
       "      <td>261.582</td>\n",
       "    </tr>\n",
       "    <tr>\n",
       "      <th>1296</th>\n",
       "      <td>2021-01-01</td>\n",
       "      <td>1.000000</td>\n",
       "      <td>261.582</td>\n",
       "    </tr>\n",
       "  </tbody>\n",
       "</table>\n",
       "<p>1297 rows × 3 columns</p>\n",
       "</div>"
      ],
      "text/plain": [
       "           DATE   CPIAUCNS  CURRENT\n",
       "0    1913-01-01  26.692041  261.582\n",
       "1    1913-02-01  26.692041  261.582\n",
       "2    1913-03-01  26.692041  261.582\n",
       "3    1913-04-01  26.692041  261.582\n",
       "4    1913-05-01  26.967216  261.582\n",
       "...         ...        ...      ...\n",
       "1292 2020-09-01   1.005002  261.582\n",
       "1293 2020-10-01   1.004585  261.582\n",
       "1294 2020-11-01   1.005199  261.582\n",
       "1295 2020-12-01   1.004254  261.582\n",
       "1296 2021-01-01   1.000000  261.582\n",
       "\n",
       "[1297 rows x 3 columns]"
      ]
     },
     "execution_count": 102,
     "metadata": {},
     "output_type": "execute_result"
    }
   ],
   "source": [
    "# Dataset para fazer a correção monetária pela inflação\n",
    "cpi = pd.read_csv('datasets/CPIAUCNS.csv')\n",
    "cpi['DATE'] =  pd.to_datetime(cpi['DATE'])\n",
    "current_cpi = cpi.iloc[-1, 1]\n",
    "cpi['CURRENT'] = current_cpi\n",
    "cpi['CPIAUCNS'] = cpi['CURRENT'] / cpi['CPIAUCNS']\n",
    "cpi"
   ]
  },
  {
   "cell_type": "code",
   "execution_count": 103,
   "metadata": {},
   "outputs": [
    {
     "data": {
      "text/html": [
       "<div>\n",
       "<style scoped>\n",
       "    .dataframe tbody tr th:only-of-type {\n",
       "        vertical-align: middle;\n",
       "    }\n",
       "\n",
       "    .dataframe tbody tr th {\n",
       "        vertical-align: top;\n",
       "    }\n",
       "\n",
       "    .dataframe thead th {\n",
       "        text-align: right;\n",
       "    }\n",
       "</style>\n",
       "<table border=\"1\" class=\"dataframe\">\n",
       "  <thead>\n",
       "    <tr style=\"text-align: right;\">\n",
       "      <th></th>\n",
       "      <th>total_votes</th>\n",
       "      <th>mean_vote</th>\n",
       "      <th>allgenders_0age_avg_vote</th>\n",
       "      <th>allgenders_18age_avg_vote</th>\n",
       "      <th>allgenders_30age_avg_vote</th>\n",
       "      <th>allgenders_45age_avg_vote</th>\n",
       "      <th>males_allages_avg_vote</th>\n",
       "      <th>females_allages_avg_vote</th>\n",
       "      <th>duration</th>\n",
       "      <th>budget</th>\n",
       "      <th>year</th>\n",
       "      <th>genre</th>\n",
       "    </tr>\n",
       "  </thead>\n",
       "  <tbody>\n",
       "    <tr>\n",
       "      <th>0</th>\n",
       "      <td>3073</td>\n",
       "      <td>6.5</td>\n",
       "      <td>6.0</td>\n",
       "      <td>7.0</td>\n",
       "      <td>7.0</td>\n",
       "      <td>7.2</td>\n",
       "      <td>7.1</td>\n",
       "      <td>6.9</td>\n",
       "      <td>148</td>\n",
       "      <td>5493222.0</td>\n",
       "      <td>1914</td>\n",
       "      <td>Adventure, Drama, History</td>\n",
       "    </tr>\n",
       "    <tr>\n",
       "      <th>1</th>\n",
       "      <td>1239</td>\n",
       "      <td>7.2</td>\n",
       "      <td>6.0</td>\n",
       "      <td>6.4</td>\n",
       "      <td>6.2</td>\n",
       "      <td>5.8</td>\n",
       "      <td>6.1</td>\n",
       "      <td>6.0</td>\n",
       "      <td>61</td>\n",
       "      <td>1046328.0</td>\n",
       "      <td>1914</td>\n",
       "      <td>Drama</td>\n",
       "    </tr>\n",
       "    <tr>\n",
       "      <th>2</th>\n",
       "      <td>879</td>\n",
       "      <td>6.1</td>\n",
       "      <td>5.0</td>\n",
       "      <td>5.5</td>\n",
       "      <td>5.5</td>\n",
       "      <td>6.0</td>\n",
       "      <td>5.7</td>\n",
       "      <td>5.9</td>\n",
       "      <td>74</td>\n",
       "      <td>523164.0</td>\n",
       "      <td>1914</td>\n",
       "      <td>Action, Drama, Romance</td>\n",
       "    </tr>\n",
       "    <tr>\n",
       "      <th>3</th>\n",
       "      <td>178</td>\n",
       "      <td>6.4</td>\n",
       "      <td>8.0</td>\n",
       "      <td>5.5</td>\n",
       "      <td>5.8</td>\n",
       "      <td>6.6</td>\n",
       "      <td>6.1</td>\n",
       "      <td>6.5</td>\n",
       "      <td>80</td>\n",
       "      <td>261582.0</td>\n",
       "      <td>1914</td>\n",
       "      <td>Drama</td>\n",
       "    </tr>\n",
       "    <tr>\n",
       "      <th>4</th>\n",
       "      <td>3250</td>\n",
       "      <td>7.1</td>\n",
       "      <td>5.0</td>\n",
       "      <td>6.3</td>\n",
       "      <td>6.2</td>\n",
       "      <td>6.4</td>\n",
       "      <td>6.3</td>\n",
       "      <td>6.6</td>\n",
       "      <td>82</td>\n",
       "      <td>1307910.0</td>\n",
       "      <td>1914</td>\n",
       "      <td>Comedy</td>\n",
       "    </tr>\n",
       "  </tbody>\n",
       "</table>\n",
       "</div>"
      ],
      "text/plain": [
       "   total_votes  mean_vote  allgenders_0age_avg_vote  \\\n",
       "0         3073        6.5                       6.0   \n",
       "1         1239        7.2                       6.0   \n",
       "2          879        6.1                       5.0   \n",
       "3          178        6.4                       8.0   \n",
       "4         3250        7.1                       5.0   \n",
       "\n",
       "   allgenders_18age_avg_vote  allgenders_30age_avg_vote  \\\n",
       "0                        7.0                        7.0   \n",
       "1                        6.4                        6.2   \n",
       "2                        5.5                        5.5   \n",
       "3                        5.5                        5.8   \n",
       "4                        6.3                        6.2   \n",
       "\n",
       "   allgenders_45age_avg_vote  males_allages_avg_vote  \\\n",
       "0                        7.2                     7.1   \n",
       "1                        5.8                     6.1   \n",
       "2                        6.0                     5.7   \n",
       "3                        6.6                     6.1   \n",
       "4                        6.4                     6.3   \n",
       "\n",
       "   females_allages_avg_vote  duration     budget  year  \\\n",
       "0                       6.9       148  5493222.0  1914   \n",
       "1                       6.0        61  1046328.0  1914   \n",
       "2                       5.9        74   523164.0  1914   \n",
       "3                       6.5        80   261582.0  1914   \n",
       "4                       6.6        82  1307910.0  1914   \n",
       "\n",
       "                       genre  \n",
       "0  Adventure, Drama, History  \n",
       "1                      Drama  \n",
       "2     Action, Drama, Romance  \n",
       "3                      Drama  \n",
       "4                     Comedy  "
      ]
     },
     "execution_count": 103,
     "metadata": {},
     "output_type": "execute_result"
    }
   ],
   "source": [
    "# Ajustando datas e unindo datasets\n",
    "df['day'] = 1\n",
    "df['month'] = 1\n",
    "new_df = df[['year', 'month', 'day']]\n",
    "df['DATE'] = pd.to_datetime(new_df)\n",
    "df = pd.merge(df, cpi, on='DATE')\n",
    "\n",
    "# Corrigindo a inflação\n",
    "df['budget'] = df['budget'] * df['CPIAUCNS']\n",
    "\n",
    "# Removendo colunas que não são de interesse\n",
    "df = df.drop(['day', 'month', 'DATE', 'CPIAUCNS', 'CURRENT'], axis=1)\n",
    "\n",
    "df.head()"
   ]
  },
  {
   "cell_type": "markdown",
   "metadata": {},
   "source": [
    "Agora faremos one-hot encoding nas colunas com dados categóricos"
   ]
  },
  {
   "cell_type": "code",
   "execution_count": 104,
   "metadata": {},
   "outputs": [
    {
     "data": {
      "text/html": [
       "<div>\n",
       "<style scoped>\n",
       "    .dataframe tbody tr th:only-of-type {\n",
       "        vertical-align: middle;\n",
       "    }\n",
       "\n",
       "    .dataframe tbody tr th {\n",
       "        vertical-align: top;\n",
       "    }\n",
       "\n",
       "    .dataframe thead th {\n",
       "        text-align: right;\n",
       "    }\n",
       "</style>\n",
       "<table border=\"1\" class=\"dataframe\">\n",
       "  <thead>\n",
       "    <tr style=\"text-align: right;\">\n",
       "      <th></th>\n",
       "      <th>total_votes</th>\n",
       "      <th>mean_vote</th>\n",
       "      <th>allgenders_0age_avg_vote</th>\n",
       "      <th>allgenders_18age_avg_vote</th>\n",
       "      <th>allgenders_30age_avg_vote</th>\n",
       "      <th>allgenders_45age_avg_vote</th>\n",
       "      <th>males_allages_avg_vote</th>\n",
       "      <th>females_allages_avg_vote</th>\n",
       "      <th>duration</th>\n",
       "      <th>budget</th>\n",
       "      <th>...</th>\n",
       "      <th>History</th>\n",
       "      <th>Horror</th>\n",
       "      <th>Music</th>\n",
       "      <th>Musical</th>\n",
       "      <th>Mystery</th>\n",
       "      <th>Romance</th>\n",
       "      <th>Sci-Fi</th>\n",
       "      <th>Thriller</th>\n",
       "      <th>War</th>\n",
       "      <th>Western</th>\n",
       "    </tr>\n",
       "  </thead>\n",
       "  <tbody>\n",
       "    <tr>\n",
       "      <th>0</th>\n",
       "      <td>3073</td>\n",
       "      <td>6.5</td>\n",
       "      <td>6.0</td>\n",
       "      <td>7.0</td>\n",
       "      <td>7.0</td>\n",
       "      <td>7.2</td>\n",
       "      <td>7.1</td>\n",
       "      <td>6.9</td>\n",
       "      <td>148</td>\n",
       "      <td>5.493222e+06</td>\n",
       "      <td>...</td>\n",
       "      <td>0</td>\n",
       "      <td>0</td>\n",
       "      <td>0</td>\n",
       "      <td>0</td>\n",
       "      <td>0</td>\n",
       "      <td>0</td>\n",
       "      <td>0</td>\n",
       "      <td>0</td>\n",
       "      <td>0</td>\n",
       "      <td>0</td>\n",
       "    </tr>\n",
       "    <tr>\n",
       "      <th>1</th>\n",
       "      <td>1239</td>\n",
       "      <td>7.2</td>\n",
       "      <td>6.0</td>\n",
       "      <td>6.4</td>\n",
       "      <td>6.2</td>\n",
       "      <td>5.8</td>\n",
       "      <td>6.1</td>\n",
       "      <td>6.0</td>\n",
       "      <td>61</td>\n",
       "      <td>1.046328e+06</td>\n",
       "      <td>...</td>\n",
       "      <td>0</td>\n",
       "      <td>0</td>\n",
       "      <td>0</td>\n",
       "      <td>0</td>\n",
       "      <td>0</td>\n",
       "      <td>0</td>\n",
       "      <td>0</td>\n",
       "      <td>0</td>\n",
       "      <td>0</td>\n",
       "      <td>0</td>\n",
       "    </tr>\n",
       "    <tr>\n",
       "      <th>2</th>\n",
       "      <td>879</td>\n",
       "      <td>6.1</td>\n",
       "      <td>5.0</td>\n",
       "      <td>5.5</td>\n",
       "      <td>5.5</td>\n",
       "      <td>6.0</td>\n",
       "      <td>5.7</td>\n",
       "      <td>5.9</td>\n",
       "      <td>74</td>\n",
       "      <td>5.231640e+05</td>\n",
       "      <td>...</td>\n",
       "      <td>0</td>\n",
       "      <td>0</td>\n",
       "      <td>0</td>\n",
       "      <td>0</td>\n",
       "      <td>0</td>\n",
       "      <td>0</td>\n",
       "      <td>0</td>\n",
       "      <td>0</td>\n",
       "      <td>0</td>\n",
       "      <td>0</td>\n",
       "    </tr>\n",
       "    <tr>\n",
       "      <th>3</th>\n",
       "      <td>178</td>\n",
       "      <td>6.4</td>\n",
       "      <td>8.0</td>\n",
       "      <td>5.5</td>\n",
       "      <td>5.8</td>\n",
       "      <td>6.6</td>\n",
       "      <td>6.1</td>\n",
       "      <td>6.5</td>\n",
       "      <td>80</td>\n",
       "      <td>2.615820e+05</td>\n",
       "      <td>...</td>\n",
       "      <td>0</td>\n",
       "      <td>0</td>\n",
       "      <td>0</td>\n",
       "      <td>0</td>\n",
       "      <td>0</td>\n",
       "      <td>0</td>\n",
       "      <td>0</td>\n",
       "      <td>0</td>\n",
       "      <td>0</td>\n",
       "      <td>0</td>\n",
       "    </tr>\n",
       "    <tr>\n",
       "      <th>4</th>\n",
       "      <td>3250</td>\n",
       "      <td>7.1</td>\n",
       "      <td>5.0</td>\n",
       "      <td>6.3</td>\n",
       "      <td>6.2</td>\n",
       "      <td>6.4</td>\n",
       "      <td>6.3</td>\n",
       "      <td>6.6</td>\n",
       "      <td>82</td>\n",
       "      <td>1.307910e+06</td>\n",
       "      <td>...</td>\n",
       "      <td>0</td>\n",
       "      <td>0</td>\n",
       "      <td>0</td>\n",
       "      <td>0</td>\n",
       "      <td>0</td>\n",
       "      <td>0</td>\n",
       "      <td>0</td>\n",
       "      <td>0</td>\n",
       "      <td>0</td>\n",
       "      <td>0</td>\n",
       "    </tr>\n",
       "    <tr>\n",
       "      <th>...</th>\n",
       "      <td>...</td>\n",
       "      <td>...</td>\n",
       "      <td>...</td>\n",
       "      <td>...</td>\n",
       "      <td>...</td>\n",
       "      <td>...</td>\n",
       "      <td>...</td>\n",
       "      <td>...</td>\n",
       "      <td>...</td>\n",
       "      <td>...</td>\n",
       "      <td>...</td>\n",
       "      <td>...</td>\n",
       "      <td>...</td>\n",
       "      <td>...</td>\n",
       "      <td>...</td>\n",
       "      <td>...</td>\n",
       "      <td>...</td>\n",
       "      <td>...</td>\n",
       "      <td>...</td>\n",
       "      <td>...</td>\n",
       "      <td>...</td>\n",
       "    </tr>\n",
       "    <tr>\n",
       "      <th>9982</th>\n",
       "      <td>18390</td>\n",
       "      <td>5.3</td>\n",
       "      <td>5.4</td>\n",
       "      <td>5.4</td>\n",
       "      <td>5.4</td>\n",
       "      <td>5.2</td>\n",
       "      <td>5.4</td>\n",
       "      <td>5.3</td>\n",
       "      <td>87</td>\n",
       "      <td>5.069988e+06</td>\n",
       "      <td>...</td>\n",
       "      <td>0</td>\n",
       "      <td>0</td>\n",
       "      <td>0</td>\n",
       "      <td>0</td>\n",
       "      <td>0</td>\n",
       "      <td>0</td>\n",
       "      <td>0</td>\n",
       "      <td>0</td>\n",
       "      <td>0</td>\n",
       "      <td>0</td>\n",
       "    </tr>\n",
       "    <tr>\n",
       "      <th>9983</th>\n",
       "      <td>8755</td>\n",
       "      <td>4.7</td>\n",
       "      <td>3.7</td>\n",
       "      <td>4.4</td>\n",
       "      <td>4.6</td>\n",
       "      <td>4.9</td>\n",
       "      <td>4.6</td>\n",
       "      <td>4.7</td>\n",
       "      <td>86</td>\n",
       "      <td>1.013998e+07</td>\n",
       "      <td>...</td>\n",
       "      <td>0</td>\n",
       "      <td>0</td>\n",
       "      <td>0</td>\n",
       "      <td>0</td>\n",
       "      <td>0</td>\n",
       "      <td>0</td>\n",
       "      <td>0</td>\n",
       "      <td>0</td>\n",
       "      <td>0</td>\n",
       "      <td>0</td>\n",
       "    </tr>\n",
       "    <tr>\n",
       "      <th>9984</th>\n",
       "      <td>4105</td>\n",
       "      <td>6.2</td>\n",
       "      <td>7.3</td>\n",
       "      <td>6.1</td>\n",
       "      <td>5.8</td>\n",
       "      <td>5.1</td>\n",
       "      <td>5.8</td>\n",
       "      <td>6.4</td>\n",
       "      <td>92</td>\n",
       "      <td>3.041993e+06</td>\n",
       "      <td>...</td>\n",
       "      <td>0</td>\n",
       "      <td>0</td>\n",
       "      <td>0</td>\n",
       "      <td>0</td>\n",
       "      <td>0</td>\n",
       "      <td>0</td>\n",
       "      <td>0</td>\n",
       "      <td>0</td>\n",
       "      <td>0</td>\n",
       "      <td>0</td>\n",
       "    </tr>\n",
       "    <tr>\n",
       "      <th>9985</th>\n",
       "      <td>19858</td>\n",
       "      <td>6.8</td>\n",
       "      <td>5.7</td>\n",
       "      <td>7.0</td>\n",
       "      <td>6.6</td>\n",
       "      <td>6.6</td>\n",
       "      <td>6.5</td>\n",
       "      <td>7.0</td>\n",
       "      <td>124</td>\n",
       "      <td>1.013998e+07</td>\n",
       "      <td>...</td>\n",
       "      <td>0</td>\n",
       "      <td>0</td>\n",
       "      <td>0</td>\n",
       "      <td>0</td>\n",
       "      <td>0</td>\n",
       "      <td>0</td>\n",
       "      <td>0</td>\n",
       "      <td>0</td>\n",
       "      <td>0</td>\n",
       "      <td>0</td>\n",
       "    </tr>\n",
       "    <tr>\n",
       "      <th>9986</th>\n",
       "      <td>6196</td>\n",
       "      <td>6.9</td>\n",
       "      <td>7.3</td>\n",
       "      <td>6.5</td>\n",
       "      <td>6.3</td>\n",
       "      <td>6.5</td>\n",
       "      <td>6.3</td>\n",
       "      <td>6.8</td>\n",
       "      <td>116</td>\n",
       "      <td>1.216797e+07</td>\n",
       "      <td>...</td>\n",
       "      <td>0</td>\n",
       "      <td>0</td>\n",
       "      <td>0</td>\n",
       "      <td>0</td>\n",
       "      <td>0</td>\n",
       "      <td>0</td>\n",
       "      <td>0</td>\n",
       "      <td>0</td>\n",
       "      <td>0</td>\n",
       "      <td>0</td>\n",
       "    </tr>\n",
       "  </tbody>\n",
       "</table>\n",
       "<p>9987 rows × 157 columns</p>\n",
       "</div>"
      ],
      "text/plain": [
       "      total_votes  mean_vote  allgenders_0age_avg_vote  \\\n",
       "0            3073        6.5                       6.0   \n",
       "1            1239        7.2                       6.0   \n",
       "2             879        6.1                       5.0   \n",
       "3             178        6.4                       8.0   \n",
       "4            3250        7.1                       5.0   \n",
       "...           ...        ...                       ...   \n",
       "9982        18390        5.3                       5.4   \n",
       "9983         8755        4.7                       3.7   \n",
       "9984         4105        6.2                       7.3   \n",
       "9985        19858        6.8                       5.7   \n",
       "9986         6196        6.9                       7.3   \n",
       "\n",
       "      allgenders_18age_avg_vote  allgenders_30age_avg_vote  \\\n",
       "0                           7.0                        7.0   \n",
       "1                           6.4                        6.2   \n",
       "2                           5.5                        5.5   \n",
       "3                           5.5                        5.8   \n",
       "4                           6.3                        6.2   \n",
       "...                         ...                        ...   \n",
       "9982                        5.4                        5.4   \n",
       "9983                        4.4                        4.6   \n",
       "9984                        6.1                        5.8   \n",
       "9985                        7.0                        6.6   \n",
       "9986                        6.5                        6.3   \n",
       "\n",
       "      allgenders_45age_avg_vote  males_allages_avg_vote  \\\n",
       "0                           7.2                     7.1   \n",
       "1                           5.8                     6.1   \n",
       "2                           6.0                     5.7   \n",
       "3                           6.6                     6.1   \n",
       "4                           6.4                     6.3   \n",
       "...                         ...                     ...   \n",
       "9982                        5.2                     5.4   \n",
       "9983                        4.9                     4.6   \n",
       "9984                        5.1                     5.8   \n",
       "9985                        6.6                     6.5   \n",
       "9986                        6.5                     6.3   \n",
       "\n",
       "      females_allages_avg_vote  duration        budget  ...  History  Horror  \\\n",
       "0                          6.9       148  5.493222e+06  ...        0       0   \n",
       "1                          6.0        61  1.046328e+06  ...        0       0   \n",
       "2                          5.9        74  5.231640e+05  ...        0       0   \n",
       "3                          6.5        80  2.615820e+05  ...        0       0   \n",
       "4                          6.6        82  1.307910e+06  ...        0       0   \n",
       "...                        ...       ...           ...  ...      ...     ...   \n",
       "9982                       5.3        87  5.069988e+06  ...        0       0   \n",
       "9983                       4.7        86  1.013998e+07  ...        0       0   \n",
       "9984                       6.4        92  3.041993e+06  ...        0       0   \n",
       "9985                       7.0       124  1.013998e+07  ...        0       0   \n",
       "9986                       6.8       116  1.216797e+07  ...        0       0   \n",
       "\n",
       "      Music  Musical  Mystery  Romance  Sci-Fi  Thriller  War  Western  \n",
       "0         0        0        0        0       0         0    0        0  \n",
       "1         0        0        0        0       0         0    0        0  \n",
       "2         0        0        0        0       0         0    0        0  \n",
       "3         0        0        0        0       0         0    0        0  \n",
       "4         0        0        0        0       0         0    0        0  \n",
       "...     ...      ...      ...      ...     ...       ...  ...      ...  \n",
       "9982      0        0        0        0       0         0    0        0  \n",
       "9983      0        0        0        0       0         0    0        0  \n",
       "9984      0        0        0        0       0         0    0        0  \n",
       "9985      0        0        0        0       0         0    0        0  \n",
       "9986      0        0        0        0       0         0    0        0  \n",
       "\n",
       "[9987 rows x 157 columns]"
      ]
     },
     "execution_count": 104,
     "metadata": {},
     "output_type": "execute_result"
    }
   ],
   "source": [
    "mlb = MultiLabelBinarizer(sparse_output=True)\n",
    "\n",
    "# One-hot encoding do treino\n",
    "df['year'] = df['year'].astype(str)\n",
    "df['year'] = df['year'].str.split(',')\n",
    "df['genre'] = df['genre'].str.split(',')\n",
    "df = df.join(pd.DataFrame.sparse.from_spmatrix(mlb.fit_transform(df.pop('year')), index=df.index, columns=mlb.classes_), how = 'left', lsuffix = '_left', rsuffix = '_right')\n",
    "df = df.join(pd.DataFrame.sparse.from_spmatrix(mlb.fit_transform(df.pop('genre')), index=df.index, columns=mlb.classes_), how = 'left', lsuffix = '_left', rsuffix = '_right')\n",
    "df"
   ]
  },
  {
   "cell_type": "markdown",
   "metadata": {},
   "source": [
    "Dividimos o dataframe em um conjunto para treino e outro para testes"
   ]
  },
  {
   "cell_type": "code",
   "execution_count": 105,
   "metadata": {},
   "outputs": [
    {
     "name": "stdout",
     "output_type": "stream",
     "text": [
      "(7989, 157)\n",
      "(1998, 157)\n"
     ]
    }
   ],
   "source": [
    "train_df, test_df = train_test_split(df, test_size=0.2)\n",
    "print(train_df.shape)\n",
    "print(test_df.shape)"
   ]
  },
  {
   "cell_type": "code",
   "execution_count": 106,
   "metadata": {},
   "outputs": [],
   "source": [
    "# Treino\n",
    "y_train_df = train_df['total_votes']\n",
    "X_train_df = train_df.drop('total_votes', axis='columns')\n",
    "\n",
    "#Teste\n",
    "y_test = test_df['total_votes']\n",
    "X_test = test_df.drop('total_votes', axis='columns')\n"
   ]
  },
  {
   "cell_type": "markdown",
   "metadata": {},
   "source": [
    "As colunas possuem escalas diferentes, portanto é necessário z-normalizar os atributos numéricos"
   ]
  },
  {
   "cell_type": "code",
   "execution_count": 107,
   "metadata": {},
   "outputs": [],
   "source": [
    "scaler_x = StandardScaler()\n",
    "scaler_y = StandardScaler()\n",
    "\n",
    "y_train = scaler_y.fit_transform(y_train_df.values[:, np.newaxis])\n",
    "X_train = scaler_x.fit_transform(X_train_df.values)"
   ]
  },
  {
   "cell_type": "markdown",
   "metadata": {},
   "source": [
    "Iniciaremos o aprendizado de máquina, a partir daqui o conjunto de testes não será utilizado. Testaremos modelos de regressão linear e vizinho mais próximo. Faremos validação-cruzada para minimizar o erro dos parâmetros de regularização."
   ]
  },
  {
   "cell_type": "code",
   "execution_count": 108,
   "metadata": {},
   "outputs": [
    {
     "data": {
      "text/plain": [
       "0.40628355364279434"
      ]
     },
     "execution_count": 108,
     "metadata": {},
     "output_type": "execute_result"
    }
   ],
   "source": [
    "linear = linear.fit(X_train, y_train)\n",
    "linear.score(X_train, y_train)"
   ]
  },
  {
   "cell_type": "code",
   "execution_count": 109,
   "metadata": {},
   "outputs": [
    {
     "data": {
      "text/plain": [
       "0.40595806482524666"
      ]
     },
     "execution_count": 109,
     "metadata": {},
     "output_type": "execute_result"
    }
   ],
   "source": [
    "lasso = lasso.fit(X_train, y_train)\n",
    "lasso.score(X_train, y_train)"
   ]
  },
  {
   "cell_type": "code",
   "execution_count": 110,
   "metadata": {},
   "outputs": [
    {
     "data": {
      "text/plain": [
       "0.405885236791493"
      ]
     },
     "execution_count": 110,
     "metadata": {},
     "output_type": "execute_result"
    }
   ],
   "source": [
    "ridge = ridge.fit(X_train, y_train)\n",
    "ridge.score(X_train, y_train)"
   ]
  },
  {
   "cell_type": "markdown",
   "metadata": {},
   "source": [
    "Verificamos o erro quadrado médio na previsão dos modelos"
   ]
  },
  {
   "cell_type": "code",
   "execution_count": 111,
   "metadata": {},
   "outputs": [
    {
     "data": {
      "text/plain": [
       "0.5937164463572057"
      ]
     },
     "execution_count": 111,
     "metadata": {},
     "output_type": "execute_result"
    }
   ],
   "source": [
    "mean_squared_error(y_train, linear.predict(X_train))"
   ]
  },
  {
   "cell_type": "code",
   "execution_count": 112,
   "metadata": {},
   "outputs": [
    {
     "data": {
      "text/plain": [
       "0.5940419351747533"
      ]
     },
     "execution_count": 112,
     "metadata": {},
     "output_type": "execute_result"
    }
   ],
   "source": [
    "mean_squared_error(y_train, lasso.predict(X_train))"
   ]
  },
  {
   "cell_type": "code",
   "execution_count": 113,
   "metadata": {},
   "outputs": [
    {
     "data": {
      "text/plain": [
       "0.594114763208507"
      ]
     },
     "execution_count": 113,
     "metadata": {},
     "output_type": "execute_result"
    }
   ],
   "source": [
    "mean_squared_error(y_train, ridge.predict(X_train))"
   ]
  },
  {
   "cell_type": "markdown",
   "metadata": {},
   "source": [
    "Podemos também comparar algumas previsões de cada modelo."
   ]
  },
  {
   "cell_type": "code",
   "execution_count": 114,
   "metadata": {},
   "outputs": [
    {
     "data": {
      "text/html": [
       "<div>\n",
       "<style scoped>\n",
       "    .dataframe tbody tr th:only-of-type {\n",
       "        vertical-align: middle;\n",
       "    }\n",
       "\n",
       "    .dataframe tbody tr th {\n",
       "        vertical-align: top;\n",
       "    }\n",
       "\n",
       "    .dataframe thead th {\n",
       "        text-align: right;\n",
       "    }\n",
       "</style>\n",
       "<table border=\"1\" class=\"dataframe\">\n",
       "  <thead>\n",
       "    <tr style=\"text-align: right;\">\n",
       "      <th></th>\n",
       "      <th>total_votes</th>\n",
       "      <th>linear</th>\n",
       "      <th>lasso</th>\n",
       "      <th>ridge</th>\n",
       "    </tr>\n",
       "  </thead>\n",
       "  <tbody>\n",
       "    <tr>\n",
       "      <th>0</th>\n",
       "      <td>0.031333</td>\n",
       "      <td>0.348917</td>\n",
       "      <td>0.344660</td>\n",
       "      <td>0.345401</td>\n",
       "    </tr>\n",
       "    <tr>\n",
       "      <th>1</th>\n",
       "      <td>0.052689</td>\n",
       "      <td>0.285654</td>\n",
       "      <td>0.281482</td>\n",
       "      <td>0.277406</td>\n",
       "    </tr>\n",
       "    <tr>\n",
       "      <th>2</th>\n",
       "      <td>-0.457542</td>\n",
       "      <td>-0.717055</td>\n",
       "      <td>-0.685866</td>\n",
       "      <td>-0.711370</td>\n",
       "    </tr>\n",
       "    <tr>\n",
       "      <th>3</th>\n",
       "      <td>-0.355893</td>\n",
       "      <td>0.156030</td>\n",
       "      <td>0.157260</td>\n",
       "      <td>0.167508</td>\n",
       "    </tr>\n",
       "    <tr>\n",
       "      <th>4</th>\n",
       "      <td>-0.453475</td>\n",
       "      <td>-0.023039</td>\n",
       "      <td>-0.054408</td>\n",
       "      <td>-0.053002</td>\n",
       "    </tr>\n",
       "    <tr>\n",
       "      <th>...</th>\n",
       "      <td>...</td>\n",
       "      <td>...</td>\n",
       "      <td>...</td>\n",
       "      <td>...</td>\n",
       "    </tr>\n",
       "    <tr>\n",
       "      <th>7984</th>\n",
       "      <td>-0.345362</td>\n",
       "      <td>0.268495</td>\n",
       "      <td>0.272084</td>\n",
       "      <td>0.259943</td>\n",
       "    </tr>\n",
       "    <tr>\n",
       "      <th>7985</th>\n",
       "      <td>-0.398620</td>\n",
       "      <td>0.234910</td>\n",
       "      <td>0.226582</td>\n",
       "      <td>0.239392</td>\n",
       "    </tr>\n",
       "    <tr>\n",
       "      <th>7986</th>\n",
       "      <td>-0.335631</td>\n",
       "      <td>0.499750</td>\n",
       "      <td>0.483911</td>\n",
       "      <td>0.487386</td>\n",
       "    </tr>\n",
       "    <tr>\n",
       "      <th>7987</th>\n",
       "      <td>-0.459982</td>\n",
       "      <td>-0.362189</td>\n",
       "      <td>-0.382419</td>\n",
       "      <td>-0.381808</td>\n",
       "    </tr>\n",
       "    <tr>\n",
       "      <th>7988</th>\n",
       "      <td>-0.137249</td>\n",
       "      <td>-0.820308</td>\n",
       "      <td>-0.809294</td>\n",
       "      <td>-0.822487</td>\n",
       "    </tr>\n",
       "  </tbody>\n",
       "</table>\n",
       "<p>7989 rows × 4 columns</p>\n",
       "</div>"
      ],
      "text/plain": [
       "      total_votes    linear     lasso     ridge\n",
       "0        0.031333  0.348917  0.344660  0.345401\n",
       "1        0.052689  0.285654  0.281482  0.277406\n",
       "2       -0.457542 -0.717055 -0.685866 -0.711370\n",
       "3       -0.355893  0.156030  0.157260  0.167508\n",
       "4       -0.453475 -0.023039 -0.054408 -0.053002\n",
       "...           ...       ...       ...       ...\n",
       "7984    -0.345362  0.268495  0.272084  0.259943\n",
       "7985    -0.398620  0.234910  0.226582  0.239392\n",
       "7986    -0.335631  0.499750  0.483911  0.487386\n",
       "7987    -0.459982 -0.362189 -0.382419 -0.381808\n",
       "7988    -0.137249 -0.820308 -0.809294 -0.822487\n",
       "\n",
       "[7989 rows x 4 columns]"
      ]
     },
     "execution_count": 114,
     "metadata": {},
     "output_type": "execute_result"
    }
   ],
   "source": [
    "pred = pd.Series(y_train.flatten())\n",
    "pred = pred.to_frame(name='total_votes')\n",
    "pred.assign(\n",
    "    linear = linear.predict(X_train),\n",
    "    lasso = lasso.predict(X_train),\n",
    "    ridge = ridge.predict(X_train))"
   ]
  },
  {
   "cell_type": "markdown",
   "metadata": {},
   "source": [
    "Utilizaremos bootstrap para comparar o intervalo dos erros quadrados de cada modelo"
   ]
  },
  {
   "cell_type": "code",
   "execution_count": 115,
   "metadata": {},
   "outputs": [
    {
     "data": {
      "text/plain": [
       "Text(0.5, 1.0, '(0.5004227188515689, 0.6920301219796698)')"
      ]
     },
     "execution_count": 115,
     "metadata": {},
     "output_type": "execute_result"
    },
    {
     "data": {
      "image/png": "[encoded data removed]",
      "text/plain": [
       "<Figure size 864x576 with 1 Axes>"
      ]
     },
     "metadata": {
      "needs_background": "light"
     },
     "output_type": "display_data"
    }
   ],
   "source": [
    "samples = bootstrap_score(X_train, y_train, linear)\n",
    "plt.hist(samples, edgecolor='k')\n",
    "plt.title('({}, {})'.format(stats.scoreatpercentile(samples, 2.5),\n",
    "                            stats.scoreatpercentile(samples, 97.5)))"
   ]
  },
  {
   "cell_type": "code",
   "execution_count": 116,
   "metadata": {},
   "outputs": [
    {
     "data": {
      "text/plain": [
       "Text(0.5, 1.0, '(0.5030693167258359, 0.7016936191902647)')"
      ]
     },
     "execution_count": 116,
     "metadata": {},
     "output_type": "execute_result"
    },
    {
     "data": {
      "image/png": "[encoded data removed]",
      "text/plain": [
       "<Figure size 864x576 with 1 Axes>"
      ]
     },
     "metadata": {
      "needs_background": "light"
     },
     "output_type": "display_data"
    }
   ],
   "source": [
    "samples = bootstrap_score(X_train, y_train, lasso)\n",
    "plt.hist(samples, edgecolor='k')\n",
    "plt.title('({}, {})'.format(stats.scoreatpercentile(samples, 2.5),\n",
    "                            stats.scoreatpercentile(samples, 97.5)))"
   ]
  },
  {
   "cell_type": "code",
   "execution_count": 117,
   "metadata": {},
   "outputs": [
    {
     "data": {
      "text/plain": [
       "Text(0.5, 1.0, '(0.5025401892077692, 0.6941841799262968)')"
      ]
     },
     "execution_count": 117,
     "metadata": {},
     "output_type": "execute_result"
    },
    {
     "data": {
      "image/png": "[encoded data removed]",
      "text/plain": [
       "<Figure size 864x576 with 1 Axes>"
      ]
     },
     "metadata": {
      "needs_background": "light"
     },
     "output_type": "display_data"
    }
   ],
   "source": [
    "samples = bootstrap_score(X_train, y_train, ridge)\n",
    "plt.hist(samples, edgecolor='k')\n",
    "plt.title('({}, {})'.format(stats.scoreatpercentile(samples, 2.5),\n",
    "                            stats.scoreatpercentile(samples, 97.5)))"
   ]
  },
  {
   "cell_type": "markdown",
   "metadata": {},
   "source": [
    "Os intervalos de confiança se cruzam, portanto os modelos são estatisticamente equivalentes. Vamos escolher o ridge, simplesmente porque foi mais rápido durante os testes, e avaliar no conjunto de teste."
   ]
  },
  {
   "cell_type": "code",
   "execution_count": 118,
   "metadata": {},
   "outputs": [],
   "source": [
    "y_test = scaler_y.fit_transform(y_test.values[:, np.newaxis])\n",
    "X_test = scaler_x.fit_transform(X_test.values)"
   ]
  },
  {
   "cell_type": "code",
   "execution_count": 119,
   "metadata": {},
   "outputs": [
    {
     "data": {
      "text/plain": [
       "Text(0.5, 1.0, '(0.41030991692410057, 0.8494086574225365)')"
      ]
     },
     "execution_count": 119,
     "metadata": {},
     "output_type": "execute_result"
    },
    {
     "data": {
      "image/png": "[encoded data removed]",
      "text/plain": [
       "<Figure size 864x576 with 1 Axes>"
      ]
     },
     "metadata": {
      "needs_background": "light"
     },
     "output_type": "display_data"
    }
   ],
   "source": [
    "samples = bootstrap_score(X_test, y_test, ridge)\n",
    "plt.hist(samples, edgecolor='k')\n",
    "plt.title('({}, {})'.format(stats.scoreatpercentile(samples, 2.5),\n",
    "                            stats.scoreatpercentile(samples, 97.5)))"
   ]
  },
  {
   "cell_type": "markdown",
   "metadata": {},
   "source": [
    "Este é o intervalo do erro que esperamos para previsões em uma base real."
   ]
  },
  {
   "cell_type": "markdown",
   "metadata": {},
   "source": [
    "<div id=\"regressao3\"><a href=\"#sumario\"><h2>C. Regressão 3</h2></a></div>"
   ]
  },
  {
   "cell_type": "markdown",
   "metadata": {},
   "source": [
    "<div id=\"conclusao\"><a href=\"#sumario\"><h1>7. Conclusao</h1></a></div>"
   ]
  },
  {
   "cell_type": "code",
   "execution_count": null,
   "metadata": {},
   "outputs": [],
   "source": []
  }
 ],
 "metadata": {
  "kernelspec": {
   "display_name": "Python 3",
   "language": "python",
   "name": "python3"
  },
  "language_info": {
   "codemirror_mode": {
    "name": "ipython",
    "version": 3
   },
   "file_extension": ".py",
   "mimetype": "text/x-python",
   "name": "python",
   "nbconvert_exporter": "python",
   "pygments_lexer": "ipython3",
   "version": "3.9.2"
  }
 },
 "nbformat": 4,
 "nbformat_minor": 4
}
